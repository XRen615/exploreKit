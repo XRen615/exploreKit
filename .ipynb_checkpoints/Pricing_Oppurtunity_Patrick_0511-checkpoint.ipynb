{
 "cells": [
  {
   "cell_type": "code",
   "execution_count": 1,
   "metadata": {
    "collapsed": true
   },
   "outputs": [],
   "source": [
    "# -*- coding: utf-8 -*-   \n",
    "import numpy as np\n",
    "import pandas as pd\n",
    "import matplotlib.pyplot as plt\n",
    "%matplotlib inline\n",
    "import seaborn as sns\n",
    "from scipy import stats"
   ]
  },
  {
   "cell_type": "code",
   "execution_count": 2,
   "metadata": {
    "collapsed": false
   },
   "outputs": [],
   "source": [
    "from matplotlib.font_manager import FontProperties\n",
    "font = FontProperties(fname=r\"c:\\windows\\fonts\\SimSun.ttc\", size=14)"
   ]
  },
  {
   "cell_type": "code",
   "execution_count": 4,
   "metadata": {
    "collapsed": false
   },
   "outputs": [
    {
     "data": {
      "text/plain": [
       "(25331, 20)"
      ]
     },
     "execution_count": 4,
     "metadata": {},
     "output_type": "execute_result"
    }
   ],
   "source": [
    "db = pd.read_excel(r'C:\\Users\\ren.x.1\\Desktop\\JD_Pricing\\JD\\JFM_HC_ePOS.xlsx',encoding='gbk')\n",
    "db.shape"
   ]
  },
  {
   "cell_type": "code",
   "execution_count": 5,
   "metadata": {
    "collapsed": true
   },
   "outputs": [],
   "source": [
    "#db.dropna(inplace = True)"
   ]
  },
  {
   "cell_type": "code",
   "execution_count": 6,
   "metadata": {
    "collapsed": false
   },
   "outputs": [
    {
     "data": {
      "text/plain": [
       "海飞丝             6646\n",
       "沙宣（VS）          6536\n",
       "潘婷（pantene）     6369\n",
       "飘柔（Rejoice）     4630\n",
       "伊卡璐（CLAIROL）     953\n",
       "袋鼠（Aussie）       141\n",
       "Hair Recipe       53\n",
       "吉列（Gillette）       3\n",
       "Name: BrandName, dtype: int64"
      ]
     },
     "execution_count": 6,
     "metadata": {},
     "output_type": "execute_result"
    }
   ],
   "source": [
    "db.BrandName.value_counts()"
   ]
  },
  {
   "cell_type": "code",
   "execution_count": 7,
   "metadata": {
    "collapsed": false
   },
   "outputs": [],
   "source": [
    "# df = db[db.BrandName == u'沙宣（VS）']\n",
    "df = db.copy()"
   ]
  },
  {
   "cell_type": "code",
   "execution_count": 8,
   "metadata": {
    "collapsed": false
   },
   "outputs": [
    {
     "data": {
      "text/plain": [
       "normal              24975\n",
       "abnormal - back       238\n",
       "abnormal - front      118\n",
       "Name: Abnormal, dtype: int64"
      ]
     },
     "execution_count": 8,
     "metadata": {},
     "output_type": "execute_result"
    }
   ],
   "source": [
    "df.Abnormal.value_counts()"
   ]
  },
  {
   "cell_type": "code",
   "execution_count": 9,
   "metadata": {
    "collapsed": false
   },
   "outputs": [],
   "source": [
    "# exclude coupon,promotion pack, abnormal wholesale\n",
    "df = df[- df.Mechanism.str.contains(u\"领券\")]\n",
    "df = df[df.Mechanism != 'PP']\n",
    "df = df[df.Abnormal == 'normal']"
   ]
  },
  {
   "cell_type": "code",
   "execution_count": 10,
   "metadata": {
    "collapsed": false
   },
   "outputs": [],
   "source": [
    "# df.Date = pd.to_datetime(df.Date)"
   ]
  },
  {
   "cell_type": "code",
   "execution_count": 68,
   "metadata": {
    "collapsed": true
   },
   "outputs": [],
   "source": [
    "# visualize PE chart\n",
    "def jointplt(ProductCode,df):\n",
    "    SKU = df[df['ProductCode'] == ProductCode][['Sales_Price',u'Sales_Num','uv']]\n",
    "    SKU['Productivity'] = (SKU.Sales_Num/SKU.uv)\n",
    "    SKU['ProductivityScale'] =  SKU['Productivity']/SKU['Productivity'].max()\n",
    "    SKU['Sales_PriceScale'] = SKU['Sales_Price']/SKU['Sales_Price'].max()\n",
    "    sns.jointplot(x=\"Sales_PriceScale\", y=\"ProductivityScale\", kind = 'reg', color = 'r', data=SKU)\n",
    "    plt.ylim(0,1)\n",
    "    plt.xlim(0,1)"
   ]
  },
  {
   "cell_type": "code",
   "execution_count": 75,
   "metadata": {
    "collapsed": false
   },
   "outputs": [],
   "source": [
    "# Regression in ln space, p-value and pearson correlation control\n",
    "from scipy.stats.stats import pearsonr\n",
    "\n",
    "def statsReg(ProductCode,df):\n",
    "    SKU = df[df.ProductCode == ProductCode]\n",
    "    x = np.log(SKU.Sales_Price)\n",
    "    y = np.log(SKU.Sales_Num/SKU.uv)\n",
    "    pearson = pearsonr(x,y)[0]\n",
    "    #print pearson\n",
    "    slope, intercept, r_value, p_value, std_err = stats.linregress(x,y)\n",
    "    if p_value < 0.05 and abs(pearson) >= 0.5:\n",
    "        return np.round(slope,decimals=1)\n",
    "    else:\n",
    "        return 'Mark'"
   ]
  },
  {
   "cell_type": "code",
   "execution_count": 95,
   "metadata": {
    "collapsed": true
   },
   "outputs": [],
   "source": [
    "# Regression after re-scaling, p-value and pearson correlation control\n",
    "from scipy.stats.stats import pearsonr\n",
    "\n",
    "def scaleReg(ProductCode,df):\n",
    "    SKU = df[df.ProductCode == ProductCode]\n",
    "    x = SKU.Sales_Price/SKU.Sales_Price.max()\n",
    "    productivity = SKU.Sales_Num/SKU.uv\n",
    "    y = productivity/productivity.max()\n",
    "    pearson = pearsonr(x,y)[0]\n",
    "    slope, intercept, r_value, p_value, std_err = stats.linregress(x,y)\n",
    "    if p_value < 0.05 and abs(pearson) >= 0.4:\n",
    "        return np.round(slope,decimals=1)\n",
    "    else:\n",
    "        return 'Mark'"
   ]
  },
  {
   "cell_type": "code",
   "execution_count": 96,
   "metadata": {
    "collapsed": false,
    "scrolled": false
   },
   "outputs": [
    {
     "data": {
      "text/html": [
       "<div>\n",
       "<table border=\"1\" class=\"dataframe\">\n",
       "  <thead>\n",
       "    <tr style=\"text-align: right;\">\n",
       "      <th></th>\n",
       "      <th>PE</th>\n",
       "    </tr>\n",
       "  </thead>\n",
       "  <tbody>\n",
       "    <tr>\n",
       "      <th>844529</th>\n",
       "      <td>Mark</td>\n",
       "    </tr>\n",
       "    <tr>\n",
       "      <th>2367781</th>\n",
       "      <td>1.3</td>\n",
       "    </tr>\n",
       "    <tr>\n",
       "      <th>2852609</th>\n",
       "      <td>Mark</td>\n",
       "    </tr>\n",
       "    <tr>\n",
       "      <th>1211595</th>\n",
       "      <td>Mark</td>\n",
       "    </tr>\n",
       "    <tr>\n",
       "      <th>411151</th>\n",
       "      <td>-0.9</td>\n",
       "    </tr>\n",
       "  </tbody>\n",
       "</table>\n",
       "</div>"
      ],
      "text/plain": [
       "           PE\n",
       "844529   Mark\n",
       "2367781   1.3\n",
       "2852609  Mark\n",
       "1211595  Mark\n",
       "411151   -0.9"
      ]
     },
     "execution_count": 96,
     "metadata": {},
     "output_type": "execute_result"
    }
   ],
   "source": [
    "PE_Hash_1 = {}\n",
    "for code in df.ProductCode:\n",
    "    PE_Hash_1[code] = scaleReg(code,df)\n",
    "\n",
    "PE_DF_1 =  pd.DataFrame.from_dict(PE_Hash_1, orient='index', dtype=None)\n",
    "PE_DF_1.columns = ['PE']\n",
    "PE_DF_1.head()"
   ]
  },
  {
   "cell_type": "markdown",
   "metadata": {},
   "source": [
    "**Three-Chanel split: TPR, 199-100, others**"
   ]
  },
  {
   "cell_type": "code",
   "execution_count": 97,
   "metadata": {
    "collapsed": false
   },
   "outputs": [
    {
     "data": {
      "text/plain": [
       "single TPR    5819\n",
       "满159减60       4249\n",
       "满199减100      2939\n",
       "3件7折 4件6折     2139\n",
       "满199减80       1607\n",
       "满99减30        1259\n",
       "赠品/国际店         483\n",
       "Name: Mechanism, dtype: int64"
      ]
     },
     "execution_count": 97,
     "metadata": {},
     "output_type": "execute_result"
    }
   ],
   "source": [
    "df.Mechanism.value_counts()"
   ]
  },
  {
   "cell_type": "code",
   "execution_count": 98,
   "metadata": {
    "collapsed": true
   },
   "outputs": [],
   "source": [
    "# 1-TPR; 2-199-100; 3-Others\n",
    "df1 = df[df.Mechanism == 'single TPR']\n",
    "\n",
    "df2 = df[df.Mechanism == u'满199减100']\n",
    "\n",
    "mask3 = (df.Mechanism != 'single TPR') & (df.Mechanism != u'满199减100')\n",
    "\n",
    "df3 = df[mask3]"
   ]
  },
  {
   "cell_type": "code",
   "execution_count": 99,
   "metadata": {
    "collapsed": false
   },
   "outputs": [
    {
     "data": {
      "text/plain": [
       "满159减60      4249\n",
       "3件7折 4件6折    2139\n",
       "满199减80      1607\n",
       "满99减30       1259\n",
       "赠品/国际店        483\n",
       "Name: Mechanism, dtype: int64"
      ]
     },
     "execution_count": 99,
     "metadata": {},
     "output_type": "execute_result"
    }
   ],
   "source": [
    "df3.Mechanism.value_counts()"
   ]
  },
  {
   "cell_type": "code",
   "execution_count": 100,
   "metadata": {
    "collapsed": false
   },
   "outputs": [],
   "source": [
    "PE_1 = {}\n",
    "for code in df1.ProductCode:\n",
    "    PE_1[code] = scaleReg(code,df1)\n",
    "\n",
    "PE_DF1 =  pd.DataFrame.from_dict(PE_1, orient='index')\n",
    "PE_DF1.columns = ['TPR_PE']"
   ]
  },
  {
   "cell_type": "code",
   "execution_count": 101,
   "metadata": {
    "collapsed": false,
    "scrolled": true
   },
   "outputs": [
    {
     "data": {
      "text/html": [
       "<div>\n",
       "<table border=\"1\" class=\"dataframe\">\n",
       "  <thead>\n",
       "    <tr style=\"text-align: right;\">\n",
       "      <th></th>\n",
       "      <th>TPR_PE</th>\n",
       "    </tr>\n",
       "  </thead>\n",
       "  <tbody>\n",
       "    <tr>\n",
       "      <th>844529</th>\n",
       "      <td>Mark</td>\n",
       "    </tr>\n",
       "    <tr>\n",
       "      <th>2852609</th>\n",
       "      <td>Mark</td>\n",
       "    </tr>\n",
       "    <tr>\n",
       "      <th>1211595</th>\n",
       "      <td>Mark</td>\n",
       "    </tr>\n",
       "    <tr>\n",
       "      <th>411151</th>\n",
       "      <td>-3.3</td>\n",
       "    </tr>\n",
       "    <tr>\n",
       "      <th>2907152</th>\n",
       "      <td>Mark</td>\n",
       "    </tr>\n",
       "  </tbody>\n",
       "</table>\n",
       "</div>"
      ],
      "text/plain": [
       "        TPR_PE\n",
       "844529    Mark\n",
       "2852609   Mark\n",
       "1211595   Mark\n",
       "411151    -3.3\n",
       "2907152   Mark"
      ]
     },
     "execution_count": 101,
     "metadata": {},
     "output_type": "execute_result"
    }
   ],
   "source": [
    "PE_DF1.head()"
   ]
  },
  {
   "cell_type": "code",
   "execution_count": 102,
   "metadata": {
    "collapsed": false
   },
   "outputs": [],
   "source": [
    "PE_2 = {}\n",
    "for code in df2.ProductCode:\n",
    "    PE_2[code] = scaleReg(code,df2)\n",
    "\n",
    "PE_DF2 =  pd.DataFrame.from_dict(PE_2, orient='index')\n",
    "PE_DF2.columns =['199-100_PE']"
   ]
  },
  {
   "cell_type": "code",
   "execution_count": 103,
   "metadata": {
    "collapsed": false
   },
   "outputs": [
    {
     "data": {
      "text/html": [
       "<div>\n",
       "<table border=\"1\" class=\"dataframe\">\n",
       "  <thead>\n",
       "    <tr style=\"text-align: right;\">\n",
       "      <th></th>\n",
       "      <th>199-100_PE</th>\n",
       "    </tr>\n",
       "  </thead>\n",
       "  <tbody>\n",
       "    <tr>\n",
       "      <th>411151</th>\n",
       "      <td>Mark</td>\n",
       "    </tr>\n",
       "    <tr>\n",
       "      <th>301621</th>\n",
       "      <td>-1.2</td>\n",
       "    </tr>\n",
       "    <tr>\n",
       "      <th>301622</th>\n",
       "      <td>-0.7</td>\n",
       "    </tr>\n",
       "    <tr>\n",
       "      <th>301623</th>\n",
       "      <td>-0.9</td>\n",
       "    </tr>\n",
       "    <tr>\n",
       "      <th>1093694</th>\n",
       "      <td>-0.9</td>\n",
       "    </tr>\n",
       "  </tbody>\n",
       "</table>\n",
       "</div>"
      ],
      "text/plain": [
       "        199-100_PE\n",
       "411151        Mark\n",
       "301621        -1.2\n",
       "301622        -0.7\n",
       "301623        -0.9\n",
       "1093694       -0.9"
      ]
     },
     "execution_count": 103,
     "metadata": {},
     "output_type": "execute_result"
    }
   ],
   "source": [
    "PE_DF2.head()"
   ]
  },
  {
   "cell_type": "code",
   "execution_count": 104,
   "metadata": {
    "collapsed": false
   },
   "outputs": [
    {
     "data": {
      "text/plain": [
       "Mark    49\n",
       "-1.0    15\n",
       "-1.2    14\n",
       "-1.3    10\n",
       "-0.9     8\n",
       "-1.1     8\n",
       "-0.8     7\n",
       "-1.5     5\n",
       "-1.4     3\n",
       "-0.7     3\n",
       "-1.8     2\n",
       "-0.6     1\n",
       "-4.2     1\n",
       "Name: 199-100_PE, dtype: int64"
      ]
     },
     "execution_count": 104,
     "metadata": {},
     "output_type": "execute_result"
    }
   ],
   "source": [
    "PE_DF2['199-100_PE'].value_counts()"
   ]
  },
  {
   "cell_type": "code",
   "execution_count": 105,
   "metadata": {
    "collapsed": false
   },
   "outputs": [],
   "source": [
    "PE_3 = {}\n",
    "for code in df3.ProductCode:\n",
    "    PE_3[code] = scaleReg(code,df3)\n",
    "\n",
    "PE_DF3 =  pd.DataFrame.from_dict(PE_3, orient='index')\n",
    "PE_DF3.columns =['Others_PE']"
   ]
  },
  {
   "cell_type": "code",
   "execution_count": 106,
   "metadata": {
    "collapsed": false
   },
   "outputs": [
    {
     "data": {
      "text/html": [
       "<div>\n",
       "<table border=\"1\" class=\"dataframe\">\n",
       "  <thead>\n",
       "    <tr style=\"text-align: right;\">\n",
       "      <th></th>\n",
       "      <th>Others_PE</th>\n",
       "    </tr>\n",
       "  </thead>\n",
       "  <tbody>\n",
       "    <tr>\n",
       "      <th>773202</th>\n",
       "      <td>Mark</td>\n",
       "    </tr>\n",
       "    <tr>\n",
       "      <th>411151</th>\n",
       "      <td>-1.4</td>\n",
       "    </tr>\n",
       "    <tr>\n",
       "      <th>411118</th>\n",
       "      <td>Mark</td>\n",
       "    </tr>\n",
       "    <tr>\n",
       "      <th>845098</th>\n",
       "      <td>-1</td>\n",
       "    </tr>\n",
       "    <tr>\n",
       "      <th>301621</th>\n",
       "      <td>-0.7</td>\n",
       "    </tr>\n",
       "  </tbody>\n",
       "</table>\n",
       "</div>"
      ],
      "text/plain": [
       "       Others_PE\n",
       "773202      Mark\n",
       "411151      -1.4\n",
       "411118      Mark\n",
       "845098        -1\n",
       "301621      -0.7"
      ]
     },
     "execution_count": 106,
     "metadata": {},
     "output_type": "execute_result"
    }
   ],
   "source": [
    "PE_DF3.head()"
   ]
  },
  {
   "cell_type": "code",
   "execution_count": 107,
   "metadata": {
    "collapsed": false
   },
   "outputs": [],
   "source": [
    "# Merge different mechanisms\n",
    "PE_ByMech_1 = PE_DF1.join(PE_DF2,how='outer')\n",
    "PE_ByMech = PE_ByMech_1.join(PE_DF3,how='outer')"
   ]
  },
  {
   "cell_type": "code",
   "execution_count": 108,
   "metadata": {
    "collapsed": false
   },
   "outputs": [
    {
     "data": {
      "text/html": [
       "<div>\n",
       "<table border=\"1\" class=\"dataframe\">\n",
       "  <thead>\n",
       "    <tr style=\"text-align: right;\">\n",
       "      <th></th>\n",
       "      <th>TPR_PE</th>\n",
       "      <th>199-100_PE</th>\n",
       "      <th>Others_PE</th>\n",
       "    </tr>\n",
       "  </thead>\n",
       "  <tbody>\n",
       "    <tr>\n",
       "      <th>206626</th>\n",
       "      <td>Mark</td>\n",
       "      <td>-1.2</td>\n",
       "      <td>-0.8</td>\n",
       "    </tr>\n",
       "    <tr>\n",
       "      <th>206627</th>\n",
       "      <td>Mark</td>\n",
       "      <td>Mark</td>\n",
       "      <td>-0.5</td>\n",
       "    </tr>\n",
       "    <tr>\n",
       "      <th>206628</th>\n",
       "      <td>Mark</td>\n",
       "      <td>NoData</td>\n",
       "      <td>-0.5</td>\n",
       "    </tr>\n",
       "    <tr>\n",
       "      <th>206629</th>\n",
       "      <td>Mark</td>\n",
       "      <td>-0.9</td>\n",
       "      <td>-1</td>\n",
       "    </tr>\n",
       "    <tr>\n",
       "      <th>206631</th>\n",
       "      <td>Mark</td>\n",
       "      <td>NoData</td>\n",
       "      <td>Mark</td>\n",
       "    </tr>\n",
       "  </tbody>\n",
       "</table>\n",
       "</div>"
      ],
      "text/plain": [
       "       TPR_PE 199-100_PE Others_PE\n",
       "206626   Mark       -1.2      -0.8\n",
       "206627   Mark       Mark      -0.5\n",
       "206628   Mark     NoData      -0.5\n",
       "206629   Mark       -0.9        -1\n",
       "206631   Mark     NoData      Mark"
      ]
     },
     "execution_count": 108,
     "metadata": {},
     "output_type": "execute_result"
    }
   ],
   "source": [
    "PE_ByMech.replace(np.nan,'NoData',inplace=True)\n",
    "PE_ByMech.head()"
   ]
  },
  {
   "cell_type": "code",
   "execution_count": 109,
   "metadata": {
    "collapsed": false,
    "scrolled": false
   },
   "outputs": [],
   "source": [
    "output = pd.merge(df, PE_ByMech, how='left',left_on=['ProductCode'],right_index = True)\n",
    "output.to_excel('JD_HC_ePOS_PE_0515.xlsx')"
   ]
  },
  {
   "cell_type": "code",
   "execution_count": 110,
   "metadata": {
    "collapsed": false
   },
   "outputs": [],
   "source": [
    "prodNames = []\n",
    "for idx in PE_ByMech.index:\n",
    "    prodNames.append(df[df.ProductCode == idx].ProductName.iloc[0])\n",
    "PE_ByMech['productName'] = prodNames\n",
    "\n",
    "# margin = []\n",
    "# for idx in PE_ByMech.index:\n",
    "#     margin.append(np.round(float(df[df.ProductCode == idx].Offtake.sum())/df[df.ProductCode == idx].Total_Cost.sum(),decimals=2) - 1)\n",
    "# PE_ByMech['margin'] = margin\n",
    "\n",
    "# averagePrice = []\n",
    "# for idx in PE_ByMech.index:\n",
    "#     averagePrice.append(np.round(float(df[df.ProductCode == idx].Offtake.sum())/df[df.ProductCode == idx].Sales_Num.sum(),decimals=2))\n",
    "# PE_ByMech['averagePrice'] = averagePrice\n",
    "\n",
    "# cost = []\n",
    "# for idx in PE_ByMech.index:\n",
    "#     cost.append(df[df.ProductCode == idx].Unit_Cost.iloc[0])\n",
    "# PE_ByMech['cost'] = cost"
   ]
  },
  {
   "cell_type": "code",
   "execution_count": 111,
   "metadata": {
    "collapsed": false,
    "scrolled": false
   },
   "outputs": [
    {
     "data": {
      "text/html": [
       "<div>\n",
       "<table border=\"1\" class=\"dataframe\">\n",
       "  <thead>\n",
       "    <tr style=\"text-align: right;\">\n",
       "      <th></th>\n",
       "      <th>TPR_PE</th>\n",
       "      <th>199-100_PE</th>\n",
       "      <th>Others_PE</th>\n",
       "      <th>productName</th>\n",
       "    </tr>\n",
       "  </thead>\n",
       "  <tbody>\n",
       "    <tr>\n",
       "      <th>206626</th>\n",
       "      <td>Mark</td>\n",
       "      <td>-1.2</td>\n",
       "      <td>-0.8</td>\n",
       "      <td>【京东超市】飘柔洗发水焗油护理750ml（洗头膏 洗发露 头发护理）</td>\n",
       "    </tr>\n",
       "    <tr>\n",
       "      <th>206627</th>\n",
       "      <td>Mark</td>\n",
       "      <td>Mark</td>\n",
       "      <td>-0.5</td>\n",
       "      <td>【京东超市】飘柔发膜精纯焗油精华300ml(新老包装随机发货）</td>\n",
       "    </tr>\n",
       "    <tr>\n",
       "      <th>206628</th>\n",
       "      <td>Mark</td>\n",
       "      <td>NoData</td>\n",
       "      <td>-0.5</td>\n",
       "      <td>【京东超市】飘柔洗发水人参滋养400ml（洗发露）</td>\n",
       "    </tr>\n",
       "    <tr>\n",
       "      <th>206629</th>\n",
       "      <td>Mark</td>\n",
       "      <td>-0.9</td>\n",
       "      <td>-1</td>\n",
       "      <td>【京东超市】飘柔洗发水人参滋养750ml（洗头膏 洗发露）</td>\n",
       "    </tr>\n",
       "    <tr>\n",
       "      <th>206631</th>\n",
       "      <td>Mark</td>\n",
       "      <td>NoData</td>\n",
       "      <td>Mark</td>\n",
       "      <td>【京东超市】飘柔去屑洗发水山茶长效柔顺家庭装750ml（洗发露 家庭护理系列）</td>\n",
       "    </tr>\n",
       "  </tbody>\n",
       "</table>\n",
       "</div>"
      ],
      "text/plain": [
       "       TPR_PE 199-100_PE Others_PE                              productName\n",
       "206626   Mark       -1.2      -0.8       【京东超市】飘柔洗发水焗油护理750ml（洗头膏 洗发露 头发护理）\n",
       "206627   Mark       Mark      -0.5          【京东超市】飘柔发膜精纯焗油精华300ml(新老包装随机发货）\n",
       "206628   Mark     NoData      -0.5                【京东超市】飘柔洗发水人参滋养400ml（洗发露）\n",
       "206629   Mark       -0.9        -1            【京东超市】飘柔洗发水人参滋养750ml（洗头膏 洗发露）\n",
       "206631   Mark     NoData      Mark  【京东超市】飘柔去屑洗发水山茶长效柔顺家庭装750ml（洗发露 家庭护理系列）"
      ]
     },
     "execution_count": 111,
     "metadata": {},
     "output_type": "execute_result"
    }
   ],
   "source": [
    "PE_ByMech.head()"
   ]
  },
  {
   "cell_type": "code",
   "execution_count": 113,
   "metadata": {
    "collapsed": false
   },
   "outputs": [],
   "source": [
    "PE_ByMech.to_excel('JDHC_PEPerMechan_0515.xlsx')"
   ]
  },
  {
   "cell_type": "code",
   "execution_count": 74,
   "metadata": {
    "collapsed": false
   },
   "outputs": [
    {
     "data": {
      "image/png": "[encoded data removed]",
      "text/plain": [
       "<matplotlib.figure.Figure at 0xbf476d8>"
      ]
     },
     "metadata": {},
     "output_type": "display_data"
    }
   ],
   "source": [
    "jointplt(206627,df2)"
   ]
  }
 ],
 "metadata": {
  "anaconda-cloud": {},
  "kernelspec": {
   "display_name": "Python [Root]",
   "language": "python",
   "name": "Python [Root]"
  },
  "language_info": {
   "codemirror_mode": {
    "name": "ipython",
    "version": 2
   },
   "file_extension": ".py",
   "mimetype": "text/x-python",
   "name": "python",
   "nbconvert_exporter": "python",
   "pygments_lexer": "ipython2",
   "version": "2.7.12"
  }
 },
 "nbformat": 4,
 "nbformat_minor": 0
}
