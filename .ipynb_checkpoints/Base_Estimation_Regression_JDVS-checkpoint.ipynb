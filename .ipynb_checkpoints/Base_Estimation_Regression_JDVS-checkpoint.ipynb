{
 "cells": [
  {
   "cell_type": "code",
   "execution_count": 1,
   "metadata": {
    "collapsed": true
   },
   "outputs": [],
   "source": [
    "# -*- coding: utf-8 -*-   \n",
    "import numpy as np\n",
    "import pandas as pd\n",
    "import matplotlib.pyplot as plt\n",
    "%matplotlib inline\n",
    "import seaborn as sns\n",
    "import plotly.plotly as py\n",
    "import plotly.graph_objs as go\n",
    "from sklearn import linear_model\n",
    "import plotly.plotly as py\n",
    "import plotly.graph_objs as go\n",
    "import re\n",
    "from scipy import stats"
   ]
  },
  {
   "cell_type": "code",
   "execution_count": 2,
   "metadata": {
    "collapsed": false
   },
   "outputs": [],
   "source": [
    "from matplotlib.font_manager import FontProperties\n",
    "font = FontProperties(fname=r\"c:\\windows\\fonts\\SimSun.ttc\", size=14)"
   ]
  },
  {
   "cell_type": "code",
   "execution_count": 3,
   "metadata": {
    "collapsed": false
   },
   "outputs": [
    {
     "data": {
      "text/plain": [
       "(28723, 13)"
      ]
     },
     "execution_count": 3,
     "metadata": {},
     "output_type": "execute_result"
    }
   ],
   "source": [
    "df = pd.read_excel(r'C:\\Users\\ren.x.1\\Desktop\\VS_Pricing\\VSJDePOS.xlsx',encoding='gbk')\n",
    "df.shape"
   ]
  },
  {
   "cell_type": "code",
   "execution_count": 4,
   "metadata": {
    "collapsed": true
   },
   "outputs": [],
   "source": [
    "df.dropna(inplace = True)"
   ]
  },
  {
   "cell_type": "code",
   "execution_count": 5,
   "metadata": {
    "collapsed": true
   },
   "outputs": [],
   "source": [
    "df = df[df.cost != 0]\n",
    "df = df[df.Preferential_Price != 0]"
   ]
  },
  {
   "cell_type": "code",
   "execution_count": 6,
   "metadata": {
    "collapsed": false,
    "scrolled": false
   },
   "outputs": [
    {
     "data": {
      "text/html": [
       "<div>\n",
       "<table border=\"1\" class=\"dataframe\">\n",
       "  <thead>\n",
       "    <tr style=\"text-align: right;\">\n",
       "      <th></th>\n",
       "      <th>Date</th>\n",
       "      <th>ProductCode</th>\n",
       "      <th>ProductName</th>\n",
       "      <th>Category</th>\n",
       "      <th>pv</th>\n",
       "      <th>uv</th>\n",
       "      <th>Order_Num</th>\n",
       "      <th>Valid_Num</th>\n",
       "      <th>Sales_Num</th>\n",
       "      <th>Preferential_Price</th>\n",
       "      <th>Add_To_Cart_Num</th>\n",
       "      <th>SuperID</th>\n",
       "      <th>cost</th>\n",
       "    </tr>\n",
       "  </thead>\n",
       "  <tbody>\n",
       "    <tr>\n",
       "      <th>0</th>\n",
       "      <td>2016-01-01</td>\n",
       "      <td>1071722</td>\n",
       "      <td>【京东超市】沙宣男士护发素净化打底180ml</td>\n",
       "      <td>conditioner</td>\n",
       "      <td>56</td>\n",
       "      <td>35</td>\n",
       "      <td>9</td>\n",
       "      <td>9</td>\n",
       "      <td>9</td>\n",
       "      <td>228.1</td>\n",
       "      <td>17</td>\n",
       "      <td>Conditioner净化打底180</td>\n",
       "      <td>22.20</td>\n",
       "    </tr>\n",
       "    <tr>\n",
       "      <th>1</th>\n",
       "      <td>2016-01-01</td>\n",
       "      <td>1071724</td>\n",
       "      <td>【京东超市】沙宣男士洗发水洁净去屑700ml（洗发露 去屑止痒 控油）</td>\n",
       "      <td>shampoo</td>\n",
       "      <td>415</td>\n",
       "      <td>338</td>\n",
       "      <td>20</td>\n",
       "      <td>20</td>\n",
       "      <td>20</td>\n",
       "      <td>1646.0</td>\n",
       "      <td>52</td>\n",
       "      <td>Shampoo洁净去屑700</td>\n",
       "      <td>69.43</td>\n",
       "    </tr>\n",
       "    <tr>\n",
       "      <th>2</th>\n",
       "      <td>2016-01-01</td>\n",
       "      <td>1071842</td>\n",
       "      <td>【京东超市】沙宣男士洗发水清爽劲醒700ml（洗发露 控油洗发水 头发护理 深层清洁）</td>\n",
       "      <td>shampoo</td>\n",
       "      <td>743</td>\n",
       "      <td>543</td>\n",
       "      <td>43</td>\n",
       "      <td>43</td>\n",
       "      <td>44</td>\n",
       "      <td>3685.0</td>\n",
       "      <td>106</td>\n",
       "      <td>Shampoo清爽劲醒700</td>\n",
       "      <td>69.43</td>\n",
       "    </tr>\n",
       "    <tr>\n",
       "      <th>3</th>\n",
       "      <td>2016-01-01</td>\n",
       "      <td>1071850</td>\n",
       "      <td>【京东超市】沙宣男士洗发水净化打底700ml（洗发露）</td>\n",
       "      <td>shampoo</td>\n",
       "      <td>131</td>\n",
       "      <td>91</td>\n",
       "      <td>5</td>\n",
       "      <td>5</td>\n",
       "      <td>5</td>\n",
       "      <td>403.0</td>\n",
       "      <td>14</td>\n",
       "      <td>Shampoo净化打底700</td>\n",
       "      <td>69.43</td>\n",
       "    </tr>\n",
       "    <tr>\n",
       "      <th>4</th>\n",
       "      <td>2016-01-01</td>\n",
       "      <td>1224776</td>\n",
       "      <td>沙宣男士洗发水净化打底460ml送赠品套装（洗发露50ml+护发素50ml+免洗精华液30ml）</td>\n",
       "      <td>shampoo</td>\n",
       "      <td>195</td>\n",
       "      <td>156</td>\n",
       "      <td>9</td>\n",
       "      <td>9</td>\n",
       "      <td>9</td>\n",
       "      <td>593.1</td>\n",
       "      <td>29</td>\n",
       "      <td>Shampoo净化打底460</td>\n",
       "      <td>52.07</td>\n",
       "    </tr>\n",
       "  </tbody>\n",
       "</table>\n",
       "</div>"
      ],
      "text/plain": [
       "         Date  ProductCode                                       ProductName  \\\n",
       "0  2016-01-01      1071722                            【京东超市】沙宣男士护发素净化打底180ml   \n",
       "1  2016-01-01      1071724               【京东超市】沙宣男士洗发水洁净去屑700ml（洗发露 去屑止痒 控油）   \n",
       "2  2016-01-01      1071842       【京东超市】沙宣男士洗发水清爽劲醒700ml（洗发露 控油洗发水 头发护理 深层清洁）   \n",
       "3  2016-01-01      1071850                       【京东超市】沙宣男士洗发水净化打底700ml（洗发露）   \n",
       "4  2016-01-01      1224776  沙宣男士洗发水净化打底460ml送赠品套装（洗发露50ml+护发素50ml+免洗精华液30ml）   \n",
       "\n",
       "      Category   pv   uv  Order_Num  Valid_Num  Sales_Num  Preferential_Price  \\\n",
       "0  conditioner   56   35          9          9          9               228.1   \n",
       "1      shampoo  415  338         20         20         20              1646.0   \n",
       "2      shampoo  743  543         43         43         44              3685.0   \n",
       "3      shampoo  131   91          5          5          5               403.0   \n",
       "4      shampoo  195  156          9          9          9               593.1   \n",
       "\n",
       "   Add_To_Cart_Num             SuperID   cost  \n",
       "0               17  Conditioner净化打底180  22.20  \n",
       "1               52      Shampoo洁净去屑700  69.43  \n",
       "2              106      Shampoo清爽劲醒700  69.43  \n",
       "3               14      Shampoo净化打底700  69.43  \n",
       "4               29      Shampoo净化打底460  52.07  "
      ]
     },
     "execution_count": 6,
     "metadata": {},
     "output_type": "execute_result"
    }
   ],
   "source": [
    "df.head()"
   ]
  },
  {
   "cell_type": "code",
   "execution_count": 7,
   "metadata": {
    "collapsed": true
   },
   "outputs": [],
   "source": [
    "df.Date = pd.to_datetime(df.Date)"
   ]
  },
  {
   "cell_type": "code",
   "execution_count": 8,
   "metadata": {
    "collapsed": true
   },
   "outputs": [],
   "source": [
    "t = pd.DatetimeIndex(df.Date)\n",
    "month = t.month\n",
    "df['Month'] = month"
   ]
  },
  {
   "cell_type": "code",
   "execution_count": 9,
   "metadata": {
    "collapsed": false
   },
   "outputs": [],
   "source": [
    "df= df[(df.Month) != 6]\n",
    "df= df[(df.Month) != 11]"
   ]
  },
  {
   "cell_type": "code",
   "execution_count": 10,
   "metadata": {
    "collapsed": true
   },
   "outputs": [],
   "source": [
    "df['Price'] = df['Preferential_Price']/df['Sales_Num']"
   ]
  },
  {
   "cell_type": "code",
   "execution_count": 11,
   "metadata": {
    "collapsed": false
   },
   "outputs": [
    {
     "data": {
      "text/html": [
       "<div>\n",
       "<table border=\"1\" class=\"dataframe\">\n",
       "  <thead>\n",
       "    <tr style=\"text-align: right;\">\n",
       "      <th></th>\n",
       "      <th>Date</th>\n",
       "      <th>ProductCode</th>\n",
       "      <th>ProductName</th>\n",
       "      <th>Category</th>\n",
       "      <th>pv</th>\n",
       "      <th>uv</th>\n",
       "      <th>Order_Num</th>\n",
       "      <th>Valid_Num</th>\n",
       "      <th>Sales_Num</th>\n",
       "      <th>Preferential_Price</th>\n",
       "      <th>Add_To_Cart_Num</th>\n",
       "      <th>SuperID</th>\n",
       "      <th>cost</th>\n",
       "      <th>Month</th>\n",
       "      <th>Price</th>\n",
       "    </tr>\n",
       "  </thead>\n",
       "  <tbody>\n",
       "    <tr>\n",
       "      <th>0</th>\n",
       "      <td>2016-01-01</td>\n",
       "      <td>1071722</td>\n",
       "      <td>【京东超市】沙宣男士护发素净化打底180ml</td>\n",
       "      <td>conditioner</td>\n",
       "      <td>56</td>\n",
       "      <td>35</td>\n",
       "      <td>9</td>\n",
       "      <td>9</td>\n",
       "      <td>9</td>\n",
       "      <td>228.1</td>\n",
       "      <td>17</td>\n",
       "      <td>Conditioner净化打底180</td>\n",
       "      <td>22.20</td>\n",
       "      <td>1</td>\n",
       "      <td>25.344444</td>\n",
       "    </tr>\n",
       "    <tr>\n",
       "      <th>1</th>\n",
       "      <td>2016-01-01</td>\n",
       "      <td>1071724</td>\n",
       "      <td>【京东超市】沙宣男士洗发水洁净去屑700ml（洗发露 去屑止痒 控油）</td>\n",
       "      <td>shampoo</td>\n",
       "      <td>415</td>\n",
       "      <td>338</td>\n",
       "      <td>20</td>\n",
       "      <td>20</td>\n",
       "      <td>20</td>\n",
       "      <td>1646.0</td>\n",
       "      <td>52</td>\n",
       "      <td>Shampoo洁净去屑700</td>\n",
       "      <td>69.43</td>\n",
       "      <td>1</td>\n",
       "      <td>82.300000</td>\n",
       "    </tr>\n",
       "    <tr>\n",
       "      <th>2</th>\n",
       "      <td>2016-01-01</td>\n",
       "      <td>1071842</td>\n",
       "      <td>【京东超市】沙宣男士洗发水清爽劲醒700ml（洗发露 控油洗发水 头发护理 深层清洁）</td>\n",
       "      <td>shampoo</td>\n",
       "      <td>743</td>\n",
       "      <td>543</td>\n",
       "      <td>43</td>\n",
       "      <td>43</td>\n",
       "      <td>44</td>\n",
       "      <td>3685.0</td>\n",
       "      <td>106</td>\n",
       "      <td>Shampoo清爽劲醒700</td>\n",
       "      <td>69.43</td>\n",
       "      <td>1</td>\n",
       "      <td>83.750000</td>\n",
       "    </tr>\n",
       "    <tr>\n",
       "      <th>3</th>\n",
       "      <td>2016-01-01</td>\n",
       "      <td>1071850</td>\n",
       "      <td>【京东超市】沙宣男士洗发水净化打底700ml（洗发露）</td>\n",
       "      <td>shampoo</td>\n",
       "      <td>131</td>\n",
       "      <td>91</td>\n",
       "      <td>5</td>\n",
       "      <td>5</td>\n",
       "      <td>5</td>\n",
       "      <td>403.0</td>\n",
       "      <td>14</td>\n",
       "      <td>Shampoo净化打底700</td>\n",
       "      <td>69.43</td>\n",
       "      <td>1</td>\n",
       "      <td>80.600000</td>\n",
       "    </tr>\n",
       "    <tr>\n",
       "      <th>4</th>\n",
       "      <td>2016-01-01</td>\n",
       "      <td>1224776</td>\n",
       "      <td>沙宣男士洗发水净化打底460ml送赠品套装（洗发露50ml+护发素50ml+免洗精华液30ml）</td>\n",
       "      <td>shampoo</td>\n",
       "      <td>195</td>\n",
       "      <td>156</td>\n",
       "      <td>9</td>\n",
       "      <td>9</td>\n",
       "      <td>9</td>\n",
       "      <td>593.1</td>\n",
       "      <td>29</td>\n",
       "      <td>Shampoo净化打底460</td>\n",
       "      <td>52.07</td>\n",
       "      <td>1</td>\n",
       "      <td>65.900000</td>\n",
       "    </tr>\n",
       "  </tbody>\n",
       "</table>\n",
       "</div>"
      ],
      "text/plain": [
       "        Date  ProductCode                                       ProductName  \\\n",
       "0 2016-01-01      1071722                            【京东超市】沙宣男士护发素净化打底180ml   \n",
       "1 2016-01-01      1071724               【京东超市】沙宣男士洗发水洁净去屑700ml（洗发露 去屑止痒 控油）   \n",
       "2 2016-01-01      1071842       【京东超市】沙宣男士洗发水清爽劲醒700ml（洗发露 控油洗发水 头发护理 深层清洁）   \n",
       "3 2016-01-01      1071850                       【京东超市】沙宣男士洗发水净化打底700ml（洗发露）   \n",
       "4 2016-01-01      1224776  沙宣男士洗发水净化打底460ml送赠品套装（洗发露50ml+护发素50ml+免洗精华液30ml）   \n",
       "\n",
       "      Category   pv   uv  Order_Num  Valid_Num  Sales_Num  Preferential_Price  \\\n",
       "0  conditioner   56   35          9          9          9               228.1   \n",
       "1      shampoo  415  338         20         20         20              1646.0   \n",
       "2      shampoo  743  543         43         43         44              3685.0   \n",
       "3      shampoo  131   91          5          5          5               403.0   \n",
       "4      shampoo  195  156          9          9          9               593.1   \n",
       "\n",
       "   Add_To_Cart_Num             SuperID   cost  Month      Price  \n",
       "0               17  Conditioner净化打底180  22.20      1  25.344444  \n",
       "1               52      Shampoo洁净去屑700  69.43      1  82.300000  \n",
       "2              106      Shampoo清爽劲醒700  69.43      1  83.750000  \n",
       "3               14      Shampoo净化打底700  69.43      1  80.600000  \n",
       "4               29      Shampoo净化打底460  52.07      1  65.900000  "
      ]
     },
     "execution_count": 11,
     "metadata": {},
     "output_type": "execute_result"
    }
   ],
   "source": [
    "df.head()"
   ]
  },
  {
   "cell_type": "code",
   "execution_count": 12,
   "metadata": {
    "collapsed": true
   },
   "outputs": [],
   "source": [
    "def jointplt(SKU_NAME):\n",
    "    SKU = df[df['SuperID'] == SKU_NAME][['Price','Sales_Num']]\n",
    "    SKU = SKU.groupby(by = 'Price',as_index=False).mean()\n",
    "    SKU = SKU[SKU.Sales_Num >= 10]\n",
    "    SKU.Sales_Num = np.log(SKU.Sales_Num)\n",
    "    SKU.Price = np.log(SKU.Price)\n",
    "    sns.jointplot(x=\"Price\", y=\"Sales_Num\", kind = 'reg', color = 'r', data=SKU)\n",
    "    plt.ylim(0,10)\n",
    "    #plt.title(SKU_NAME,fontproperties=font)"
   ]
  },
  {
   "cell_type": "code",
   "execution_count": 83,
   "metadata": {
    "collapsed": true
   },
   "outputs": [],
   "source": [
    "def jointpltProfit(SKU_NAME):\n",
    "    SKU = df[df['SuperID'] == u'Shampoo清盈顺柔750'][['Price','Sales_Num','cost']]\n",
    "    SKU = SKU.groupby(by = 'Price',as_index=False).mean()\n",
    "    SKU = SKU[SKU.Price < 80]\n",
    "    SKU.Profit = SKU.Sales_Num * (SKU.Price - SKU.cost)\n",
    "    SKU.Sales = SKU.Sales_Num * SKU.Price\n",
    "    plt.plot(SKU.Price,SKU.Profit,label = 'Profit')\n",
    "    plt.plot(SKU.Price,SKU.Sales, label = 'Sales')\n",
    "    plt.xlabel('Price')\n",
    "    plt.legend()"
   ]
  },
  {
   "cell_type": "code",
   "execution_count": 84,
   "metadata": {
    "collapsed": false
   },
   "outputs": [
    {
     "data": {
      "image/png": "[encoded data removed]",
      "text/plain": [
       "<matplotlib.figure.Figure at 0xe0c9f60>"
      ]
     },
     "metadata": {},
     "output_type": "display_data"
    }
   ],
   "source": [
    "jointpltProfit(u'Shampoo修护水养750')"
   ]
  },
  {
   "cell_type": "code",
   "execution_count": 57,
   "metadata": {
    "collapsed": false
   },
   "outputs": [
    {
     "data": {
      "text/html": [
       "<div>\n",
       "<table border=\"1\" class=\"dataframe\">\n",
       "  <thead>\n",
       "    <tr style=\"text-align: right;\">\n",
       "      <th></th>\n",
       "      <th>uv</th>\n",
       "      <th>salesNum</th>\n",
       "      <th>offtake</th>\n",
       "      <th>productName</th>\n",
       "      <th>category</th>\n",
       "      <th>cost</th>\n",
       "      <th>priceElasticity</th>\n",
       "      <th>frontMargin</th>\n",
       "      <th>marginPercent</th>\n",
       "      <th>vol</th>\n",
       "    </tr>\n",
       "    <tr>\n",
       "      <th>SuperID</th>\n",
       "      <th></th>\n",
       "      <th></th>\n",
       "      <th></th>\n",
       "      <th></th>\n",
       "      <th></th>\n",
       "      <th></th>\n",
       "      <th></th>\n",
       "      <th></th>\n",
       "      <th></th>\n",
       "      <th></th>\n",
       "    </tr>\n",
       "  </thead>\n",
       "  <tbody>\n",
       "    <tr>\n",
       "      <th>Shampoo水润去屑750</th>\n",
       "      <td>1511312</td>\n",
       "      <td>242356</td>\n",
       "      <td>13696078.40</td>\n",
       "      <td>【京东超市】沙宣去屑洗发水水润去屑型750ml（男女通用 洗头膏 洗发露 新老包装随机发货）</td>\n",
       "      <td>shampoo</td>\n",
       "      <td>74.2</td>\n",
       "      <td>-2.206437</td>\n",
       "      <td>-4286736.80</td>\n",
       "      <td>-31.299009</td>\n",
       "      <td>750</td>\n",
       "    </tr>\n",
       "    <tr>\n",
       "      <th>Shampoo修护水养750</th>\n",
       "      <td>2452229</td>\n",
       "      <td>190663</td>\n",
       "      <td>12049947.13</td>\n",
       "      <td>沙宣洗发水修护水养750ml（男女通用 洗头膏 洗发露 头发护理）</td>\n",
       "      <td>shampoo</td>\n",
       "      <td>74.2</td>\n",
       "      <td>-1.689215</td>\n",
       "      <td>-2097247.47</td>\n",
       "      <td>-17.404620</td>\n",
       "      <td>750</td>\n",
       "    </tr>\n",
       "    <tr>\n",
       "      <th>Shampoo清盈顺柔750</th>\n",
       "      <td>1101352</td>\n",
       "      <td>177420</td>\n",
       "      <td>9830321.04</td>\n",
       "      <td>【京东超市】沙宣洗发水清盈顺柔750ml（洗发露 新老包装随机发货）</td>\n",
       "      <td>shampoo</td>\n",
       "      <td>74.2</td>\n",
       "      <td>-2.055849</td>\n",
       "      <td>-3334242.96</td>\n",
       "      <td>-33.917946</td>\n",
       "      <td>750</td>\n",
       "    </tr>\n",
       "    <tr>\n",
       "      <th>Shampoo垂坠质感750</th>\n",
       "      <td>1267809</td>\n",
       "      <td>140046</td>\n",
       "      <td>8007434.28</td>\n",
       "      <td>【京东超市】沙宣洗发水垂坠质感750ml（男女通用 洗头膏 洗发露 去屑）</td>\n",
       "      <td>shampoo</td>\n",
       "      <td>74.2</td>\n",
       "      <td>-1.928365</td>\n",
       "      <td>-2383978.92</td>\n",
       "      <td>-29.772070</td>\n",
       "      <td>750</td>\n",
       "    </tr>\n",
       "  </tbody>\n",
       "</table>\n",
       "</div>"
      ],
      "text/plain": [
       "                     uv  salesNum      offtake  \\\n",
       "SuperID                                          \n",
       "Shampoo水润去屑750  1511312    242356  13696078.40   \n",
       "Shampoo修护水养750  2452229    190663  12049947.13   \n",
       "Shampoo清盈顺柔750  1101352    177420   9830321.04   \n",
       "Shampoo垂坠质感750  1267809    140046   8007434.28   \n",
       "\n",
       "                                                   productName category  cost  \\\n",
       "SuperID                                                                         \n",
       "Shampoo水润去屑750  【京东超市】沙宣去屑洗发水水润去屑型750ml（男女通用 洗头膏 洗发露 新老包装随机发货）  shampoo  74.2   \n",
       "Shampoo修护水养750               沙宣洗发水修护水养750ml（男女通用 洗头膏 洗发露 头发护理）  shampoo  74.2   \n",
       "Shampoo清盈顺柔750              【京东超市】沙宣洗发水清盈顺柔750ml（洗发露 新老包装随机发货）  shampoo  74.2   \n",
       "Shampoo垂坠质感750           【京东超市】沙宣洗发水垂坠质感750ml（男女通用 洗头膏 洗发露 去屑）  shampoo  74.2   \n",
       "\n",
       "                priceElasticity  frontMargin  marginPercent  vol  \n",
       "SuperID                                                           \n",
       "Shampoo水润去屑750        -2.206437  -4286736.80     -31.299009  750  \n",
       "Shampoo修护水养750        -1.689215  -2097247.47     -17.404620  750  \n",
       "Shampoo清盈顺柔750        -2.055849  -3334242.96     -33.917946  750  \n",
       "Shampoo垂坠质感750        -1.928365  -2383978.92     -29.772070  750  "
      ]
     },
     "execution_count": 57,
     "metadata": {},
     "output_type": "execute_result"
    }
   ],
   "source": [
    "Q2Mask = (output.uv > 1000000) & (output.priceElasticity < 4) & (output.marginPercent < -11)\n",
    "Q2 = output[Q2Mask].copy()\n",
    "Q2"
   ]
  },
  {
   "cell_type": "code",
   "execution_count": 58,
   "metadata": {
    "collapsed": false
   },
   "outputs": [
    {
     "data": {
      "image/png": "[encoded data removed]",
      "text/plain": [
       "<matplotlib.figure.Figure at 0xf12d7b8>"
      ]
     },
     "metadata": {},
     "output_type": "display_data"
    }
   ],
   "source": [
    "jointpltSales(u'Shampoo清盈顺柔750')"
   ]
  },
  {
   "cell_type": "code",
   "execution_count": 13,
   "metadata": {
    "collapsed": false
   },
   "outputs": [],
   "source": [
    "def reg(SKU_NAME):\n",
    "    SKU = df[df.SuperID == SKU_NAME]\n",
    "    regr = linear_model.LinearRegression(fit_intercept=True)\n",
    "    # Train the model using the training sets\n",
    "    x = np.log(SKU.Price.reshape(len(SKU.Price),1))\n",
    "    y = np.log(SKU.Sales_Num)\n",
    "    regr.fit(x,y)\n",
    "    # The coefficients\n",
    "    return regr.coef_[0]"
   ]
  },
  {
   "cell_type": "code",
   "execution_count": 14,
   "metadata": {
    "collapsed": false
   },
   "outputs": [],
   "source": [
    "def statsReg(SKU_NAME):\n",
    "    SKU = df[df.SuperID == SKU_NAME]\n",
    "    x = np.log(SKU.Price)\n",
    "    y = np.log(SKU.Sales_Num)\n",
    "    slope, intercept, r_value, p_value, std_err = stats.linregress(x,y)\n",
    "    if p_value < 0.01:\n",
    "        return slope\n",
    "    else:\n",
    "        return np.nan"
   ]
  },
  {
   "cell_type": "code",
   "execution_count": 15,
   "metadata": {
    "collapsed": false,
    "scrolled": false
   },
   "outputs": [
    {
     "name": "stdout",
     "output_type": "stream",
     "text": [
      "438.333333333\n",
      "284.0\n"
     ]
    }
   ],
   "source": [
    "SKU = df[df.SuperID == u'Shampoo水润去屑750']\n",
    "a = SKU.groupby('Price').mean()\n",
    "print a[abs(a.index - 60)<1].Sales_Num.mean()\n",
    "print a[abs(a.index - 66)<1].Sales_Num.mean()"
   ]
  },
  {
   "cell_type": "code",
   "execution_count": 16,
   "metadata": {
    "collapsed": false
   },
   "outputs": [
    {
     "data": {
      "text/plain": [
       "-2.2064367808736258"
      ]
     },
     "execution_count": 16,
     "metadata": {},
     "output_type": "execute_result"
    }
   ],
   "source": [
    "statsReg(u'Shampoo水润去屑750')"
   ]
  },
  {
   "cell_type": "code",
   "execution_count": 17,
   "metadata": {
    "collapsed": false
   },
   "outputs": [
    {
     "data": {
      "image/png": "[encoded data removed]",
      "text/plain": [
       "<matplotlib.figure.Figure at 0xc6b3048>"
      ]
     },
     "metadata": {},
     "output_type": "display_data"
    }
   ],
   "source": [
    "jointplt(u'Shampoo水润去屑750')"
   ]
  },
  {
   "cell_type": "code",
   "execution_count": 18,
   "metadata": {
    "collapsed": false
   },
   "outputs": [],
   "source": [
    "output1 = df[['uv','Sales_Num','Preferential_Price','SuperID']].groupby('SuperID').sum()"
   ]
  },
  {
   "cell_type": "code",
   "execution_count": 19,
   "metadata": {
    "collapsed": false
   },
   "outputs": [
    {
     "data": {
      "text/html": [
       "<div>\n",
       "<table border=\"1\" class=\"dataframe\">\n",
       "  <thead>\n",
       "    <tr style=\"text-align: right;\">\n",
       "      <th></th>\n",
       "      <th>uv</th>\n",
       "      <th>Sales_Num</th>\n",
       "      <th>Preferential_Price</th>\n",
       "    </tr>\n",
       "    <tr>\n",
       "      <th>SuperID</th>\n",
       "      <th></th>\n",
       "      <th></th>\n",
       "      <th></th>\n",
       "    </tr>\n",
       "  </thead>\n",
       "  <tbody>\n",
       "    <tr>\n",
       "      <th>Buddle修护水养SH500*2+CN400</th>\n",
       "      <td>3134657</td>\n",
       "      <td>176433</td>\n",
       "      <td>21327563.21</td>\n",
       "    </tr>\n",
       "    <tr>\n",
       "      <th>Buddle修护水养SH500+CN500</th>\n",
       "      <td>1511282</td>\n",
       "      <td>70396</td>\n",
       "      <td>6205112.85</td>\n",
       "    </tr>\n",
       "    <tr>\n",
       "      <th>Buddle修护水养SH750+CN400</th>\n",
       "      <td>1985188</td>\n",
       "      <td>113077</td>\n",
       "      <td>11481023.79</td>\n",
       "    </tr>\n",
       "    <tr>\n",
       "      <th>Buddle修护水养SH750+CN400+Treatment150</th>\n",
       "      <td>94305</td>\n",
       "      <td>2028</td>\n",
       "      <td>225432.10</td>\n",
       "    </tr>\n",
       "    <tr>\n",
       "      <th>Buddle修护水养SH750+CN750</th>\n",
       "      <td>16218</td>\n",
       "      <td>70</td>\n",
       "      <td>10749.40</td>\n",
       "    </tr>\n",
       "  </tbody>\n",
       "</table>\n",
       "</div>"
      ],
      "text/plain": [
       "                                         uv  Sales_Num  Preferential_Price\n",
       "SuperID                                                                   \n",
       "Buddle修护水养SH500*2+CN400             3134657     176433         21327563.21\n",
       "Buddle修护水养SH500+CN500               1511282      70396          6205112.85\n",
       "Buddle修护水养SH750+CN400               1985188     113077         11481023.79\n",
       "Buddle修护水养SH750+CN400+Treatment150    94305       2028           225432.10\n",
       "Buddle修护水养SH750+CN750                 16218         70            10749.40"
      ]
     },
     "execution_count": 19,
     "metadata": {},
     "output_type": "execute_result"
    }
   ],
   "source": [
    "output1.head()"
   ]
  },
  {
   "cell_type": "code",
   "execution_count": 20,
   "metadata": {
    "collapsed": true
   },
   "outputs": [],
   "source": [
    "output2 = df[['ProductName','SuperID','Category','cost']].groupby('SuperID').first()"
   ]
  },
  {
   "cell_type": "code",
   "execution_count": 21,
   "metadata": {
    "collapsed": false
   },
   "outputs": [
    {
     "data": {
      "text/html": [
       "<div>\n",
       "<table border=\"1\" class=\"dataframe\">\n",
       "  <thead>\n",
       "    <tr style=\"text-align: right;\">\n",
       "      <th></th>\n",
       "      <th>ProductName</th>\n",
       "      <th>Category</th>\n",
       "      <th>cost</th>\n",
       "    </tr>\n",
       "    <tr>\n",
       "      <th>SuperID</th>\n",
       "      <th></th>\n",
       "      <th></th>\n",
       "      <th></th>\n",
       "    </tr>\n",
       "  </thead>\n",
       "  <tbody>\n",
       "    <tr>\n",
       "      <th>Buddle修护水养SH500*2+CN400</th>\n",
       "      <td>【京东超市】沙宣 VS 修护水养500ml洗发水*2+润发乳400ml送洗发露50ml*3+...</td>\n",
       "      <td>bundle</td>\n",
       "      <td>127.57</td>\n",
       "    </tr>\n",
       "    <tr>\n",
       "      <th>Buddle修护水养SH500+CN500</th>\n",
       "      <td>【京东超市】沙宣修护水养洗发水500ml+护发素500ml 送（洗发露50ml赠品+润发乳5...</td>\n",
       "      <td>bundle</td>\n",
       "      <td>87.70</td>\n",
       "    </tr>\n",
       "    <tr>\n",
       "      <th>Buddle修护水养SH750+CN400</th>\n",
       "      <td>【京东超市】沙宣洗护套装修护水养（洗发水750ml+护发素400ml）送洗发水50ml*2+...</td>\n",
       "      <td>bundle</td>\n",
       "      <td>103.83</td>\n",
       "    </tr>\n",
       "    <tr>\n",
       "      <th>Buddle修护水养SH750+CN400+Treatment150</th>\n",
       "      <td>沙宣洗护套装修护水养（洗发水750ml+护发素400ml+发膜150ml）（护发 发膜免蒸 ...</td>\n",
       "      <td>bundle</td>\n",
       "      <td>134.88</td>\n",
       "    </tr>\n",
       "    <tr>\n",
       "      <th>Buddle修护水养SH750+CN750</th>\n",
       "      <td>沙宣洗护套装修护水养（洗发露750ml+护发素750ml）（头发护理 改善毛躁 深层清洁 补...</td>\n",
       "      <td>shampoo</td>\n",
       "      <td>136.67</td>\n",
       "    </tr>\n",
       "  </tbody>\n",
       "</table>\n",
       "</div>"
      ],
      "text/plain": [
       "                                                                          ProductName  \\\n",
       "SuperID                                                                                 \n",
       "Buddle修护水养SH500*2+CN400             【京东超市】沙宣 VS 修护水养500ml洗发水*2+润发乳400ml送洗发露50ml*3+...   \n",
       "Buddle修护水养SH500+CN500               【京东超市】沙宣修护水养洗发水500ml+护发素500ml 送（洗发露50ml赠品+润发乳5...   \n",
       "Buddle修护水养SH750+CN400               【京东超市】沙宣洗护套装修护水养（洗发水750ml+护发素400ml）送洗发水50ml*2+...   \n",
       "Buddle修护水养SH750+CN400+Treatment150  沙宣洗护套装修护水养（洗发水750ml+护发素400ml+发膜150ml）（护发 发膜免蒸 ...   \n",
       "Buddle修护水养SH750+CN750               沙宣洗护套装修护水养（洗发露750ml+护发素750ml）（头发护理 改善毛躁 深层清洁 补...   \n",
       "\n",
       "                                   Category    cost  \n",
       "SuperID                                              \n",
       "Buddle修护水养SH500*2+CN400              bundle  127.57  \n",
       "Buddle修护水养SH500+CN500                bundle   87.70  \n",
       "Buddle修护水养SH750+CN400                bundle  103.83  \n",
       "Buddle修护水养SH750+CN400+Treatment150   bundle  134.88  \n",
       "Buddle修护水养SH750+CN750               shampoo  136.67  "
      ]
     },
     "execution_count": 21,
     "metadata": {},
     "output_type": "execute_result"
    }
   ],
   "source": [
    "output2.head()"
   ]
  },
  {
   "cell_type": "code",
   "execution_count": 22,
   "metadata": {
    "collapsed": true
   },
   "outputs": [],
   "source": [
    "output = output1.join(output2,how = 'inner')"
   ]
  },
  {
   "cell_type": "code",
   "execution_count": 23,
   "metadata": {
    "collapsed": false
   },
   "outputs": [
    {
     "data": {
      "text/html": [
       "<div>\n",
       "<table border=\"1\" class=\"dataframe\">\n",
       "  <thead>\n",
       "    <tr style=\"text-align: right;\">\n",
       "      <th></th>\n",
       "      <th>uv</th>\n",
       "      <th>Sales_Num</th>\n",
       "      <th>Preferential_Price</th>\n",
       "      <th>ProductName</th>\n",
       "      <th>Category</th>\n",
       "      <th>cost</th>\n",
       "    </tr>\n",
       "    <tr>\n",
       "      <th>SuperID</th>\n",
       "      <th></th>\n",
       "      <th></th>\n",
       "      <th></th>\n",
       "      <th></th>\n",
       "      <th></th>\n",
       "      <th></th>\n",
       "    </tr>\n",
       "  </thead>\n",
       "  <tbody>\n",
       "    <tr>\n",
       "      <th>Buddle修护水养SH500*2+CN400</th>\n",
       "      <td>3134657</td>\n",
       "      <td>176433</td>\n",
       "      <td>21327563.21</td>\n",
       "      <td>【京东超市】沙宣 VS 修护水养500ml洗发水*2+润发乳400ml送洗发露50ml*3+...</td>\n",
       "      <td>bundle</td>\n",
       "      <td>127.57</td>\n",
       "    </tr>\n",
       "    <tr>\n",
       "      <th>Buddle修护水养SH500+CN500</th>\n",
       "      <td>1511282</td>\n",
       "      <td>70396</td>\n",
       "      <td>6205112.85</td>\n",
       "      <td>【京东超市】沙宣修护水养洗发水500ml+护发素500ml 送（洗发露50ml赠品+润发乳5...</td>\n",
       "      <td>bundle</td>\n",
       "      <td>87.70</td>\n",
       "    </tr>\n",
       "    <tr>\n",
       "      <th>Buddle修护水养SH750+CN400</th>\n",
       "      <td>1985188</td>\n",
       "      <td>113077</td>\n",
       "      <td>11481023.79</td>\n",
       "      <td>【京东超市】沙宣洗护套装修护水养（洗发水750ml+护发素400ml）送洗发水50ml*2+...</td>\n",
       "      <td>bundle</td>\n",
       "      <td>103.83</td>\n",
       "    </tr>\n",
       "    <tr>\n",
       "      <th>Buddle修护水养SH750+CN400+Treatment150</th>\n",
       "      <td>94305</td>\n",
       "      <td>2028</td>\n",
       "      <td>225432.10</td>\n",
       "      <td>沙宣洗护套装修护水养（洗发水750ml+护发素400ml+发膜150ml）（护发 发膜免蒸 ...</td>\n",
       "      <td>bundle</td>\n",
       "      <td>134.88</td>\n",
       "    </tr>\n",
       "    <tr>\n",
       "      <th>Buddle修护水养SH750+CN750</th>\n",
       "      <td>16218</td>\n",
       "      <td>70</td>\n",
       "      <td>10749.40</td>\n",
       "      <td>沙宣洗护套装修护水养（洗发露750ml+护发素750ml）（头发护理 改善毛躁 深层清洁 补...</td>\n",
       "      <td>shampoo</td>\n",
       "      <td>136.67</td>\n",
       "    </tr>\n",
       "  </tbody>\n",
       "</table>\n",
       "</div>"
      ],
      "text/plain": [
       "                                         uv  Sales_Num  Preferential_Price  \\\n",
       "SuperID                                                                      \n",
       "Buddle修护水养SH500*2+CN400             3134657     176433         21327563.21   \n",
       "Buddle修护水养SH500+CN500               1511282      70396          6205112.85   \n",
       "Buddle修护水养SH750+CN400               1985188     113077         11481023.79   \n",
       "Buddle修护水养SH750+CN400+Treatment150    94305       2028           225432.10   \n",
       "Buddle修护水养SH750+CN750                 16218         70            10749.40   \n",
       "\n",
       "                                                                          ProductName  \\\n",
       "SuperID                                                                                 \n",
       "Buddle修护水养SH500*2+CN400             【京东超市】沙宣 VS 修护水养500ml洗发水*2+润发乳400ml送洗发露50ml*3+...   \n",
       "Buddle修护水养SH500+CN500               【京东超市】沙宣修护水养洗发水500ml+护发素500ml 送（洗发露50ml赠品+润发乳5...   \n",
       "Buddle修护水养SH750+CN400               【京东超市】沙宣洗护套装修护水养（洗发水750ml+护发素400ml）送洗发水50ml*2+...   \n",
       "Buddle修护水养SH750+CN400+Treatment150  沙宣洗护套装修护水养（洗发水750ml+护发素400ml+发膜150ml）（护发 发膜免蒸 ...   \n",
       "Buddle修护水养SH750+CN750               沙宣洗护套装修护水养（洗发露750ml+护发素750ml）（头发护理 改善毛躁 深层清洁 补...   \n",
       "\n",
       "                                   Category    cost  \n",
       "SuperID                                              \n",
       "Buddle修护水养SH500*2+CN400              bundle  127.57  \n",
       "Buddle修护水养SH500+CN500                bundle   87.70  \n",
       "Buddle修护水养SH750+CN400                bundle  103.83  \n",
       "Buddle修护水养SH750+CN400+Treatment150   bundle  134.88  \n",
       "Buddle修护水养SH750+CN750               shampoo  136.67  "
      ]
     },
     "execution_count": 23,
     "metadata": {},
     "output_type": "execute_result"
    }
   ],
   "source": [
    "output.head()"
   ]
  },
  {
   "cell_type": "code",
   "execution_count": 24,
   "metadata": {
    "collapsed": false,
    "scrolled": true
   },
   "outputs": [],
   "source": [
    "elastics = []\n",
    "for key in output.index:\n",
    "    elastics.append((statsReg(key)))\n",
    "output['priceElasticity'] = elastics"
   ]
  },
  {
   "cell_type": "code",
   "execution_count": 25,
   "metadata": {
    "collapsed": true
   },
   "outputs": [],
   "source": [
    "output.rename(columns={'Preferential_Price': 'offtake','Sales_Num': 'salesNum','ProductName': 'productName','Category':'category'}, inplace=True)"
   ]
  },
  {
   "cell_type": "code",
   "execution_count": 26,
   "metadata": {
    "collapsed": false
   },
   "outputs": [
    {
     "data": {
      "text/html": [
       "<div>\n",
       "<table border=\"1\" class=\"dataframe\">\n",
       "  <thead>\n",
       "    <tr style=\"text-align: right;\">\n",
       "      <th></th>\n",
       "      <th>uv</th>\n",
       "      <th>salesNum</th>\n",
       "      <th>offtake</th>\n",
       "      <th>productName</th>\n",
       "      <th>category</th>\n",
       "      <th>cost</th>\n",
       "      <th>priceElasticity</th>\n",
       "    </tr>\n",
       "    <tr>\n",
       "      <th>SuperID</th>\n",
       "      <th></th>\n",
       "      <th></th>\n",
       "      <th></th>\n",
       "      <th></th>\n",
       "      <th></th>\n",
       "      <th></th>\n",
       "      <th></th>\n",
       "    </tr>\n",
       "  </thead>\n",
       "  <tbody>\n",
       "    <tr>\n",
       "      <th>Buddle修护水养SH500*2+CN400</th>\n",
       "      <td>3134657</td>\n",
       "      <td>176433</td>\n",
       "      <td>21327563.21</td>\n",
       "      <td>【京东超市】沙宣 VS 修护水养500ml洗发水*2+润发乳400ml送洗发露50ml*3+...</td>\n",
       "      <td>bundle</td>\n",
       "      <td>127.57</td>\n",
       "      <td>-6.940412</td>\n",
       "    </tr>\n",
       "    <tr>\n",
       "      <th>Buddle修护水养SH500+CN500</th>\n",
       "      <td>1511282</td>\n",
       "      <td>70396</td>\n",
       "      <td>6205112.85</td>\n",
       "      <td>【京东超市】沙宣修护水养洗发水500ml+护发素500ml 送（洗发露50ml赠品+润发乳5...</td>\n",
       "      <td>bundle</td>\n",
       "      <td>87.70</td>\n",
       "      <td>-5.722716</td>\n",
       "    </tr>\n",
       "    <tr>\n",
       "      <th>Buddle修护水养SH750+CN400</th>\n",
       "      <td>1985188</td>\n",
       "      <td>113077</td>\n",
       "      <td>11481023.79</td>\n",
       "      <td>【京东超市】沙宣洗护套装修护水养（洗发水750ml+护发素400ml）送洗发水50ml*2+...</td>\n",
       "      <td>bundle</td>\n",
       "      <td>103.83</td>\n",
       "      <td>-7.724258</td>\n",
       "    </tr>\n",
       "    <tr>\n",
       "      <th>Buddle修护水养SH750+CN400+Treatment150</th>\n",
       "      <td>94305</td>\n",
       "      <td>2028</td>\n",
       "      <td>225432.10</td>\n",
       "      <td>沙宣洗护套装修护水养（洗发水750ml+护发素400ml+发膜150ml）（护发 发膜免蒸 ...</td>\n",
       "      <td>bundle</td>\n",
       "      <td>134.88</td>\n",
       "      <td>-1.571936</td>\n",
       "    </tr>\n",
       "    <tr>\n",
       "      <th>Buddle修护水养SH750+CN750</th>\n",
       "      <td>16218</td>\n",
       "      <td>70</td>\n",
       "      <td>10749.40</td>\n",
       "      <td>沙宣洗护套装修护水养（洗发露750ml+护发素750ml）（头发护理 改善毛躁 深层清洁 补...</td>\n",
       "      <td>shampoo</td>\n",
       "      <td>136.67</td>\n",
       "      <td>NaN</td>\n",
       "    </tr>\n",
       "  </tbody>\n",
       "</table>\n",
       "</div>"
      ],
      "text/plain": [
       "                                         uv  salesNum      offtake  \\\n",
       "SuperID                                                              \n",
       "Buddle修护水养SH500*2+CN400             3134657    176433  21327563.21   \n",
       "Buddle修护水养SH500+CN500               1511282     70396   6205112.85   \n",
       "Buddle修护水养SH750+CN400               1985188    113077  11481023.79   \n",
       "Buddle修护水养SH750+CN400+Treatment150    94305      2028    225432.10   \n",
       "Buddle修护水养SH750+CN750                 16218        70     10749.40   \n",
       "\n",
       "                                                                          productName  \\\n",
       "SuperID                                                                                 \n",
       "Buddle修护水养SH500*2+CN400             【京东超市】沙宣 VS 修护水养500ml洗发水*2+润发乳400ml送洗发露50ml*3+...   \n",
       "Buddle修护水养SH500+CN500               【京东超市】沙宣修护水养洗发水500ml+护发素500ml 送（洗发露50ml赠品+润发乳5...   \n",
       "Buddle修护水养SH750+CN400               【京东超市】沙宣洗护套装修护水养（洗发水750ml+护发素400ml）送洗发水50ml*2+...   \n",
       "Buddle修护水养SH750+CN400+Treatment150  沙宣洗护套装修护水养（洗发水750ml+护发素400ml+发膜150ml）（护发 发膜免蒸 ...   \n",
       "Buddle修护水养SH750+CN750               沙宣洗护套装修护水养（洗发露750ml+护发素750ml）（头发护理 改善毛躁 深层清洁 补...   \n",
       "\n",
       "                                   category    cost  priceElasticity  \n",
       "SuperID                                                               \n",
       "Buddle修护水养SH500*2+CN400              bundle  127.57        -6.940412  \n",
       "Buddle修护水养SH500+CN500                bundle   87.70        -5.722716  \n",
       "Buddle修护水养SH750+CN400                bundle  103.83        -7.724258  \n",
       "Buddle修护水养SH750+CN400+Treatment150   bundle  134.88        -1.571936  \n",
       "Buddle修护水养SH750+CN750               shampoo  136.67              NaN  "
      ]
     },
     "execution_count": 26,
     "metadata": {},
     "output_type": "execute_result"
    }
   ],
   "source": [
    "output.head()"
   ]
  },
  {
   "cell_type": "code",
   "execution_count": 27,
   "metadata": {
    "collapsed": true
   },
   "outputs": [],
   "source": [
    "output['frontMargin'] = output['offtake'] - output['cost'] * output['salesNum']"
   ]
  },
  {
   "cell_type": "code",
   "execution_count": 28,
   "metadata": {
    "collapsed": true
   },
   "outputs": [],
   "source": [
    "output['marginPercent'] = output.frontMargin/output.offtake * 100"
   ]
  },
  {
   "cell_type": "code",
   "execution_count": 29,
   "metadata": {
    "collapsed": false
   },
   "outputs": [
    {
     "data": {
      "text/html": [
       "<div>\n",
       "<table border=\"1\" class=\"dataframe\">\n",
       "  <thead>\n",
       "    <tr style=\"text-align: right;\">\n",
       "      <th></th>\n",
       "      <th>uv</th>\n",
       "      <th>salesNum</th>\n",
       "      <th>offtake</th>\n",
       "      <th>productName</th>\n",
       "      <th>category</th>\n",
       "      <th>cost</th>\n",
       "      <th>priceElasticity</th>\n",
       "      <th>frontMargin</th>\n",
       "      <th>marginPercent</th>\n",
       "    </tr>\n",
       "    <tr>\n",
       "      <th>SuperID</th>\n",
       "      <th></th>\n",
       "      <th></th>\n",
       "      <th></th>\n",
       "      <th></th>\n",
       "      <th></th>\n",
       "      <th></th>\n",
       "      <th></th>\n",
       "      <th></th>\n",
       "      <th></th>\n",
       "    </tr>\n",
       "  </thead>\n",
       "  <tbody>\n",
       "    <tr>\n",
       "      <th>Buddle修护水养SH500*2+CN400</th>\n",
       "      <td>3134657</td>\n",
       "      <td>176433</td>\n",
       "      <td>21327563.21</td>\n",
       "      <td>【京东超市】沙宣 VS 修护水养500ml洗发水*2+润发乳400ml送洗发露50ml*3+...</td>\n",
       "      <td>bundle</td>\n",
       "      <td>127.57</td>\n",
       "      <td>-6.940412</td>\n",
       "      <td>-1179994.60</td>\n",
       "      <td>-5.532721</td>\n",
       "    </tr>\n",
       "    <tr>\n",
       "      <th>Buddle修护水养SH500+CN500</th>\n",
       "      <td>1511282</td>\n",
       "      <td>70396</td>\n",
       "      <td>6205112.85</td>\n",
       "      <td>【京东超市】沙宣修护水养洗发水500ml+护发素500ml 送（洗发露50ml赠品+润发乳5...</td>\n",
       "      <td>bundle</td>\n",
       "      <td>87.70</td>\n",
       "      <td>-5.722716</td>\n",
       "      <td>31383.65</td>\n",
       "      <td>0.505771</td>\n",
       "    </tr>\n",
       "    <tr>\n",
       "      <th>Buddle修护水养SH750+CN400</th>\n",
       "      <td>1985188</td>\n",
       "      <td>113077</td>\n",
       "      <td>11481023.79</td>\n",
       "      <td>【京东超市】沙宣洗护套装修护水养（洗发水750ml+护发素400ml）送洗发水50ml*2+...</td>\n",
       "      <td>bundle</td>\n",
       "      <td>103.83</td>\n",
       "      <td>-7.724258</td>\n",
       "      <td>-259761.12</td>\n",
       "      <td>-2.262526</td>\n",
       "    </tr>\n",
       "    <tr>\n",
       "      <th>Buddle修护水养SH750+CN400+Treatment150</th>\n",
       "      <td>94305</td>\n",
       "      <td>2028</td>\n",
       "      <td>225432.10</td>\n",
       "      <td>沙宣洗护套装修护水养（洗发水750ml+护发素400ml+发膜150ml）（护发 发膜免蒸 ...</td>\n",
       "      <td>bundle</td>\n",
       "      <td>134.88</td>\n",
       "      <td>-1.571936</td>\n",
       "      <td>-48104.54</td>\n",
       "      <td>-21.338816</td>\n",
       "    </tr>\n",
       "    <tr>\n",
       "      <th>Buddle修护水养SH750+CN750</th>\n",
       "      <td>16218</td>\n",
       "      <td>70</td>\n",
       "      <td>10749.40</td>\n",
       "      <td>沙宣洗护套装修护水养（洗发露750ml+护发素750ml）（头发护理 改善毛躁 深层清洁 补...</td>\n",
       "      <td>shampoo</td>\n",
       "      <td>136.67</td>\n",
       "      <td>NaN</td>\n",
       "      <td>1182.50</td>\n",
       "      <td>11.000614</td>\n",
       "    </tr>\n",
       "  </tbody>\n",
       "</table>\n",
       "</div>"
      ],
      "text/plain": [
       "                                         uv  salesNum      offtake  \\\n",
       "SuperID                                                              \n",
       "Buddle修护水养SH500*2+CN400             3134657    176433  21327563.21   \n",
       "Buddle修护水养SH500+CN500               1511282     70396   6205112.85   \n",
       "Buddle修护水养SH750+CN400               1985188    113077  11481023.79   \n",
       "Buddle修护水养SH750+CN400+Treatment150    94305      2028    225432.10   \n",
       "Buddle修护水养SH750+CN750                 16218        70     10749.40   \n",
       "\n",
       "                                                                          productName  \\\n",
       "SuperID                                                                                 \n",
       "Buddle修护水养SH500*2+CN400             【京东超市】沙宣 VS 修护水养500ml洗发水*2+润发乳400ml送洗发露50ml*3+...   \n",
       "Buddle修护水养SH500+CN500               【京东超市】沙宣修护水养洗发水500ml+护发素500ml 送（洗发露50ml赠品+润发乳5...   \n",
       "Buddle修护水养SH750+CN400               【京东超市】沙宣洗护套装修护水养（洗发水750ml+护发素400ml）送洗发水50ml*2+...   \n",
       "Buddle修护水养SH750+CN400+Treatment150  沙宣洗护套装修护水养（洗发水750ml+护发素400ml+发膜150ml）（护发 发膜免蒸 ...   \n",
       "Buddle修护水养SH750+CN750               沙宣洗护套装修护水养（洗发露750ml+护发素750ml）（头发护理 改善毛躁 深层清洁 补...   \n",
       "\n",
       "                                   category    cost  priceElasticity  \\\n",
       "SuperID                                                                \n",
       "Buddle修护水养SH500*2+CN400              bundle  127.57        -6.940412   \n",
       "Buddle修护水养SH500+CN500                bundle   87.70        -5.722716   \n",
       "Buddle修护水养SH750+CN400                bundle  103.83        -7.724258   \n",
       "Buddle修护水养SH750+CN400+Treatment150   bundle  134.88        -1.571936   \n",
       "Buddle修护水养SH750+CN750               shampoo  136.67              NaN   \n",
       "\n",
       "                                    frontMargin  marginPercent  \n",
       "SuperID                                                         \n",
       "Buddle修护水养SH500*2+CN400             -1179994.60      -5.532721  \n",
       "Buddle修护水养SH500+CN500                  31383.65       0.505771  \n",
       "Buddle修护水养SH750+CN400                -259761.12      -2.262526  \n",
       "Buddle修护水养SH750+CN400+Treatment150    -48104.54     -21.338816  \n",
       "Buddle修护水养SH750+CN750                   1182.50      11.000614  "
      ]
     },
     "execution_count": 29,
     "metadata": {},
     "output_type": "execute_result"
    }
   ],
   "source": [
    "output.head()"
   ]
  },
  {
   "cell_type": "code",
   "execution_count": 30,
   "metadata": {
    "collapsed": true
   },
   "outputs": [],
   "source": [
    "def volCalc(row):\n",
    "    name = row['productName']\n",
    "    try:\n",
    "        vol = 0\n",
    "        p = re.compile(r'(\\d+)ml')\n",
    "        sizes = p.findall(name)\n",
    "        for size in sizes:\n",
    "            #print size\n",
    "            p1 = re.compile(size + r'ml\\D+(\\d)\\D+')\n",
    "            amount = p1.findall(name)\n",
    "            if amount:\n",
    "                vol += int(size)*int(amount[0])\n",
    "            else:\n",
    "                vol += int(size)*1\n",
    "        return vol\n",
    "    \n",
    "    except:\n",
    "        return np.nan"
   ]
  },
  {
   "cell_type": "code",
   "execution_count": 31,
   "metadata": {
    "collapsed": false,
    "scrolled": true
   },
   "outputs": [],
   "source": [
    "output['vol'] = output.apply(volCalc,axis = 1)"
   ]
  },
  {
   "cell_type": "code",
   "execution_count": 32,
   "metadata": {
    "collapsed": false
   },
   "outputs": [
    {
     "data": {
      "text/html": [
       "<div>\n",
       "<table border=\"1\" class=\"dataframe\">\n",
       "  <thead>\n",
       "    <tr style=\"text-align: right;\">\n",
       "      <th></th>\n",
       "      <th>uv</th>\n",
       "      <th>salesNum</th>\n",
       "      <th>offtake</th>\n",
       "      <th>productName</th>\n",
       "      <th>category</th>\n",
       "      <th>cost</th>\n",
       "      <th>priceElasticity</th>\n",
       "      <th>frontMargin</th>\n",
       "      <th>marginPercent</th>\n",
       "      <th>vol</th>\n",
       "    </tr>\n",
       "    <tr>\n",
       "      <th>SuperID</th>\n",
       "      <th></th>\n",
       "      <th></th>\n",
       "      <th></th>\n",
       "      <th></th>\n",
       "      <th></th>\n",
       "      <th></th>\n",
       "      <th></th>\n",
       "      <th></th>\n",
       "      <th></th>\n",
       "      <th></th>\n",
       "    </tr>\n",
       "  </thead>\n",
       "  <tbody>\n",
       "    <tr>\n",
       "      <th>Buddle修护水养SH500*2+CN400</th>\n",
       "      <td>3134657</td>\n",
       "      <td>176433</td>\n",
       "      <td>21327563.21</td>\n",
       "      <td>【京东超市】沙宣 VS 修护水养500ml洗发水*2+润发乳400ml送洗发露50ml*3+...</td>\n",
       "      <td>bundle</td>\n",
       "      <td>127.57</td>\n",
       "      <td>-6.940412</td>\n",
       "      <td>-1179994.60</td>\n",
       "      <td>-5.532721</td>\n",
       "      <td>1700</td>\n",
       "    </tr>\n",
       "    <tr>\n",
       "      <th>Buddle修护水养SH500+CN500</th>\n",
       "      <td>1511282</td>\n",
       "      <td>70396</td>\n",
       "      <td>6205112.85</td>\n",
       "      <td>【京东超市】沙宣修护水养洗发水500ml+护发素500ml 送（洗发露50ml赠品+润发乳5...</td>\n",
       "      <td>bundle</td>\n",
       "      <td>87.70</td>\n",
       "      <td>-5.722716</td>\n",
       "      <td>31383.65</td>\n",
       "      <td>0.505771</td>\n",
       "      <td>1100</td>\n",
       "    </tr>\n",
       "    <tr>\n",
       "      <th>Buddle修护水养SH750+CN400</th>\n",
       "      <td>1985188</td>\n",
       "      <td>113077</td>\n",
       "      <td>11481023.79</td>\n",
       "      <td>【京东超市】沙宣洗护套装修护水养（洗发水750ml+护发素400ml）送洗发水50ml*2+...</td>\n",
       "      <td>bundle</td>\n",
       "      <td>103.83</td>\n",
       "      <td>-7.724258</td>\n",
       "      <td>-259761.12</td>\n",
       "      <td>-2.262526</td>\n",
       "      <td>1450</td>\n",
       "    </tr>\n",
       "    <tr>\n",
       "      <th>Buddle修护水养SH750+CN400+Treatment150</th>\n",
       "      <td>94305</td>\n",
       "      <td>2028</td>\n",
       "      <td>225432.10</td>\n",
       "      <td>沙宣洗护套装修护水养（洗发水750ml+护发素400ml+发膜150ml）（护发 发膜免蒸 ...</td>\n",
       "      <td>bundle</td>\n",
       "      <td>134.88</td>\n",
       "      <td>-1.571936</td>\n",
       "      <td>-48104.54</td>\n",
       "      <td>-21.338816</td>\n",
       "      <td>1300</td>\n",
       "    </tr>\n",
       "    <tr>\n",
       "      <th>Buddle修护水养SH750+CN750</th>\n",
       "      <td>16218</td>\n",
       "      <td>70</td>\n",
       "      <td>10749.40</td>\n",
       "      <td>沙宣洗护套装修护水养（洗发露750ml+护发素750ml）（头发护理 改善毛躁 深层清洁 补...</td>\n",
       "      <td>shampoo</td>\n",
       "      <td>136.67</td>\n",
       "      <td>NaN</td>\n",
       "      <td>1182.50</td>\n",
       "      <td>11.000614</td>\n",
       "      <td>1500</td>\n",
       "    </tr>\n",
       "  </tbody>\n",
       "</table>\n",
       "</div>"
      ],
      "text/plain": [
       "                                         uv  salesNum      offtake  \\\n",
       "SuperID                                                              \n",
       "Buddle修护水养SH500*2+CN400             3134657    176433  21327563.21   \n",
       "Buddle修护水养SH500+CN500               1511282     70396   6205112.85   \n",
       "Buddle修护水养SH750+CN400               1985188    113077  11481023.79   \n",
       "Buddle修护水养SH750+CN400+Treatment150    94305      2028    225432.10   \n",
       "Buddle修护水养SH750+CN750                 16218        70     10749.40   \n",
       "\n",
       "                                                                          productName  \\\n",
       "SuperID                                                                                 \n",
       "Buddle修护水养SH500*2+CN400             【京东超市】沙宣 VS 修护水养500ml洗发水*2+润发乳400ml送洗发露50ml*3+...   \n",
       "Buddle修护水养SH500+CN500               【京东超市】沙宣修护水养洗发水500ml+护发素500ml 送（洗发露50ml赠品+润发乳5...   \n",
       "Buddle修护水养SH750+CN400               【京东超市】沙宣洗护套装修护水养（洗发水750ml+护发素400ml）送洗发水50ml*2+...   \n",
       "Buddle修护水养SH750+CN400+Treatment150  沙宣洗护套装修护水养（洗发水750ml+护发素400ml+发膜150ml）（护发 发膜免蒸 ...   \n",
       "Buddle修护水养SH750+CN750               沙宣洗护套装修护水养（洗发露750ml+护发素750ml）（头发护理 改善毛躁 深层清洁 补...   \n",
       "\n",
       "                                   category    cost  priceElasticity  \\\n",
       "SuperID                                                                \n",
       "Buddle修护水养SH500*2+CN400              bundle  127.57        -6.940412   \n",
       "Buddle修护水养SH500+CN500                bundle   87.70        -5.722716   \n",
       "Buddle修护水养SH750+CN400                bundle  103.83        -7.724258   \n",
       "Buddle修护水养SH750+CN400+Treatment150   bundle  134.88        -1.571936   \n",
       "Buddle修护水养SH750+CN750               shampoo  136.67              NaN   \n",
       "\n",
       "                                    frontMargin  marginPercent   vol  \n",
       "SuperID                                                               \n",
       "Buddle修护水养SH500*2+CN400             -1179994.60      -5.532721  1700  \n",
       "Buddle修护水养SH500+CN500                  31383.65       0.505771  1100  \n",
       "Buddle修护水养SH750+CN400                -259761.12      -2.262526  1450  \n",
       "Buddle修护水养SH750+CN400+Treatment150    -48104.54     -21.338816  1300  \n",
       "Buddle修护水养SH750+CN750                   1182.50      11.000614  1500  "
      ]
     },
     "execution_count": 32,
     "metadata": {},
     "output_type": "execute_result"
    }
   ],
   "source": [
    "output.head()"
   ]
  },
  {
   "cell_type": "code",
   "execution_count": 33,
   "metadata": {
    "collapsed": true
   },
   "outputs": [],
   "source": [
    "# output.to_csv('output.csv', encoding='utf-8')"
   ]
  },
  {
   "cell_type": "code",
   "execution_count": 34,
   "metadata": {
    "collapsed": false
   },
   "outputs": [
    {
     "name": "stderr",
     "output_type": "stream",
     "text": [
      "C:\\Anaconda2\\lib\\site-packages\\ipykernel\\__main__.py:1: FutureWarning:\n",
      "\n",
      "sort(columns=....) is deprecated, use sort_values(by=.....)\n",
      "\n"
     ]
    }
   ],
   "source": [
    "output = output.sort('offtake',ascending =False)"
   ]
  },
  {
   "cell_type": "code",
   "execution_count": 35,
   "metadata": {
    "collapsed": false
   },
   "outputs": [
    {
     "data": {
      "text/html": [
       "<div>\n",
       "<table border=\"1\" class=\"dataframe\">\n",
       "  <thead>\n",
       "    <tr style=\"text-align: right;\">\n",
       "      <th></th>\n",
       "      <th>uv</th>\n",
       "      <th>salesNum</th>\n",
       "      <th>offtake</th>\n",
       "      <th>productName</th>\n",
       "      <th>category</th>\n",
       "      <th>cost</th>\n",
       "      <th>priceElasticity</th>\n",
       "      <th>frontMargin</th>\n",
       "      <th>marginPercent</th>\n",
       "      <th>vol</th>\n",
       "    </tr>\n",
       "    <tr>\n",
       "      <th>SuperID</th>\n",
       "      <th></th>\n",
       "      <th></th>\n",
       "      <th></th>\n",
       "      <th></th>\n",
       "      <th></th>\n",
       "      <th></th>\n",
       "      <th></th>\n",
       "      <th></th>\n",
       "      <th></th>\n",
       "      <th></th>\n",
       "    </tr>\n",
       "  </thead>\n",
       "  <tbody>\n",
       "    <tr>\n",
       "      <th>Buddle修护水养SH500*2+CN400</th>\n",
       "      <td>3134657</td>\n",
       "      <td>176433</td>\n",
       "      <td>21327563.21</td>\n",
       "      <td>【京东超市】沙宣 VS 修护水养500ml洗发水*2+润发乳400ml送洗发露50ml*3+...</td>\n",
       "      <td>bundle</td>\n",
       "      <td>127.57</td>\n",
       "      <td>-6.940412</td>\n",
       "      <td>-1179994.60</td>\n",
       "      <td>-5.532721</td>\n",
       "      <td>1700</td>\n",
       "    </tr>\n",
       "    <tr>\n",
       "      <th>Shampoo水润去屑750</th>\n",
       "      <td>1511312</td>\n",
       "      <td>242356</td>\n",
       "      <td>13696078.40</td>\n",
       "      <td>【京东超市】沙宣去屑洗发水水润去屑型750ml（男女通用 洗头膏 洗发露 新老包装随机发货）</td>\n",
       "      <td>shampoo</td>\n",
       "      <td>74.20</td>\n",
       "      <td>-2.206437</td>\n",
       "      <td>-4286736.80</td>\n",
       "      <td>-31.299009</td>\n",
       "      <td>750</td>\n",
       "    </tr>\n",
       "    <tr>\n",
       "      <th>Shampoo修护水养750</th>\n",
       "      <td>2452229</td>\n",
       "      <td>190663</td>\n",
       "      <td>12049947.13</td>\n",
       "      <td>沙宣洗发水修护水养750ml（男女通用 洗头膏 洗发露 头发护理）</td>\n",
       "      <td>shampoo</td>\n",
       "      <td>74.20</td>\n",
       "      <td>-1.689215</td>\n",
       "      <td>-2097247.47</td>\n",
       "      <td>-17.404620</td>\n",
       "      <td>750</td>\n",
       "    </tr>\n",
       "    <tr>\n",
       "      <th>Buddle修护水养SH750+CN400</th>\n",
       "      <td>1985188</td>\n",
       "      <td>113077</td>\n",
       "      <td>11481023.79</td>\n",
       "      <td>【京东超市】沙宣洗护套装修护水养（洗发水750ml+护发素400ml）送洗发水50ml*2+...</td>\n",
       "      <td>bundle</td>\n",
       "      <td>103.83</td>\n",
       "      <td>-7.724258</td>\n",
       "      <td>-259761.12</td>\n",
       "      <td>-2.262526</td>\n",
       "      <td>1450</td>\n",
       "    </tr>\n",
       "    <tr>\n",
       "      <th>Shampoo清盈顺柔750</th>\n",
       "      <td>1101352</td>\n",
       "      <td>177420</td>\n",
       "      <td>9830321.04</td>\n",
       "      <td>【京东超市】沙宣洗发水清盈顺柔750ml（洗发露 新老包装随机发货）</td>\n",
       "      <td>shampoo</td>\n",
       "      <td>74.20</td>\n",
       "      <td>-2.055849</td>\n",
       "      <td>-3334242.96</td>\n",
       "      <td>-33.917946</td>\n",
       "      <td>750</td>\n",
       "    </tr>\n",
       "  </tbody>\n",
       "</table>\n",
       "</div>"
      ],
      "text/plain": [
       "                              uv  salesNum      offtake  \\\n",
       "SuperID                                                   \n",
       "Buddle修护水养SH500*2+CN400  3134657    176433  21327563.21   \n",
       "Shampoo水润去屑750           1511312    242356  13696078.40   \n",
       "Shampoo修护水养750           2452229    190663  12049947.13   \n",
       "Buddle修护水养SH750+CN400    1985188    113077  11481023.79   \n",
       "Shampoo清盈顺柔750           1101352    177420   9830321.04   \n",
       "\n",
       "                                                               productName  \\\n",
       "SuperID                                                                      \n",
       "Buddle修护水养SH500*2+CN400  【京东超市】沙宣 VS 修护水养500ml洗发水*2+润发乳400ml送洗发露50ml*3+...   \n",
       "Shampoo水润去屑750              【京东超市】沙宣去屑洗发水水润去屑型750ml（男女通用 洗头膏 洗发露 新老包装随机发货）   \n",
       "Shampoo修护水养750                           沙宣洗发水修护水养750ml（男女通用 洗头膏 洗发露 头发护理）   \n",
       "Buddle修护水养SH750+CN400    【京东超市】沙宣洗护套装修护水养（洗发水750ml+护发素400ml）送洗发水50ml*2+...   \n",
       "Shampoo清盈顺柔750                          【京东超市】沙宣洗发水清盈顺柔750ml（洗发露 新老包装随机发货）   \n",
       "\n",
       "                        category    cost  priceElasticity  frontMargin  \\\n",
       "SuperID                                                                  \n",
       "Buddle修护水养SH500*2+CN400   bundle  127.57        -6.940412  -1179994.60   \n",
       "Shampoo水润去屑750           shampoo   74.20        -2.206437  -4286736.80   \n",
       "Shampoo修护水养750           shampoo   74.20        -1.689215  -2097247.47   \n",
       "Buddle修护水养SH750+CN400     bundle  103.83        -7.724258   -259761.12   \n",
       "Shampoo清盈顺柔750           shampoo   74.20        -2.055849  -3334242.96   \n",
       "\n",
       "                         marginPercent   vol  \n",
       "SuperID                                       \n",
       "Buddle修护水养SH500*2+CN400      -5.532721  1700  \n",
       "Shampoo水润去屑750              -31.299009   750  \n",
       "Shampoo修护水养750              -17.404620   750  \n",
       "Buddle修护水养SH750+CN400        -2.262526  1450  \n",
       "Shampoo清盈顺柔750              -33.917946   750  "
      ]
     },
     "execution_count": 35,
     "metadata": {},
     "output_type": "execute_result"
    }
   ],
   "source": [
    "output.head()"
   ]
  },
  {
   "cell_type": "code",
   "execution_count": 36,
   "metadata": {
    "collapsed": false
   },
   "outputs": [
    {
     "name": "stdout",
     "output_type": "stream",
     "text": [
      "-0.11065116744\n"
     ]
    }
   ],
   "source": [
    "totalOfftake = output['offtake'].sum()\n",
    "totalMargin = output['frontMargin'].sum()\n",
    "totalMarginPercent = totalMargin/totalOfftake\n",
    "print totalMarginPercent"
   ]
  },
  {
   "cell_type": "code",
   "execution_count": 37,
   "metadata": {
    "collapsed": false
   },
   "outputs": [],
   "source": [
    "def priceInflation(percent):\n",
    "    # Filter Q2 SKUs\n",
    "    Q2Mask = (output.uv > 1000000) & (output.priceElasticity < 4) & (output.marginPercent < -11)\n",
    "    Q2 = output[Q2Mask].copy()\n",
    "    originalMargin = Q2.frontMargin.sum()\n",
    "    originalOfftake = Q2.offtake.sum()\n",
    "    #offtake estimation after price increase: margin% increase, vol offtake decrease\n",
    "    Q2['newOfftake'] = Q2.offtake*(1 + percent/100.0)*(1 + (percent/100.0)*Q2.priceElasticity)\n",
    "    Q2Shrink =  float(Q2.newOfftake.sum())/originalOfftake\n",
    "    offtakeDiff = Q2.newOfftake.sum() - originalOfftake\n",
    "    #margin = offtake - cost\n",
    "    Q2['newMargin'] = Q2.newOfftake - Q2.salesNum*(1 + (percent/100.0)*Q2.priceElasticity)*Q2.cost\n",
    "    marginDiff = Q2.newMargin.sum() - originalMargin\n",
    "    newTotalOfftake = totalOfftake + offtakeDiff\n",
    "    newTotalMargin = totalMargin + marginDiff\n",
    "    newTotalMarginPercent = float(newTotalMargin)/newTotalOfftake\n",
    "    newOfftakePercent = float(newTotalOfftake)/totalOfftake\n",
    "    return newOfftakePercent*100, newTotalMarginPercent*100,Q2Shrink*100"
   ]
  },
  {
   "cell_type": "code",
   "execution_count": 38,
   "metadata": {
    "collapsed": false,
    "scrolled": true
   },
   "outputs": [],
   "source": [
    "offtakes = []\n",
    "margins = []\n",
    "Q2Srink = []\n",
    "for i in range(0,31):\n",
    "    offtakes.append(priceInflation(i)[0])\n",
    "    margins.append(priceInflation(i)[1])\n",
    "    Q2Srink.append(priceInflation(i)[2])"
   ]
  },
  {
   "cell_type": "code",
   "execution_count": 39,
   "metadata": {
    "collapsed": false
   },
   "outputs": [
    {
     "data": {
      "text/html": [
       "<iframe id=\"igraph\" scrolling=\"no\" style=\"border:none;\" seamless=\"seamless\" src=\"https://plot.ly/~rickren/88.embed\" height=\"525px\" width=\"100%\"></iframe>"
      ],
      "text/plain": [
       "<plotly.tools.PlotlyDisplay object>"
      ]
     },
     "execution_count": 39,
     "metadata": {},
     "output_type": "execute_result"
    }
   ],
   "source": [
    "linspace_x = np.linspace(0, 30, 31)\n",
    "y0 = offtakes\n",
    "y1 = margins\n",
    "y2 = Q2Srink\n",
    "\n",
    "# Create traces\n",
    "trace0 = go.Scatter(\n",
    "    x = linspace_x,\n",
    "    y = y0,\n",
    "    mode = 'lines+markers',\n",
    "    name = 'Total Offtake Idx'\n",
    ")\n",
    "trace1 = go.Scatter(\n",
    "    x = linspace_x,\n",
    "    y = y1,\n",
    "    mode = 'lines+markers',\n",
    "    name = 'Total Front Margin'\n",
    ")\n",
    "trace2 = go.Scatter(\n",
    "    x = linspace_x,\n",
    "    y = y2,\n",
    "    mode = 'lines+markers',\n",
    "    name = 'Q2 Offtake'\n",
    ")\n",
    "\n",
    "layout = go.Layout(\n",
    "    title='Estimated Impact of Q2 Price Increase',\n",
    "    xaxis=dict(\n",
    "        title='Price Increase Idx on Quandrant 2',\n",
    "        titlefont=dict(\n",
    "            family='Courier New, monospace',\n",
    "            size=18,\n",
    "            color='#7f7f7f'\n",
    "        )\n",
    "    ),\n",
    "    yaxis=dict(\n",
    "        title='idx',\n",
    "        titlefont=dict(\n",
    "            family='Courier New, monospace',\n",
    "            size=18,\n",
    "            color='#7f7f7f'\n",
    "        )\n",
    "    )\n",
    ")\n",
    "data = [trace0, trace1,trace2]\n",
    "\n",
    "fig = go.Figure(data=data, layout=layout)\n",
    "py.iplot(fig, filename='styling-names')"
   ]
  },
  {
   "cell_type": "code",
   "execution_count": 40,
   "metadata": {
    "collapsed": false
   },
   "outputs": [],
   "source": [
    "# Drive extra traffic for Q3\n",
    "def trafficDirve(percent):\n",
    "    Q3Mask = (output.uv < 1000000) & (output.priceElasticity < 4) & (output.marginPercent > 0) & (output.vol == 400)\n",
    "    Q3 = output[Q3Mask].copy()\n",
    "    originalMargin = Q3.frontMargin.sum()\n",
    "    originalOfftake = Q3.offtake.sum()\n",
    "    #print originalOfftake\n",
    "    Q3['newOfftake'] = Q3.offtake*(1 + percent/100.0)\n",
    "    #print Q3.newOfftake.sum()\n",
    "    offtakeDiff = Q3.newOfftake.sum() - originalOfftake\n",
    "    #print offtakeDiff\n",
    "    Q3['newMargin'] = Q3.newOfftake - Q3.salesNum*(1 + percent/100.0)*Q3.cost\n",
    "    marginDiff = Q3.newMargin.sum() - originalMargin\n",
    "    newTotalOfftake = totalOfftake + offtakeDiff\n",
    "    newTotalMargin = totalMargin + marginDiff\n",
    "    newTotalMarginPercent = newTotalMargin/newTotalOfftake\n",
    "    newOfftakePercent = newTotalOfftake/totalOfftake\n",
    "    return newOfftakePercent*100, newTotalMarginPercent*100"
   ]
  },
  {
   "cell_type": "code",
   "execution_count": 44,
   "metadata": {
    "collapsed": false
   },
   "outputs": [],
   "source": [
    "# shift percent% of Q2 traffic to Q3\n",
    "\n",
    "def trafficShift(percent):\n",
    "    #cut percent%  uv of Q2\n",
    "    Q2Mask = (output.uv > 1000000) & (output.priceElasticity < 4) & (output.marginPercent < -11)\n",
    "    Q2 = output[Q2Mask].copy()\n",
    "    uvShifted = Q2.uv.sum()*percent/100.0\n",
    "    deltaOfftakeQ2 = Q2.offtake.sum()*(1-percent/100.0) - Q2.offtake.sum()\n",
    "    deltaMarginQ2 = Q2.frontMargin.sum()*(1-percent/100.0) - Q2.frontMargin.sum()\n",
    "    #Shift those uv to selected SKU in Q3  \n",
    "    Q3Mask = (output.uv < 1000000) & (output.priceElasticity < 4) & (output.marginPercent > 0) & (output.vol >= 400)\n",
    "    Q3 = output[Q3Mask].copy()\n",
    "    originalMargin = Q3.frontMargin.sum()\n",
    "    originalOfftake = Q3.offtake.sum()\n",
    "    #those uv means how many percent extra for Q3?\n",
    "    percentShifted = float(uvShifted)/Q3.uv.sum()*100   \n",
    "    #Assume keep the conversion rate, how much will change?\n",
    "    #improve conversion rate 1.5X\n",
    "    deltaOfftakeQ3 = Q3.offtake.sum()*percentShifted/100.0*1.5\n",
    "    deltaMarginQ3 = Q3.frontMargin.sum()*percentShifted/100.0*1.5\n",
    "    #Q2 decrease, Q3 increase, so how much in total?\n",
    "    newTotalOfftake = totalOfftake + deltaOfftakeQ2 + deltaOfftakeQ3\n",
    "    \n",
    "    newTotalOfftake = newTotalOfftake\n",
    "    newTotalMargin = totalMargin + deltaMarginQ2 + deltaMarginQ3\n",
    "                                                                                 \n",
    "    newTotalMarginPercent = float(newTotalMargin)/newTotalOfftake\n",
    "    newOfftakePercent = float(newTotalOfftake)/totalOfftake\n",
    "    \n",
    "    return newOfftakePercent*100, newTotalMarginPercent*100"
   ]
  },
  {
   "cell_type": "code",
   "execution_count": 45,
   "metadata": {
    "collapsed": false
   },
   "outputs": [
    {
     "data": {
      "text/plain": [
       "(98.12151131173043, -10.351749557190523)"
      ]
     },
     "execution_count": 45,
     "metadata": {},
     "output_type": "execute_result"
    }
   ],
   "source": [
    "trafficShift(10)"
   ]
  },
  {
   "cell_type": "code",
   "execution_count": null,
   "metadata": {
    "collapsed": false,
    "scrolled": true
   },
   "outputs": [],
   "source": [
    "offtakes = []\n",
    "margins = []\n",
    "for i in range(0,50):\n",
    "    offtakes.append(trafficShift(i)[0])\n",
    "    margins.append(trafficShift(i)[1])"
   ]
  },
  {
   "cell_type": "code",
   "execution_count": null,
   "metadata": {
    "collapsed": false
   },
   "outputs": [],
   "source": [
    "linspace_x = np.linspace(0, 50, 51)\n",
    "y0 = offtakes\n",
    "y1 = margins\n",
    "\n",
    "# Create traces\n",
    "trace0 = go.Scatter(\n",
    "    x = linspace_x,\n",
    "    y = y0,\n",
    "    mode = 'lines+markers',\n",
    "    name = 'Offtake Percent'\n",
    ")\n",
    "trace1 = go.Scatter(\n",
    "    x = linspace_x,\n",
    "    y = y1,\n",
    "    mode = 'lines+markers',\n",
    "    name = 'Front Margin Percent'\n",
    ")\n",
    "\n",
    "layout = go.Layout(\n",
    "    title='Estimated Impact of Shifting Q2 Traffic on Total Offtake & Margin',\n",
    "    xaxis=dict(\n",
    "        title='Traffic Shift Idx',\n",
    "        titlefont=dict(\n",
    "            family='Courier New, monospace',\n",
    "            size=18,\n",
    "            color='#7f7f7f'\n",
    "        )\n",
    "    ),\n",
    "    yaxis=dict(\n",
    "        title='idx',\n",
    "        titlefont=dict(\n",
    "            family='Courier New, monospace',\n",
    "            size=18,\n",
    "            color='#7f7f7f'\n",
    "        )\n",
    "    )\n",
    ")\n",
    "data = [trace0, trace1]\n",
    "\n",
    "fig = go.Figure(data=data, layout=layout)\n",
    "py.iplot(fig, filename='styling-names')"
   ]
  },
  {
   "cell_type": "code",
   "execution_count": null,
   "metadata": {
    "collapsed": true
   },
   "outputs": [],
   "source": [
    "def adjust(priceInflationPercent,trafficShiftPercent):\n",
    "    offtakeIdx = (priceInflation(priceInflationPercent)[0] + trafficShift(trafficShiftPercent)[0])/2\n",
    "    marginIdx = (priceInflation(priceInflationPercent)[1] + trafficShift(trafficShiftPercent)[1])/2\n",
    "    return offtakeIdx,marginIdx"
   ]
  },
  {
   "cell_type": "code",
   "execution_count": null,
   "metadata": {
    "collapsed": false
   },
   "outputs": [],
   "source": [
    "# Offtake Diagram\n",
    "w, h = 51, 31\n",
    "Matrix = [[0 for x in range(w)] for y in range(h)] \n",
    "\n",
    "for i in range(0,31):\n",
    "    for j in range (0,51):\n",
    "        Matrix[i][j] = adjust(i,j)[0]\n",
    "\n",
    "trace = go.Heatmap(z=Matrix)\n",
    "data=[trace]\n",
    "\n",
    "layout = go.Layout(\n",
    "    title='Estimated Impact of the Adjustment on Total Offtake',\n",
    "    xaxis=dict(\n",
    "        title='Traffic Shift Idx',\n",
    "        titlefont=dict(\n",
    "            family='Courier New, monospace',\n",
    "            size=18,\n",
    "            color='#7f7f7f'\n",
    "        )\n",
    "    ),\n",
    "    yaxis=dict(\n",
    "        title='Price Inflation Idx',\n",
    "        titlefont=dict(\n",
    "            family='Courier New, monospace',\n",
    "            size=18,\n",
    "            color='#7f7f7f'\n",
    "        )\n",
    "    )\n",
    ")\n",
    "fig = go.Figure(data=data, layout=layout)\n",
    "py.iplot(fig, filename='styling-names')"
   ]
  },
  {
   "cell_type": "code",
   "execution_count": null,
   "metadata": {
    "collapsed": false
   },
   "outputs": [],
   "source": [
    "# Margin Diagram\n",
    "w, h = 51, 31\n",
    "Matrix1 = [[0 for x in range(w)] for y in range(h)] \n",
    "\n",
    "for i in range(0,31):\n",
    "    for j in range (0,51):\n",
    "        Matrix1[i][j] = adjust(i,j)[1]\n",
    "\n",
    "trace = go.Heatmap(z=Matrix1)\n",
    "data=[trace]\n",
    "\n",
    "layout = go.Layout(\n",
    "    title='Estimated Impact of the Adjustment on Total Front Margin',\n",
    "    xaxis=dict(\n",
    "        title='Traffic Shift Idx',\n",
    "        titlefont=dict(\n",
    "            family='Courier New, monospace',\n",
    "            size=18,\n",
    "            color='#7f7f7f'\n",
    "        )\n",
    "    ),\n",
    "    yaxis=dict(\n",
    "        title='Price Inflation Idx',\n",
    "        titlefont=dict(\n",
    "            family='Courier New, monospace',\n",
    "            size=18,\n",
    "            color='#7f7f7f'\n",
    "        )\n",
    "    )\n",
    ")\n",
    "fig = go.Figure(data=data, layout=layout)\n",
    "py.iplot(fig, filename='styling-names')"
   ]
  },
  {
   "cell_type": "code",
   "execution_count": null,
   "metadata": {
    "collapsed": false
   },
   "outputs": [],
   "source": [
    "list = [adjust(i,0)[0] for i in range (-50,50)]"
   ]
  },
  {
   "cell_type": "code",
   "execution_count": null,
   "metadata": {
    "collapsed": false
   },
   "outputs": [],
   "source": [
    "linspace_x = np.linspace(-100, 100, 201)\n",
    "y0 = [adjust(i,0)[0] for i in range (-100,100)]\n",
    "y1 = [adjust(i,0)[1] for i in range (-100,100)]\n",
    "\n",
    "# Create traces\n",
    "trace0 = go.Scatter(\n",
    "    x = linspace_x,\n",
    "    y = y0,\n",
    "    mode = 'lines+markers',\n",
    "    name = 'Offtake Idx'\n",
    ")\n",
    "\n",
    "\n",
    "# trace1 = go.Scatter(\n",
    "#     x = linspace_x,\n",
    "#     y = y1,\n",
    "#     mode = 'lines+markers',\n",
    "#     name = 'Front Margin Idx'\n",
    "# )\n",
    "\n",
    "layout = go.Layout(\n",
    "    title='Estimated Impact of Price Adjustment on Total Offtake',\n",
    "    xaxis=dict(\n",
    "        title='Price Adjustment',\n",
    "        titlefont=dict(\n",
    "            family='Courier New, monospace',\n",
    "            size=18,\n",
    "            color='#7f7f7f'\n",
    "        )\n",
    "    ),\n",
    "    yaxis=dict(\n",
    "        title='idx',\n",
    "        titlefont=dict(\n",
    "            family='Courier New, monospace',\n",
    "            size=18,\n",
    "            color='#7f7f7f'\n",
    "        )\n",
    "    )\n",
    ")\n",
    "# data = [trace0,trace1]\n",
    "data = [trace0]\n",
    "fig = go.Figure(data=data, layout=layout)\n",
    "py.iplot(fig, filename='styling-names')"
   ]
  },
  {
   "cell_type": "code",
   "execution_count": null,
   "metadata": {
    "collapsed": false,
    "scrolled": false
   },
   "outputs": [],
   "source": [
    "linspace_x = np.linspace(-20, 80, 100)\n",
    "\n",
    "y1 = [adjust(i,0)[1] for i in range (-20,80)]\n",
    "\n",
    "# Create traces\n",
    "trace0 = go.Scatter(\n",
    "    x = linspace_x,\n",
    "    y = y1,\n",
    "    mode = 'lines+markers',\n",
    "    name = 'Front Margin Idx'\n",
    ")\n",
    "\n",
    "\n",
    "# trace1 = go.Scatter(\n",
    "#     x = linspace_x,\n",
    "#     y = y1,\n",
    "#     mode = 'lines+markers',\n",
    "#     name = 'Front Margin Idx'\n",
    "# )\n",
    "\n",
    "layout = go.Layout(\n",
    "    title='Estimated Impact of Price Adjustment on Margin%',\n",
    "    xaxis=dict(\n",
    "        title='Price Adjustment',\n",
    "        titlefont=dict(\n",
    "            family='Courier New, monospace',\n",
    "            size=18,\n",
    "            color='#7f7f7f'\n",
    "        )\n",
    "    ),\n",
    "    yaxis=dict(\n",
    "        title='idx',\n",
    "        titlefont=dict(\n",
    "            family='Courier New, monospace',\n",
    "            size=18,\n",
    "            color='#7f7f7f'\n",
    "        )\n",
    "    )\n",
    ")\n",
    "# data = [trace0,trace1]\n",
    "data = [trace0]\n",
    "fig = go.Figure(data=data, layout=layout)\n",
    "py.iplot(fig, filename='styling-names')"
   ]
  }
 ],
 "metadata": {
  "anaconda-cloud": {},
  "kernelspec": {
   "display_name": "Python [Root]",
   "language": "python",
   "name": "Python [Root]"
  },
  "language_info": {
   "codemirror_mode": {
    "name": "ipython",
    "version": 2
   },
   "file_extension": ".py",
   "mimetype": "text/x-python",
   "name": "python",
   "nbconvert_exporter": "python",
   "pygments_lexer": "ipython2",
   "version": "2.7.12"
  }
 },
 "nbformat": 4,
 "nbformat_minor": 0
}
