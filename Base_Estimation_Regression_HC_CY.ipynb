{
 "cells": [
  {
   "cell_type": "code",
   "execution_count": 35,
   "metadata": {
    "collapsed": true
   },
   "outputs": [],
   "source": [
    "# -*- coding: utf-8 -*-   \n",
    "import numpy as np\n",
    "import pandas as pd\n",
    "import matplotlib.pyplot as plt\n",
    "%matplotlib inline\n",
    "import seaborn as sns\n",
    "import plotly.plotly as py\n",
    "import plotly.graph_objs as go\n",
    "from sklearn import linear_model\n",
    "import plotly.plotly as py\n",
    "import plotly.graph_objs as go\n",
    "import re\n",
    "from scipy import stats"
   ]
  },
  {
   "cell_type": "code",
   "execution_count": 36,
   "metadata": {
    "collapsed": false
   },
   "outputs": [],
   "source": [
    "from matplotlib.font_manager import FontProperties\n",
    "font = FontProperties(fname=r\"c:\\windows\\fonts\\SimSun.ttc\", size=14)"
   ]
  },
  {
   "cell_type": "code",
   "execution_count": 37,
   "metadata": {
    "collapsed": false
   },
   "outputs": [
    {
     "data": {
      "text/plain": [
       "(25331, 20)"
      ]
     },
     "execution_count": 37,
     "metadata": {},
     "output_type": "execute_result"
    }
   ],
   "source": [
    "db = pd.read_excel(r'C:\\Users\\ren.x.1\\Desktop\\VS_Pricing\\JFM_HC_ePOS.xlsx',encoding='gbk')\n",
    "db.shape"
   ]
  },
  {
   "cell_type": "code",
   "execution_count": 38,
   "metadata": {
    "collapsed": true
   },
   "outputs": [],
   "source": [
    "db.dropna(inplace = True)"
   ]
  },
  {
   "cell_type": "code",
   "execution_count": 39,
   "metadata": {
    "collapsed": false
   },
   "outputs": [
    {
     "data": {
      "text/html": [
       "<div>\n",
       "<table border=\"1\" class=\"dataframe\">\n",
       "  <thead>\n",
       "    <tr style=\"text-align: right;\">\n",
       "      <th></th>\n",
       "      <th>Date</th>\n",
       "      <th>ProductCode</th>\n",
       "      <th>GCAS_No</th>\n",
       "      <th>ProductName</th>\n",
       "      <th>BrandCode</th>\n",
       "      <th>BrandName</th>\n",
       "      <th>pv</th>\n",
       "      <th>uv</th>\n",
       "      <th>Order_Num</th>\n",
       "      <th>Valid_Num</th>\n",
       "      <th>Sales_Num</th>\n",
       "      <th>Offtake</th>\n",
       "      <th>Sales_Price</th>\n",
       "      <th>Unit_Cost</th>\n",
       "      <th>Total_Cost</th>\n",
       "      <th>Front_Margin</th>\n",
       "      <th>Normal_DM_SPP</th>\n",
       "      <th>Top_DM_SPP</th>\n",
       "      <th>Mechanism</th>\n",
       "      <th>Abnormal</th>\n",
       "    </tr>\n",
       "  </thead>\n",
       "  <tbody>\n",
       "    <tr>\n",
       "      <th>0</th>\n",
       "      <td>2017-01-01</td>\n",
       "      <td>206633</td>\n",
       "      <td>82249713</td>\n",
       "      <td>【京东超市】飘柔洗发水绿茶长效清爽去油家庭装750ml（洗发露 家庭护理系列）</td>\n",
       "      <td>13968</td>\n",
       "      <td>飘柔（Rejoice）</td>\n",
       "      <td>747</td>\n",
       "      <td>483</td>\n",
       "      <td>39</td>\n",
       "      <td>39</td>\n",
       "      <td>50</td>\n",
       "      <td>1646.49</td>\n",
       "      <td>32.929800</td>\n",
       "      <td>26.36</td>\n",
       "      <td>1318.00</td>\n",
       "      <td>0.199509</td>\n",
       "      <td>27.9</td>\n",
       "      <td>27.9</td>\n",
       "      <td>single TPR</td>\n",
       "      <td>normal</td>\n",
       "    </tr>\n",
       "    <tr>\n",
       "      <th>1</th>\n",
       "      <td>2017-01-01</td>\n",
       "      <td>206636</td>\n",
       "      <td>82249757</td>\n",
       "      <td>【京东超市】飘柔洗发水杏仁长效柔顺滋养家庭装750ml（洗发露 家庭护理系列）</td>\n",
       "      <td>13968</td>\n",
       "      <td>飘柔（Rejoice）</td>\n",
       "      <td>312</td>\n",
       "      <td>212</td>\n",
       "      <td>20</td>\n",
       "      <td>20</td>\n",
       "      <td>20</td>\n",
       "      <td>658.00</td>\n",
       "      <td>32.900000</td>\n",
       "      <td>26.36</td>\n",
       "      <td>527.20</td>\n",
       "      <td>0.198784</td>\n",
       "      <td>27.9</td>\n",
       "      <td>27.9</td>\n",
       "      <td>single TPR</td>\n",
       "      <td>normal</td>\n",
       "    </tr>\n",
       "    <tr>\n",
       "      <th>2</th>\n",
       "      <td>2017-01-01</td>\n",
       "      <td>206661</td>\n",
       "      <td>82245036</td>\n",
       "      <td>【京东超市】潘婷去屑洗发水乳液修护400ml（洗发露 新老包装随机发放）</td>\n",
       "      <td>13877</td>\n",
       "      <td>潘婷（pantene）</td>\n",
       "      <td>2653</td>\n",
       "      <td>2380</td>\n",
       "      <td>12</td>\n",
       "      <td>12</td>\n",
       "      <td>13</td>\n",
       "      <td>369.70</td>\n",
       "      <td>28.438462</td>\n",
       "      <td>31.03</td>\n",
       "      <td>403.39</td>\n",
       "      <td>-0.091128</td>\n",
       "      <td>28.5</td>\n",
       "      <td>26.5</td>\n",
       "      <td>single TPR</td>\n",
       "      <td>normal</td>\n",
       "    </tr>\n",
       "    <tr>\n",
       "      <th>3</th>\n",
       "      <td>2017-01-01</td>\n",
       "      <td>206675</td>\n",
       "      <td>82245039</td>\n",
       "      <td>【京东超市】潘婷丝质顺滑去屑洗发露400ML</td>\n",
       "      <td>13877</td>\n",
       "      <td>潘婷（pantene）</td>\n",
       "      <td>173</td>\n",
       "      <td>107</td>\n",
       "      <td>15</td>\n",
       "      <td>15</td>\n",
       "      <td>17</td>\n",
       "      <td>516.97</td>\n",
       "      <td>30.410000</td>\n",
       "      <td>31.03</td>\n",
       "      <td>527.51</td>\n",
       "      <td>-0.020388</td>\n",
       "      <td>28.5</td>\n",
       "      <td>26.5</td>\n",
       "      <td>single TPR</td>\n",
       "      <td>normal</td>\n",
       "    </tr>\n",
       "    <tr>\n",
       "      <th>4</th>\n",
       "      <td>2017-01-01</td>\n",
       "      <td>206687</td>\n",
       "      <td>82245051</td>\n",
       "      <td>【京东超市】潘婷洗发水丝质顺滑400ml（洗发露 新老包装随机发送）</td>\n",
       "      <td>13877</td>\n",
       "      <td>潘婷（pantene）</td>\n",
       "      <td>252</td>\n",
       "      <td>146</td>\n",
       "      <td>37</td>\n",
       "      <td>37</td>\n",
       "      <td>61</td>\n",
       "      <td>1589.00</td>\n",
       "      <td>26.049180</td>\n",
       "      <td>31.03</td>\n",
       "      <td>1892.83</td>\n",
       "      <td>-0.191208</td>\n",
       "      <td>28.5</td>\n",
       "      <td>26.5</td>\n",
       "      <td>single TPR</td>\n",
       "      <td>normal</td>\n",
       "    </tr>\n",
       "  </tbody>\n",
       "</table>\n",
       "</div>"
      ],
      "text/plain": [
       "        Date  ProductCode   GCAS_No                              ProductName  \\\n",
       "0 2017-01-01       206633  82249713  【京东超市】飘柔洗发水绿茶长效清爽去油家庭装750ml（洗发露 家庭护理系列）   \n",
       "1 2017-01-01       206636  82249757  【京东超市】飘柔洗发水杏仁长效柔顺滋养家庭装750ml（洗发露 家庭护理系列）   \n",
       "2 2017-01-01       206661  82245036     【京东超市】潘婷去屑洗发水乳液修护400ml（洗发露 新老包装随机发放）   \n",
       "3 2017-01-01       206675  82245039                   【京东超市】潘婷丝质顺滑去屑洗发露400ML   \n",
       "4 2017-01-01       206687  82245051       【京东超市】潘婷洗发水丝质顺滑400ml（洗发露 新老包装随机发送）   \n",
       "\n",
       "   BrandCode    BrandName    pv    uv  Order_Num  Valid_Num  Sales_Num  \\\n",
       "0      13968  飘柔（Rejoice）   747   483         39         39         50   \n",
       "1      13968  飘柔（Rejoice）   312   212         20         20         20   \n",
       "2      13877  潘婷（pantene）  2653  2380         12         12         13   \n",
       "3      13877  潘婷（pantene）   173   107         15         15         17   \n",
       "4      13877  潘婷（pantene）   252   146         37         37         61   \n",
       "\n",
       "   Offtake  Sales_Price  Unit_Cost  Total_Cost  Front_Margin  Normal_DM_SPP  \\\n",
       "0  1646.49    32.929800      26.36     1318.00      0.199509           27.9   \n",
       "1   658.00    32.900000      26.36      527.20      0.198784           27.9   \n",
       "2   369.70    28.438462      31.03      403.39     -0.091128           28.5   \n",
       "3   516.97    30.410000      31.03      527.51     -0.020388           28.5   \n",
       "4  1589.00    26.049180      31.03     1892.83     -0.191208           28.5   \n",
       "\n",
       "   Top_DM_SPP   Mechanism Abnormal  \n",
       "0        27.9  single TPR   normal  \n",
       "1        27.9  single TPR   normal  \n",
       "2        26.5  single TPR   normal  \n",
       "3        26.5  single TPR   normal  \n",
       "4        26.5  single TPR   normal  "
      ]
     },
     "execution_count": 39,
     "metadata": {},
     "output_type": "execute_result"
    }
   ],
   "source": [
    "db.head()"
   ]
  },
  {
   "cell_type": "code",
   "execution_count": 40,
   "metadata": {
    "collapsed": false
   },
   "outputs": [
    {
     "data": {
      "text/plain": [
       "海飞丝             6134\n",
       "潘婷（pantene）     6102\n",
       "飘柔（Rejoice）     4561\n",
       "沙宣（VS）          3054\n",
       "伊卡璐（CLAIROL）     898\n",
       "Name: BrandName, dtype: int64"
      ]
     },
     "execution_count": 40,
     "metadata": {},
     "output_type": "execute_result"
    }
   ],
   "source": [
    "db.BrandName.value_counts()"
   ]
  },
  {
   "cell_type": "code",
   "execution_count": 41,
   "metadata": {
    "collapsed": false
   },
   "outputs": [],
   "source": [
    "df = db[db.BrandName == u'沙宣（VS）']"
   ]
  },
  {
   "cell_type": "code",
   "execution_count": 42,
   "metadata": {
    "collapsed": false
   },
   "outputs": [
    {
     "data": {
      "text/html": [
       "<div>\n",
       "<table border=\"1\" class=\"dataframe\">\n",
       "  <thead>\n",
       "    <tr style=\"text-align: right;\">\n",
       "      <th></th>\n",
       "      <th>Date</th>\n",
       "      <th>ProductCode</th>\n",
       "      <th>GCAS_No</th>\n",
       "      <th>ProductName</th>\n",
       "      <th>BrandCode</th>\n",
       "      <th>BrandName</th>\n",
       "      <th>pv</th>\n",
       "      <th>uv</th>\n",
       "      <th>Order_Num</th>\n",
       "      <th>Valid_Num</th>\n",
       "      <th>Sales_Num</th>\n",
       "      <th>Offtake</th>\n",
       "      <th>Sales_Price</th>\n",
       "      <th>Unit_Cost</th>\n",
       "      <th>Total_Cost</th>\n",
       "      <th>Front_Margin</th>\n",
       "      <th>Normal_DM_SPP</th>\n",
       "      <th>Top_DM_SPP</th>\n",
       "      <th>Mechanism</th>\n",
       "      <th>Abnormal</th>\n",
       "    </tr>\n",
       "  </thead>\n",
       "  <tbody>\n",
       "    <tr>\n",
       "      <th>11</th>\n",
       "      <td>2017-01-01</td>\n",
       "      <td>206776</td>\n",
       "      <td>82231877</td>\n",
       "      <td>【京东超市】沙宣造型啫喱水弹性波浪卷150ml（发蜡 发胶 发泥 定型喷雾）</td>\n",
       "      <td>15247</td>\n",
       "      <td>沙宣（VS）</td>\n",
       "      <td>1091</td>\n",
       "      <td>641</td>\n",
       "      <td>52</td>\n",
       "      <td>52</td>\n",
       "      <td>65</td>\n",
       "      <td>1389.00</td>\n",
       "      <td>21.369231</td>\n",
       "      <td>19.62</td>\n",
       "      <td>1275.30</td>\n",
       "      <td>0.081857</td>\n",
       "      <td>19.6</td>\n",
       "      <td>19.6</td>\n",
       "      <td>single TPR</td>\n",
       "      <td>normal</td>\n",
       "    </tr>\n",
       "    <tr>\n",
       "      <th>12</th>\n",
       "      <td>2017-01-01</td>\n",
       "      <td>206793</td>\n",
       "      <td>82231900</td>\n",
       "      <td>【京东超市】沙宣发质重塑发膜修护水养150ML（护发素）</td>\n",
       "      <td>15247</td>\n",
       "      <td>沙宣（VS）</td>\n",
       "      <td>821</td>\n",
       "      <td>478</td>\n",
       "      <td>49</td>\n",
       "      <td>49</td>\n",
       "      <td>62</td>\n",
       "      <td>2445.80</td>\n",
       "      <td>39.448387</td>\n",
       "      <td>37.72</td>\n",
       "      <td>2338.64</td>\n",
       "      <td>0.043814</td>\n",
       "      <td>54.9</td>\n",
       "      <td>39.0</td>\n",
       "      <td>single TPR</td>\n",
       "      <td>normal</td>\n",
       "    </tr>\n",
       "    <tr>\n",
       "      <th>15</th>\n",
       "      <td>2017-01-01</td>\n",
       "      <td>206814</td>\n",
       "      <td>82231998</td>\n",
       "      <td>【京东超市】沙宣洗发水垂坠质感750ml（男女通用 洗头膏 洗发露 去屑）</td>\n",
       "      <td>15247</td>\n",
       "      <td>沙宣（VS）</td>\n",
       "      <td>3134</td>\n",
       "      <td>1863</td>\n",
       "      <td>126</td>\n",
       "      <td>126</td>\n",
       "      <td>138</td>\n",
       "      <td>9637.42</td>\n",
       "      <td>69.836377</td>\n",
       "      <td>79.07</td>\n",
       "      <td>10911.66</td>\n",
       "      <td>-0.132218</td>\n",
       "      <td>68.8</td>\n",
       "      <td>63.8</td>\n",
       "      <td>single TPR</td>\n",
       "      <td>normal</td>\n",
       "    </tr>\n",
       "    <tr>\n",
       "      <th>16</th>\n",
       "      <td>2017-01-01</td>\n",
       "      <td>206825</td>\n",
       "      <td>82232056</td>\n",
       "      <td>【京东超市】沙宣长效锁水发膜垂坠质感150ML（新老包装随机发货）</td>\n",
       "      <td>15247</td>\n",
       "      <td>沙宣（VS）</td>\n",
       "      <td>734</td>\n",
       "      <td>517</td>\n",
       "      <td>37</td>\n",
       "      <td>37</td>\n",
       "      <td>44</td>\n",
       "      <td>1786.60</td>\n",
       "      <td>40.604545</td>\n",
       "      <td>37.72</td>\n",
       "      <td>1659.68</td>\n",
       "      <td>0.071040</td>\n",
       "      <td>54.9</td>\n",
       "      <td>39.0</td>\n",
       "      <td>single TPR</td>\n",
       "      <td>normal</td>\n",
       "    </tr>\n",
       "    <tr>\n",
       "      <th>39</th>\n",
       "      <td>2017-01-01</td>\n",
       "      <td>1265432</td>\n",
       "      <td>82232007</td>\n",
       "      <td>【京东超市】沙宣男士洗发水水润平衡700ml（洗发露）</td>\n",
       "      <td>15247</td>\n",
       "      <td>沙宣（VS）</td>\n",
       "      <td>242</td>\n",
       "      <td>150</td>\n",
       "      <td>19</td>\n",
       "      <td>19</td>\n",
       "      <td>19</td>\n",
       "      <td>1319.00</td>\n",
       "      <td>69.421053</td>\n",
       "      <td>78.10</td>\n",
       "      <td>1483.90</td>\n",
       "      <td>-0.125019</td>\n",
       "      <td>68.8</td>\n",
       "      <td>63.8</td>\n",
       "      <td>single TPR</td>\n",
       "      <td>normal</td>\n",
       "    </tr>\n",
       "  </tbody>\n",
       "</table>\n",
       "</div>"
      ],
      "text/plain": [
       "         Date  ProductCode   GCAS_No                             ProductName  \\\n",
       "11 2017-01-01       206776  82231877  【京东超市】沙宣造型啫喱水弹性波浪卷150ml（发蜡 发胶 发泥 定型喷雾）   \n",
       "12 2017-01-01       206793  82231900            【京东超市】沙宣发质重塑发膜修护水养150ML（护发素）   \n",
       "15 2017-01-01       206814  82231998   【京东超市】沙宣洗发水垂坠质感750ml（男女通用 洗头膏 洗发露 去屑）   \n",
       "16 2017-01-01       206825  82232056       【京东超市】沙宣长效锁水发膜垂坠质感150ML（新老包装随机发货）   \n",
       "39 2017-01-01      1265432  82232007             【京东超市】沙宣男士洗发水水润平衡700ml（洗发露）   \n",
       "\n",
       "    BrandCode BrandName    pv    uv  Order_Num  Valid_Num  Sales_Num  Offtake  \\\n",
       "11      15247    沙宣（VS）  1091   641         52         52         65  1389.00   \n",
       "12      15247    沙宣（VS）   821   478         49         49         62  2445.80   \n",
       "15      15247    沙宣（VS）  3134  1863        126        126        138  9637.42   \n",
       "16      15247    沙宣（VS）   734   517         37         37         44  1786.60   \n",
       "39      15247    沙宣（VS）   242   150         19         19         19  1319.00   \n",
       "\n",
       "    Sales_Price  Unit_Cost  Total_Cost  Front_Margin  Normal_DM_SPP  \\\n",
       "11    21.369231      19.62     1275.30      0.081857           19.6   \n",
       "12    39.448387      37.72     2338.64      0.043814           54.9   \n",
       "15    69.836377      79.07    10911.66     -0.132218           68.8   \n",
       "16    40.604545      37.72     1659.68      0.071040           54.9   \n",
       "39    69.421053      78.10     1483.90     -0.125019           68.8   \n",
       "\n",
       "    Top_DM_SPP   Mechanism Abnormal  \n",
       "11        19.6  single TPR   normal  \n",
       "12        39.0  single TPR   normal  \n",
       "15        63.8  single TPR   normal  \n",
       "16        39.0  single TPR   normal  \n",
       "39        63.8  single TPR   normal  "
      ]
     },
     "execution_count": 42,
     "metadata": {},
     "output_type": "execute_result"
    }
   ],
   "source": [
    "df.head()"
   ]
  },
  {
   "cell_type": "code",
   "execution_count": 43,
   "metadata": {
    "collapsed": false
   },
   "outputs": [],
   "source": [
    "df = df[- df.Mechanism.str.contains(u\"领券\")]"
   ]
  },
  {
   "cell_type": "code",
   "execution_count": 44,
   "metadata": {
    "collapsed": false,
    "scrolled": false
   },
   "outputs": [
    {
     "data": {
      "text/plain": [
       "Index([u'Date', u'ProductCode', u'GCAS_No', u'ProductName', u'BrandCode',\n",
       "       u'BrandName', u'pv', u'uv', u'Order_Num', u'Valid_Num', u'Sales_Num',\n",
       "       u'Offtake', u'Sales_Price', u'Unit_Cost', u'Total_Cost',\n",
       "       u'Front_Margin', u'Normal_DM_SPP', u'Top_DM_SPP', u'Mechanism',\n",
       "       u'Abnormal'],\n",
       "      dtype='object')"
      ]
     },
     "execution_count": 44,
     "metadata": {},
     "output_type": "execute_result"
    }
   ],
   "source": [
    "df.columns"
   ]
  },
  {
   "cell_type": "code",
   "execution_count": 45,
   "metadata": {
    "collapsed": false
   },
   "outputs": [
    {
     "data": {
      "text/plain": [
       "Date             datetime64[ns]\n",
       "ProductCode               int64\n",
       "GCAS_No                  object\n",
       "ProductName              object\n",
       "BrandCode                 int64\n",
       "BrandName                object\n",
       "pv                        int64\n",
       "uv                        int64\n",
       "Order_Num                 int64\n",
       "Valid_Num                 int64\n",
       "Sales_Num                 int64\n",
       "Offtake                 float64\n",
       "Sales_Price             float64\n",
       "Unit_Cost               float64\n",
       "Total_Cost              float64\n",
       "Front_Margin            float64\n",
       "Normal_DM_SPP           float64\n",
       "Top_DM_SPP              float64\n",
       "Mechanism                object\n",
       "Abnormal                 object\n",
       "dtype: object"
      ]
     },
     "execution_count": 45,
     "metadata": {},
     "output_type": "execute_result"
    }
   ],
   "source": [
    "df.dtypes"
   ]
  },
  {
   "cell_type": "code",
   "execution_count": 46,
   "metadata": {
    "collapsed": false
   },
   "outputs": [],
   "source": [
    "df.Date = pd.to_datetime(df.Date)"
   ]
  },
  {
   "cell_type": "code",
   "execution_count": 47,
   "metadata": {
    "collapsed": true
   },
   "outputs": [],
   "source": [
    "def jointplt(ProductCode):\n",
    "    SKU = df[df['ProductCode'] == ProductCode][['Sales_Price',u'Sales_Num']]\n",
    "    SKU = SKU.groupby(by = 'Sales_Price',as_index=False).mean()\n",
    "    SKU = SKU[SKU.Sales_Num >= 10]\n",
    "    SKU.Sales_Num = np.log(SKU.Sales_Num)\n",
    "    SKU.Sales_Price = np.log(SKU[u'Sales_Price'])\n",
    "    sns.jointplot(x=\"Sales_Price\", y=\"Sales_Num\", kind = 'reg', color = 'r', data=SKU)\n",
    "    plt.ylim(0,10)\n",
    "    #plt.title(SKU_NAME,fontproperties=font)"
   ]
  },
  {
   "cell_type": "code",
   "execution_count": 48,
   "metadata": {
    "collapsed": false
   },
   "outputs": [],
   "source": [
    "def statsReg(ProductCode):\n",
    "    SKU = df[df.ProductCode == ProductCode]\n",
    "    x = np.log(SKU.Sales_Price)\n",
    "    y = np.log(SKU.Sales_Num)\n",
    "    slope, intercept, r_value, p_value, std_err = stats.linregress(x,y)\n",
    "    if p_value < 0.1:\n",
    "        return np.round(slope,decimals=1)\n",
    "    else:\n",
    "        return 'NONLINEAR'"
   ]
  },
  {
   "cell_type": "code",
   "execution_count": 49,
   "metadata": {
    "collapsed": true
   },
   "outputs": [],
   "source": [
    "PE_Hash = {}\n",
    "for code in df.ProductCode:\n",
    "    PE_Hash[code] = statsReg(code)"
   ]
  },
  {
   "cell_type": "code",
   "execution_count": 50,
   "metadata": {
    "collapsed": false
   },
   "outputs": [
    {
     "data": {
      "text/html": [
       "<div>\n",
       "<table border=\"1\" class=\"dataframe\">\n",
       "  <thead>\n",
       "    <tr style=\"text-align: right;\">\n",
       "      <th></th>\n",
       "      <th>PE</th>\n",
       "    </tr>\n",
       "  </thead>\n",
       "  <tbody>\n",
       "    <tr>\n",
       "      <th>2267267</th>\n",
       "      <td>NONLINEAR</td>\n",
       "    </tr>\n",
       "    <tr>\n",
       "      <th>2305550</th>\n",
       "      <td>-1.1</td>\n",
       "    </tr>\n",
       "    <tr>\n",
       "      <th>411151</th>\n",
       "      <td>-2.2</td>\n",
       "    </tr>\n",
       "    <tr>\n",
       "      <th>2652438</th>\n",
       "      <td>NONLINEAR</td>\n",
       "    </tr>\n",
       "    <tr>\n",
       "      <th>1265432</th>\n",
       "      <td>-2.2</td>\n",
       "    </tr>\n",
       "  </tbody>\n",
       "</table>\n",
       "</div>"
      ],
      "text/plain": [
       "                PE\n",
       "2267267  NONLINEAR\n",
       "2305550       -1.1\n",
       "411151        -2.2\n",
       "2652438  NONLINEAR\n",
       "1265432       -2.2"
      ]
     },
     "execution_count": 50,
     "metadata": {},
     "output_type": "execute_result"
    }
   ],
   "source": [
    "PE_DF =  pd.DataFrame.from_dict(PE_Hash, orient='index', dtype=None)\n",
    "PE_DF.columns = ['PE']\n",
    "PE_DF.head()"
   ]
  },
  {
   "cell_type": "code",
   "execution_count": 51,
   "metadata": {
    "collapsed": true
   },
   "outputs": [],
   "source": [
    "PE_DF.to_csv(r'C:\\Users\\ren.x.1\\Desktop\\VS_Pricing\\pePSKU.csv',encoding = 'utf-8')"
   ]
  },
  {
   "cell_type": "code",
   "execution_count": 52,
   "metadata": {
    "collapsed": false
   },
   "outputs": [],
   "source": [
    "def statsRegPerMech(ProductCode):\n",
    "    SKU = df[df.ProductCode == ProductCode]\n",
    "    PEs = []\n",
    "    for mech in df.Mechanism.unique():\n",
    "        SKU_PerMech = SKU[SKU.Mechanism == mech]\n",
    "        if SKU_PerMech.empty:\n",
    "            PEs.append('NODATA')\n",
    "        else:\n",
    "            x = np.log(SKU_PerMech.Sales_Price)\n",
    "            y = np.log(SKU_PerMech.Sales_Num)\n",
    "            slope, intercept, r_value, p_value, std_err = stats.linregress(x,y)\n",
    "            if p_value <= 0.1:\n",
    "                PEs.append(np.round(slope,decimals=1))\n",
    "            else:\n",
    "                PEs.append('NONLINEAR')\n",
    "    return PEs"
   ]
  },
  {
   "cell_type": "code",
   "execution_count": 53,
   "metadata": {
    "collapsed": true
   },
   "outputs": [],
   "source": [
    "PE_Hash = {}\n",
    "for code in df.ProductCode:\n",
    "    PE_Hash[code] = statsRegPerMech(code)"
   ]
  },
  {
   "cell_type": "code",
   "execution_count": 54,
   "metadata": {
    "collapsed": false
   },
   "outputs": [
    {
     "data": {
      "text/html": [
       "<div>\n",
       "<table border=\"1\" class=\"dataframe\">\n",
       "  <thead>\n",
       "    <tr style=\"text-align: right;\">\n",
       "      <th></th>\n",
       "      <th>single TPR</th>\n",
       "      <th>PP</th>\n",
       "      <th>3件7折 4件6折</th>\n",
       "      <th>满199减100</th>\n",
       "      <th>满159减60</th>\n",
       "      <th>满199减80</th>\n",
       "    </tr>\n",
       "  </thead>\n",
       "  <tbody>\n",
       "    <tr>\n",
       "      <th>2267267</th>\n",
       "      <td>NONLINEAR</td>\n",
       "      <td>NODATA</td>\n",
       "      <td>NONLINEAR</td>\n",
       "      <td>NONLINEAR</td>\n",
       "      <td>NONLINEAR</td>\n",
       "      <td>NODATA</td>\n",
       "    </tr>\n",
       "    <tr>\n",
       "      <th>2305550</th>\n",
       "      <td>NODATA</td>\n",
       "      <td>-1.1</td>\n",
       "      <td>NODATA</td>\n",
       "      <td>NODATA</td>\n",
       "      <td>NODATA</td>\n",
       "      <td>NODATA</td>\n",
       "    </tr>\n",
       "    <tr>\n",
       "      <th>411151</th>\n",
       "      <td>-2.3</td>\n",
       "      <td>NODATA</td>\n",
       "      <td>NONLINEAR</td>\n",
       "      <td>-1.4</td>\n",
       "      <td>NONLINEAR</td>\n",
       "      <td>-4.9</td>\n",
       "    </tr>\n",
       "    <tr>\n",
       "      <th>2652438</th>\n",
       "      <td>NONLINEAR</td>\n",
       "      <td>NODATA</td>\n",
       "      <td>NODATA</td>\n",
       "      <td>NODATA</td>\n",
       "      <td>NODATA</td>\n",
       "      <td>NODATA</td>\n",
       "    </tr>\n",
       "    <tr>\n",
       "      <th>1265432</th>\n",
       "      <td>NONLINEAR</td>\n",
       "      <td>NODATA</td>\n",
       "      <td>NONLINEAR</td>\n",
       "      <td>-2.8</td>\n",
       "      <td>NONLINEAR</td>\n",
       "      <td>NONLINEAR</td>\n",
       "    </tr>\n",
       "  </tbody>\n",
       "</table>\n",
       "</div>"
      ],
      "text/plain": [
       "        single TPR      PP  3件7折 4件6折   满199减100    满159减60    满199减80\n",
       "2267267  NONLINEAR  NODATA  NONLINEAR  NONLINEAR  NONLINEAR     NODATA\n",
       "2305550     NODATA    -1.1     NODATA     NODATA     NODATA     NODATA\n",
       "411151        -2.3  NODATA  NONLINEAR       -1.4  NONLINEAR       -4.9\n",
       "2652438  NONLINEAR  NODATA     NODATA     NODATA     NODATA     NODATA\n",
       "1265432  NONLINEAR  NODATA  NONLINEAR       -2.8  NONLINEAR  NONLINEAR"
      ]
     },
     "execution_count": 54,
     "metadata": {},
     "output_type": "execute_result"
    }
   ],
   "source": [
    "PE_DF =  pd.DataFrame.from_dict(PE_Hash, orient='index', dtype=None)\n",
    "PE_DF.columns = df.Mechanism.unique()\n",
    "PE_DF.head()"
   ]
  },
  {
   "cell_type": "code",
   "execution_count": 55,
   "metadata": {
    "collapsed": false
   },
   "outputs": [],
   "source": [
    "PE_DF.to_csv(r'C:\\Users\\ren.x.1\\Desktop\\VS_Pricing\\pePSKUPM.csv',encoding = 'utf-8')"
   ]
  },
  {
   "cell_type": "code",
   "execution_count": null,
   "metadata": {
    "collapsed": true
   },
   "outputs": [],
   "source": []
  }
 ],
 "metadata": {
  "anaconda-cloud": {},
  "kernelspec": {
   "display_name": "Python [Root]",
   "language": "python",
   "name": "Python [Root]"
  },
  "language_info": {
   "codemirror_mode": {
    "name": "ipython",
    "version": 2
   },
   "file_extension": ".py",
   "mimetype": "text/x-python",
   "name": "python",
   "nbconvert_exporter": "python",
   "pygments_lexer": "ipython2",
   "version": "2.7.12"
  }
 },
 "nbformat": 4,
 "nbformat_minor": 0
}
