{
 "cells": [
  {
   "cell_type": "code",
   "execution_count": 1,
   "metadata": {
    "collapsed": false
   },
   "outputs": [
    {
     "name": "stderr",
     "output_type": "stream",
     "text": [
      "/Users/xinyuyangren/anaconda/lib/python2.7/site-packages/matplotlib/font_manager.py:273: UserWarning: Matplotlib is building the font cache using fc-list. This may take a moment.\n",
      "  warnings.warn('Matplotlib is building the font cache using fc-list. This may take a moment.')\n"
     ]
    }
   ],
   "source": [
    "import nltk\n",
    "%matplotlib inline"
   ]
  },
  {
   "cell_type": "markdown",
   "metadata": {},
   "source": [
    "### Language Processing and Python"
   ]
  },
  {
   "cell_type": "code",
   "execution_count": 2,
   "metadata": {
    "collapsed": false
   },
   "outputs": [],
   "source": [
    "# nltk.download()"
   ]
  },
  {
   "cell_type": "code",
   "execution_count": 3,
   "metadata": {
    "collapsed": false
   },
   "outputs": [
    {
     "name": "stdout",
     "output_type": "stream",
     "text": [
      "*** Introductory Examples for the NLTK Book ***\n",
      "Loading text1, ..., text9 and sent1, ..., sent9\n",
      "Type the name of the text or sentence to view it.\n",
      "Type: 'texts()' or 'sents()' to list the materials.\n",
      "text1: Moby Dick by Herman Melville 1851\n",
      "text2: Sense and Sensibility by Jane Austen 1811\n",
      "text3: The Book of Genesis\n",
      "text4: Inaugural Address Corpus\n",
      "text5: Chat Corpus\n",
      "text6: Monty Python and the Holy Grail\n",
      "text7: Wall Street Journal\n",
      "text8: Personals Corpus\n",
      "text9: The Man Who Was Thursday by G . K . Chesterton 1908\n"
     ]
    }
   ],
   "source": [
    "from nltk.book import *"
   ]
  },
  {
   "cell_type": "code",
   "execution_count": 4,
   "metadata": {
    "collapsed": false
   },
   "outputs": [
    {
     "name": "stdout",
     "output_type": "stream",
     "text": [
      "Displaying 25 of 656 matches:\n",
      "TION gives U121 a golf clap . :) JOIN hi U59 26 / m / ky women that are nice p\n",
      "s lap . JOIN JOIN any guyz wanna chat hi there boo , it 's a female . hey U126\n",
      "f a female , I can look in a mirror . hi U64 wb U139 u should U44 :) PART PART\n",
      "single dad here JOIN ty U68 PART JOIN Hi U139 PART JOIN hi U138 HAHAHA yw U139\n",
      "IN ty U68 PART JOIN Hi U139 PART JOIN hi U138 HAHAHA yw U139 you should make i\n",
      " make it ' iamahotnip ' , U44 alright hi U139 . you 're fucking hot . i though\n",
      "'re fucking hot . i thought of that ! hi U126 , its so late lmao ahah \" iamaho\n",
      "e lmao ahah \" iamahotniplickme \" PART Hi U121 in ny . ACTION would lol @ U121 \n",
      "white male 26 ca n't sleep huh ? JOIN hi U139 bye U20 well U68 what did u buy \n",
      "!!!!!!!!!!!!!!!! answers for U139 ... hi U101 ;) I like it when you do it , U8\n",
      " sure u buy a nice ring for U6 lol U7 Hi U115 . ACTION isnt falling for that o\n",
      "uestioned . U121 who honey ?? Depends Hi all 31 / m / CA U115 is having my bab\n",
      " put him in ?? you wish honey .. cmon hi U128 nice JOIN not the special list c\n",
      "cks for everyone else but me .... lol Hi U4 do n't take your own advice ? lol \n",
      " finish meeting with all my clients ) hi room hey U18 .. welcome hi U9 mango i\n",
      " clients ) hi room hey U18 .. welcome hi U9 mango is my fav JOIN thank you PAR\n",
      "hank you PART shaken or stirred U18 ? hi U19 hey U18 good ques U17 always shak\n",
      "ntly from texas who said yeppers alot hi JOIN yea my 18 year old plays in my b\n",
      "N yea my 18 year old plays in my band hi all hi U21 JOIN hey u550436035 NICK :\n",
      "y 18 year old plays in my band hi all hi U21 JOIN hey u550436035 NICK : U10 i \n",
      "21 JOIN hey u550436035 NICK : U10 i c hi all hey U23 hun hi U9 hi U23 yea its \n",
      "035 NICK : U10 i c hi all hey U23 hun hi U9 hi U23 yea its pretty cool nice to\n",
      "CK : U10 i c hi all hey U23 hun hi U9 hi U23 yea its pretty cool nice to see y\n",
      "ey everyone so how do you unwind U9 ? hi i 'm doin' it now U17 the hair would \n",
      " really ! with one hand what U11 JOIN hi U24 gentlemen ... let \"s be nce ... t\n"
     ]
    }
   ],
   "source": [
    "text5.concordance('hi')"
   ]
  },
  {
   "cell_type": "code",
   "execution_count": 5,
   "metadata": {
    "collapsed": false
   },
   "outputs": [
    {
     "name": "stdout",
     "output_type": "stream",
     "text": [
      "join part lol hey wb all hiya lmao i hello and no ty there everyone\n",
      "yes what room howdy to\n"
     ]
    }
   ],
   "source": [
    "text5.similar('hi')"
   ]
  },
  {
   "cell_type": "code",
   "execution_count": 6,
   "metadata": {
    "collapsed": false
   },
   "outputs": [
    {
     "name": "stdout",
     "output_type": "stream",
     "text": [
      "lol_join part_hi lol_wb hi_no me_part is_hi hi_lol wb_part hi_all\n",
      "lol_thanks part_it today_hi hey_hiya hi_part lol_there coffee_hi\n",
      "join_hi lol_part lol_love part_how\n"
     ]
    }
   ],
   "source": [
    "text5.common_contexts(['hi','lol'])"
   ]
  },
  {
   "cell_type": "code",
   "execution_count": 7,
   "metadata": {
    "collapsed": false
   },
   "outputs": [
    {
     "data": {
      "image/png": "[encoded data removed]",
      "text/plain": [
       "<matplotlib.figure.Figure at 0x10fe5c150>"
      ]
     },
     "metadata": {},
     "output_type": "display_data"
    }
   ],
   "source": [
    "text4.dispersion_plot([\"citizens\", \"democracy\", \"freedom\", \"duties\", \"America\"])"
   ]
  },
  {
   "cell_type": "code",
   "execution_count": 8,
   "metadata": {
    "collapsed": false
   },
   "outputs": [
    {
     "data": {
      "text/plain": [
       "9754"
      ]
     },
     "execution_count": 8,
     "metadata": {},
     "output_type": "execute_result"
    }
   ],
   "source": [
    "len(sorted(set(text4)))"
   ]
  },
  {
   "cell_type": "code",
   "execution_count": 9,
   "metadata": {
    "collapsed": false
   },
   "outputs": [
    {
     "data": {
      "text/plain": [
       "145735"
      ]
     },
     "execution_count": 9,
     "metadata": {},
     "output_type": "execute_result"
    }
   ],
   "source": [
    "len(text4)"
   ]
  },
  {
   "cell_type": "code",
   "execution_count": 10,
   "metadata": {
    "collapsed": true
   },
   "outputs": [],
   "source": [
    "fdist1 = FreqDist(text1)"
   ]
  },
  {
   "cell_type": "markdown",
   "metadata": {},
   "source": [
    "### Accessing Text Corpora and Lexical Resources"
   ]
  },
  {
   "cell_type": "markdown",
   "metadata": {},
   "source": [
    "**Books**"
   ]
  },
  {
   "cell_type": "code",
   "execution_count": 11,
   "metadata": {
    "collapsed": false
   },
   "outputs": [
    {
     "data": {
      "text/plain": [
       "[u'austen-emma.txt',\n",
       " u'austen-persuasion.txt',\n",
       " u'austen-sense.txt',\n",
       " u'bible-kjv.txt',\n",
       " u'blake-poems.txt',\n",
       " u'bryant-stories.txt',\n",
       " u'burgess-busterbrown.txt',\n",
       " u'carroll-alice.txt',\n",
       " u'chesterton-ball.txt',\n",
       " u'chesterton-brown.txt',\n",
       " u'chesterton-thursday.txt',\n",
       " u'edgeworth-parents.txt',\n",
       " u'melville-moby_dick.txt',\n",
       " u'milton-paradise.txt',\n",
       " u'shakespeare-caesar.txt',\n",
       " u'shakespeare-hamlet.txt',\n",
       " u'shakespeare-macbeth.txt',\n",
       " u'whitman-leaves.txt']"
      ]
     },
     "execution_count": 11,
     "metadata": {},
     "output_type": "execute_result"
    }
   ],
   "source": [
    "nltk.corpus.gutenberg.fileids()"
   ]
  },
  {
   "cell_type": "code",
   "execution_count": 12,
   "metadata": {
    "collapsed": true
   },
   "outputs": [],
   "source": [
    "emma = nltk.corpus.gutenberg.words('austen-emma.txt')"
   ]
  },
  {
   "cell_type": "code",
   "execution_count": 13,
   "metadata": {
    "collapsed": false
   },
   "outputs": [
    {
     "data": {
      "text/plain": [
       "192427"
      ]
     },
     "execution_count": 13,
     "metadata": {},
     "output_type": "execute_result"
    }
   ],
   "source": [
    "len(emma)"
   ]
  },
  {
   "cell_type": "code",
   "execution_count": 14,
   "metadata": {
    "collapsed": false
   },
   "outputs": [
    {
     "data": {
      "text/plain": [
       "nltk.corpus.reader.util.StreamBackedCorpusView"
      ]
     },
     "execution_count": 14,
     "metadata": {},
     "output_type": "execute_result"
    }
   ],
   "source": [
    "type(emma)"
   ]
  },
  {
   "cell_type": "code",
   "execution_count": 15,
   "metadata": {
    "collapsed": false,
    "scrolled": false
   },
   "outputs": [
    {
     "name": "stdout",
     "output_type": "stream",
     "text": [
      "4 24 26 austen-emma.txt\n",
      "4 26 16 austen-persuasion.txt\n",
      "4 28 22 austen-sense.txt\n",
      "4 33 79 bible-kjv.txt\n",
      "4 19 5 blake-poems.txt\n",
      "4 19 14 bryant-stories.txt\n",
      "4 17 12 burgess-busterbrown.txt\n",
      "4 20 12 carroll-alice.txt\n",
      "4 20 11 chesterton-ball.txt\n",
      "4 22 11 chesterton-brown.txt\n",
      "4 18 10 chesterton-thursday.txt\n",
      "4 20 24 edgeworth-parents.txt\n",
      "4 25 15 melville-moby_dick.txt\n",
      "4 52 10 milton-paradise.txt\n",
      "4 11 8 shakespeare-caesar.txt\n",
      "4 12 7 shakespeare-hamlet.txt\n",
      "4 12 6 shakespeare-macbeth.txt\n",
      "4 36 12 whitman-leaves.txt\n"
     ]
    }
   ],
   "source": [
    "# Access corpus in different level \n",
    "for fileid in gutenberg.fileids():\n",
    "    num_chars = len(gutenberg.raw(fileid)) # raw text length\n",
    "    num_words = len(gutenberg.words(fileid))# no. of words\n",
    "    num_sents = len(gutenberg.sents(fileid))# no. of sentences\n",
    "    num_vocab = len(set([w.lower() for w in gutenberg.words(fileid)]))# no of volcabulary\n",
    "    print int(num_chars/num_words), int(num_words/num_sents), int(num_words/num_vocab), fileid"
   ]
  },
  {
   "cell_type": "markdown",
   "metadata": {},
   "source": [
    "**Web**"
   ]
  },
  {
   "cell_type": "code",
   "execution_count": 16,
   "metadata": {
    "collapsed": false
   },
   "outputs": [
    {
     "name": "stdout",
     "output_type": "stream",
     "text": [
      "firefox.txt Cookie Manager: \"Don't allow sites that set removed cookies to se ...\n",
      "grail.txt SCENE 1: [wind] [clop clop clop] \n",
      "KING ARTHUR: Whoa there!  [clop ...\n",
      "overheard.txt White guy: So, do you have any plans for this evening?\n",
      "Asian girl ...\n",
      "pirates.txt PIRATES OF THE CARRIBEAN: DEAD MAN'S CHEST, by Ted Elliott & Terr ...\n",
      "singles.txt 25 SEXY MALE, seeks attrac older single lady, for discreet encoun ...\n",
      "wine.txt Lovely delicate, fragrant Rhone wine. Polished leather and strawb ...\n"
     ]
    }
   ],
   "source": [
    "from nltk.corpus import webtext\n",
    "for fileid in webtext.fileids():\n",
    "    print fileid, webtext.raw(fileid)[:65], '...'"
   ]
  },
  {
   "cell_type": "markdown",
   "metadata": {},
   "source": [
    "**Chat**"
   ]
  },
  {
   "cell_type": "code",
   "execution_count": 17,
   "metadata": {
    "collapsed": false
   },
   "outputs": [
    {
     "name": "stdout",
     "output_type": "stream",
     "text": [
      "10-19-20s_706posts.xml <!-- edited with XMLSpy v2007 sp1 (http://www.altova.com) by Eric ...\n",
      "10-19-30s_705posts.xml <?xml version=\"1.0\" encoding=\"UTF-8\"?>\r\n",
      "<!-- edited with XMLSpy v ...\n",
      "10-19-40s_686posts.xml <?xml version=\"1.0\" encoding=\"UTF-8\"?>\r\n",
      "<!-- edited with XMLSpy v ...\n",
      "10-19-adults_706posts.xml <!-- edited with XMLSpy v2007 sp1 (http://www.altova.com) by Eric ...\n",
      "10-24-40s_706posts.xml <!-- edited with XMLSpy v2007 sp1 (http://www.altova.com) by Eric ...\n",
      "10-26-teens_706posts.xml <!-- edited with XMLSpy v2007 sp1 (http://www.altova.com) by Eric ...\n",
      "11-06-adults_706posts.xml <!-- edited with XMLSpy v2007 sp1 (http://www.altova.com) by Eric ...\n",
      "11-08-20s_705posts.xml <?xml version=\"1.0\" encoding=\"UTF-8\"?>\r\n",
      "<!-- edited with XMLSpy v ...\n",
      "11-08-40s_706posts.xml <!-- edited with XMLSpy v2007 sp1 (http://www.altova.com) by Eric ...\n",
      "11-08-adults_705posts.xml <?xml version=\"1.0\" encoding=\"UTF-8\"?>\r\n",
      "<!-- edited with XMLSpy v ...\n",
      "11-08-teens_706posts.xml <?xml version=\"1.0\" encoding=\"UTF-8\"?>\r\n",
      "<!-- edited with XMLSpy v ...\n",
      "11-09-20s_706posts.xml <!-- edited with XMLSpy v2007 sp1 (http://www.altova.com) by Eric ...\n",
      "11-09-40s_706posts.xml <!-- edited with XMLSpy v2007 sp1 (http://www.altova.com) by Eric ...\n",
      "11-09-adults_706posts.xml <!-- edited with XMLSpy v2007 sp1 (http://www.altova.com) by Eric ...\n",
      "11-09-teens_706posts.xml <!-- edited with XMLSpy v2007 sp1 (http://www.altova.com) by Eric ...\n"
     ]
    }
   ],
   "source": [
    "from nltk.corpus import nps_chat\n",
    "for fileid in nps_chat.fileids():\n",
    "    print fileid, nps_chat.raw(fileid)[:65], '...'"
   ]
  },
  {
   "cell_type": "markdown",
   "metadata": {},
   "source": [
    "**Brown Corpus**"
   ]
  },
  {
   "cell_type": "markdown",
   "metadata": {},
   "source": [
    "The Brown Corpus was the first million-word electronic corpus of English, created in 1961 at Brown University. This corpus contains text from 500 sources, and the sources have been categorized by genre, such as news, editorial, and so on."
   ]
  },
  {
   "cell_type": "code",
   "execution_count": 18,
   "metadata": {
    "collapsed": true
   },
   "outputs": [],
   "source": [
    "from nltk.corpus import brown"
   ]
  },
  {
   "cell_type": "code",
   "execution_count": 19,
   "metadata": {
    "collapsed": false
   },
   "outputs": [
    {
     "data": {
      "text/plain": [
       "[u'adventure',\n",
       " u'belles_lettres',\n",
       " u'editorial',\n",
       " u'fiction',\n",
       " u'government',\n",
       " u'hobbies',\n",
       " u'humor',\n",
       " u'learned',\n",
       " u'lore',\n",
       " u'mystery',\n",
       " u'news',\n",
       " u'religion',\n",
       " u'reviews',\n",
       " u'romance',\n",
       " u'science_fiction']"
      ]
     },
     "execution_count": 19,
     "metadata": {},
     "output_type": "execute_result"
    }
   ],
   "source": [
    "brown.categories()"
   ]
  },
  {
   "cell_type": "code",
   "execution_count": 20,
   "metadata": {
    "collapsed": false
   },
   "outputs": [
    {
     "data": {
      "text/plain": [
       "[u'The', u'Fulton', u'County', u'Grand', u'Jury', ...]"
      ]
     },
     "execution_count": 20,
     "metadata": {},
     "output_type": "execute_result"
    }
   ],
   "source": [
    "brown.words(categories='news')"
   ]
  },
  {
   "cell_type": "markdown",
   "metadata": {},
   "source": [
    "**Conditional Frequency Distributions**"
   ]
  },
  {
   "cell_type": "markdown",
   "metadata": {},
   "source": [
    "A conditional frequency distribution is a collection of frequency distributions, each one for a different \"condition\". "
   ]
  },
  {
   "cell_type": "markdown",
   "metadata": {},
   "source": [
    "Whereas FreqDist() takes a simple list as input, ConditionalFreqDist() takes a list of pairs (condition, event)"
   ]
  },
  {
   "cell_type": "code",
   "execution_count": 21,
   "metadata": {
    "collapsed": false
   },
   "outputs": [
    {
     "name": "stdout",
     "output_type": "stream",
     "text": [
      "                 can could  may might must will \n",
      "           news   93   86   66   38   50  389 \n",
      "       religion   82   59   78   12   54   71 \n",
      "        hobbies  268   58  131   22   83  264 \n",
      "science_fiction   16   49    4   12    8   16 \n",
      "        romance   74  193   11   51   45   43 \n",
      "          humor   16   30    8    8    9   13 \n"
     ]
    }
   ],
   "source": [
    "cfd = nltk.ConditionalFreqDist(\n",
    "           (genre, word)\n",
    "           for genre in brown.categories()\n",
    "           for word in brown.words(categories=genre))\n",
    "genres = ['news', 'religion', 'hobbies', 'science_fiction', 'romance', 'humor']\n",
    "modals = ['can', 'could', 'may', 'might', 'must', 'will']\n",
    "cfd.tabulate(conditions=genres, samples=modals)"
   ]
  },
  {
   "cell_type": "code",
   "execution_count": 22,
   "metadata": {
    "collapsed": true
   },
   "outputs": [],
   "source": [
    "from nltk.corpus import inaugural"
   ]
  },
  {
   "cell_type": "code",
   "execution_count": 23,
   "metadata": {
    "collapsed": false
   },
   "outputs": [
    {
     "data": {
      "text/plain": [
       "[u'1789-Washington.txt',\n",
       " u'1793-Washington.txt',\n",
       " u'1797-Adams.txt',\n",
       " u'1801-Jefferson.txt',\n",
       " u'1805-Jefferson.txt',\n",
       " u'1809-Madison.txt',\n",
       " u'1813-Madison.txt',\n",
       " u'1817-Monroe.txt',\n",
       " u'1821-Monroe.txt',\n",
       " u'1825-Adams.txt',\n",
       " u'1829-Jackson.txt',\n",
       " u'1833-Jackson.txt',\n",
       " u'1837-VanBuren.txt',\n",
       " u'1841-Harrison.txt',\n",
       " u'1845-Polk.txt',\n",
       " u'1849-Taylor.txt',\n",
       " u'1853-Pierce.txt',\n",
       " u'1857-Buchanan.txt',\n",
       " u'1861-Lincoln.txt',\n",
       " u'1865-Lincoln.txt',\n",
       " u'1869-Grant.txt',\n",
       " u'1873-Grant.txt',\n",
       " u'1877-Hayes.txt',\n",
       " u'1881-Garfield.txt',\n",
       " u'1885-Cleveland.txt',\n",
       " u'1889-Harrison.txt',\n",
       " u'1893-Cleveland.txt',\n",
       " u'1897-McKinley.txt',\n",
       " u'1901-McKinley.txt',\n",
       " u'1905-Roosevelt.txt',\n",
       " u'1909-Taft.txt',\n",
       " u'1913-Wilson.txt',\n",
       " u'1917-Wilson.txt',\n",
       " u'1921-Harding.txt',\n",
       " u'1925-Coolidge.txt',\n",
       " u'1929-Hoover.txt',\n",
       " u'1933-Roosevelt.txt',\n",
       " u'1937-Roosevelt.txt',\n",
       " u'1941-Roosevelt.txt',\n",
       " u'1945-Roosevelt.txt',\n",
       " u'1949-Truman.txt',\n",
       " u'1953-Eisenhower.txt',\n",
       " u'1957-Eisenhower.txt',\n",
       " u'1961-Kennedy.txt',\n",
       " u'1965-Johnson.txt',\n",
       " u'1969-Nixon.txt',\n",
       " u'1973-Nixon.txt',\n",
       " u'1977-Carter.txt',\n",
       " u'1981-Reagan.txt',\n",
       " u'1985-Reagan.txt',\n",
       " u'1989-Bush.txt',\n",
       " u'1993-Clinton.txt',\n",
       " u'1997-Clinton.txt',\n",
       " u'2001-Bush.txt',\n",
       " u'2005-Bush.txt',\n",
       " u'2009-Obama.txt']"
      ]
     },
     "execution_count": 23,
     "metadata": {},
     "output_type": "execute_result"
    }
   ],
   "source": [
    "inaugural.fileids()"
   ]
  },
  {
   "cell_type": "code",
   "execution_count": 24,
   "metadata": {
    "collapsed": false
   },
   "outputs": [
    {
     "data": {
      "text/plain": [
       "[u'1789',\n",
       " u'1793',\n",
       " u'1797',\n",
       " u'1801',\n",
       " u'1805',\n",
       " u'1809',\n",
       " u'1813',\n",
       " u'1817',\n",
       " u'1821',\n",
       " u'1825',\n",
       " u'1829',\n",
       " u'1833',\n",
       " u'1837',\n",
       " u'1841',\n",
       " u'1845',\n",
       " u'1849',\n",
       " u'1853',\n",
       " u'1857',\n",
       " u'1861',\n",
       " u'1865',\n",
       " u'1869',\n",
       " u'1873',\n",
       " u'1877',\n",
       " u'1881',\n",
       " u'1885',\n",
       " u'1889',\n",
       " u'1893',\n",
       " u'1897',\n",
       " u'1901',\n",
       " u'1905',\n",
       " u'1909',\n",
       " u'1913',\n",
       " u'1917',\n",
       " u'1921',\n",
       " u'1925',\n",
       " u'1929',\n",
       " u'1933',\n",
       " u'1937',\n",
       " u'1941',\n",
       " u'1945',\n",
       " u'1949',\n",
       " u'1953',\n",
       " u'1957',\n",
       " u'1961',\n",
       " u'1965',\n",
       " u'1969',\n",
       " u'1973',\n",
       " u'1977',\n",
       " u'1981',\n",
       " u'1985',\n",
       " u'1989',\n",
       " u'1993',\n",
       " u'1997',\n",
       " u'2001',\n",
       " u'2005',\n",
       " u'2009']"
      ]
     },
     "execution_count": 24,
     "metadata": {},
     "output_type": "execute_result"
    }
   ],
   "source": [
    "[fileid[:4] for fileid in inaugural.fileids()]"
   ]
  },
  {
   "cell_type": "code",
   "execution_count": 25,
   "metadata": {
    "collapsed": false
   },
   "outputs": [
    {
     "data": {
      "image/png": "[encoded data removed]",
      "text/plain": [
       "<matplotlib.figure.Figure at 0x115845b10>"
      ]
     },
     "metadata": {},
     "output_type": "display_data"
    }
   ],
   "source": [
    "cfd = nltk.ConditionalFreqDist(\n",
    "    (target, fileid[:4])\n",
    "    for fileid in inaugural.fileids()\n",
    "    for w in inaugural.words(fileid)\n",
    "    for target in ['fight', 'freedom']\n",
    "    if w.lower().startswith(target)) \n",
    "cfd.plot()"
   ]
  },
  {
   "cell_type": "markdown",
   "metadata": {},
   "source": [
    "**Bigrams**"
   ]
  },
  {
   "cell_type": "markdown",
   "metadata": {},
   "source": [
    "The bigrams() function takes a list of words and builds a list of consecutive word pairs. See how it generate paragraphs based on the conditional probability."
   ]
  },
  {
   "cell_type": "code",
   "execution_count": 37,
   "metadata": {
    "collapsed": true
   },
   "outputs": [],
   "source": [
    "text = inaugural.words()"
   ]
  },
  {
   "cell_type": "code",
   "execution_count": 27,
   "metadata": {
    "collapsed": true
   },
   "outputs": [],
   "source": [
    "bigrams = nltk.bigrams(text)"
   ]
  },
  {
   "cell_type": "code",
   "execution_count": 28,
   "metadata": {
    "collapsed": false
   },
   "outputs": [],
   "source": [
    "cfd = nltk.ConditionalFreqDist(bigrams)"
   ]
  },
  {
   "cell_type": "code",
   "execution_count": 30,
   "metadata": {
    "collapsed": true
   },
   "outputs": [],
   "source": [
    "def generate_model(cfdist, word, num=15):\n",
    "    for i in range(num):\n",
    "        print word,\n",
    "        word = cfdist[word].max()"
   ]
  },
  {
   "cell_type": "code",
   "execution_count": 36,
   "metadata": {
    "collapsed": false
   },
   "outputs": [
    {
     "name": "stdout",
     "output_type": "stream",
     "text": [
      "god but the people , and the people , and the people , and the\n"
     ]
    }
   ],
   "source": [
    "generate_model(cfd, 'god')"
   ]
  },
  {
   "cell_type": "code",
   "execution_count": 32,
   "metadata": {
    "collapsed": false
   },
   "outputs": [
    {
     "data": {
      "text/plain": [
       "FreqDist({u',': 2,\n",
       "          u'.': 2,\n",
       "          u'God': 1,\n",
       "          u'and': 2,\n",
       "          u'can': 1,\n",
       "          u'costs': 1,\n",
       "          u'heart': 1,\n",
       "          u'in': 1,\n",
       "          u'of': 1,\n",
       "          u'remuneration': 1,\n",
       "          u'sign': 1,\n",
       "          u'that': 1,\n",
       "          u'to': 1,\n",
       "          u'with': 1,\n",
       "          u'within': 1,\n",
       "          u'years': 1})"
      ]
     },
     "execution_count": 32,
     "metadata": {},
     "output_type": "execute_result"
    }
   ],
   "source": [
    "cfd['living']"
   ]
  },
  {
   "cell_type": "markdown",
   "metadata": {},
   "source": [
    "**Lexical Resources**"
   ]
  },
  {
   "cell_type": "code",
   "execution_count": null,
   "metadata": {
    "collapsed": true
   },
   "outputs": [],
   "source": []
  }
 ],
 "metadata": {
  "kernelspec": {
   "display_name": "Python 2",
   "language": "python",
   "name": "python2"
  },
  "language_info": {
   "codemirror_mode": {
    "name": "ipython",
    "version": 2
   },
   "file_extension": ".py",
   "mimetype": "text/x-python",
   "name": "python",
   "nbconvert_exporter": "python",
   "pygments_lexer": "ipython2",
   "version": "2.7.12"
  }
 },
 "nbformat": 4,
 "nbformat_minor": 0
}
