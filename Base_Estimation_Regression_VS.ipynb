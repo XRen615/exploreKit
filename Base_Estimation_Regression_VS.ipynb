{
 "cells": [
  {
   "cell_type": "code",
   "execution_count": 1,
   "metadata": {
    "collapsed": true
   },
   "outputs": [],
   "source": [
    "import numpy as np\n",
    "import pandas as pd\n",
    "import matplotlib.pyplot as plt\n",
    "%matplotlib inline\n",
    "import seaborn as sns"
   ]
  },
  {
   "cell_type": "code",
   "execution_count": 2,
   "metadata": {
    "collapsed": false
   },
   "outputs": [
    {
     "data": {
      "text/plain": [
       "(386, 5)"
      ]
     },
     "execution_count": 2,
     "metadata": {},
     "output_type": "execute_result"
    }
   ],
   "source": [
    "df2 = pd.read_excel('C:/Users/ren.x.1/Desktop/VS_Pricing/VS_2.xlsx',encoding='gbk')\n",
    "df2.shape"
   ]
  },
  {
   "cell_type": "code",
   "execution_count": 3,
   "metadata": {
    "collapsed": false
   },
   "outputs": [
    {
     "data": {
      "text/html": [
       "<div>\n",
       "<table border=\"1\" class=\"dataframe\">\n",
       "  <thead>\n",
       "    <tr style=\"text-align: right;\">\n",
       "      <th></th>\n",
       "      <th>DatePay</th>\n",
       "      <th>SALES_IN_ML</th>\n",
       "      <th>ACT PRICE_PER_ML</th>\n",
       "      <th>LIST_PRICE_PER ML</th>\n",
       "      <th>DISCOUNT_PER_ML</th>\n",
       "    </tr>\n",
       "  </thead>\n",
       "  <tbody>\n",
       "    <tr>\n",
       "      <th>0</th>\n",
       "      <td>2015-12-01</td>\n",
       "      <td>400735</td>\n",
       "      <td>0.125531</td>\n",
       "      <td>0.175639</td>\n",
       "      <td>0.285293</td>\n",
       "    </tr>\n",
       "    <tr>\n",
       "      <th>1</th>\n",
       "      <td>2015-12-02</td>\n",
       "      <td>256915</td>\n",
       "      <td>0.131791</td>\n",
       "      <td>0.176807</td>\n",
       "      <td>0.254603</td>\n",
       "    </tr>\n",
       "    <tr>\n",
       "      <th>2</th>\n",
       "      <td>2015-12-03</td>\n",
       "      <td>317555</td>\n",
       "      <td>0.120362</td>\n",
       "      <td>0.173412</td>\n",
       "      <td>0.305923</td>\n",
       "    </tr>\n",
       "    <tr>\n",
       "      <th>3</th>\n",
       "      <td>2015-12-04</td>\n",
       "      <td>219775</td>\n",
       "      <td>0.124365</td>\n",
       "      <td>0.174171</td>\n",
       "      <td>0.285962</td>\n",
       "    </tr>\n",
       "    <tr>\n",
       "      <th>4</th>\n",
       "      <td>2015-12-05</td>\n",
       "      <td>228325</td>\n",
       "      <td>0.129025</td>\n",
       "      <td>0.179393</td>\n",
       "      <td>0.280767</td>\n",
       "    </tr>\n",
       "  </tbody>\n",
       "</table>\n",
       "</div>"
      ],
      "text/plain": [
       "     DatePay  SALES_IN_ML  ACT PRICE_PER_ML  LIST_PRICE_PER ML  \\\n",
       "0 2015-12-01       400735          0.125531           0.175639   \n",
       "1 2015-12-02       256915          0.131791           0.176807   \n",
       "2 2015-12-03       317555          0.120362           0.173412   \n",
       "3 2015-12-04       219775          0.124365           0.174171   \n",
       "4 2015-12-05       228325          0.129025           0.179393   \n",
       "\n",
       "   DISCOUNT_PER_ML  \n",
       "0         0.285293  \n",
       "1         0.254603  \n",
       "2         0.305923  \n",
       "3         0.285962  \n",
       "4         0.280767  "
      ]
     },
     "execution_count": 3,
     "metadata": {},
     "output_type": "execute_result"
    }
   ],
   "source": [
    "df2.head()"
   ]
  },
  {
   "cell_type": "code",
   "execution_count": 4,
   "metadata": {
    "collapsed": false
   },
   "outputs": [],
   "source": [
    "df2['DatePay'] = pd.to_datetime(df2.DatePay)"
   ]
  },
  {
   "cell_type": "code",
   "execution_count": 5,
   "metadata": {
    "collapsed": false
   },
   "outputs": [
    {
     "data": {
      "text/plain": [
       "DatePay              datetime64[ns]\n",
       "SALES_IN_ML                   int64\n",
       "ACT PRICE_PER_ML            float64\n",
       "LIST_PRICE_PER ML           float64\n",
       "DISCOUNT_PER_ML             float64\n",
       "dtype: object"
      ]
     },
     "execution_count": 5,
     "metadata": {},
     "output_type": "execute_result"
    }
   ],
   "source": [
    "df2.dtypes"
   ]
  },
  {
   "cell_type": "code",
   "execution_count": 6,
   "metadata": {
    "collapsed": false
   },
   "outputs": [],
   "source": [
    "df2 = df2.set_index(df2.DatePay)"
   ]
  },
  {
   "cell_type": "code",
   "execution_count": 7,
   "metadata": {
    "collapsed": false
   },
   "outputs": [],
   "source": [
    "df2 = df2.drop(['DatePay'],axis = 1)"
   ]
  },
  {
   "cell_type": "code",
   "execution_count": 8,
   "metadata": {
    "collapsed": false
   },
   "outputs": [
    {
     "data": {
      "text/html": [
       "<div>\n",
       "<table border=\"1\" class=\"dataframe\">\n",
       "  <thead>\n",
       "    <tr style=\"text-align: right;\">\n",
       "      <th></th>\n",
       "      <th>SALES_IN_ML</th>\n",
       "      <th>ACT PRICE_PER_ML</th>\n",
       "      <th>LIST_PRICE_PER ML</th>\n",
       "      <th>DISCOUNT_PER_ML</th>\n",
       "    </tr>\n",
       "    <tr>\n",
       "      <th>DatePay</th>\n",
       "      <th></th>\n",
       "      <th></th>\n",
       "      <th></th>\n",
       "      <th></th>\n",
       "    </tr>\n",
       "  </thead>\n",
       "  <tbody>\n",
       "    <tr>\n",
       "      <th>2015-12-01</th>\n",
       "      <td>400735</td>\n",
       "      <td>0.125531</td>\n",
       "      <td>0.175639</td>\n",
       "      <td>0.285293</td>\n",
       "    </tr>\n",
       "    <tr>\n",
       "      <th>2015-12-02</th>\n",
       "      <td>256915</td>\n",
       "      <td>0.131791</td>\n",
       "      <td>0.176807</td>\n",
       "      <td>0.254603</td>\n",
       "    </tr>\n",
       "    <tr>\n",
       "      <th>2015-12-03</th>\n",
       "      <td>317555</td>\n",
       "      <td>0.120362</td>\n",
       "      <td>0.173412</td>\n",
       "      <td>0.305923</td>\n",
       "    </tr>\n",
       "    <tr>\n",
       "      <th>2015-12-04</th>\n",
       "      <td>219775</td>\n",
       "      <td>0.124365</td>\n",
       "      <td>0.174171</td>\n",
       "      <td>0.285962</td>\n",
       "    </tr>\n",
       "    <tr>\n",
       "      <th>2015-12-05</th>\n",
       "      <td>228325</td>\n",
       "      <td>0.129025</td>\n",
       "      <td>0.179393</td>\n",
       "      <td>0.280767</td>\n",
       "    </tr>\n",
       "  </tbody>\n",
       "</table>\n",
       "</div>"
      ],
      "text/plain": [
       "            SALES_IN_ML  ACT PRICE_PER_ML  LIST_PRICE_PER ML  DISCOUNT_PER_ML\n",
       "DatePay                                                                      \n",
       "2015-12-01       400735          0.125531           0.175639         0.285293\n",
       "2015-12-02       256915          0.131791           0.176807         0.254603\n",
       "2015-12-03       317555          0.120362           0.173412         0.305923\n",
       "2015-12-04       219775          0.124365           0.174171         0.285962\n",
       "2015-12-05       228325          0.129025           0.179393         0.280767"
      ]
     },
     "execution_count": 8,
     "metadata": {},
     "output_type": "execute_result"
    }
   ],
   "source": [
    "df2.head()"
   ]
  },
  {
   "cell_type": "code",
   "execution_count": 10,
   "metadata": {
    "collapsed": false
   },
   "outputs": [
    {
     "data": {
      "text/plain": [
       "(105, 4)"
      ]
     },
     "execution_count": 10,
     "metadata": {},
     "output_type": "execute_result"
    }
   ],
   "source": [
    "df_spending = pd.read_excel('C:/Users/ren.x.1/Desktop/VS_Pricing/VS_Spending.xlsx',encoding='gbk')\n",
    "df_spending.shape"
   ]
  },
  {
   "cell_type": "code",
   "execution_count": 11,
   "metadata": {
    "collapsed": false
   },
   "outputs": [
    {
     "data": {
      "text/html": [
       "<div>\n",
       "<table border=\"1\" class=\"dataframe\">\n",
       "  <thead>\n",
       "    <tr style=\"text-align: right;\">\n",
       "      <th></th>\n",
       "      <th>Date</th>\n",
       "      <th>DSP</th>\n",
       "      <th>DMP</th>\n",
       "      <th>YSF</th>\n",
       "    </tr>\n",
       "  </thead>\n",
       "  <tbody>\n",
       "    <tr>\n",
       "      <th>0</th>\n",
       "      <td>2016-07-01</td>\n",
       "      <td>5105.55</td>\n",
       "      <td>498.59</td>\n",
       "      <td>0.0</td>\n",
       "    </tr>\n",
       "    <tr>\n",
       "      <th>1</th>\n",
       "      <td>2016-07-02</td>\n",
       "      <td>432.01</td>\n",
       "      <td>0.00</td>\n",
       "      <td>0.0</td>\n",
       "    </tr>\n",
       "    <tr>\n",
       "      <th>2</th>\n",
       "      <td>2016-07-09</td>\n",
       "      <td>8574.95</td>\n",
       "      <td>4965.02</td>\n",
       "      <td>0.0</td>\n",
       "    </tr>\n",
       "    <tr>\n",
       "      <th>3</th>\n",
       "      <td>2016-07-10</td>\n",
       "      <td>23940.77</td>\n",
       "      <td>13104.99</td>\n",
       "      <td>0.0</td>\n",
       "    </tr>\n",
       "    <tr>\n",
       "      <th>4</th>\n",
       "      <td>2016-07-11</td>\n",
       "      <td>29229.03</td>\n",
       "      <td>14131.40</td>\n",
       "      <td>0.0</td>\n",
       "    </tr>\n",
       "  </tbody>\n",
       "</table>\n",
       "</div>"
      ],
      "text/plain": [
       "        Date       DSP       DMP  YSF\n",
       "0 2016-07-01   5105.55    498.59  0.0\n",
       "1 2016-07-02    432.01      0.00  0.0\n",
       "2 2016-07-09   8574.95   4965.02  0.0\n",
       "3 2016-07-10  23940.77  13104.99  0.0\n",
       "4 2016-07-11  29229.03  14131.40  0.0"
      ]
     },
     "execution_count": 11,
     "metadata": {},
     "output_type": "execute_result"
    }
   ],
   "source": [
    "df_spending.head()"
   ]
  },
  {
   "cell_type": "code",
   "execution_count": 12,
   "metadata": {
    "collapsed": true
   },
   "outputs": [],
   "source": [
    "df_spending['Date'] = pd.to_datetime(df_spending.Date)"
   ]
  },
  {
   "cell_type": "code",
   "execution_count": 13,
   "metadata": {
    "collapsed": true
   },
   "outputs": [],
   "source": [
    "df_spending = df_spending.set_index(df_spending.Date)"
   ]
  },
  {
   "cell_type": "code",
   "execution_count": 16,
   "metadata": {
    "collapsed": true
   },
   "outputs": [],
   "source": [
    "df_spending.drop(['Date','DMP','YSF'],axis =1, inplace = True)"
   ]
  },
  {
   "cell_type": "code",
   "execution_count": 20,
   "metadata": {
    "collapsed": false
   },
   "outputs": [
    {
     "data": {
      "text/html": [
       "<div>\n",
       "<table border=\"1\" class=\"dataframe\">\n",
       "  <thead>\n",
       "    <tr style=\"text-align: right;\">\n",
       "      <th></th>\n",
       "      <th>DSP</th>\n",
       "    </tr>\n",
       "    <tr>\n",
       "      <th>Date</th>\n",
       "      <th></th>\n",
       "    </tr>\n",
       "  </thead>\n",
       "  <tbody>\n",
       "    <tr>\n",
       "      <th>2016-12-20</th>\n",
       "      <td>0.0</td>\n",
       "    </tr>\n",
       "  </tbody>\n",
       "</table>\n",
       "</div>"
      ],
      "text/plain": [
       "            DSP\n",
       "Date           \n",
       "2016-12-20  0.0"
      ]
     },
     "execution_count": 20,
     "metadata": {},
     "output_type": "execute_result"
    }
   ],
   "source": [
    "df_spending[-1:]"
   ]
  },
  {
   "cell_type": "code",
   "execution_count": 22,
   "metadata": {
    "collapsed": true
   },
   "outputs": [],
   "source": [
    "start = pd.datetime(2016, 7, 1)\n",
    "end = pd.datetime(2016, 12, 20)\n",
    "rng = pd.date_range(start, end)\n"
   ]
  },
  {
   "cell_type": "code",
   "execution_count": 28,
   "metadata": {
    "collapsed": false
   },
   "outputs": [],
   "source": [
    "df_DSP = df_spending.join(pd.DataFrame(index=rng),how = 'right').fillna(0)"
   ]
  },
  {
   "cell_type": "code",
   "execution_count": 370,
   "metadata": {
    "collapsed": false
   },
   "outputs": [],
   "source": [
    "df4 = df2.join(df_DSP, how='inner',rsuffix = '_3' , sort=True)"
   ]
  },
  {
   "cell_type": "code",
   "execution_count": 371,
   "metadata": {
    "collapsed": false
   },
   "outputs": [
    {
     "data": {
      "text/html": [
       "<div>\n",
       "<table border=\"1\" class=\"dataframe\">\n",
       "  <thead>\n",
       "    <tr style=\"text-align: right;\">\n",
       "      <th></th>\n",
       "      <th>SALES_IN_ML</th>\n",
       "      <th>ACT PRICE_PER_ML</th>\n",
       "      <th>LIST_PRICE_PER ML</th>\n",
       "      <th>DISCOUNT_PER_ML</th>\n",
       "      <th>DSP</th>\n",
       "    </tr>\n",
       "  </thead>\n",
       "  <tbody>\n",
       "    <tr>\n",
       "      <th>2016-07-01</th>\n",
       "      <td>918340</td>\n",
       "      <td>0.122444</td>\n",
       "      <td>0.185080</td>\n",
       "      <td>0.338426</td>\n",
       "      <td>5105.55</td>\n",
       "    </tr>\n",
       "    <tr>\n",
       "      <th>2016-07-02</th>\n",
       "      <td>1052970</td>\n",
       "      <td>0.123322</td>\n",
       "      <td>0.185794</td>\n",
       "      <td>0.336245</td>\n",
       "      <td>432.01</td>\n",
       "    </tr>\n",
       "    <tr>\n",
       "      <th>2016-07-03</th>\n",
       "      <td>1209650</td>\n",
       "      <td>0.124562</td>\n",
       "      <td>0.187587</td>\n",
       "      <td>0.335977</td>\n",
       "      <td>0.00</td>\n",
       "    </tr>\n",
       "    <tr>\n",
       "      <th>2016-07-04</th>\n",
       "      <td>976025</td>\n",
       "      <td>0.127286</td>\n",
       "      <td>0.188288</td>\n",
       "      <td>0.323981</td>\n",
       "      <td>0.00</td>\n",
       "    </tr>\n",
       "    <tr>\n",
       "      <th>2016-07-05</th>\n",
       "      <td>964475</td>\n",
       "      <td>0.131118</td>\n",
       "      <td>0.193537</td>\n",
       "      <td>0.322518</td>\n",
       "      <td>0.00</td>\n",
       "    </tr>\n",
       "  </tbody>\n",
       "</table>\n",
       "</div>"
      ],
      "text/plain": [
       "            SALES_IN_ML  ACT PRICE_PER_ML  LIST_PRICE_PER ML  DISCOUNT_PER_ML  \\\n",
       "2016-07-01       918340          0.122444           0.185080         0.338426   \n",
       "2016-07-02      1052970          0.123322           0.185794         0.336245   \n",
       "2016-07-03      1209650          0.124562           0.187587         0.335977   \n",
       "2016-07-04       976025          0.127286           0.188288         0.323981   \n",
       "2016-07-05       964475          0.131118           0.193537         0.322518   \n",
       "\n",
       "                DSP  \n",
       "2016-07-01  5105.55  \n",
       "2016-07-02   432.01  \n",
       "2016-07-03     0.00  \n",
       "2016-07-04     0.00  \n",
       "2016-07-05     0.00  "
      ]
     },
     "execution_count": 371,
     "metadata": {},
     "output_type": "execute_result"
    }
   ],
   "source": [
    "df4.head()"
   ]
  },
  {
   "cell_type": "code",
   "execution_count": 372,
   "metadata": {
    "collapsed": false
   },
   "outputs": [],
   "source": [
    "df4['IsD11'] = 0"
   ]
  },
  {
   "cell_type": "code",
   "execution_count": 373,
   "metadata": {
    "collapsed": false
   },
   "outputs": [
    {
     "name": "stderr",
     "output_type": "stream",
     "text": [
      "C:\\Anaconda2\\lib\\site-packages\\ipykernel\\__main__.py:1: SettingWithCopyWarning: \n",
      "A value is trying to be set on a copy of a slice from a DataFrame\n",
      "\n",
      "See the caveats in the documentation: http://pandas.pydata.org/pandas-docs/stable/indexing.html#indexing-view-versus-copy\n",
      "  if __name__ == '__main__':\n"
     ]
    }
   ],
   "source": [
    "df4.IsD11[np.where(df4.index == '2016-11-11')[0]] = 1"
   ]
  },
  {
   "cell_type": "code",
   "execution_count": 374,
   "metadata": {
    "collapsed": false
   },
   "outputs": [],
   "source": [
    "df4['IsD11PS'] = 0"
   ]
  },
  {
   "cell_type": "code",
   "execution_count": 375,
   "metadata": {
    "collapsed": false
   },
   "outputs": [
    {
     "name": "stderr",
     "output_type": "stream",
     "text": [
      "C:\\Anaconda2\\lib\\site-packages\\ipykernel\\__main__.py:1: SettingWithCopyWarning: \n",
      "A value is trying to be set on a copy of a slice from a DataFrame\n",
      "\n",
      "See the caveats in the documentation: http://pandas.pydata.org/pandas-docs/stable/indexing.html#indexing-view-versus-copy\n",
      "  if __name__ == '__main__':\n"
     ]
    }
   ],
   "source": [
    "df4.IsD11PS[np.where((df4.index >= '2016-10-21') & (df4.index <= '2016-11-10'))[0]] = 1"
   ]
  },
  {
   "cell_type": "code",
   "execution_count": 376,
   "metadata": {
    "collapsed": false
   },
   "outputs": [
    {
     "name": "stderr",
     "output_type": "stream",
     "text": [
      "C:\\Anaconda2\\lib\\site-packages\\ipykernel\\__main__.py:2: SettingWithCopyWarning: \n",
      "A value is trying to be set on a copy of a slice from a DataFrame\n",
      "\n",
      "See the caveats in the documentation: http://pandas.pydata.org/pandas-docs/stable/indexing.html#indexing-view-versus-copy\n",
      "  from ipykernel import kernelapp as app\n"
     ]
    }
   ],
   "source": [
    "df4['IsD9'] = 0\n",
    "df4.IsD9[np.where((df4.index >= '2016-09-09') & (df4.index <= '2016-09-10'))[0]] = 1"
   ]
  },
  {
   "cell_type": "code",
   "execution_count": 377,
   "metadata": {
    "collapsed": false
   },
   "outputs": [
    {
     "name": "stderr",
     "output_type": "stream",
     "text": [
      "C:\\Anaconda2\\lib\\site-packages\\ipykernel\\__main__.py:2: SettingWithCopyWarning: \n",
      "A value is trying to be set on a copy of a slice from a DataFrame\n",
      "\n",
      "See the caveats in the documentation: http://pandas.pydata.org/pandas-docs/stable/indexing.html#indexing-view-versus-copy\n",
      "  from ipykernel import kernelapp as app\n"
     ]
    }
   ],
   "source": [
    "df4['IsD12PS'] = 0\n",
    "df4.IsD12PS[np.where((df4.index >= '2016-12-05') & (df4.index <= '2016-12-11'))[0]] = 1"
   ]
  },
  {
   "cell_type": "code",
   "execution_count": 378,
   "metadata": {
    "collapsed": false
   },
   "outputs": [
    {
     "name": "stderr",
     "output_type": "stream",
     "text": [
      "C:\\Anaconda2\\lib\\site-packages\\ipykernel\\__main__.py:2: SettingWithCopyWarning: \n",
      "A value is trying to be set on a copy of a slice from a DataFrame\n",
      "\n",
      "See the caveats in the documentation: http://pandas.pydata.org/pandas-docs/stable/indexing.html#indexing-view-versus-copy\n",
      "  from ipykernel import kernelapp as app\n"
     ]
    }
   ],
   "source": [
    "df4['IsD12'] = 0\n",
    "df4.IsD12[np.where(df4.index == '2016-12-12')[0]] = 1"
   ]
  },
  {
   "cell_type": "code",
   "execution_count": 379,
   "metadata": {
    "collapsed": false
   },
   "outputs": [
    {
     "name": "stderr",
     "output_type": "stream",
     "text": [
      "C:\\Anaconda2\\lib\\site-packages\\ipykernel\\__main__.py:2: SettingWithCopyWarning: \n",
      "A value is trying to be set on a copy of a slice from a DataFrame\n",
      "\n",
      "See the caveats in the documentation: http://pandas.pydata.org/pandas-docs/stable/indexing.html#indexing-view-versus-copy\n",
      "  from ipykernel import kernelapp as app\n"
     ]
    }
   ],
   "source": [
    "df4['IsOtherLV1Campaign'] = 0\n",
    "df4.IsOtherLV1Campaign[np.where((df4.index >= '2016-12-21') & (df4.index <= '2016-12-23')|(df4.index >= '2016-10-03') & (df4.index <= '2016-10-09')|(df4.index >= '2016-08-15') & (df4.index <= '2016-08-16'))[0]] = 1"
   ]
  },
  {
   "cell_type": "code",
   "execution_count": 380,
   "metadata": {
    "collapsed": false
   },
   "outputs": [],
   "source": [
    "y = df4.pop('SALES_IN_ML')"
   ]
  },
  {
   "cell_type": "code",
   "execution_count": 381,
   "metadata": {
    "collapsed": false
   },
   "outputs": [
    {
     "data": {
      "text/html": [
       "<div>\n",
       "<table border=\"1\" class=\"dataframe\">\n",
       "  <thead>\n",
       "    <tr style=\"text-align: right;\">\n",
       "      <th></th>\n",
       "      <th>ACT PRICE_PER_ML</th>\n",
       "      <th>LIST_PRICE_PER ML</th>\n",
       "      <th>DISCOUNT_PER_ML</th>\n",
       "      <th>DSP</th>\n",
       "      <th>IsD11</th>\n",
       "      <th>IsD11PS</th>\n",
       "      <th>IsD9</th>\n",
       "      <th>IsD12PS</th>\n",
       "      <th>IsD12</th>\n",
       "      <th>IsOtherLV1Campaign</th>\n",
       "    </tr>\n",
       "  </thead>\n",
       "  <tbody>\n",
       "    <tr>\n",
       "      <th>2016-07-01</th>\n",
       "      <td>0.122444</td>\n",
       "      <td>0.185080</td>\n",
       "      <td>0.338426</td>\n",
       "      <td>5105.55</td>\n",
       "      <td>0</td>\n",
       "      <td>0</td>\n",
       "      <td>0</td>\n",
       "      <td>0</td>\n",
       "      <td>0</td>\n",
       "      <td>0</td>\n",
       "    </tr>\n",
       "    <tr>\n",
       "      <th>2016-07-02</th>\n",
       "      <td>0.123322</td>\n",
       "      <td>0.185794</td>\n",
       "      <td>0.336245</td>\n",
       "      <td>432.01</td>\n",
       "      <td>0</td>\n",
       "      <td>0</td>\n",
       "      <td>0</td>\n",
       "      <td>0</td>\n",
       "      <td>0</td>\n",
       "      <td>0</td>\n",
       "    </tr>\n",
       "    <tr>\n",
       "      <th>2016-07-03</th>\n",
       "      <td>0.124562</td>\n",
       "      <td>0.187587</td>\n",
       "      <td>0.335977</td>\n",
       "      <td>0.00</td>\n",
       "      <td>0</td>\n",
       "      <td>0</td>\n",
       "      <td>0</td>\n",
       "      <td>0</td>\n",
       "      <td>0</td>\n",
       "      <td>0</td>\n",
       "    </tr>\n",
       "    <tr>\n",
       "      <th>2016-07-04</th>\n",
       "      <td>0.127286</td>\n",
       "      <td>0.188288</td>\n",
       "      <td>0.323981</td>\n",
       "      <td>0.00</td>\n",
       "      <td>0</td>\n",
       "      <td>0</td>\n",
       "      <td>0</td>\n",
       "      <td>0</td>\n",
       "      <td>0</td>\n",
       "      <td>0</td>\n",
       "    </tr>\n",
       "    <tr>\n",
       "      <th>2016-07-05</th>\n",
       "      <td>0.131118</td>\n",
       "      <td>0.193537</td>\n",
       "      <td>0.322518</td>\n",
       "      <td>0.00</td>\n",
       "      <td>0</td>\n",
       "      <td>0</td>\n",
       "      <td>0</td>\n",
       "      <td>0</td>\n",
       "      <td>0</td>\n",
       "      <td>0</td>\n",
       "    </tr>\n",
       "  </tbody>\n",
       "</table>\n",
       "</div>"
      ],
      "text/plain": [
       "            ACT PRICE_PER_ML  LIST_PRICE_PER ML  DISCOUNT_PER_ML      DSP  \\\n",
       "2016-07-01          0.122444           0.185080         0.338426  5105.55   \n",
       "2016-07-02          0.123322           0.185794         0.336245   432.01   \n",
       "2016-07-03          0.124562           0.187587         0.335977     0.00   \n",
       "2016-07-04          0.127286           0.188288         0.323981     0.00   \n",
       "2016-07-05          0.131118           0.193537         0.322518     0.00   \n",
       "\n",
       "            IsD11  IsD11PS  IsD9  IsD12PS  IsD12  IsOtherLV1Campaign  \n",
       "2016-07-01      0        0     0        0      0                   0  \n",
       "2016-07-02      0        0     0        0      0                   0  \n",
       "2016-07-03      0        0     0        0      0                   0  \n",
       "2016-07-04      0        0     0        0      0                   0  \n",
       "2016-07-05      0        0     0        0      0                   0  "
      ]
     },
     "execution_count": 381,
     "metadata": {},
     "output_type": "execute_result"
    }
   ],
   "source": [
    "df4.head()"
   ]
  },
  {
   "cell_type": "code",
   "execution_count": 382,
   "metadata": {
    "collapsed": true
   },
   "outputs": [],
   "source": [
    "df4.to_csv('C:/Users/ren.x.1/Desktop/VS_df4.csv')"
   ]
  },
  {
   "cell_type": "markdown",
   "metadata": {},
   "source": [
    "**Data Preprocessing Finished**"
   ]
  },
  {
   "cell_type": "code",
   "execution_count": 383,
   "metadata": {
    "collapsed": false
   },
   "outputs": [
    {
     "data": {
      "text/html": [
       "<div>\n",
       "<table border=\"1\" class=\"dataframe\">\n",
       "  <thead>\n",
       "    <tr style=\"text-align: right;\">\n",
       "      <th></th>\n",
       "      <th>ACT PRICE_PER_ML</th>\n",
       "      <th>LIST_PRICE_PER ML</th>\n",
       "      <th>DISCOUNT_PER_ML</th>\n",
       "      <th>DSP</th>\n",
       "      <th>IsD11</th>\n",
       "      <th>IsD11PS</th>\n",
       "      <th>IsD9</th>\n",
       "      <th>IsD12PS</th>\n",
       "      <th>IsD12</th>\n",
       "      <th>IsOtherLV1Campaign</th>\n",
       "    </tr>\n",
       "  </thead>\n",
       "  <tbody>\n",
       "    <tr>\n",
       "      <th>ACT PRICE_PER_ML</th>\n",
       "      <td>1.000000</td>\n",
       "      <td>0.735832</td>\n",
       "      <td>-0.667228</td>\n",
       "      <td>0.425547</td>\n",
       "      <td>-0.097877</td>\n",
       "      <td>0.480421</td>\n",
       "      <td>-0.099508</td>\n",
       "      <td>-0.185839</td>\n",
       "      <td>-0.084535</td>\n",
       "      <td>-0.079939</td>\n",
       "    </tr>\n",
       "    <tr>\n",
       "      <th>LIST_PRICE_PER ML</th>\n",
       "      <td>0.735832</td>\n",
       "      <td>1.000000</td>\n",
       "      <td>-0.007069</td>\n",
       "      <td>0.124507</td>\n",
       "      <td>-0.148183</td>\n",
       "      <td>0.235148</td>\n",
       "      <td>-0.103134</td>\n",
       "      <td>-0.218188</td>\n",
       "      <td>-0.093910</td>\n",
       "      <td>-0.064244</td>\n",
       "    </tr>\n",
       "    <tr>\n",
       "      <th>DISCOUNT_PER_ML</th>\n",
       "      <td>-0.667228</td>\n",
       "      <td>-0.007069</td>\n",
       "      <td>1.000000</td>\n",
       "      <td>-0.429296</td>\n",
       "      <td>-0.007086</td>\n",
       "      <td>-0.472245</td>\n",
       "      <td>0.051910</td>\n",
       "      <td>0.071542</td>\n",
       "      <td>0.038103</td>\n",
       "      <td>0.059996</td>\n",
       "    </tr>\n",
       "    <tr>\n",
       "      <th>DSP</th>\n",
       "      <td>0.425547</td>\n",
       "      <td>0.124507</td>\n",
       "      <td>-0.429296</td>\n",
       "      <td>1.000000</td>\n",
       "      <td>0.276351</td>\n",
       "      <td>0.674261</td>\n",
       "      <td>0.254701</td>\n",
       "      <td>0.096351</td>\n",
       "      <td>0.032878</td>\n",
       "      <td>-0.011894</td>\n",
       "    </tr>\n",
       "    <tr>\n",
       "      <th>IsD11</th>\n",
       "      <td>-0.097877</td>\n",
       "      <td>-0.148183</td>\n",
       "      <td>-0.007086</td>\n",
       "      <td>0.276351</td>\n",
       "      <td>1.000000</td>\n",
       "      <td>-0.028342</td>\n",
       "      <td>-0.008246</td>\n",
       "      <td>-0.015658</td>\n",
       "      <td>-0.005814</td>\n",
       "      <td>-0.017862</td>\n",
       "    </tr>\n",
       "    <tr>\n",
       "      <th>IsD11PS</th>\n",
       "      <td>0.480421</td>\n",
       "      <td>0.235148</td>\n",
       "      <td>-0.472245</td>\n",
       "      <td>0.674261</td>\n",
       "      <td>-0.028342</td>\n",
       "      <td>1.000000</td>\n",
       "      <td>-0.040198</td>\n",
       "      <td>-0.076328</td>\n",
       "      <td>-0.028342</td>\n",
       "      <td>-0.087074</td>\n",
       "    </tr>\n",
       "    <tr>\n",
       "      <th>IsD9</th>\n",
       "      <td>-0.099508</td>\n",
       "      <td>-0.103134</td>\n",
       "      <td>0.051910</td>\n",
       "      <td>0.254701</td>\n",
       "      <td>-0.008246</td>\n",
       "      <td>-0.040198</td>\n",
       "      <td>1.000000</td>\n",
       "      <td>-0.022208</td>\n",
       "      <td>-0.008246</td>\n",
       "      <td>-0.025335</td>\n",
       "    </tr>\n",
       "    <tr>\n",
       "      <th>IsD12PS</th>\n",
       "      <td>-0.185839</td>\n",
       "      <td>-0.218188</td>\n",
       "      <td>0.071542</td>\n",
       "      <td>0.096351</td>\n",
       "      <td>-0.015658</td>\n",
       "      <td>-0.076328</td>\n",
       "      <td>-0.022208</td>\n",
       "      <td>1.000000</td>\n",
       "      <td>-0.015658</td>\n",
       "      <td>-0.048105</td>\n",
       "    </tr>\n",
       "    <tr>\n",
       "      <th>IsD12</th>\n",
       "      <td>-0.084535</td>\n",
       "      <td>-0.093910</td>\n",
       "      <td>0.038103</td>\n",
       "      <td>0.032878</td>\n",
       "      <td>-0.005814</td>\n",
       "      <td>-0.028342</td>\n",
       "      <td>-0.008246</td>\n",
       "      <td>-0.015658</td>\n",
       "      <td>1.000000</td>\n",
       "      <td>-0.017862</td>\n",
       "    </tr>\n",
       "    <tr>\n",
       "      <th>IsOtherLV1Campaign</th>\n",
       "      <td>-0.079939</td>\n",
       "      <td>-0.064244</td>\n",
       "      <td>0.059996</td>\n",
       "      <td>-0.011894</td>\n",
       "      <td>-0.017862</td>\n",
       "      <td>-0.087074</td>\n",
       "      <td>-0.025335</td>\n",
       "      <td>-0.048105</td>\n",
       "      <td>-0.017862</td>\n",
       "      <td>1.000000</td>\n",
       "    </tr>\n",
       "  </tbody>\n",
       "</table>\n",
       "</div>"
      ],
      "text/plain": [
       "                    ACT PRICE_PER_ML  LIST_PRICE_PER ML  DISCOUNT_PER_ML  \\\n",
       "ACT PRICE_PER_ML            1.000000           0.735832        -0.667228   \n",
       "LIST_PRICE_PER ML           0.735832           1.000000        -0.007069   \n",
       "DISCOUNT_PER_ML            -0.667228          -0.007069         1.000000   \n",
       "DSP                         0.425547           0.124507        -0.429296   \n",
       "IsD11                      -0.097877          -0.148183        -0.007086   \n",
       "IsD11PS                     0.480421           0.235148        -0.472245   \n",
       "IsD9                       -0.099508          -0.103134         0.051910   \n",
       "IsD12PS                    -0.185839          -0.218188         0.071542   \n",
       "IsD12                      -0.084535          -0.093910         0.038103   \n",
       "IsOtherLV1Campaign         -0.079939          -0.064244         0.059996   \n",
       "\n",
       "                         DSP     IsD11   IsD11PS      IsD9   IsD12PS  \\\n",
       "ACT PRICE_PER_ML    0.425547 -0.097877  0.480421 -0.099508 -0.185839   \n",
       "LIST_PRICE_PER ML   0.124507 -0.148183  0.235148 -0.103134 -0.218188   \n",
       "DISCOUNT_PER_ML    -0.429296 -0.007086 -0.472245  0.051910  0.071542   \n",
       "DSP                 1.000000  0.276351  0.674261  0.254701  0.096351   \n",
       "IsD11               0.276351  1.000000 -0.028342 -0.008246 -0.015658   \n",
       "IsD11PS             0.674261 -0.028342  1.000000 -0.040198 -0.076328   \n",
       "IsD9                0.254701 -0.008246 -0.040198  1.000000 -0.022208   \n",
       "IsD12PS             0.096351 -0.015658 -0.076328 -0.022208  1.000000   \n",
       "IsD12               0.032878 -0.005814 -0.028342 -0.008246 -0.015658   \n",
       "IsOtherLV1Campaign -0.011894 -0.017862 -0.087074 -0.025335 -0.048105   \n",
       "\n",
       "                       IsD12  IsOtherLV1Campaign  \n",
       "ACT PRICE_PER_ML   -0.084535           -0.079939  \n",
       "LIST_PRICE_PER ML  -0.093910           -0.064244  \n",
       "DISCOUNT_PER_ML     0.038103            0.059996  \n",
       "DSP                 0.032878           -0.011894  \n",
       "IsD11              -0.005814           -0.017862  \n",
       "IsD11PS            -0.028342           -0.087074  \n",
       "IsD9               -0.008246           -0.025335  \n",
       "IsD12PS            -0.015658           -0.048105  \n",
       "IsD12               1.000000           -0.017862  \n",
       "IsOtherLV1Campaign -0.017862            1.000000  "
      ]
     },
     "execution_count": 383,
     "metadata": {},
     "output_type": "execute_result"
    }
   ],
   "source": [
    "corr = df4.corr()\n",
    "corr"
   ]
  },
  {
   "cell_type": "code",
   "execution_count": 384,
   "metadata": {
    "collapsed": false
   },
   "outputs": [
    {
     "data": {
      "text/plain": [
       "<matplotlib.image.AxesImage at 0x1affd668>"
      ]
     },
     "execution_count": 384,
     "metadata": {},
     "output_type": "execute_result"
    },
    {
     "data": {
      "image/png": "[encoded data removed]",
      "text/plain": [
       "<matplotlib.figure.Figure at 0x186c1780>"
      ]
     },
     "metadata": {},
     "output_type": "display_data"
    }
   ],
   "source": [
    "plt.matshow(df4.corr())"
   ]
  },
  {
   "cell_type": "code",
   "execution_count": 385,
   "metadata": {
    "collapsed": false,
    "scrolled": false
   },
   "outputs": [
    {
     "data": {
      "text/html": [
       "<div>\n",
       "<table border=\"1\" class=\"dataframe\">\n",
       "  <thead>\n",
       "    <tr style=\"text-align: right;\">\n",
       "      <th></th>\n",
       "      <th>ACT PRICE_PER_ML</th>\n",
       "      <th>LIST_PRICE_PER ML</th>\n",
       "      <th>DISCOUNT_PER_ML</th>\n",
       "      <th>DSP</th>\n",
       "      <th>IsD11</th>\n",
       "      <th>IsD11PS</th>\n",
       "      <th>IsD9</th>\n",
       "      <th>IsD12PS</th>\n",
       "      <th>IsD12</th>\n",
       "      <th>IsOtherLV1Campaign</th>\n",
       "    </tr>\n",
       "  </thead>\n",
       "  <tbody>\n",
       "    <tr>\n",
       "      <th>ACT PRICE_PER_ML</th>\n",
       "      <td>True</td>\n",
       "      <td>True</td>\n",
       "      <td>False</td>\n",
       "      <td>False</td>\n",
       "      <td>False</td>\n",
       "      <td>False</td>\n",
       "      <td>False</td>\n",
       "      <td>False</td>\n",
       "      <td>False</td>\n",
       "      <td>False</td>\n",
       "    </tr>\n",
       "    <tr>\n",
       "      <th>LIST_PRICE_PER ML</th>\n",
       "      <td>True</td>\n",
       "      <td>True</td>\n",
       "      <td>False</td>\n",
       "      <td>False</td>\n",
       "      <td>False</td>\n",
       "      <td>False</td>\n",
       "      <td>False</td>\n",
       "      <td>False</td>\n",
       "      <td>False</td>\n",
       "      <td>False</td>\n",
       "    </tr>\n",
       "    <tr>\n",
       "      <th>DISCOUNT_PER_ML</th>\n",
       "      <td>False</td>\n",
       "      <td>False</td>\n",
       "      <td>True</td>\n",
       "      <td>False</td>\n",
       "      <td>False</td>\n",
       "      <td>False</td>\n",
       "      <td>False</td>\n",
       "      <td>False</td>\n",
       "      <td>False</td>\n",
       "      <td>False</td>\n",
       "    </tr>\n",
       "    <tr>\n",
       "      <th>DSP</th>\n",
       "      <td>False</td>\n",
       "      <td>False</td>\n",
       "      <td>False</td>\n",
       "      <td>True</td>\n",
       "      <td>False</td>\n",
       "      <td>True</td>\n",
       "      <td>False</td>\n",
       "      <td>False</td>\n",
       "      <td>False</td>\n",
       "      <td>False</td>\n",
       "    </tr>\n",
       "    <tr>\n",
       "      <th>IsD11</th>\n",
       "      <td>False</td>\n",
       "      <td>False</td>\n",
       "      <td>False</td>\n",
       "      <td>False</td>\n",
       "      <td>True</td>\n",
       "      <td>False</td>\n",
       "      <td>False</td>\n",
       "      <td>False</td>\n",
       "      <td>False</td>\n",
       "      <td>False</td>\n",
       "    </tr>\n",
       "    <tr>\n",
       "      <th>IsD11PS</th>\n",
       "      <td>False</td>\n",
       "      <td>False</td>\n",
       "      <td>False</td>\n",
       "      <td>True</td>\n",
       "      <td>False</td>\n",
       "      <td>True</td>\n",
       "      <td>False</td>\n",
       "      <td>False</td>\n",
       "      <td>False</td>\n",
       "      <td>False</td>\n",
       "    </tr>\n",
       "    <tr>\n",
       "      <th>IsD9</th>\n",
       "      <td>False</td>\n",
       "      <td>False</td>\n",
       "      <td>False</td>\n",
       "      <td>False</td>\n",
       "      <td>False</td>\n",
       "      <td>False</td>\n",
       "      <td>True</td>\n",
       "      <td>False</td>\n",
       "      <td>False</td>\n",
       "      <td>False</td>\n",
       "    </tr>\n",
       "    <tr>\n",
       "      <th>IsD12PS</th>\n",
       "      <td>False</td>\n",
       "      <td>False</td>\n",
       "      <td>False</td>\n",
       "      <td>False</td>\n",
       "      <td>False</td>\n",
       "      <td>False</td>\n",
       "      <td>False</td>\n",
       "      <td>True</td>\n",
       "      <td>False</td>\n",
       "      <td>False</td>\n",
       "    </tr>\n",
       "    <tr>\n",
       "      <th>IsD12</th>\n",
       "      <td>False</td>\n",
       "      <td>False</td>\n",
       "      <td>False</td>\n",
       "      <td>False</td>\n",
       "      <td>False</td>\n",
       "      <td>False</td>\n",
       "      <td>False</td>\n",
       "      <td>False</td>\n",
       "      <td>True</td>\n",
       "      <td>False</td>\n",
       "    </tr>\n",
       "    <tr>\n",
       "      <th>IsOtherLV1Campaign</th>\n",
       "      <td>False</td>\n",
       "      <td>False</td>\n",
       "      <td>False</td>\n",
       "      <td>False</td>\n",
       "      <td>False</td>\n",
       "      <td>False</td>\n",
       "      <td>False</td>\n",
       "      <td>False</td>\n",
       "      <td>False</td>\n",
       "      <td>True</td>\n",
       "    </tr>\n",
       "  </tbody>\n",
       "</table>\n",
       "</div>"
      ],
      "text/plain": [
       "                   ACT PRICE_PER_ML LIST_PRICE_PER ML DISCOUNT_PER_ML    DSP  \\\n",
       "ACT PRICE_PER_ML               True              True           False  False   \n",
       "LIST_PRICE_PER ML              True              True           False  False   \n",
       "DISCOUNT_PER_ML               False             False            True  False   \n",
       "DSP                           False             False           False   True   \n",
       "IsD11                         False             False           False  False   \n",
       "IsD11PS                       False             False           False   True   \n",
       "IsD9                          False             False           False  False   \n",
       "IsD12PS                       False             False           False  False   \n",
       "IsD12                         False             False           False  False   \n",
       "IsOtherLV1Campaign            False             False           False  False   \n",
       "\n",
       "                    IsD11 IsD11PS   IsD9 IsD12PS  IsD12 IsOtherLV1Campaign  \n",
       "ACT PRICE_PER_ML    False   False  False   False  False              False  \n",
       "LIST_PRICE_PER ML   False   False  False   False  False              False  \n",
       "DISCOUNT_PER_ML     False   False  False   False  False              False  \n",
       "DSP                 False    True  False   False  False              False  \n",
       "IsD11                True   False  False   False  False              False  \n",
       "IsD11PS             False    True  False   False  False              False  \n",
       "IsD9                False   False   True   False  False              False  \n",
       "IsD12PS             False   False  False    True  False              False  \n",
       "IsD12               False   False  False   False   True              False  \n",
       "IsOtherLV1Campaign  False   False  False   False  False               True  "
      ]
     },
     "execution_count": 385,
     "metadata": {},
     "output_type": "execute_result"
    }
   ],
   "source": [
    "corr>0.6"
   ]
  },
  {
   "cell_type": "code",
   "execution_count": 386,
   "metadata": {
    "collapsed": false
   },
   "outputs": [],
   "source": [
    "df5 = df4.drop(['ACT PRICE_PER_ML','LIST_PRICE_PER ML'],axis = 1)"
   ]
  },
  {
   "cell_type": "code",
   "execution_count": 387,
   "metadata": {
    "collapsed": false
   },
   "outputs": [
    {
     "data": {
      "text/plain": [
       "<matplotlib.text.Text at 0x1af77240>"
      ]
     },
     "execution_count": 387,
     "metadata": {},
     "output_type": "execute_result"
    },
    {
     "data": {
      "image/png": "[encoded data removed]",
      "text/plain": [
       "<matplotlib.figure.Figure at 0x1b30b390>"
      ]
     },
     "metadata": {},
     "output_type": "display_data"
    }
   ],
   "source": [
    "plt.matshow(df5.corr())\n",
    "plt.title(\"Correlation Matrix\")"
   ]
  },
  {
   "cell_type": "code",
   "execution_count": 388,
   "metadata": {
    "collapsed": false
   },
   "outputs": [
    {
     "data": {
      "text/html": [
       "<div>\n",
       "<table border=\"1\" class=\"dataframe\">\n",
       "  <thead>\n",
       "    <tr style=\"text-align: right;\">\n",
       "      <th></th>\n",
       "      <th>DISCOUNT_PER_ML</th>\n",
       "      <th>DSP</th>\n",
       "      <th>IsD11</th>\n",
       "      <th>IsD11PS</th>\n",
       "      <th>IsD9</th>\n",
       "      <th>IsD12PS</th>\n",
       "      <th>IsD12</th>\n",
       "      <th>IsOtherLV1Campaign</th>\n",
       "    </tr>\n",
       "  </thead>\n",
       "  <tbody>\n",
       "    <tr>\n",
       "      <th>2016-07-01</th>\n",
       "      <td>0.338426</td>\n",
       "      <td>5105.55</td>\n",
       "      <td>0</td>\n",
       "      <td>0</td>\n",
       "      <td>0</td>\n",
       "      <td>0</td>\n",
       "      <td>0</td>\n",
       "      <td>0</td>\n",
       "    </tr>\n",
       "    <tr>\n",
       "      <th>2016-07-02</th>\n",
       "      <td>0.336245</td>\n",
       "      <td>432.01</td>\n",
       "      <td>0</td>\n",
       "      <td>0</td>\n",
       "      <td>0</td>\n",
       "      <td>0</td>\n",
       "      <td>0</td>\n",
       "      <td>0</td>\n",
       "    </tr>\n",
       "    <tr>\n",
       "      <th>2016-07-03</th>\n",
       "      <td>0.335977</td>\n",
       "      <td>0.00</td>\n",
       "      <td>0</td>\n",
       "      <td>0</td>\n",
       "      <td>0</td>\n",
       "      <td>0</td>\n",
       "      <td>0</td>\n",
       "      <td>0</td>\n",
       "    </tr>\n",
       "    <tr>\n",
       "      <th>2016-07-04</th>\n",
       "      <td>0.323981</td>\n",
       "      <td>0.00</td>\n",
       "      <td>0</td>\n",
       "      <td>0</td>\n",
       "      <td>0</td>\n",
       "      <td>0</td>\n",
       "      <td>0</td>\n",
       "      <td>0</td>\n",
       "    </tr>\n",
       "    <tr>\n",
       "      <th>2016-07-05</th>\n",
       "      <td>0.322518</td>\n",
       "      <td>0.00</td>\n",
       "      <td>0</td>\n",
       "      <td>0</td>\n",
       "      <td>0</td>\n",
       "      <td>0</td>\n",
       "      <td>0</td>\n",
       "      <td>0</td>\n",
       "    </tr>\n",
       "  </tbody>\n",
       "</table>\n",
       "</div>"
      ],
      "text/plain": [
       "            DISCOUNT_PER_ML      DSP  IsD11  IsD11PS  IsD9  IsD12PS  IsD12  \\\n",
       "2016-07-01         0.338426  5105.55      0        0     0        0      0   \n",
       "2016-07-02         0.336245   432.01      0        0     0        0      0   \n",
       "2016-07-03         0.335977     0.00      0        0     0        0      0   \n",
       "2016-07-04         0.323981     0.00      0        0     0        0      0   \n",
       "2016-07-05         0.322518     0.00      0        0     0        0      0   \n",
       "\n",
       "            IsOtherLV1Campaign  \n",
       "2016-07-01                   0  \n",
       "2016-07-02                   0  \n",
       "2016-07-03                   0  \n",
       "2016-07-04                   0  \n",
       "2016-07-05                   0  "
      ]
     },
     "execution_count": 388,
     "metadata": {},
     "output_type": "execute_result"
    }
   ],
   "source": [
    "df5.head()"
   ]
  },
  {
   "cell_type": "code",
   "execution_count": 390,
   "metadata": {
    "collapsed": false
   },
   "outputs": [
    {
     "data": {
      "text/plain": [
       "[<matplotlib.lines.Line2D at 0x19f7c3c8>]"
      ]
     },
     "execution_count": 390,
     "metadata": {},
     "output_type": "execute_result"
    },
    {
     "data": {
      "image/png": "[encoded data removed]",
      "text/plain": [
       "<matplotlib.figure.Figure at 0x1ada8a58>"
      ]
     },
     "metadata": {},
     "output_type": "display_data"
    }
   ],
   "source": [
    "plt.plot(df5.DSP)"
   ]
  },
  {
   "cell_type": "code",
   "execution_count": 391,
   "metadata": {
    "collapsed": false
   },
   "outputs": [
    {
     "name": "stdout",
     "output_type": "stream",
     "text": [
      "('Coefficients:', array([  7.44356e+06,   3.52213e+01,   6.68821e+07,  -2.35468e+06,\n",
      "         3.45423e+06,  -1.78484e+06,   2.43065e+07,   4.03154e+05]))\n",
      "Mean squared error: 600101.33\n",
      "R Squared score:\n"
     ]
    },
    {
     "data": {
      "text/plain": [
       "0.97320574055655718"
      ]
     },
     "execution_count": 391,
     "metadata": {},
     "output_type": "execute_result"
    }
   ],
   "source": [
    "from sklearn import linear_model\n",
    "# Create linear regression object\n",
    "regr = linear_model.LinearRegression()\n",
    "# Train the model using the training sets\n",
    "regr.fit(df5, y)\n",
    "# The coefficients\n",
    "print('Coefficients:', regr.coef_)\n",
    "# The mean squared error\n",
    "print(\"Mean squared error: %.2f\"\n",
    "      % np.mean(np.sqrt(regr.predict(df5) - y) ** 2))\n",
    "# Explained variance score: 1 is perfect prediction\n",
    "print \"R Squared score:\";regr.score(df5, y)"
   ]
  },
  {
   "cell_type": "code",
   "execution_count": 392,
   "metadata": {
    "collapsed": false,
    "scrolled": false
   },
   "outputs": [
    {
     "data": {
      "text/plain": [
       "<matplotlib.text.Text at 0x19df2d68>"
      ]
     },
     "execution_count": 392,
     "metadata": {},
     "output_type": "execute_result"
    },
    {
     "data": {
      "image/png": "[encoded data removed]",
      "text/plain": [
       "<matplotlib.figure.Figure at 0x1af4be80>"
      ]
     },
     "metadata": {},
     "output_type": "display_data"
    }
   ],
   "source": [
    "res = regr.predict(df5) - y\n",
    "plt.axhline(0)\n",
    "plt.scatter(range(len(res)),res.values,color = 'r')\n",
    "plt.title('Residual Plot')"
   ]
  },
  {
   "cell_type": "code",
   "execution_count": 393,
   "metadata": {
    "collapsed": false
   },
   "outputs": [
    {
     "data": {
      "text/plain": [
       "array([  7.44356e+06,   3.52213e+01,   6.68821e+07,  -2.35468e+06,\n",
       "         3.45423e+06,  -1.78484e+06,   2.43065e+07,   4.03154e+05])"
      ]
     },
     "execution_count": 393,
     "metadata": {},
     "output_type": "execute_result"
    }
   ],
   "source": [
    "regr.coef_"
   ]
  },
  {
   "cell_type": "code",
   "execution_count": 394,
   "metadata": {
    "collapsed": false
   },
   "outputs": [
    {
     "data": {
      "text/plain": [
       "-1093055.9359365664"
      ]
     },
     "execution_count": 394,
     "metadata": {},
     "output_type": "execute_result"
    }
   ],
   "source": [
    "regr.intercept_"
   ]
  },
  {
   "cell_type": "code",
   "execution_count": 395,
   "metadata": {
    "collapsed": false,
    "scrolled": false
   },
   "outputs": [
    {
     "data": {
      "text/plain": [
       "<matplotlib.text.Text at 0x197a2550>"
      ]
     },
     "execution_count": 395,
     "metadata": {},
     "output_type": "execute_result"
    },
    {
     "data": {
      "image/png": "[encoded data removed]",
      "text/plain": [
       "<matplotlib.figure.Figure at 0x19ce3d30>"
      ]
     },
     "metadata": {},
     "output_type": "display_data"
    }
   ],
   "source": [
    "plt.figure(figsize=(12,8))\n",
    "plt.barh(range(len(regr.coef_)),regr.coef_,height=0.2,tick_label = df5.columns)\n",
    "plt.title('Regression Coefficients')"
   ]
  },
  {
   "cell_type": "code",
   "execution_count": 396,
   "metadata": {
    "collapsed": false,
    "scrolled": false
   },
   "outputs": [
    {
     "data": {
      "text/plain": [
       "[<matplotlib.lines.Line2D at 0x190339b0>]"
      ]
     },
     "execution_count": 396,
     "metadata": {},
     "output_type": "execute_result"
    },
    {
     "data": {
      "image/png": "[encoded data removed]",
      "text/plain": [
       "<matplotlib.figure.Figure at 0x19ce3358>"
      ]
     },
     "metadata": {},
     "output_type": "display_data"
    }
   ],
   "source": [
    "plt.plot(regr.predict(df5_scaled))"
   ]
  },
  {
   "cell_type": "code",
   "execution_count": 397,
   "metadata": {
    "collapsed": false
   },
   "outputs": [
    {
     "data": {
      "text/plain": [
       "[<matplotlib.lines.Line2D at 0x1b131208>]"
      ]
     },
     "execution_count": 397,
     "metadata": {},
     "output_type": "execute_result"
    },
    {
     "data": {
      "image/png": "[encoded data removed]",
      "text/plain": [
       "<matplotlib.figure.Figure at 0x1b1cd438>"
      ]
     },
     "metadata": {},
     "output_type": "display_data"
    }
   ],
   "source": [
    "plt.ylim(-1e7,0.5e7)\n",
    "plt.plot(y)"
   ]
  },
  {
   "cell_type": "code",
   "execution_count": 398,
   "metadata": {
    "collapsed": false
   },
   "outputs": [
    {
     "data": {
      "text/html": [
       "<div>\n",
       "<table border=\"1\" class=\"dataframe\">\n",
       "  <thead>\n",
       "    <tr style=\"text-align: right;\">\n",
       "      <th></th>\n",
       "      <th>DISCOUNT_PER_ML</th>\n",
       "      <th>DSP</th>\n",
       "      <th>IsD11</th>\n",
       "      <th>IsD11PS</th>\n",
       "      <th>IsD9</th>\n",
       "      <th>IsD12PS</th>\n",
       "      <th>IsD12</th>\n",
       "      <th>IsOtherLV1Campaign</th>\n",
       "    </tr>\n",
       "  </thead>\n",
       "  <tbody>\n",
       "    <tr>\n",
       "      <th>count</th>\n",
       "      <td>173.000000</td>\n",
       "      <td>173.000000</td>\n",
       "      <td>173.000000</td>\n",
       "      <td>173.000000</td>\n",
       "      <td>173.000000</td>\n",
       "      <td>173.000000</td>\n",
       "      <td>173.000000</td>\n",
       "      <td>173.000000</td>\n",
       "    </tr>\n",
       "    <tr>\n",
       "      <th>mean</th>\n",
       "      <td>0.318327</td>\n",
       "      <td>16994.226821</td>\n",
       "      <td>0.005780</td>\n",
       "      <td>0.121387</td>\n",
       "      <td>0.011561</td>\n",
       "      <td>0.040462</td>\n",
       "      <td>0.005780</td>\n",
       "      <td>0.052023</td>\n",
       "    </tr>\n",
       "    <tr>\n",
       "      <th>std</th>\n",
       "      <td>0.092524</td>\n",
       "      <td>28872.259940</td>\n",
       "      <td>0.076029</td>\n",
       "      <td>0.327525</td>\n",
       "      <td>0.107208</td>\n",
       "      <td>0.197613</td>\n",
       "      <td>0.076029</td>\n",
       "      <td>0.222718</td>\n",
       "    </tr>\n",
       "    <tr>\n",
       "      <th>min</th>\n",
       "      <td>-0.016396</td>\n",
       "      <td>0.000000</td>\n",
       "      <td>0.000000</td>\n",
       "      <td>0.000000</td>\n",
       "      <td>0.000000</td>\n",
       "      <td>0.000000</td>\n",
       "      <td>0.000000</td>\n",
       "      <td>0.000000</td>\n",
       "    </tr>\n",
       "    <tr>\n",
       "      <th>25%</th>\n",
       "      <td>0.319629</td>\n",
       "      <td>0.000000</td>\n",
       "      <td>0.000000</td>\n",
       "      <td>0.000000</td>\n",
       "      <td>0.000000</td>\n",
       "      <td>0.000000</td>\n",
       "      <td>0.000000</td>\n",
       "      <td>0.000000</td>\n",
       "    </tr>\n",
       "    <tr>\n",
       "      <th>50%</th>\n",
       "      <td>0.336880</td>\n",
       "      <td>999.650000</td>\n",
       "      <td>0.000000</td>\n",
       "      <td>0.000000</td>\n",
       "      <td>0.000000</td>\n",
       "      <td>0.000000</td>\n",
       "      <td>0.000000</td>\n",
       "      <td>0.000000</td>\n",
       "    </tr>\n",
       "    <tr>\n",
       "      <th>75%</th>\n",
       "      <td>0.360965</td>\n",
       "      <td>26264.950000</td>\n",
       "      <td>0.000000</td>\n",
       "      <td>0.000000</td>\n",
       "      <td>0.000000</td>\n",
       "      <td>0.000000</td>\n",
       "      <td>0.000000</td>\n",
       "      <td>0.000000</td>\n",
       "    </tr>\n",
       "    <tr>\n",
       "      <th>max</th>\n",
       "      <td>0.475583</td>\n",
       "      <td>199437.120000</td>\n",
       "      <td>1.000000</td>\n",
       "      <td>1.000000</td>\n",
       "      <td>1.000000</td>\n",
       "      <td>1.000000</td>\n",
       "      <td>1.000000</td>\n",
       "      <td>1.000000</td>\n",
       "    </tr>\n",
       "  </tbody>\n",
       "</table>\n",
       "</div>"
      ],
      "text/plain": [
       "       DISCOUNT_PER_ML            DSP       IsD11     IsD11PS        IsD9  \\\n",
       "count       173.000000     173.000000  173.000000  173.000000  173.000000   \n",
       "mean          0.318327   16994.226821    0.005780    0.121387    0.011561   \n",
       "std           0.092524   28872.259940    0.076029    0.327525    0.107208   \n",
       "min          -0.016396       0.000000    0.000000    0.000000    0.000000   \n",
       "25%           0.319629       0.000000    0.000000    0.000000    0.000000   \n",
       "50%           0.336880     999.650000    0.000000    0.000000    0.000000   \n",
       "75%           0.360965   26264.950000    0.000000    0.000000    0.000000   \n",
       "max           0.475583  199437.120000    1.000000    1.000000    1.000000   \n",
       "\n",
       "          IsD12PS       IsD12  IsOtherLV1Campaign  \n",
       "count  173.000000  173.000000          173.000000  \n",
       "mean     0.040462    0.005780            0.052023  \n",
       "std      0.197613    0.076029            0.222718  \n",
       "min      0.000000    0.000000            0.000000  \n",
       "25%      0.000000    0.000000            0.000000  \n",
       "50%      0.000000    0.000000            0.000000  \n",
       "75%      0.000000    0.000000            0.000000  \n",
       "max      1.000000    1.000000            1.000000  "
      ]
     },
     "execution_count": 398,
     "metadata": {},
     "output_type": "execute_result"
    }
   ],
   "source": [
    "df5.describe()"
   ]
  },
  {
   "cell_type": "code",
   "execution_count": 413,
   "metadata": {
    "collapsed": false
   },
   "outputs": [],
   "source": [
    "df_base = df5[(df5.DISCOUNT_PER_ML < 0.319629) & (df5.DSP == 0) ]"
   ]
  },
  {
   "cell_type": "code",
   "execution_count": 414,
   "metadata": {
    "collapsed": false
   },
   "outputs": [
    {
     "data": {
      "text/plain": [
       "1103122.142857143"
      ]
     },
     "execution_count": 414,
     "metadata": {},
     "output_type": "execute_result"
    }
   ],
   "source": [
    "index = df_base.index\n",
    "base = y[index].mean()\n",
    "base"
   ]
  },
  {
   "cell_type": "code",
   "execution_count": 415,
   "metadata": {
    "collapsed": true
   },
   "outputs": [],
   "source": [
    "df_base_2 = df5.copy()"
   ]
  },
  {
   "cell_type": "code",
   "execution_count": 416,
   "metadata": {
    "collapsed": false
   },
   "outputs": [],
   "source": [
    "for col in df_base_2.columns:\n",
    "    if col != 'DISCOUNT_PER_ML':\n",
    "        df_base_2[col] = df_base_2[col].apply(lambda x:0)"
   ]
  },
  {
   "cell_type": "code",
   "execution_count": 417,
   "metadata": {
    "collapsed": false
   },
   "outputs": [
    {
     "data": {
      "text/html": [
       "<div>\n",
       "<table border=\"1\" class=\"dataframe\">\n",
       "  <thead>\n",
       "    <tr style=\"text-align: right;\">\n",
       "      <th></th>\n",
       "      <th>DISCOUNT_PER_ML</th>\n",
       "      <th>DSP</th>\n",
       "      <th>IsD11</th>\n",
       "      <th>IsD11PS</th>\n",
       "      <th>IsD9</th>\n",
       "      <th>IsD12PS</th>\n",
       "      <th>IsD12</th>\n",
       "      <th>IsOtherLV1Campaign</th>\n",
       "    </tr>\n",
       "  </thead>\n",
       "  <tbody>\n",
       "    <tr>\n",
       "      <th>2016-07-01</th>\n",
       "      <td>0.338426</td>\n",
       "      <td>0</td>\n",
       "      <td>0</td>\n",
       "      <td>0</td>\n",
       "      <td>0</td>\n",
       "      <td>0</td>\n",
       "      <td>0</td>\n",
       "      <td>0</td>\n",
       "    </tr>\n",
       "    <tr>\n",
       "      <th>2016-07-02</th>\n",
       "      <td>0.336245</td>\n",
       "      <td>0</td>\n",
       "      <td>0</td>\n",
       "      <td>0</td>\n",
       "      <td>0</td>\n",
       "      <td>0</td>\n",
       "      <td>0</td>\n",
       "      <td>0</td>\n",
       "    </tr>\n",
       "    <tr>\n",
       "      <th>2016-07-03</th>\n",
       "      <td>0.335977</td>\n",
       "      <td>0</td>\n",
       "      <td>0</td>\n",
       "      <td>0</td>\n",
       "      <td>0</td>\n",
       "      <td>0</td>\n",
       "      <td>0</td>\n",
       "      <td>0</td>\n",
       "    </tr>\n",
       "    <tr>\n",
       "      <th>2016-07-04</th>\n",
       "      <td>0.323981</td>\n",
       "      <td>0</td>\n",
       "      <td>0</td>\n",
       "      <td>0</td>\n",
       "      <td>0</td>\n",
       "      <td>0</td>\n",
       "      <td>0</td>\n",
       "      <td>0</td>\n",
       "    </tr>\n",
       "    <tr>\n",
       "      <th>2016-07-05</th>\n",
       "      <td>0.322518</td>\n",
       "      <td>0</td>\n",
       "      <td>0</td>\n",
       "      <td>0</td>\n",
       "      <td>0</td>\n",
       "      <td>0</td>\n",
       "      <td>0</td>\n",
       "      <td>0</td>\n",
       "    </tr>\n",
       "  </tbody>\n",
       "</table>\n",
       "</div>"
      ],
      "text/plain": [
       "            DISCOUNT_PER_ML  DSP  IsD11  IsD11PS  IsD9  IsD12PS  IsD12  \\\n",
       "2016-07-01         0.338426    0      0        0     0        0      0   \n",
       "2016-07-02         0.336245    0      0        0     0        0      0   \n",
       "2016-07-03         0.335977    0      0        0     0        0      0   \n",
       "2016-07-04         0.323981    0      0        0     0        0      0   \n",
       "2016-07-05         0.322518    0      0        0     0        0      0   \n",
       "\n",
       "            IsOtherLV1Campaign  \n",
       "2016-07-01                   0  \n",
       "2016-07-02                   0  \n",
       "2016-07-03                   0  \n",
       "2016-07-04                   0  \n",
       "2016-07-05                   0  "
      ]
     },
     "execution_count": 417,
     "metadata": {},
     "output_type": "execute_result"
    }
   ],
   "source": [
    "df_base_2.head()"
   ]
  },
  {
   "cell_type": "code",
   "execution_count": 418,
   "metadata": {
    "collapsed": false
   },
   "outputs": [],
   "source": [
    "y2 =(regr.predict(df_base_2))"
   ]
  },
  {
   "cell_type": "code",
   "execution_count": 419,
   "metadata": {
    "collapsed": false
   },
   "outputs": [
    {
     "data": {
      "text/plain": [
       "[<matplotlib.lines.Line2D at 0x1a9dbe80>]"
      ]
     },
     "execution_count": 419,
     "metadata": {},
     "output_type": "execute_result"
    },
    {
     "data": {
      "image/png": "[encoded data removed]",
      "text/plain": [
       "<matplotlib.figure.Figure at 0x1ab7b780>"
      ]
     },
     "metadata": {},
     "output_type": "display_data"
    }
   ],
   "source": [
    "plt.plot(y2)"
   ]
  },
  {
   "cell_type": "code",
   "execution_count": 420,
   "metadata": {
    "collapsed": true
   },
   "outputs": [],
   "source": [
    "df_base_3 = df5.copy()"
   ]
  },
  {
   "cell_type": "code",
   "execution_count": 421,
   "metadata": {
    "collapsed": false
   },
   "outputs": [],
   "source": [
    "for col in df_base_3.columns:\n",
    "    if col not in  ['DISCOUNT_PER_ML','DSP']:\n",
    "        df_base_3[col] = df_base_3[col].apply(lambda x:0)"
   ]
  },
  {
   "cell_type": "code",
   "execution_count": 422,
   "metadata": {
    "collapsed": false
   },
   "outputs": [
    {
     "data": {
      "text/html": [
       "<div>\n",
       "<table border=\"1\" class=\"dataframe\">\n",
       "  <thead>\n",
       "    <tr style=\"text-align: right;\">\n",
       "      <th></th>\n",
       "      <th>DISCOUNT_PER_ML</th>\n",
       "      <th>DSP</th>\n",
       "      <th>IsD11</th>\n",
       "      <th>IsD11PS</th>\n",
       "      <th>IsD9</th>\n",
       "      <th>IsD12PS</th>\n",
       "      <th>IsD12</th>\n",
       "      <th>IsOtherLV1Campaign</th>\n",
       "    </tr>\n",
       "  </thead>\n",
       "  <tbody>\n",
       "    <tr>\n",
       "      <th>2016-07-01</th>\n",
       "      <td>0.338426</td>\n",
       "      <td>5105.55</td>\n",
       "      <td>0</td>\n",
       "      <td>0</td>\n",
       "      <td>0</td>\n",
       "      <td>0</td>\n",
       "      <td>0</td>\n",
       "      <td>0</td>\n",
       "    </tr>\n",
       "    <tr>\n",
       "      <th>2016-07-02</th>\n",
       "      <td>0.336245</td>\n",
       "      <td>432.01</td>\n",
       "      <td>0</td>\n",
       "      <td>0</td>\n",
       "      <td>0</td>\n",
       "      <td>0</td>\n",
       "      <td>0</td>\n",
       "      <td>0</td>\n",
       "    </tr>\n",
       "    <tr>\n",
       "      <th>2016-07-03</th>\n",
       "      <td>0.335977</td>\n",
       "      <td>0.00</td>\n",
       "      <td>0</td>\n",
       "      <td>0</td>\n",
       "      <td>0</td>\n",
       "      <td>0</td>\n",
       "      <td>0</td>\n",
       "      <td>0</td>\n",
       "    </tr>\n",
       "    <tr>\n",
       "      <th>2016-07-04</th>\n",
       "      <td>0.323981</td>\n",
       "      <td>0.00</td>\n",
       "      <td>0</td>\n",
       "      <td>0</td>\n",
       "      <td>0</td>\n",
       "      <td>0</td>\n",
       "      <td>0</td>\n",
       "      <td>0</td>\n",
       "    </tr>\n",
       "    <tr>\n",
       "      <th>2016-07-05</th>\n",
       "      <td>0.322518</td>\n",
       "      <td>0.00</td>\n",
       "      <td>0</td>\n",
       "      <td>0</td>\n",
       "      <td>0</td>\n",
       "      <td>0</td>\n",
       "      <td>0</td>\n",
       "      <td>0</td>\n",
       "    </tr>\n",
       "  </tbody>\n",
       "</table>\n",
       "</div>"
      ],
      "text/plain": [
       "            DISCOUNT_PER_ML      DSP  IsD11  IsD11PS  IsD9  IsD12PS  IsD12  \\\n",
       "2016-07-01         0.338426  5105.55      0        0     0        0      0   \n",
       "2016-07-02         0.336245   432.01      0        0     0        0      0   \n",
       "2016-07-03         0.335977     0.00      0        0     0        0      0   \n",
       "2016-07-04         0.323981     0.00      0        0     0        0      0   \n",
       "2016-07-05         0.322518     0.00      0        0     0        0      0   \n",
       "\n",
       "            IsOtherLV1Campaign  \n",
       "2016-07-01                   0  \n",
       "2016-07-02                   0  \n",
       "2016-07-03                   0  \n",
       "2016-07-04                   0  \n",
       "2016-07-05                   0  "
      ]
     },
     "execution_count": 422,
     "metadata": {},
     "output_type": "execute_result"
    }
   ],
   "source": [
    "df_base_3.head()"
   ]
  },
  {
   "cell_type": "code",
   "execution_count": 423,
   "metadata": {
    "collapsed": true
   },
   "outputs": [],
   "source": [
    "y3 = regr.predict(df_base_3)"
   ]
  },
  {
   "cell_type": "code",
   "execution_count": 424,
   "metadata": {
    "collapsed": false
   },
   "outputs": [
    {
     "data": {
      "text/plain": [
       "[<matplotlib.lines.Line2D at 0x19390ac8>]"
      ]
     },
     "execution_count": 424,
     "metadata": {},
     "output_type": "execute_result"
    },
    {
     "data": {
      "image/png": "[encoded data removed]",
      "text/plain": [
       "<matplotlib.figure.Figure at 0x1918f978>"
      ]
     },
     "metadata": {},
     "output_type": "display_data"
    }
   ],
   "source": [
    "plt.plot(y3)"
   ]
  },
  {
   "cell_type": "code",
   "execution_count": 425,
   "metadata": {
    "collapsed": true
   },
   "outputs": [],
   "source": [
    "y4 = regr.predict(df5)"
   ]
  },
  {
   "cell_type": "code",
   "execution_count": 426,
   "metadata": {
    "collapsed": false
   },
   "outputs": [],
   "source": [
    "y = np.row_stack(([base]*len(y2),y2,y3,y4))   "
   ]
  },
  {
   "cell_type": "code",
   "execution_count": 432,
   "metadata": {
    "collapsed": false
   },
   "outputs": [
    {
     "data": {
      "image/png": "[encoded data removed]",
      "text/plain": [
       "<matplotlib.figure.Figure at 0x1d8c29e8>"
      ]
     },
     "metadata": {},
     "output_type": "display_data"
    }
   ],
   "source": [
    "x = df5.index\n",
    "#y_stack = NP.cumsum(y, axis=0)   # a 3x10 array\n",
    "\n",
    "fig = plt.figure(figsize=(16,12))\n",
    "ax1 = fig.add_subplot(111)\n",
    "\n",
    "ax1.fill_between(x, 0, y[0,:], facecolor=\"g\", alpha=.5,label = 'Base')\n",
    "ax1.fill_between(x, y[0,:], y[1,:], facecolor=\"#1DACD6\", alpha=.5,label = 'Discount')\n",
    "ax1.fill_between(x, y[1,:], y[2,:], facecolor=\"#6E5160\",alpha=.5,label = 'DSP')\n",
    "ax1.fill_between(x, y[1,:], y[3,:], facecolor=\"#CC6666\",alpha=.5,label = 'Campaign Day')\n",
    "plt.ylim(0e7,0.5e7)\n",
    "plt.legend()\n",
    "plt.title('VS Vol. Sale Decomposition')\n",
    "plt.ylabel('Sales in ml')\n",
    "plt.show()"
   ]
  },
  {
   "cell_type": "code",
   "execution_count": null,
   "metadata": {
    "collapsed": true
   },
   "outputs": [],
   "source": []
  }
 ],
 "metadata": {
  "anaconda-cloud": {},
  "kernelspec": {
   "display_name": "Python [Root]",
   "language": "python",
   "name": "Python [Root]"
  },
  "language_info": {
   "codemirror_mode": {
    "name": "ipython",
    "version": 2
   },
   "file_extension": ".py",
   "mimetype": "text/x-python",
   "name": "python",
   "nbconvert_exporter": "python",
   "pygments_lexer": "ipython2",
   "version": "2.7.12"
  }
 },
 "nbformat": 4,
 "nbformat_minor": 0
}
