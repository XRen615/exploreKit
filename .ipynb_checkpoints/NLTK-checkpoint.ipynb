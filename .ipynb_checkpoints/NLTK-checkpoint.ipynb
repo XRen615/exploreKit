{
 "cells": [
  {
   "cell_type": "code",
<<<<<<< HEAD
   "execution_count": 2,
   "metadata": {
    "collapsed": false
   },
   "outputs": [],
=======
   "execution_count": 1,
   "metadata": {
    "collapsed": false
   },
   "outputs": [
    {
     "name": "stderr",
     "output_type": "stream",
     "text": [
      "/Users/xinyuyangren/anaconda/lib/python2.7/site-packages/matplotlib/font_manager.py:273: UserWarning: Matplotlib is building the font cache using fc-list. This may take a moment.\n",
      "  warnings.warn('Matplotlib is building the font cache using fc-list. This may take a moment.')\n"
     ]
    }
   ],
>>>>>>> origin/master
   "source": [
    "import nltk\n",
    "%matplotlib inline"
   ]
  },
  {
   "cell_type": "code",
<<<<<<< HEAD
   "execution_count": 3,
   "metadata": {
    "collapsed": false
   },
   "outputs": [
    {
     "name": "stdout",
     "output_type": "stream",
     "text": [
      "showing info https://raw.githubusercontent.com/nltk/nltk_data/gh-pages/index.xml\n"
     ]
    },
    {
     "data": {
      "text/plain": [
       "True"
      ]
     },
     "execution_count": 3,
     "metadata": {},
     "output_type": "execute_result"
    }
   ],
   "source": [
    "nltk.download()"
=======
   "execution_count": 2,
   "metadata": {
    "collapsed": false
   },
   "outputs": [],
   "source": [
    "# nltk.download()"
>>>>>>> origin/master
   ]
  },
  {
   "cell_type": "code",
   "execution_count": 3,
   "metadata": {
    "collapsed": false
   },
   "outputs": [
    {
     "name": "stdout",
     "output_type": "stream",
     "text": [
      "*** Introductory Examples for the NLTK Book ***\n",
      "Loading text1, ..., text9 and sent1, ..., sent9\n",
      "Type the name of the text or sentence to view it.\n",
      "Type: 'texts()' or 'sents()' to list the materials.\n",
      "text1: Moby Dick by Herman Melville 1851\n",
      "text2: Sense and Sensibility by Jane Austen 1811\n",
      "text3: The Book of Genesis\n",
      "text4: Inaugural Address Corpus\n",
      "text5: Chat Corpus\n",
      "text6: Monty Python and the Holy Grail\n",
      "text7: Wall Street Journal\n",
      "text8: Personals Corpus\n",
      "text9: The Man Who Was Thursday by G . K . Chesterton 1908\n"
     ]
    }
   ],
   "source": [
    "from nltk.book import *"
   ]
  },
  {
   "cell_type": "code",
   "execution_count": 4,
   "metadata": {
    "collapsed": false
   },
   "outputs": [
    {
     "name": "stdout",
     "output_type": "stream",
     "text": [
      "Displaying 25 of 656 matches:\n",
      "TION gives U121 a golf clap . :) JOIN hi U59 26 / m / ky women that are nice p\n",
      "s lap . JOIN JOIN any guyz wanna chat hi there boo , it 's a female . hey U126\n",
      "f a female , I can look in a mirror . hi U64 wb U139 u should U44 :) PART PART\n",
      "single dad here JOIN ty U68 PART JOIN Hi U139 PART JOIN hi U138 HAHAHA yw U139\n",
      "IN ty U68 PART JOIN Hi U139 PART JOIN hi U138 HAHAHA yw U139 you should make i\n",
      " make it ' iamahotnip ' , U44 alright hi U139 . you 're fucking hot . i though\n",
      "'re fucking hot . i thought of that ! hi U126 , its so late lmao ahah \" iamaho\n",
      "e lmao ahah \" iamahotniplickme \" PART Hi U121 in ny . ACTION would lol @ U121 \n",
      "white male 26 ca n't sleep huh ? JOIN hi U139 bye U20 well U68 what did u buy \n",
      "!!!!!!!!!!!!!!!! answers for U139 ... hi U101 ;) I like it when you do it , U8\n",
      " sure u buy a nice ring for U6 lol U7 Hi U115 . ACTION isnt falling for that o\n",
      "uestioned . U121 who honey ?? Depends Hi all 31 / m / CA U115 is having my bab\n",
      " put him in ?? you wish honey .. cmon hi U128 nice JOIN not the special list c\n",
      "cks for everyone else but me .... lol Hi U4 do n't take your own advice ? lol \n",
      " finish meeting with all my clients ) hi room hey U18 .. welcome hi U9 mango i\n",
      " clients ) hi room hey U18 .. welcome hi U9 mango is my fav JOIN thank you PAR\n",
      "hank you PART shaken or stirred U18 ? hi U19 hey U18 good ques U17 always shak\n",
      "ntly from texas who said yeppers alot hi JOIN yea my 18 year old plays in my b\n",
      "N yea my 18 year old plays in my band hi all hi U21 JOIN hey u550436035 NICK :\n",
      "y 18 year old plays in my band hi all hi U21 JOIN hey u550436035 NICK : U10 i \n",
      "21 JOIN hey u550436035 NICK : U10 i c hi all hey U23 hun hi U9 hi U23 yea its \n",
      "035 NICK : U10 i c hi all hey U23 hun hi U9 hi U23 yea its pretty cool nice to\n",
      "CK : U10 i c hi all hey U23 hun hi U9 hi U23 yea its pretty cool nice to see y\n",
      "ey everyone so how do you unwind U9 ? hi i 'm doin' it now U17 the hair would \n",
      " really ! with one hand what U11 JOIN hi U24 gentlemen ... let \"s be nce ... t\n"
     ]
    }
   ],
   "source": [
    "text5.concordance('hi')"
   ]
  },
  {
   "cell_type": "code",
   "execution_count": 5,
   "metadata": {
    "collapsed": false
   },
   "outputs": [
    {
     "name": "stdout",
     "output_type": "stream",
     "text": [
      "join part lol hey wb all hiya lmao i hello and no ty there everyone\n",
      "yes what room howdy to\n"
     ]
    }
   ],
   "source": [
    "text5.similar('hi')"
   ]
  },
  {
   "cell_type": "code",
   "execution_count": 6,
   "metadata": {
    "collapsed": false
   },
   "outputs": [
    {
     "name": "stdout",
     "output_type": "stream",
     "text": [
<<<<<<< HEAD
      "lol_join part_hi lol_wb hi_no me_part is_hi part_lol wb_part hi_all\n",
=======
      "lol_join part_hi lol_wb hi_no me_part is_hi hi_lol wb_part hi_all\n",
>>>>>>> origin/master
      "lol_thanks part_it today_hi hey_hiya hi_part lol_there coffee_hi\n",
      "join_hi lol_part lol_love part_how\n"
     ]
    }
   ],
   "source": [
    "text5.common_contexts(['hi','lol'])"
   ]
  },
  {
   "cell_type": "code",
   "execution_count": 7,
   "metadata": {
    "collapsed": false
   },
   "outputs": [
    {
     "data": {
<<<<<<< HEAD
      "image/png": "iVBORw0KGgoAAAANSUhEUgAAAZ0AAAEUCAYAAADwYOuyAAAABHNCSVQICAgIfAhkiAAAAAlwSFlz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\nmJlZMg4dMzNL5v8DRl/04knlCA4AAAAASUVORK5CYII=\n",
      "text/plain": [
       "<matplotlib.figure.Figure at 0x3f676a0>"
=======
      "image/png": "iVBORw0KGgoAAAANSUhEUgAAAlIAAAGHCAYAAAB7xLxyAAAABHNCSVQICAgIfAhkiAAAAAlwSFlz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\nrkJggg==\n",
      "text/plain": [
       "<matplotlib.figure.Figure at 0x104557790>"
>>>>>>> origin/master
      ]
     },
     "metadata": {},
     "output_type": "display_data"
    }
   ],
   "source": [
    "text4.dispersion_plot([\"citizens\", \"democracy\", \"freedom\", \"duties\", \"America\"])"
   ]
  },
  {
   "cell_type": "code",
   "execution_count": 8,
   "metadata": {
    "collapsed": false
   },
   "outputs": [
    {
     "data": {
      "text/plain": [
<<<<<<< HEAD
       "[('They', 'PRP'),\n",
       " ('refuse', 'VBP'),\n",
       " ('to', 'TO'),\n",
       " ('permit', 'VB'),\n",
       " ('us', 'PRP'),\n",
       " ('to', 'TO'),\n",
       " ('obtain', 'VB'),\n",
       " ('the', 'DT'),\n",
       " ('refuse', 'NN'),\n",
       " ('permit', 'NN')]"
=======
       "9754"
>>>>>>> origin/master
      ]
     },
     "execution_count": 8,
     "metadata": {},
     "output_type": "execute_result"
    }
   ],
   "source": [
<<<<<<< HEAD
    "# Tagging\n",
    "text = nltk.word_tokenize(\"They refuse to permit us to obtain the refuse permit\")\n",
    "nltk.pos_tag(text)"
=======
    "len(sorted(set(text4)))"
   ]
  },
  {
   "cell_type": "code",
   "execution_count": 9,
   "metadata": {
    "collapsed": false
   },
   "outputs": [
    {
     "data": {
      "text/plain": [
       "145735"
      ]
     },
     "execution_count": 9,
     "metadata": {},
     "output_type": "execute_result"
    }
   ],
   "source": [
    "len(text4)"
   ]
  },
  {
   "cell_type": "code",
   "execution_count": 10,
   "metadata": {
    "collapsed": true
   },
   "outputs": [],
   "source": [
    "fdist1 = FreqDist(text1)"
   ]
  },
  {
   "cell_type": "code",
   "execution_count": 11,
   "metadata": {
    "collapsed": false,
    "scrolled": true
   },
   "outputs": [
    {
     "data": {
      "text/plain": [
       "[u'funereal',\n",
       " u'unscientific',\n",
       " u'divinely',\n",
       " u'foul',\n",
       " u'four',\n",
       " u'gag',\n",
       " u'prefix',\n",
       " u'woods',\n",
       " u'clotted',\n",
       " u'Duck',\n",
       " u'hanging',\n",
       " u'plaudits',\n",
       " u'woody',\n",
       " u'Until',\n",
       " u'marching',\n",
       " u'disobeying',\n",
       " u'canes',\n",
       " u'granting',\n",
       " u'advantage',\n",
       " u'Westers',\n",
       " u'insertion',\n",
       " u'DRYDEN',\n",
       " u'formless',\n",
       " u'Untried',\n",
       " u'superficially',\n",
       " u'Western',\n",
       " u'portentous',\n",
       " u'beacon',\n",
       " u'meadows',\n",
       " u'sinking',\n",
       " u'Ding',\n",
       " u'Spurn',\n",
       " u'treasuries',\n",
       " u'churned',\n",
       " u'oceans',\n",
       " u'powders',\n",
       " u'tinkerings',\n",
       " u'tantalizing',\n",
       " u'yellow',\n",
       " u'bolting',\n",
       " u'uncertain',\n",
       " u'stabbed',\n",
       " u'bringing',\n",
       " u'elevations',\n",
       " u'ferreting',\n",
       " u'believers',\n",
       " u'wooded',\n",
       " u'songster',\n",
       " u'uttering',\n",
       " u'scholar',\n",
       " u'Less',\n",
       " u'wooden',\n",
       " u'Saco',\n",
       " u'clings',\n",
       " u'piling',\n",
       " u'broiled',\n",
       " u'Winding',\n",
       " u'persisted',\n",
       " u'Does',\n",
       " u'Sands',\n",
       " u'crotch',\n",
       " u'succession',\n",
       " u'spindle',\n",
       " u'Paul',\n",
       " u'reliable',\n",
       " u'Bolivia',\n",
       " u'ornamental',\n",
       " u'charter',\n",
       " u'puissant',\n",
       " u'sooty',\n",
       " u'nigh',\n",
       " u'heaped',\n",
       " u'imminglings',\n",
       " u'miller',\n",
       " u'cordially',\n",
       " u'railing',\n",
       " u'mail',\n",
       " u'pulse',\n",
       " u'elegant',\n",
       " u'second',\n",
       " u'Hecla',\n",
       " u'valiant',\n",
       " u'sustaining',\n",
       " u'compliance',\n",
       " u'sailed',\n",
       " u'scraped',\n",
       " u'haughtily',\n",
       " u'bolts',\n",
       " u'hilariously',\n",
       " u'errors',\n",
       " u'relieving',\n",
       " u'whaling',\n",
       " u'BERMUDAS',\n",
       " u'ruthless',\n",
       " u'thunder',\n",
       " u'cooking',\n",
       " u'contributed',\n",
       " u'fingers',\n",
       " u'shamble',\n",
       " u'hostile',\n",
       " u'fossil',\n",
       " u'sneering',\n",
       " u'College',\n",
       " u'increasing',\n",
       " u'admiral',\n",
       " u'exclamations',\n",
       " u'shocks',\n",
       " u'psalmody',\n",
       " u'avers',\n",
       " u'hero',\n",
       " u'intellects',\n",
       " u'Plate',\n",
       " u'gayer',\n",
       " u'leaning',\n",
       " u'here',\n",
       " u'herd',\n",
       " u'reported',\n",
       " u'Fiery',\n",
       " u'primogenitures',\n",
       " u'gaffs',\n",
       " u'fissures',\n",
       " u'browed',\n",
       " u'shriek',\n",
       " u'calculate',\n",
       " u'natured',\n",
       " u'invade',\n",
       " u'bulkhead',\n",
       " u'substance',\n",
       " u'whiffs',\n",
       " u'unwillingness',\n",
       " u'elaborate',\n",
       " u'climbed',\n",
       " u'unfriendly',\n",
       " u'reports',\n",
       " u'Yonder',\n",
       " u'circumferences',\n",
       " u'electricity',\n",
       " u'misgrown',\n",
       " u'transfixed',\n",
       " u'natures',\n",
       " u'NOT',\n",
       " u'military',\n",
       " u'Isles',\n",
       " u'rebel',\n",
       " u'punctilious',\n",
       " u'golden',\n",
       " u'divide',\n",
       " u'classification',\n",
       " u'secluded',\n",
       " u'sweetest',\n",
       " u'SAMUEL',\n",
       " u'precincts',\n",
       " u'Three',\n",
       " u'shabbily',\n",
       " u'summons',\n",
       " u'brought',\n",
       " u'Hardicanutes',\n",
       " u'remnant',\n",
       " u'stern',\n",
       " u'Wales',\n",
       " u'sinew',\n",
       " u'painters',\n",
       " u'cherishing',\n",
       " u'cheating',\n",
       " u'spoke',\n",
       " u'handedness',\n",
       " u'exhort',\n",
       " u'glimmering',\n",
       " u'cannibal',\n",
       " u'accommodation',\n",
       " u'occupying',\n",
       " u'moth',\n",
       " u'reverenced',\n",
       " u'music',\n",
       " u'therefore',\n",
       " u'passport',\n",
       " u'violently',\n",
       " u'strike',\n",
       " u'fossiliferous',\n",
       " u'until',\n",
       " u'icebound',\n",
       " u'suffocated',\n",
       " u'Blind',\n",
       " u'females',\n",
       " u'holy',\n",
       " u'Cockatoo',\n",
       " u'successful',\n",
       " u'Biographical',\n",
       " u'hereby',\n",
       " u'whirling',\n",
       " u'canonized',\n",
       " u'hurt',\n",
       " u'99',\n",
       " u'glass',\n",
       " u'diademed',\n",
       " u'menaced',\n",
       " u'tying',\n",
       " u'lord',\n",
       " u'91',\n",
       " u'90',\n",
       " u'midst',\n",
       " u'hold',\n",
       " u'extorting',\n",
       " u'whalebone',\n",
       " u'97',\n",
       " u'circumstances',\n",
       " u'tastefully',\n",
       " u'morally',\n",
       " u'PREBLE',\n",
       " u'archaeological',\n",
       " u'pursue',\n",
       " u'famed',\n",
       " u'blade',\n",
       " u'plunged',\n",
       " u'Chilian',\n",
       " u'locker',\n",
       " u'cuttle',\n",
       " u'View',\n",
       " u'leaped',\n",
       " u'moidores',\n",
       " u'Holloa',\n",
       " u'apoplexy',\n",
       " u'ELLERY',\n",
       " u'example',\n",
       " u'misfortunes',\n",
       " u'wand',\n",
       " u'La',\n",
       " u'Lo',\n",
       " u'household',\n",
       " u'OWEN',\n",
       " u'organized',\n",
       " u'Reality',\n",
       " u'Tartarian',\n",
       " u'caution',\n",
       " u'kingdoms',\n",
       " u'want',\n",
       " u'Unicornism',\n",
       " u'jure',\n",
       " u'absolute',\n",
       " u'provincial',\n",
       " u'enlist',\n",
       " u'hoe',\n",
       " u'hob',\n",
       " u'groaned',\n",
       " u'auger',\n",
       " u'travel',\n",
       " u'cavaliers',\n",
       " u'subtleness',\n",
       " u'clews',\n",
       " u'Physiognomist',\n",
       " u'embellishments',\n",
       " u'how',\n",
       " u'hot',\n",
       " u'hesitatingly',\n",
       " u'hop',\n",
       " u'significance',\n",
       " u'dignified',\n",
       " u'A',\n",
       " u'sighted',\n",
       " u'hoot',\n",
       " u'abstraction',\n",
       " u'MORALS',\n",
       " u'inherent',\n",
       " u'disrated',\n",
       " u'envied',\n",
       " u'shores',\n",
       " u'wrong',\n",
       " u'homewardbound',\n",
       " u'destined',\n",
       " u'L1',\n",
       " u'habitude',\n",
       " u'irradiate',\n",
       " u'HAND',\n",
       " u'domed',\n",
       " u'obscuring',\n",
       " u'Arethusa',\n",
       " u'persuasiveness',\n",
       " u'calves',\n",
       " u'trellised',\n",
       " u'immitigable',\n",
       " u'pyramidical',\n",
       " u'sweatings',\n",
       " u'presiding',\n",
       " u'phrenology',\n",
       " u'baggage',\n",
       " u'Another',\n",
       " u'keeps',\n",
       " u'democratic',\n",
       " u'mightier',\n",
       " u'wing',\n",
       " u'wind',\n",
       " u'wine',\n",
       " u'sprawling',\n",
       " u'snugly',\n",
       " u'betters',\n",
       " u'devoted',\n",
       " u'dreamed',\n",
       " u'Blackstone',\n",
       " u'wiseish',\n",
       " u'profaned',\n",
       " u'narwhales',\n",
       " u'intangible',\n",
       " u'medicament',\n",
       " u'incoherences',\n",
       " u'patrolled',\n",
       " u'fidelity',\n",
       " u'sentry',\n",
       " u'TRUE',\n",
       " u'wrought',\n",
       " u'admirably',\n",
       " u'His',\n",
       " u'Arkite',\n",
       " u'fit',\n",
       " u'Prairies',\n",
       " u'screaming',\n",
       " u'fix',\n",
       " u'mayst',\n",
       " u'HEREABOUTS',\n",
       " u'rescued',\n",
       " u'DANIEL',\n",
       " u'Glimpses',\n",
       " u'bowstring',\n",
       " u'zag',\n",
       " u'nobler',\n",
       " u'wales',\n",
       " u'hidden',\n",
       " u'alpine',\n",
       " u'fin',\n",
       " u'Him',\n",
       " u'feelest',\n",
       " u'grievous',\n",
       " u'copying',\n",
       " u'thrones',\n",
       " u'sneezing',\n",
       " u'slate',\n",
       " u'riggers',\n",
       " u'disturb',\n",
       " u'Commonly',\n",
       " u'LIGHTNING',\n",
       " u'throned',\n",
       " u'staved',\n",
       " u'effects',\n",
       " u'scarfing',\n",
       " u'elevates',\n",
       " u'interrupt',\n",
       " u'sixteen',\n",
       " u'slats',\n",
       " u'silver',\n",
       " u'vernacular',\n",
       " u'represents',\n",
       " u'Start',\n",
       " u'holiness',\n",
       " u'STARBUCK',\n",
       " u'upliftings',\n",
       " u'dumps',\n",
       " u'Shame',\n",
       " u'spotless',\n",
       " u'1750',\n",
       " u'Dutchman',\n",
       " u'Platonists',\n",
       " u'interfering',\n",
       " u'intercepted',\n",
       " u'burial',\n",
       " u'preceded',\n",
       " u'whim',\n",
       " u'Perchance',\n",
       " u'telescope',\n",
       " u'woes',\n",
       " u'warlike',\n",
       " u'series',\n",
       " u'CLUSTERS',\n",
       " u'stronger',\n",
       " u'bowls',\n",
       " u'swaths',\n",
       " u'stoneless',\n",
       " u'precedes',\n",
       " u'rind',\n",
       " u'Lionel',\n",
       " u'cathedral',\n",
       " u'allay',\n",
       " u'blinded',\n",
       " u'whip',\n",
       " u'borne',\n",
       " u'preciousness',\n",
       " u'Algiers',\n",
       " u'misfortune',\n",
       " u'drove',\n",
       " u'elucidating',\n",
       " u'centaurs',\n",
       " u'ha',\n",
       " u'BENNETT',\n",
       " u'excepting',\n",
       " u'urbane',\n",
       " u're',\n",
       " u'specialties',\n",
       " u'ponderings',\n",
       " u'mend',\n",
       " u'cassock',\n",
       " u'millions',\n",
       " u'outburst',\n",
       " u'Vanity',\n",
       " u'rented',\n",
       " u'stamping',\n",
       " u'assured',\n",
       " u'higgledy',\n",
       " u'foremastmen',\n",
       " u'Work',\n",
       " u'threatened',\n",
       " u'fugitive',\n",
       " u'VISITS',\n",
       " u'assures',\n",
       " u'dragons',\n",
       " u'encountering',\n",
       " u'grapes',\n",
       " u'Trinity',\n",
       " u'crowned',\n",
       " u'estimate',\n",
       " u'solicited',\n",
       " u'knit',\n",
       " u'universally',\n",
       " u'enormous',\n",
       " u'ate',\n",
       " u'Socratic',\n",
       " u'shelves',\n",
       " u'interflow',\n",
       " u'flurry',\n",
       " u'Horn',\n",
       " u'shipped',\n",
       " u'speedy',\n",
       " u'knobby',\n",
       " u'Human',\n",
       " u'reserving',\n",
       " u'Gall',\n",
       " u'Niger',\n",
       " u'symbolize',\n",
       " u'caught',\n",
       " u'flitting',\n",
       " u'pitchpoling',\n",
       " u'breed',\n",
       " u'Rarmai',\n",
       " u'Peace',\n",
       " u'subtlety',\n",
       " u'playfully',\n",
       " u'Please',\n",
       " u'wast',\n",
       " u'sallies',\n",
       " u'channels',\n",
       " u'wash',\n",
       " u'spinning',\n",
       " u'FIGURED',\n",
       " u'joyousness',\n",
       " u'clamorous',\n",
       " u'wasn',\n",
       " u'sallied',\n",
       " u'attar',\n",
       " u'Dut',\n",
       " u'WHITE',\n",
       " u'specially',\n",
       " u'masted',\n",
       " u'service',\n",
       " u'similarly',\n",
       " u'lege',\n",
       " u'needed',\n",
       " u'master',\n",
       " u'blossoms',\n",
       " u'unprofessional',\n",
       " u'legs',\n",
       " u'bitter',\n",
       " u'ranging',\n",
       " u'rummaged',\n",
       " u'Alexander',\n",
       " u'banister',\n",
       " u'Ifs',\n",
       " u'immensities',\n",
       " u'fibrous',\n",
       " u'lunges',\n",
       " u'lumber',\n",
       " u'frowned',\n",
       " u'cisterns',\n",
       " u'wisdom',\n",
       " u'incoherently',\n",
       " u'task',\n",
       " u'mutilated',\n",
       " u'Victory',\n",
       " u'palsy',\n",
       " u'sulphur',\n",
       " u'crawl',\n",
       " u'positively',\n",
       " u').--',\n",
       " u'expanding',\n",
       " u'Icebergs',\n",
       " u'Meshach',\n",
       " u'peril',\n",
       " u'exultation',\n",
       " u'showed',\n",
       " u'icicle',\n",
       " u'coward',\n",
       " u'tree',\n",
       " u'rusty',\n",
       " u'idly',\n",
       " u'nations',\n",
       " u'project',\n",
       " u'predominating',\n",
       " u'exclaimed',\n",
       " u'fragrance',\n",
       " u'Cods',\n",
       " u'spermaceti',\n",
       " u'103',\n",
       " u'feeling',\n",
       " u'besooted',\n",
       " u'Angelo',\n",
       " u'volley',\n",
       " u'Vice',\n",
       " u'AUGUST',\n",
       " u'willingness',\n",
       " u'broods',\n",
       " u'keeper',\n",
       " u'Keeping',\n",
       " u'Typhoon',\n",
       " u'craven',\n",
       " u'antagonistic',\n",
       " u'headland',\n",
       " u'Gallipagos',\n",
       " u'Intolerably',\n",
       " u'brawny',\n",
       " u'interblending',\n",
       " u'quay',\n",
       " u'paddled',\n",
       " u'Angels',\n",
       " u'baser',\n",
       " u'dozen',\n",
       " u'Then',\n",
       " u'forgive',\n",
       " u'kidnap',\n",
       " u'wholesome',\n",
       " u'concrete',\n",
       " u'source',\n",
       " u'climate',\n",
       " u'Thee',\n",
       " u'responsible',\n",
       " u'gripe',\n",
       " u'eagerly',\n",
       " u'metallic',\n",
       " u'circumambient',\n",
       " u'NANTUCKET',\n",
       " u'causing',\n",
       " u'absorbed',\n",
       " u'quill',\n",
       " u'They',\n",
       " u'Unicorn',\n",
       " u'warrantry',\n",
       " u'inanimate',\n",
       " u'Jones',\n",
       " u'buck',\n",
       " u'Wise',\n",
       " u'committing',\n",
       " u'transactions',\n",
       " u'thrilled',\n",
       " u'Wish',\n",
       " u'object',\n",
       " u'looming',\n",
       " u'mouts',\n",
       " u'toil',\n",
       " u'mouth',\n",
       " u'inexpressible',\n",
       " u'letter',\n",
       " u'vicinities',\n",
       " u'retaining',\n",
       " u'thicker',\n",
       " u'drought',\n",
       " u'shalt',\n",
       " u'bowings',\n",
       " u'stupid',\n",
       " u'episode',\n",
       " u'artificialness',\n",
       " u'grove',\n",
       " u'professor',\n",
       " u'wreck',\n",
       " u'circlings',\n",
       " u'shiftings',\n",
       " u'Magnitude',\n",
       " u'singed',\n",
       " u'Lothario',\n",
       " u'promiscuously',\n",
       " u'nineteenth',\n",
       " u'scream',\n",
       " u'came',\n",
       " u'marvel',\n",
       " u'saying',\n",
       " u'gorings',\n",
       " u'departing',\n",
       " u'Cambyses',\n",
       " u'blazed',\n",
       " u'meetings',\n",
       " u'liest',\n",
       " u'cavern',\n",
       " u'Rafters',\n",
       " u'whittling',\n",
       " u'unconditional',\n",
       " u'Paradise',\n",
       " u'pilau',\n",
       " u'tempted',\n",
       " u'cheaply',\n",
       " u'abreast',\n",
       " u'vindictive',\n",
       " u'caper',\n",
       " u'touches',\n",
       " u'copy',\n",
       " u'clicked',\n",
       " u'shuffling',\n",
       " u'quaint',\n",
       " u'bust',\n",
       " u'unmisgiving',\n",
       " u'cougar',\n",
       " u'overwrapped',\n",
       " u'bliss',\n",
       " u'touched',\n",
       " u'rich',\n",
       " u'upbraiding',\n",
       " u'foolishly',\n",
       " u'codfish',\n",
       " u'Octavo',\n",
       " u'Belated',\n",
       " u'emphatically',\n",
       " u'plate',\n",
       " u'remotest',\n",
       " u'Lima',\n",
       " u'petrified',\n",
       " u'Nevertheless',\n",
       " u'freshening',\n",
       " u'umbilical',\n",
       " u'terrors',\n",
       " u'foremost',\n",
       " u'pocket',\n",
       " u'Petrified',\n",
       " u'altogether',\n",
       " u'X',\n",
       " u'Labor',\n",
       " u'uncleanliness',\n",
       " u'ECUADOR',\n",
       " u'Senators',\n",
       " u'contributes',\n",
       " u'Shipmate',\n",
       " u'spilling',\n",
       " u'nicely',\n",
       " u'blanched',\n",
       " u'accordance',\n",
       " u'dipping',\n",
       " u'patch',\n",
       " u'Rio',\n",
       " u'eyelids',\n",
       " u'fitly',\n",
       " u'flanked',\n",
       " u'Rig',\n",
       " u'boarded',\n",
       " u'circling',\n",
       " u'respond',\n",
       " u'distortions',\n",
       " u'blew',\n",
       " u'disaster',\n",
       " u'fair',\n",
       " u'expediency',\n",
       " u'branding',\n",
       " u'conservatories',\n",
       " u'recruit',\n",
       " u'unexpectedly',\n",
       " u'bled',\n",
       " u'flaxen',\n",
       " u'result',\n",
       " u'fail',\n",
       " u'crouch',\n",
       " u'fain',\n",
       " u'resigned',\n",
       " u'hammer',\n",
       " u'best',\n",
       " u'pricking',\n",
       " u'Coleridge',\n",
       " u'lots',\n",
       " u'fanged',\n",
       " u'rings',\n",
       " u'solace',\n",
       " u'droves',\n",
       " u'RESPECTABLE',\n",
       " u'score',\n",
       " u'imposingly',\n",
       " u'scorn',\n",
       " u'pirate',\n",
       " u'preserve',\n",
       " u'discipline',\n",
       " u'never',\n",
       " u'Whalebone',\n",
       " u'parallels',\n",
       " u'extend',\n",
       " u'nature',\n",
       " u'rolled',\n",
       " u'inextricable',\n",
       " u'superficial',\n",
       " u'toilette',\n",
       " u'Flip',\n",
       " u'twinkling',\n",
       " u'extent',\n",
       " u'wheelbarrow',\n",
       " u'tendons',\n",
       " u'Descending',\n",
       " u'Peterson',\n",
       " u'Arm',\n",
       " u'pity',\n",
       " u'accident',\n",
       " u'hued',\n",
       " u'veer',\n",
       " u'disdain',\n",
       " u'corrupted',\n",
       " u'country',\n",
       " u'damsels',\n",
       " u'cup',\n",
       " u'adventures',\n",
       " u'demanded',\n",
       " u'pestiferously',\n",
       " u'BRACE',\n",
       " u'109',\n",
       " u'wrapping',\n",
       " u'planned',\n",
       " u'dents',\n",
       " u'argue',\n",
       " u'adapted',\n",
       " u'asked',\n",
       " u'fearlessly',\n",
       " u'lockers',\n",
       " u'brittle',\n",
       " u'pre',\n",
       " u'interregnum',\n",
       " u'topmost',\n",
       " u'honouring',\n",
       " u'vain',\n",
       " u'Christmas',\n",
       " u'caps',\n",
       " u'102',\n",
       " u'charnel',\n",
       " u'clefts',\n",
       " u'gleaming',\n",
       " u'Gently',\n",
       " u'blending',\n",
       " u'humming',\n",
       " u'truthful',\n",
       " u'grazing',\n",
       " u'Instantly',\n",
       " u'signals',\n",
       " u'lighthouse',\n",
       " u'101',\n",
       " u'lieutenants',\n",
       " u'icebergs',\n",
       " u'hues',\n",
       " u'remained',\n",
       " u'fro',\n",
       " u'Malay',\n",
       " u'.',\n",
       " u'twain',\n",
       " u'much',\n",
       " u'Schmerenburgh',\n",
       " u'interpret',\n",
       " u'privilege',\n",
       " u'fry',\n",
       " u'contraction',\n",
       " u'tallest',\n",
       " u'incompetent',\n",
       " u'cub',\n",
       " u'life',\n",
       " u'spit',\n",
       " u'eastern',\n",
       " u'Poland',\n",
       " u'worker',\n",
       " u'synod',\n",
       " u'befriending',\n",
       " u'lift',\n",
       " u'slap',\n",
       " u'doubts',\n",
       " u'worked',\n",
       " u'haters',\n",
       " u'spin',\n",
       " u'forewarnings',\n",
       " u'skilfully',\n",
       " u'chill',\n",
       " u'commerce',\n",
       " u'charted',\n",
       " u'Annawon',\n",
       " u'sanctorum',\n",
       " u'Beware',\n",
       " u'contingencies',\n",
       " u'stiffest',\n",
       " u'excited',\n",
       " u'employ',\n",
       " u'?--\"',\n",
       " u'maned',\n",
       " u'unfulfilments',\n",
       " u\"?--'\",\n",
       " u'predestinating',\n",
       " u'opulence',\n",
       " u'wonted',\n",
       " u'epicurean',\n",
       " u'BALLENA',\n",
       " u'Crusaders',\n",
       " u'skirts',\n",
       " u'remembering',\n",
       " u'footstep',\n",
       " u'Both',\n",
       " u'equator',\n",
       " u'curvicues',\n",
       " u'actuated',\n",
       " u'locksmith',\n",
       " u'obeying',\n",
       " u'taunts',\n",
       " u'eighteen',\n",
       " u'ghastliness',\n",
       " u'Ginger',\n",
       " u'Sword',\n",
       " u'Gazette',\n",
       " u'LEAP',\n",
       " u'Constantinople',\n",
       " u'hone',\n",
       " u'Denderah',\n",
       " u'damaged',\n",
       " u'Main',\n",
       " u'feebler',\n",
       " u'whimsicalities',\n",
       " u'malefactors',\n",
       " u'credit',\n",
       " u'things',\n",
       " u'Oh',\n",
       " u'shipwrecked',\n",
       " u'rebellion',\n",
       " u'Tahitian',\n",
       " u'Antony',\n",
       " u'swarthy',\n",
       " u'gateways',\n",
       " u'babies',\n",
       " u'visitations',\n",
       " u'provincials',\n",
       " u'toasted',\n",
       " u'voyager',\n",
       " u'fairly',\n",
       " u'spying',\n",
       " u'jerked',\n",
       " u'superstitious',\n",
       " u'marches',\n",
       " u'tuns',\n",
       " u'Maybe',\n",
       " u'surveying',\n",
       " u'tops',\n",
       " u'dexterous',\n",
       " u'seamen',\n",
       " u'boiler',\n",
       " u'voyaged',\n",
       " u'supper',\n",
       " u'Persia',\n",
       " u'sheering',\n",
       " u'blister',\n",
       " u'altar',\n",
       " u'rebut',\n",
       " u'meads',\n",
       " u'peremptory',\n",
       " u'ventricles',\n",
       " u'echoed',\n",
       " u'stillness',\n",
       " u'Table',\n",
       " u'milliner',\n",
       " u'Betty',\n",
       " u'benignity',\n",
       " u'THAR',\n",
       " u'spurred',\n",
       " u'boyhood',\n",
       " u'javelins',\n",
       " u'Sartain',\n",
       " u'sleeps',\n",
       " u'THAT',\n",
       " u'Rabbins',\n",
       " u'sleepy',\n",
       " u'fantastic',\n",
       " u'sleepe',\n",
       " u'disguise',\n",
       " u'tat',\n",
       " u'maketh',\n",
       " u'shading',\n",
       " u'exclaiming',\n",
       " u'plight',\n",
       " u'rushing',\n",
       " u'succeeding',\n",
       " u'previous',\n",
       " u'Eternity',\n",
       " u'keeled',\n",
       " u'enters',\n",
       " u'ham',\n",
       " u'sciences',\n",
       " u'SPRINGING',\n",
       " u'ease',\n",
       " u'sultanically',\n",
       " u'had',\n",
       " u'ideal',\n",
       " u'hag',\n",
       " u'Figuera',\n",
       " u'hay',\n",
       " u'Connecticut',\n",
       " u'Surely',\n",
       " u'forking',\n",
       " u'innocent',\n",
       " u'prison',\n",
       " u'hap',\n",
       " u'shoemaker',\n",
       " u'east',\n",
       " u'hat',\n",
       " u'hav',\n",
       " u'unblinkingly',\n",
       " u'explained',\n",
       " u'elevation',\n",
       " u'casually',\n",
       " u'ballasted',\n",
       " u'elders',\n",
       " u'survival',\n",
       " u'thermometer',\n",
       " u'possible',\n",
       " u'lengthen',\n",
       " u'possibly',\n",
       " u'rocket',\n",
       " u'hermaphroditical',\n",
       " u'birth',\n",
       " u'Missouri',\n",
       " u'TAKEN',\n",
       " u'altitude',\n",
       " u'shadow',\n",
       " u'unique',\n",
       " u'tolerable',\n",
       " u'bushy',\n",
       " u'desire',\n",
       " u'county',\n",
       " u'articulated',\n",
       " u'scan',\n",
       " u'phrensied',\n",
       " u'tapering',\n",
       " u'triumphal',\n",
       " u'Harvard',\n",
       " u'marquee',\n",
       " u'repassing',\n",
       " u'Ezekiel',\n",
       " u'remind',\n",
       " u'pavement',\n",
       " u'steps',\n",
       " u'Aristotle',\n",
       " u'Further',\n",
       " u'continuation',\n",
       " u'vats',\n",
       " u'warping',\n",
       " u'right',\n",
       " u'old',\n",
       " u'jackets',\n",
       " u'crowd',\n",
       " u'people',\n",
       " u'Literally',\n",
       " u'creed',\n",
       " u'crown',\n",
       " u'System',\n",
       " u'captive',\n",
       " u'sterns',\n",
       " u'fagot',\n",
       " u'Between',\n",
       " u'nautilus',\n",
       " u'prick',\n",
       " u'animate',\n",
       " u'Canaller',\n",
       " u'enemies',\n",
       " u'gasps',\n",
       " u'perchance',\n",
       " u'ruffled',\n",
       " u'for',\n",
       " u'bottom',\n",
       " u'goggling',\n",
       " u'inhuman',\n",
       " u'plucked',\n",
       " u'witty',\n",
       " u'foe',\n",
       " u'ruffles',\n",
       " u'fog',\n",
       " u'summoned',\n",
       " u'pondered',\n",
       " u'serpents',\n",
       " u'indication',\n",
       " u'Epitome',\n",
       " u'dined',\n",
       " u'pinched',\n",
       " u'Watts',\n",
       " u'shakes',\n",
       " u'sisterly',\n",
       " u'mildewed',\n",
       " u'post',\n",
       " u'terraces',\n",
       " u'clearer',\n",
       " u'binder',\n",
       " u'Thine',\n",
       " u'yoke',\n",
       " u'evaporate',\n",
       " u'tribes',\n",
       " u'losing',\n",
       " ...]"
      ]
     },
     "execution_count": 11,
     "metadata": {},
     "output_type": "execute_result"
    }
   ],
   "source": [
    "fdist1.keys()"
   ]
  },
  {
   "cell_type": "markdown",
   "metadata": {},
   "source": [
    "**Accessing Text Corpora and Lexical Resources**"
   ]
  },
  {
   "cell_type": "markdown",
   "metadata": {},
   "source": [
    "**Books**"
   ]
  },
  {
   "cell_type": "code",
   "execution_count": 12,
   "metadata": {
    "collapsed": false
   },
   "outputs": [
    {
     "data": {
      "text/plain": [
       "[u'austen-emma.txt',\n",
       " u'austen-persuasion.txt',\n",
       " u'austen-sense.txt',\n",
       " u'bible-kjv.txt',\n",
       " u'blake-poems.txt',\n",
       " u'bryant-stories.txt',\n",
       " u'burgess-busterbrown.txt',\n",
       " u'carroll-alice.txt',\n",
       " u'chesterton-ball.txt',\n",
       " u'chesterton-brown.txt',\n",
       " u'chesterton-thursday.txt',\n",
       " u'edgeworth-parents.txt',\n",
       " u'melville-moby_dick.txt',\n",
       " u'milton-paradise.txt',\n",
       " u'shakespeare-caesar.txt',\n",
       " u'shakespeare-hamlet.txt',\n",
       " u'shakespeare-macbeth.txt',\n",
       " u'whitman-leaves.txt']"
      ]
     },
     "execution_count": 12,
     "metadata": {},
     "output_type": "execute_result"
    }
   ],
   "source": [
    "nltk.corpus.gutenberg.fileids()"
   ]
  },
  {
   "cell_type": "code",
   "execution_count": 14,
   "metadata": {
    "collapsed": true
   },
   "outputs": [],
   "source": [
    "emma = nltk.corpus.gutenberg.words('austen-emma.txt')"
   ]
  },
  {
   "cell_type": "code",
   "execution_count": 15,
   "metadata": {
    "collapsed": false
   },
   "outputs": [
    {
     "data": {
      "text/plain": [
       "192427"
      ]
     },
     "execution_count": 15,
     "metadata": {},
     "output_type": "execute_result"
    }
   ],
   "source": [
    "len(emma)"
   ]
  },
  {
   "cell_type": "code",
   "execution_count": 16,
   "metadata": {
    "collapsed": false
   },
   "outputs": [
    {
     "data": {
      "text/plain": [
       "nltk.corpus.reader.util.StreamBackedCorpusView"
      ]
     },
     "execution_count": 16,
     "metadata": {},
     "output_type": "execute_result"
    }
   ],
   "source": [
    "type(emma)"
   ]
  },
  {
   "cell_type": "code",
   "execution_count": 22,
   "metadata": {
    "collapsed": false,
    "scrolled": false
   },
   "outputs": [
    {
     "name": "stdout",
     "output_type": "stream",
     "text": [
      "4 24 26 austen-emma.txt\n",
      "4 26 16 austen-persuasion.txt\n",
      "4 28 22 austen-sense.txt\n",
      "4 33 79 bible-kjv.txt\n",
      "4 19 5 blake-poems.txt\n",
      "4 19 14 bryant-stories.txt\n",
      "4 17 12 burgess-busterbrown.txt\n",
      "4 20 12 carroll-alice.txt\n",
      "4 20 11 chesterton-ball.txt\n",
      "4 22 11 chesterton-brown.txt\n",
      "4 18 10 chesterton-thursday.txt\n",
      "4 20 24 edgeworth-parents.txt\n",
      "4 25 15 melville-moby_dick.txt\n",
      "4 52 10 milton-paradise.txt\n",
      "4 11 8 shakespeare-caesar.txt\n",
      "4 12 7 shakespeare-hamlet.txt\n",
      "4 12 6 shakespeare-macbeth.txt\n",
      "4 36 12 whitman-leaves.txt\n"
     ]
    }
   ],
   "source": [
    "# Access corpus in different level \n",
    "\n",
    "for fileid in gutenberg.fileids():\n",
    "    num_chars = len(gutenberg.raw(fileid)) # raw text length\n",
    "    num_words = len(gutenberg.words(fileid))# no. of words\n",
    "    num_sents = len(gutenberg.sents(fileid))# no. of sentences\n",
    "    num_vocab = len(set([w.lower() for w in gutenberg.words(fileid)]))# no of volcabulary\n",
    "    print int(num_chars/num_words), int(num_words/num_sents), int(num_words/num_vocab), fileid"
   ]
  },
  {
   "cell_type": "markdown",
   "metadata": {},
   "source": [
    "**Web**"
   ]
  },
  {
   "cell_type": "code",
   "execution_count": 23,
   "metadata": {
    "collapsed": false
   },
   "outputs": [
    {
     "name": "stdout",
     "output_type": "stream",
     "text": [
      "firefox.txt Cookie Manager: \"Don't allow sites that set removed cookies to se ...\n",
      "grail.txt SCENE 1: [wind] [clop clop clop] \n",
      "KING ARTHUR: Whoa there!  [clop ...\n",
      "overheard.txt White guy: So, do you have any plans for this evening?\n",
      "Asian girl ...\n",
      "pirates.txt PIRATES OF THE CARRIBEAN: DEAD MAN'S CHEST, by Ted Elliott & Terr ...\n",
      "singles.txt 25 SEXY MALE, seeks attrac older single lady, for discreet encoun ...\n",
      "wine.txt Lovely delicate, fragrant Rhone wine. Polished leather and strawb ...\n"
     ]
    }
   ],
   "source": [
    "from nltk.corpus import webtext\n",
    "for fileid in webtext.fileids():\n",
    "    print fileid, webtext.raw(fileid)[:65], '...'"
   ]
  },
  {
   "cell_type": "markdown",
   "metadata": {},
   "source": [
    "**Chat**"
   ]
  },
  {
   "cell_type": "code",
   "execution_count": 25,
   "metadata": {
    "collapsed": false
   },
   "outputs": [
    {
     "name": "stdout",
     "output_type": "stream",
     "text": [
      "10-19-20s_706posts.xml <!-- edited with XMLSpy v2007 sp1 (http://www.altova.com) by Eric ...\n",
      "10-19-30s_705posts.xml <?xml version=\"1.0\" encoding=\"UTF-8\"?>\r\n",
      "<!-- edited with XMLSpy v ...\n",
      "10-19-40s_686posts.xml <?xml version=\"1.0\" encoding=\"UTF-8\"?>\r\n",
      "<!-- edited with XMLSpy v ...\n",
      "10-19-adults_706posts.xml <!-- edited with XMLSpy v2007 sp1 (http://www.altova.com) by Eric ...\n",
      "10-24-40s_706posts.xml <!-- edited with XMLSpy v2007 sp1 (http://www.altova.com) by Eric ...\n",
      "10-26-teens_706posts.xml <!-- edited with XMLSpy v2007 sp1 (http://www.altova.com) by Eric ...\n",
      "11-06-adults_706posts.xml <!-- edited with XMLSpy v2007 sp1 (http://www.altova.com) by Eric ...\n",
      "11-08-20s_705posts.xml <?xml version=\"1.0\" encoding=\"UTF-8\"?>\r\n",
      "<!-- edited with XMLSpy v ...\n",
      "11-08-40s_706posts.xml <!-- edited with XMLSpy v2007 sp1 (http://www.altova.com) by Eric ...\n",
      "11-08-adults_705posts.xml <?xml version=\"1.0\" encoding=\"UTF-8\"?>\r\n",
      "<!-- edited with XMLSpy v ...\n",
      "11-08-teens_706posts.xml <?xml version=\"1.0\" encoding=\"UTF-8\"?>\r\n",
      "<!-- edited with XMLSpy v ...\n",
      "11-09-20s_706posts.xml <!-- edited with XMLSpy v2007 sp1 (http://www.altova.com) by Eric ...\n",
      "11-09-40s_706posts.xml <!-- edited with XMLSpy v2007 sp1 (http://www.altova.com) by Eric ...\n",
      "11-09-adults_706posts.xml <!-- edited with XMLSpy v2007 sp1 (http://www.altova.com) by Eric ...\n",
      "11-09-teens_706posts.xml <!-- edited with XMLSpy v2007 sp1 (http://www.altova.com) by Eric ...\n"
     ]
    }
   ],
   "source": [
    "from nltk.corpus import nps_chat\n",
    "for fileid in nps_chat.fileids():\n",
    "    print fileid, nps_chat.raw(fileid)[:65], '...'"
   ]
  },
  {
   "cell_type": "markdown",
   "metadata": {},
   "source": [
    "**Brown Corpus**"
   ]
  },
  {
   "cell_type": "markdown",
   "metadata": {},
   "source": [
    "The Brown Corpus was the first million-word electronic corpus of English, created in 1961 at Brown University. This corpus contains text from 500 sources, and the sources have been categorized by genre, such as news, editorial, and so on."
   ]
  },
  {
   "cell_type": "code",
   "execution_count": 26,
   "metadata": {
    "collapsed": true
   },
   "outputs": [],
   "source": [
    "from nltk.corpus import brown"
   ]
  },
  {
   "cell_type": "code",
   "execution_count": 27,
   "metadata": {
    "collapsed": false
   },
   "outputs": [
    {
     "data": {
      "text/plain": [
       "[u'adventure',\n",
       " u'belles_lettres',\n",
       " u'editorial',\n",
       " u'fiction',\n",
       " u'government',\n",
       " u'hobbies',\n",
       " u'humor',\n",
       " u'learned',\n",
       " u'lore',\n",
       " u'mystery',\n",
       " u'news',\n",
       " u'religion',\n",
       " u'reviews',\n",
       " u'romance',\n",
       " u'science_fiction']"
      ]
     },
     "execution_count": 27,
     "metadata": {},
     "output_type": "execute_result"
    }
   ],
   "source": [
    "brown.categories()"
   ]
  },
  {
   "cell_type": "code",
   "execution_count": 28,
   "metadata": {
    "collapsed": false
   },
   "outputs": [
    {
     "data": {
      "text/plain": [
       "[u'The', u'Fulton', u'County', u'Grand', u'Jury', ...]"
      ]
     },
     "execution_count": 28,
     "metadata": {},
     "output_type": "execute_result"
    }
   ],
   "source": [
    "brown.words(categories='news')"
   ]
  },
  {
   "cell_type": "markdown",
   "metadata": {},
   "source": [
    "The Brown Corpus is a convenient resource for studying systematic differences between genres, a kind of linguistic inquiry known as stylistics."
   ]
  },
  {
   "cell_type": "code",
   "execution_count": 29,
   "metadata": {
    "collapsed": false
   },
   "outputs": [
    {
     "name": "stdout",
     "output_type": "stream",
     "text": [
      "                 can could  may might must will \n",
      "           news   93   86   66   38   50  389 \n",
      "       religion   82   59   78   12   54   71 \n",
      "        hobbies  268   58  131   22   83  264 \n",
      "science_fiction   16   49    4   12    8   16 \n",
      "        romance   74  193   11   51   45   43 \n",
      "          humor   16   30    8    8    9   13 \n"
     ]
    }
   ],
   "source": [
    "cfd = nltk.ConditionalFreqDist(\n",
    "           (genre, word)\n",
    "           for genre in brown.categories()\n",
    "           for word in brown.words(categories=genre))\n",
    "genres = ['news', 'religion', 'hobbies', 'science_fiction', 'romance', 'humor']\n",
    "modals = ['can', 'could', 'may', 'might', 'must', 'will']\n",
    "cfd.tabulate(conditions=genres, samples=modals)"
   ]
  },
  {
   "cell_type": "markdown",
   "metadata": {},
   "source": [
    "**Inaugural Address Corpus**"
   ]
  },
  {
   "cell_type": "code",
   "execution_count": 31,
   "metadata": {
    "collapsed": true
   },
   "outputs": [],
   "source": [
    "from nltk.corpus import inaugural"
   ]
  },
  {
   "cell_type": "code",
   "execution_count": 32,
   "metadata": {
    "collapsed": false
   },
   "outputs": [
    {
     "data": {
      "text/plain": [
       "[u'1789-Washington.txt',\n",
       " u'1793-Washington.txt',\n",
       " u'1797-Adams.txt',\n",
       " u'1801-Jefferson.txt',\n",
       " u'1805-Jefferson.txt',\n",
       " u'1809-Madison.txt',\n",
       " u'1813-Madison.txt',\n",
       " u'1817-Monroe.txt',\n",
       " u'1821-Monroe.txt',\n",
       " u'1825-Adams.txt',\n",
       " u'1829-Jackson.txt',\n",
       " u'1833-Jackson.txt',\n",
       " u'1837-VanBuren.txt',\n",
       " u'1841-Harrison.txt',\n",
       " u'1845-Polk.txt',\n",
       " u'1849-Taylor.txt',\n",
       " u'1853-Pierce.txt',\n",
       " u'1857-Buchanan.txt',\n",
       " u'1861-Lincoln.txt',\n",
       " u'1865-Lincoln.txt',\n",
       " u'1869-Grant.txt',\n",
       " u'1873-Grant.txt',\n",
       " u'1877-Hayes.txt',\n",
       " u'1881-Garfield.txt',\n",
       " u'1885-Cleveland.txt',\n",
       " u'1889-Harrison.txt',\n",
       " u'1893-Cleveland.txt',\n",
       " u'1897-McKinley.txt',\n",
       " u'1901-McKinley.txt',\n",
       " u'1905-Roosevelt.txt',\n",
       " u'1909-Taft.txt',\n",
       " u'1913-Wilson.txt',\n",
       " u'1917-Wilson.txt',\n",
       " u'1921-Harding.txt',\n",
       " u'1925-Coolidge.txt',\n",
       " u'1929-Hoover.txt',\n",
       " u'1933-Roosevelt.txt',\n",
       " u'1937-Roosevelt.txt',\n",
       " u'1941-Roosevelt.txt',\n",
       " u'1945-Roosevelt.txt',\n",
       " u'1949-Truman.txt',\n",
       " u'1953-Eisenhower.txt',\n",
       " u'1957-Eisenhower.txt',\n",
       " u'1961-Kennedy.txt',\n",
       " u'1965-Johnson.txt',\n",
       " u'1969-Nixon.txt',\n",
       " u'1973-Nixon.txt',\n",
       " u'1977-Carter.txt',\n",
       " u'1981-Reagan.txt',\n",
       " u'1985-Reagan.txt',\n",
       " u'1989-Bush.txt',\n",
       " u'1993-Clinton.txt',\n",
       " u'1997-Clinton.txt',\n",
       " u'2001-Bush.txt',\n",
       " u'2005-Bush.txt',\n",
       " u'2009-Obama.txt']"
      ]
     },
     "execution_count": 32,
     "metadata": {},
     "output_type": "execute_result"
    }
   ],
   "source": [
    "inaugural.fileids()"
   ]
  },
  {
   "cell_type": "code",
   "execution_count": 33,
   "metadata": {
    "collapsed": false
   },
   "outputs": [
    {
     "data": {
      "text/plain": [
       "[u'1789',\n",
       " u'1793',\n",
       " u'1797',\n",
       " u'1801',\n",
       " u'1805',\n",
       " u'1809',\n",
       " u'1813',\n",
       " u'1817',\n",
       " u'1821',\n",
       " u'1825',\n",
       " u'1829',\n",
       " u'1833',\n",
       " u'1837',\n",
       " u'1841',\n",
       " u'1845',\n",
       " u'1849',\n",
       " u'1853',\n",
       " u'1857',\n",
       " u'1861',\n",
       " u'1865',\n",
       " u'1869',\n",
       " u'1873',\n",
       " u'1877',\n",
       " u'1881',\n",
       " u'1885',\n",
       " u'1889',\n",
       " u'1893',\n",
       " u'1897',\n",
       " u'1901',\n",
       " u'1905',\n",
       " u'1909',\n",
       " u'1913',\n",
       " u'1917',\n",
       " u'1921',\n",
       " u'1925',\n",
       " u'1929',\n",
       " u'1933',\n",
       " u'1937',\n",
       " u'1941',\n",
       " u'1945',\n",
       " u'1949',\n",
       " u'1953',\n",
       " u'1957',\n",
       " u'1961',\n",
       " u'1965',\n",
       " u'1969',\n",
       " u'1973',\n",
       " u'1977',\n",
       " u'1981',\n",
       " u'1985',\n",
       " u'1989',\n",
       " u'1993',\n",
       " u'1997',\n",
       " u'2001',\n",
       " u'2005',\n",
       " u'2009']"
      ]
     },
     "execution_count": 33,
     "metadata": {},
     "output_type": "execute_result"
    }
   ],
   "source": [
    "[fileid[:4] for fileid in inaugural.fileids()]"
   ]
  },
  {
   "cell_type": "code",
   "execution_count": 36,
   "metadata": {
    "collapsed": false
   },
   "outputs": [
    {
     "data": {
      "image/png": "iVBORw0KGgoAAAANSUhEUgAAAhEAAAGPCAYAAADiGoK8AAAABHNCSVQICAgIfAhkiAAAAAlwSFlz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\n",
      "text/plain": [
       "<matplotlib.figure.Figure at 0x112867590>"
      ]
     },
     "metadata": {},
     "output_type": "display_data"
    }
   ],
   "source": [
    "cfd = nltk.ConditionalFreqDist(\n",
    "    (target, fileid[:4])\n",
    "    for fileid in inaugural.fileids()\n",
    "    for w in inaugural.words(fileid)\n",
    "    for target in ['america', 'china']\n",
    "    if w.lower().startswith(target)) \n",
    "cfd.plot()"
   ]
  },
  {
   "cell_type": "markdown",
   "metadata": {},
   "source": [
    "**Conditional Frequency Distributions**"
>>>>>>> origin/master
   ]
  },
  {
   "cell_type": "code",
   "execution_count": null,
   "metadata": {
    "collapsed": true
   },
   "outputs": [],
<<<<<<< HEAD
   "source": []
=======
   "source": [
    "#"
   ]
>>>>>>> origin/master
  }
 ],
 "metadata": {
  "kernelspec": {
<<<<<<< HEAD
   "display_name": "Python [Root]",
   "language": "python",
   "name": "Python [Root]"
=======
   "display_name": "Python 2",
   "language": "python",
   "name": "python2"
>>>>>>> origin/master
  },
  "language_info": {
   "codemirror_mode": {
    "name": "ipython",
    "version": 2
   },
   "file_extension": ".py",
   "mimetype": "text/x-python",
   "name": "python",
   "nbconvert_exporter": "python",
   "pygments_lexer": "ipython2",
   "version": "2.7.12"
  }
 },
 "nbformat": 4,
 "nbformat_minor": 0
}
