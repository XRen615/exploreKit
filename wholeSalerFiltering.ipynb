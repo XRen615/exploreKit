{
 "cells": [
  {
   "cell_type": "code",
   "execution_count": 2,
   "metadata": {
    "collapsed": true
   },
   "outputs": [],
   "source": [
    "# -*- coding: utf-8 -*-   \n",
    "import numpy as np\n",
    "import pandas as pd\n",
    "import matplotlib.pyplot as plt\n",
    "%matplotlib inline\n",
    "import seaborn as sns\n",
    "from scipy import stats\n",
    "import glob, os\n",
    "\n",
    "from matplotlib.font_manager import FontProperties\n",
    "font = FontProperties(fname=r\"c:\\windows\\fonts\\SimSun.ttc\", size=14)\n",
    "\n",
    "pd.set_option('display.max_columns', 999)"
   ]
  },
  {
   "cell_type": "code",
   "execution_count": null,
   "metadata": {
    "collapsed": false
   },
   "outputs": [],
   "source": [
    "path =r'C:\\Users\\ren.x.1\\Desktop\\JD_Pricing\\JD_Transaction\\JF' # use your path\n",
    "allFiles = glob.glob(path + \"/*.xlsx\")\n",
    "df = pd.DataFrame()\n",
    "list_ = []\n",
    "for each in allFiles:\n",
    "    print each\n",
    "    sheets = pd.ExcelFile(each).sheet_names\n",
    "\n",
    "    for sheet in sheets:\n",
    "        df = pd.read_excel(each, sheet, parse_cols = \"A,B,K,M,S\",encoding='gbk',skiprows = [0])\n",
    "        list_.append(df)\n",
    "df = pd.concat(list_)"
   ]
  },
  {
   "cell_type": "code",
   "execution_count": null,
   "metadata": {
    "collapsed": false
   },
   "outputs": [],
   "source": [
    "df1 = pd.read_excel(r'C:\\Users\\ren.x.1\\Desktop\\JD_Pricing\\JD\\HC_JD_peByMechanism.xlsx', parse_cols = \"A\",encoding='gbk',header= None)\n",
    "df2 = pd.read_excel(r'C:\\Users\\ren.x.1\\Desktop\\JD_Pricing\\JD\\JDPCC_PEPerMechan_0524.xlsx', parse_cols = \"A\",encoding='gbk',header= None)"
   ]
  },
  {
   "cell_type": "code",
   "execution_count": 4,
   "metadata": {
    "collapsed": false
   },
   "outputs": [],
   "source": [
    "df = pd.read_excel(r'C:\\Users\\ren.x.1\\Desktop\\JD_Pricing\\JD_Transaction\\JF\\170101-170106.xlsx', sheetname= [0,1,2])"
   ]
  },
  {
   "cell_type": "code",
   "execution_count": 8,
   "metadata": {
    "collapsed": false,
    "scrolled": false
   },
   "outputs": [
    {
     "data": {
      "text/html": [
       "<div>\n",
       "<table border=\"1\" class=\"dataframe\">\n",
       "  <thead>\n",
       "    <tr style=\"text-align: right;\">\n",
       "      <th></th>\n",
       "      <th>Date</th>\n",
       "      <th>ProductCode</th>\n",
       "      <th>ProductName</th>\n",
       "      <th>Department_2</th>\n",
       "      <th>SupplierCode</th>\n",
       "      <th>SupplierName</th>\n",
       "      <th>Classify_1</th>\n",
       "      <th>Classify_2</th>\n",
       "      <th>Classify_3</th>\n",
       "      <th>BrandCode</th>\n",
       "      <th>BrandName</th>\n",
       "      <th>terminal_name</th>\n",
       "      <th>user_id</th>\n",
       "      <th>dim_county_name</th>\n",
       "      <th>dim_city_name</th>\n",
       "      <th>dim_province_name</th>\n",
       "      <th>Order_num</th>\n",
       "      <th>Valid_Num</th>\n",
       "      <th>Sales_Num</th>\n",
       "      <th>Preferential_Price</th>\n",
       "    </tr>\n",
       "  </thead>\n",
       "  <tbody>\n",
       "    <tr>\n",
       "      <th>0</th>\n",
       "      <td>2017-01-01</td>\n",
       "      <td>1001372</td>\n",
       "      <td>【京东超市】ABC 纤薄 绵柔表层 日用卫生巾 多片装 240mm*18片（KMS配方）</td>\n",
       "      <td>个护采销部</td>\n",
       "      <td>fssabsjkhl</td>\n",
       "      <td>佛山市爱碧斯健康护理实业有限公司</td>\n",
       "      <td>个护化妆</td>\n",
       "      <td>女性护理</td>\n",
       "      <td>卫生巾</td>\n",
       "      <td>73</td>\n",
       "      <td>ABC</td>\n",
       "      <td>APP</td>\n",
       "      <td>3051274.0</td>\n",
       "      <td>五环到六环之间</td>\n",
       "      <td>海淀区</td>\n",
       "      <td>北京</td>\n",
       "      <td>1</td>\n",
       "      <td>1</td>\n",
       "      <td>1</td>\n",
       "      <td>15.9</td>\n",
       "    </tr>\n",
       "    <tr>\n",
       "      <th>1</th>\n",
       "      <td>2017-01-01</td>\n",
       "      <td>1001372</td>\n",
       "      <td>【京东超市】ABC 纤薄 绵柔表层 日用卫生巾 多片装 240mm*18片（KMS配方）</td>\n",
       "      <td>个护采销部</td>\n",
       "      <td>fssabsjkhl</td>\n",
       "      <td>佛山市爱碧斯健康护理实业有限公司</td>\n",
       "      <td>个护化妆</td>\n",
       "      <td>女性护理</td>\n",
       "      <td>卫生巾</td>\n",
       "      <td>73</td>\n",
       "      <td>ABC</td>\n",
       "      <td>APP</td>\n",
       "      <td>76282605.0</td>\n",
       "      <td>青羊区</td>\n",
       "      <td>成都市</td>\n",
       "      <td>四川</td>\n",
       "      <td>1</td>\n",
       "      <td>1</td>\n",
       "      <td>2</td>\n",
       "      <td>31.8</td>\n",
       "    </tr>\n",
       "    <tr>\n",
       "      <th>2</th>\n",
       "      <td>2017-01-01</td>\n",
       "      <td>1001372</td>\n",
       "      <td>【京东超市】ABC 纤薄 绵柔表层 日用卫生巾 多片装 240mm*18片（KMS配方）</td>\n",
       "      <td>个护采销部</td>\n",
       "      <td>fssabsjkhl</td>\n",
       "      <td>佛山市爱碧斯健康护理实业有限公司</td>\n",
       "      <td>个护化妆</td>\n",
       "      <td>女性护理</td>\n",
       "      <td>卫生巾</td>\n",
       "      <td>73</td>\n",
       "      <td>ABC</td>\n",
       "      <td>PC</td>\n",
       "      <td>573826442.0</td>\n",
       "      <td>全境</td>\n",
       "      <td>红桥区</td>\n",
       "      <td>天津</td>\n",
       "      <td>1</td>\n",
       "      <td>1</td>\n",
       "      <td>2</td>\n",
       "      <td>31.8</td>\n",
       "    </tr>\n",
       "    <tr>\n",
       "      <th>3</th>\n",
       "      <td>2017-01-01</td>\n",
       "      <td>1001372</td>\n",
       "      <td>【京东超市】ABC 纤薄 绵柔表层 日用卫生巾 多片装 240mm*18片（KMS配方）</td>\n",
       "      <td>个护采销部</td>\n",
       "      <td>fssabsjkhl</td>\n",
       "      <td>佛山市爱碧斯健康护理实业有限公司</td>\n",
       "      <td>个护化妆</td>\n",
       "      <td>女性护理</td>\n",
       "      <td>卫生巾</td>\n",
       "      <td>73</td>\n",
       "      <td>ABC</td>\n",
       "      <td>微信</td>\n",
       "      <td>773060237.0</td>\n",
       "      <td>涿州市</td>\n",
       "      <td>保定市</td>\n",
       "      <td>河北</td>\n",
       "      <td>1</td>\n",
       "      <td>1</td>\n",
       "      <td>1</td>\n",
       "      <td>15.9</td>\n",
       "    </tr>\n",
       "    <tr>\n",
       "      <th>4</th>\n",
       "      <td>2017-01-01</td>\n",
       "      <td>1001418</td>\n",
       "      <td>【京东超市】欧舒丹（LOCCITANE） 牛奶妈妈香皂 100g（ 香皂 去角质 嫩肤 身体皂)</td>\n",
       "      <td>美妆部</td>\n",
       "      <td>bjczcysm</td>\n",
       "      <td>北京诚志创业商贸有限公司</td>\n",
       "      <td>个护化妆</td>\n",
       "      <td>面部护肤</td>\n",
       "      <td>洁面</td>\n",
       "      <td>13761</td>\n",
       "      <td>欧舒丹（L'OCCITANE）</td>\n",
       "      <td>APP</td>\n",
       "      <td>19709758.0</td>\n",
       "      <td>松北区</td>\n",
       "      <td>哈尔滨市</td>\n",
       "      <td>黑龙江</td>\n",
       "      <td>1</td>\n",
       "      <td>1</td>\n",
       "      <td>1</td>\n",
       "      <td>43.0</td>\n",
       "    </tr>\n",
       "  </tbody>\n",
       "</table>\n",
       "</div>"
      ],
      "text/plain": [
       "         Date  ProductCode                                       ProductName  \\\n",
       "0  2017-01-01      1001372      【京东超市】ABC 纤薄 绵柔表层 日用卫生巾 多片装 240mm*18片（KMS配方）   \n",
       "1  2017-01-01      1001372      【京东超市】ABC 纤薄 绵柔表层 日用卫生巾 多片装 240mm*18片（KMS配方）   \n",
       "2  2017-01-01      1001372      【京东超市】ABC 纤薄 绵柔表层 日用卫生巾 多片装 240mm*18片（KMS配方）   \n",
       "3  2017-01-01      1001372      【京东超市】ABC 纤薄 绵柔表层 日用卫生巾 多片装 240mm*18片（KMS配方）   \n",
       "4  2017-01-01      1001418  【京东超市】欧舒丹（LOCCITANE） 牛奶妈妈香皂 100g（ 香皂 去角质 嫩肤 身体皂)   \n",
       "\n",
       "  Department_2 SupplierCode      SupplierName Classify_1 Classify_2  \\\n",
       "0        个护采销部   fssabsjkhl  佛山市爱碧斯健康护理实业有限公司       个护化妆       女性护理   \n",
       "1        个护采销部   fssabsjkhl  佛山市爱碧斯健康护理实业有限公司       个护化妆       女性护理   \n",
       "2        个护采销部   fssabsjkhl  佛山市爱碧斯健康护理实业有限公司       个护化妆       女性护理   \n",
       "3        个护采销部   fssabsjkhl  佛山市爱碧斯健康护理实业有限公司       个护化妆       女性护理   \n",
       "4          美妆部     bjczcysm      北京诚志创业商贸有限公司       个护化妆       面部护肤   \n",
       "\n",
       "  Classify_3  BrandCode        BrandName terminal_name      user_id  \\\n",
       "0        卫生巾         73              ABC           APP    3051274.0   \n",
       "1        卫生巾         73              ABC           APP   76282605.0   \n",
       "2        卫生巾         73              ABC            PC  573826442.0   \n",
       "3        卫生巾         73              ABC            微信  773060237.0   \n",
       "4         洁面      13761  欧舒丹（L'OCCITANE）           APP   19709758.0   \n",
       "\n",
       "  dim_county_name dim_city_name dim_province_name  Order_num  Valid_Num  \\\n",
       "0         五环到六环之间           海淀区                北京          1          1   \n",
       "1             青羊区           成都市                四川          1          1   \n",
       "2              全境           红桥区                天津          1          1   \n",
       "3             涿州市           保定市                河北          1          1   \n",
       "4             松北区          哈尔滨市               黑龙江          1          1   \n",
       "\n",
       "   Sales_Num  Preferential_Price  \n",
       "0          1                15.9  \n",
       "1          2                31.8  \n",
       "2          2                31.8  \n",
       "3          1                15.9  \n",
       "4          1                43.0  "
      ]
     },
     "execution_count": 8,
     "metadata": {},
     "output_type": "execute_result"
    }
   ],
   "source": [
    "df[0].head()"
   ]
  },
  {
   "cell_type": "code",
   "execution_count": null,
   "metadata": {
    "collapsed": true
   },
   "outputs": [],
   "source": [
    "df = df[['user_id','Sales_Num']]"
   ]
  },
  {
   "cell_type": "code",
   "execution_count": null,
   "metadata": {
    "collapsed": false
   },
   "outputs": [],
   "source": [
    "df.head()"
   ]
  },
  {
   "cell_type": "code",
   "execution_count": null,
   "metadata": {
    "collapsed": false,
    "scrolled": true
   },
   "outputs": [],
   "source": [
    "df = df.groupby(by = 'user_id',as_index=True).sum()"
   ]
  },
  {
   "cell_type": "code",
   "execution_count": null,
   "metadata": {
    "collapsed": false
   },
   "outputs": [],
   "source": [
    "cutoff = df.mean() + 3*df.std()\n",
    "cutoff[0]"
   ]
  },
  {
   "cell_type": "code",
   "execution_count": null,
   "metadata": {
    "collapsed": false
   },
   "outputs": [],
   "source": [
    "wholesaleId = df[df.Sales_Num > cutoff[0]]"
   ]
  },
  {
   "cell_type": "code",
   "execution_count": null,
   "metadata": {
    "collapsed": false
   },
   "outputs": [],
   "source": [
    "wholesaleId.head()"
   ]
  },
  {
   "cell_type": "code",
   "execution_count": null,
   "metadata": {
    "collapsed": true
   },
   "outputs": [],
   "source": []
  }
 ],
 "metadata": {
  "kernelspec": {
   "display_name": "Python [Root]",
   "language": "python",
   "name": "Python [Root]"
  },
  "language_info": {
   "codemirror_mode": {
    "name": "ipython",
    "version": 2
   },
   "file_extension": ".py",
   "mimetype": "text/x-python",
   "name": "python",
   "nbconvert_exporter": "python",
   "pygments_lexer": "ipython2",
   "version": "2.7.12"
  }
 },
 "nbformat": 4,
 "nbformat_minor": 0
}
