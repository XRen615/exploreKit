{
 "cells": [
  {
   "cell_type": "code",
   "execution_count": 2,
   "metadata": {
    "collapsed": false
   },
   "outputs": [],
   "source": [
    "import nltk\n",
    "%matplotlib inline"
   ]
  },
  {
   "cell_type": "code",
   "execution_count": 3,
   "metadata": {
    "collapsed": false
   },
   "outputs": [
    {
     "name": "stdout",
     "output_type": "stream",
     "text": [
      "showing info https://raw.githubusercontent.com/nltk/nltk_data/gh-pages/index.xml\n"
     ]
    },
    {
     "data": {
      "text/plain": [
       "True"
      ]
     },
     "execution_count": 3,
     "metadata": {},
     "output_type": "execute_result"
    }
   ],
   "source": [
    "nltk.download()"
   ]
  },
  {
   "cell_type": "code",
   "execution_count": 3,
   "metadata": {
    "collapsed": false
   },
   "outputs": [
    {
     "name": "stdout",
     "output_type": "stream",
     "text": [
      "*** Introductory Examples for the NLTK Book ***\n",
      "Loading text1, ..., text9 and sent1, ..., sent9\n",
      "Type the name of the text or sentence to view it.\n",
      "Type: 'texts()' or 'sents()' to list the materials.\n",
      "text1: Moby Dick by Herman Melville 1851\n",
      "text2: Sense and Sensibility by Jane Austen 1811\n",
      "text3: The Book of Genesis\n",
      "text4: Inaugural Address Corpus\n",
      "text5: Chat Corpus\n",
      "text6: Monty Python and the Holy Grail\n",
      "text7: Wall Street Journal\n",
      "text8: Personals Corpus\n",
      "text9: The Man Who Was Thursday by G . K . Chesterton 1908\n"
     ]
    }
   ],
   "source": [
    "from nltk.book import *"
   ]
  },
  {
   "cell_type": "code",
   "execution_count": 4,
   "metadata": {
    "collapsed": false
   },
   "outputs": [
    {
     "name": "stdout",
     "output_type": "stream",
     "text": [
      "Displaying 25 of 656 matches:\n",
      "TION gives U121 a golf clap . :) JOIN hi U59 26 / m / ky women that are nice p\n",
      "s lap . JOIN JOIN any guyz wanna chat hi there boo , it 's a female . hey U126\n",
      "f a female , I can look in a mirror . hi U64 wb U139 u should U44 :) PART PART\n",
      "single dad here JOIN ty U68 PART JOIN Hi U139 PART JOIN hi U138 HAHAHA yw U139\n",
      "IN ty U68 PART JOIN Hi U139 PART JOIN hi U138 HAHAHA yw U139 you should make i\n",
      " make it ' iamahotnip ' , U44 alright hi U139 . you 're fucking hot . i though\n",
      "'re fucking hot . i thought of that ! hi U126 , its so late lmao ahah \" iamaho\n",
      "e lmao ahah \" iamahotniplickme \" PART Hi U121 in ny . ACTION would lol @ U121 \n",
      "white male 26 ca n't sleep huh ? JOIN hi U139 bye U20 well U68 what did u buy \n",
      "!!!!!!!!!!!!!!!! answers for U139 ... hi U101 ;) I like it when you do it , U8\n",
      " sure u buy a nice ring for U6 lol U7 Hi U115 . ACTION isnt falling for that o\n",
      "uestioned . U121 who honey ?? Depends Hi all 31 / m / CA U115 is having my bab\n",
      " put him in ?? you wish honey .. cmon hi U128 nice JOIN not the special list c\n",
      "cks for everyone else but me .... lol Hi U4 do n't take your own advice ? lol \n",
      " finish meeting with all my clients ) hi room hey U18 .. welcome hi U9 mango i\n",
      " clients ) hi room hey U18 .. welcome hi U9 mango is my fav JOIN thank you PAR\n",
      "hank you PART shaken or stirred U18 ? hi U19 hey U18 good ques U17 always shak\n",
      "ntly from texas who said yeppers alot hi JOIN yea my 18 year old plays in my b\n",
      "N yea my 18 year old plays in my band hi all hi U21 JOIN hey u550436035 NICK :\n",
      "y 18 year old plays in my band hi all hi U21 JOIN hey u550436035 NICK : U10 i \n",
      "21 JOIN hey u550436035 NICK : U10 i c hi all hey U23 hun hi U9 hi U23 yea its \n",
      "035 NICK : U10 i c hi all hey U23 hun hi U9 hi U23 yea its pretty cool nice to\n",
      "CK : U10 i c hi all hey U23 hun hi U9 hi U23 yea its pretty cool nice to see y\n",
      "ey everyone so how do you unwind U9 ? hi i 'm doin' it now U17 the hair would \n",
      " really ! with one hand what U11 JOIN hi U24 gentlemen ... let \"s be nce ... t\n"
     ]
    }
   ],
   "source": [
    "text5.concordance('hi')"
   ]
  },
  {
   "cell_type": "code",
   "execution_count": 5,
   "metadata": {
    "collapsed": false
   },
   "outputs": [
    {
     "name": "stdout",
     "output_type": "stream",
     "text": [
      "join part lol hey wb all hiya lmao i hello and no ty there everyone\n",
      "yes what room howdy to\n"
     ]
    }
   ],
   "source": [
    "text5.similar('hi')"
   ]
  },
  {
   "cell_type": "code",
   "execution_count": 6,
   "metadata": {
    "collapsed": false
   },
   "outputs": [
    {
     "name": "stdout",
     "output_type": "stream",
     "text": [
      "lol_join part_hi lol_wb hi_no me_part is_hi part_lol wb_part hi_all\n",
      "lol_thanks part_it today_hi hey_hiya hi_part lol_there coffee_hi\n",
      "join_hi lol_part lol_love part_how\n"
     ]
    }
   ],
   "source": [
    "text5.common_contexts(['hi','lol'])"
   ]
  },
  {
   "cell_type": "code",
   "execution_count": 7,
   "metadata": {
    "collapsed": false
   },
   "outputs": [
    {
     "data": {
      "image/png": "[encoded data removed]",
      "text/plain": [
       "<matplotlib.figure.Figure at 0x3f676a0>"
      ]
     },
     "metadata": {},
     "output_type": "display_data"
    }
   ],
   "source": [
    "text4.dispersion_plot([\"citizens\", \"democracy\", \"freedom\", \"duties\", \"America\"])"
   ]
  },
  {
   "cell_type": "code",
   "execution_count": 8,
   "metadata": {
    "collapsed": false
   },
   "outputs": [
    {
     "data": {
      "text/plain": [
       "[('They', 'PRP'),\n",
       " ('refuse', 'VBP'),\n",
       " ('to', 'TO'),\n",
       " ('permit', 'VB'),\n",
       " ('us', 'PRP'),\n",
       " ('to', 'TO'),\n",
       " ('obtain', 'VB'),\n",
       " ('the', 'DT'),\n",
       " ('refuse', 'NN'),\n",
       " ('permit', 'NN')]"
      ]
     },
     "execution_count": 8,
     "metadata": {},
     "output_type": "execute_result"
    }
   ],
   "source": [
    "# Tagging\n",
    "text = nltk.word_tokenize(\"They refuse to permit us to obtain the refuse permit\")\n",
    "nltk.pos_tag(text)"
   ]
  },
  {
   "cell_type": "code",
   "execution_count": null,
   "metadata": {
    "collapsed": true
   },
   "outputs": [],
   "source": []
  }
 ],
 "metadata": {
  "kernelspec": {
   "display_name": "Python [Root]",
   "language": "python",
   "name": "Python [Root]"
  },
  "language_info": {
   "codemirror_mode": {
    "name": "ipython",
    "version": 2
   },
   "file_extension": ".py",
   "mimetype": "text/x-python",
   "name": "python",
   "nbconvert_exporter": "python",
   "pygments_lexer": "ipython2",
   "version": "2.7.12"
  }
 },
 "nbformat": 4,
 "nbformat_minor": 0
}
