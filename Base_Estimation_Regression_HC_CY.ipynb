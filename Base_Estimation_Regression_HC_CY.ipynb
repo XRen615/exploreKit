{
 "cells": [
  {
   "cell_type": "code",
   "execution_count": 132,
   "metadata": {
    "collapsed": true
   },
   "outputs": [],
   "source": [
    "# -*- coding: utf-8 -*-   \n",
    "import numpy as np\n",
    "import pandas as pd\n",
    "import matplotlib.pyplot as plt\n",
    "%matplotlib inline\n",
    "import seaborn as sns\n",
    "import plotly.plotly as py\n",
    "import plotly.graph_objs as go\n",
    "from sklearn import linear_model\n",
    "import plotly.plotly as py\n",
    "import plotly.graph_objs as go\n",
    "import re\n",
    "from scipy import stats"
   ]
  },
  {
   "cell_type": "code",
   "execution_count": 133,
   "metadata": {
    "collapsed": false
   },
   "outputs": [],
   "source": [
    "from matplotlib.font_manager import FontProperties\n",
    "font = FontProperties(fname=r\"c:\\windows\\fonts\\SimSun.ttc\", size=14)"
   ]
  },
  {
   "cell_type": "code",
   "execution_count": 134,
   "metadata": {
    "collapsed": false
   },
   "outputs": [
    {
     "data": {
      "text/plain": [
       "(25331, 20)"
      ]
     },
     "execution_count": 134,
     "metadata": {},
     "output_type": "execute_result"
    }
   ],
   "source": [
    "db = pd.read_excel(r'C:\\Users\\ren.x.1\\Desktop\\VS_Pricing\\JFM_HC_ePOS.xlsx',encoding='gbk')\n",
    "db.shape"
   ]
  },
  {
   "cell_type": "code",
   "execution_count": 135,
   "metadata": {
    "collapsed": true
   },
   "outputs": [],
   "source": [
    "db.dropna(inplace = True)"
   ]
  },
  {
   "cell_type": "code",
   "execution_count": 136,
   "metadata": {
    "collapsed": false
   },
   "outputs": [
    {
     "data": {
      "text/plain": [
       "海飞丝             6134\n",
       "潘婷（pantene）     6102\n",
       "飘柔（Rejoice）     4561\n",
       "沙宣（VS）          3054\n",
       "伊卡璐（CLAIROL）     898\n",
       "Name: BrandName, dtype: int64"
      ]
     },
     "execution_count": 136,
     "metadata": {},
     "output_type": "execute_result"
    }
   ],
   "source": [
    "db.BrandName.value_counts()"
   ]
  },
  {
   "cell_type": "code",
   "execution_count": 143,
   "metadata": {
    "collapsed": false
   },
   "outputs": [],
   "source": [
    "# df = db[db.BrandName == u'沙宣（VS）']\n",
    "df = db.copy()"
   ]
  },
  {
   "cell_type": "code",
   "execution_count": 144,
   "metadata": {
    "collapsed": false
   },
   "outputs": [
    {
     "data": {
      "text/plain": [
       "normal              20439\n",
       "abnormal - back       197\n",
       "abnormal - front      113\n",
       "Name: Abnormal, dtype: int64"
      ]
     },
     "execution_count": 144,
     "metadata": {},
     "output_type": "execute_result"
    }
   ],
   "source": [
    "df.Abnormal.value_counts()"
   ]
  },
  {
   "cell_type": "code",
   "execution_count": 145,
   "metadata": {
    "collapsed": false
   },
   "outputs": [],
   "source": [
    "# exclude coupon,promotion pack, abnormal wholesale\n",
    "df = df[- df.Mechanism.str.contains(u\"领券\")]\n",
    "df = df[df.Mechanism != 'PP']\n",
    "df = df[df.Abnormal == 'normal']"
   ]
  },
  {
   "cell_type": "code",
   "execution_count": 146,
   "metadata": {
    "collapsed": false
   },
   "outputs": [
    {
     "data": {
      "text/plain": [
       "normal    14858\n",
       "Name: Abnormal, dtype: int64"
      ]
     },
     "execution_count": 146,
     "metadata": {},
     "output_type": "execute_result"
    }
   ],
   "source": [
    "df.Abnormal.value_counts()"
   ]
  },
  {
   "cell_type": "code",
   "execution_count": 147,
   "metadata": {
    "collapsed": false
   },
   "outputs": [],
   "source": [
    "df.Date = pd.to_datetime(df.Date)"
   ]
  },
  {
   "cell_type": "code",
   "execution_count": 148,
   "metadata": {
    "collapsed": true
   },
   "outputs": [],
   "source": [
    "def jointplt(ProductCode):\n",
    "    SKU = df[df['ProductCode'] == ProductCode][['Sales_Price',u'Sales_Num','uv']]\n",
    "    #SKU = SKU.groupby(by = 'Sales_Price',as_index=False).mean()\n",
    "    #SKU = SKU[SKU.Sales_Num >= 10]\n",
    "    SKU['Productivity'] = np.log(SKU.Sales_Num/SKU.uv)\n",
    "    SKU.Sales_Price = np.log(SKU[u'Sales_Price'])\n",
    "    sns.jointplot(x=\"Sales_Price\", y=\"Productivity\", kind = 'reg', color = 'r', data=SKU)\n",
    "    #plt.ylim(-4,0)\n",
    "    #plt.xlim(3,5)\n",
    "    #plt.title(SKU_NAME,fontproperties=font)"
   ]
  },
  {
   "cell_type": "code",
   "execution_count": 149,
   "metadata": {
    "collapsed": false
   },
   "outputs": [],
   "source": [
    "def statsReg(ProductCode):\n",
    "    SKU = df[df.ProductCode == ProductCode]\n",
    "    x = np.log(SKU.Sales_Price/SKU.uv)\n",
    "    y = np.log(SKU.Sales_Num)\n",
    "    slope, intercept, r_value, p_value, std_err = stats.linregress(x,y)\n",
    "    if p_value < 0.05:\n",
    "        return np.round(slope,decimals=1)\n",
    "    else:\n",
    "        return np.nan"
   ]
  },
  {
   "cell_type": "code",
   "execution_count": 150,
   "metadata": {
    "collapsed": false
   },
   "outputs": [
    {
     "data": {
      "text/html": [
       "<div>\n",
       "<table border=\"1\" class=\"dataframe\">\n",
       "  <thead>\n",
       "    <tr style=\"text-align: right;\">\n",
       "      <th></th>\n",
       "      <th>PE</th>\n",
       "    </tr>\n",
       "  </thead>\n",
       "  <tbody>\n",
       "    <tr>\n",
       "      <th>844529</th>\n",
       "      <td>-0.7</td>\n",
       "    </tr>\n",
       "    <tr>\n",
       "      <th>1211595</th>\n",
       "      <td>-1.0</td>\n",
       "    </tr>\n",
       "    <tr>\n",
       "      <th>411151</th>\n",
       "      <td>-0.6</td>\n",
       "    </tr>\n",
       "    <tr>\n",
       "      <th>2907152</th>\n",
       "      <td>NaN</td>\n",
       "    </tr>\n",
       "    <tr>\n",
       "      <th>2907166</th>\n",
       "      <td>NaN</td>\n",
       "    </tr>\n",
       "  </tbody>\n",
       "</table>\n",
       "</div>"
      ],
      "text/plain": [
       "          PE\n",
       "844529  -0.7\n",
       "1211595 -1.0\n",
       "411151  -0.6\n",
       "2907152  NaN\n",
       "2907166  NaN"
      ]
     },
     "execution_count": 150,
     "metadata": {},
     "output_type": "execute_result"
    }
   ],
   "source": [
    "PE_Hash_1 = {}\n",
    "for code in df.ProductCode:\n",
    "    PE_Hash_1[code] = statsReg(code)\n",
    "\n",
    "PE_DF_1 =  pd.DataFrame.from_dict(PE_Hash_1, orient='index', dtype=None)\n",
    "PE_DF_1.columns = ['PE']\n",
    "PE_DF_1.head()"
   ]
  },
  {
   "cell_type": "code",
   "execution_count": 152,
   "metadata": {
    "collapsed": false
   },
   "outputs": [
    {
     "data": {
      "text/plain": [
       "<matplotlib.axes._subplots.AxesSubplot at 0x13233940>"
      ]
     },
     "execution_count": 152,
     "metadata": {},
     "output_type": "execute_result"
    },
    {
     "data": {
      "image/png": "[encoded data removed]",
      "text/plain": [
       "<matplotlib.figure.Figure at 0x12e1db38>"
      ]
     },
     "metadata": {},
     "output_type": "display_data"
    }
   ],
   "source": [
    "PE_DF_1.PE.hist(bins = 20)"
   ]
  },
  {
   "cell_type": "code",
   "execution_count": 121,
   "metadata": {
    "collapsed": false
   },
   "outputs": [],
   "source": [
    "prodNames = []\n",
    "for idx in PE_DF_1.index:\n",
    "    prodNames.append(df[df.ProductCode == idx].ProductName.iloc[0])\n",
    "PE_DF_1['productName'] = prodNames\n",
    "\n",
    "margin = []\n",
    "for idx in PE_DF_1.index:\n",
    "    margin.append(np.round(float(df[df.ProductCode == idx].Offtake.sum())/df[df.ProductCode == idx].Total_Cost.sum(),decimals=2) - 1)\n",
    "PE_DF_1['margin'] = margin\n",
    "\n",
    "averagePrice = []\n",
    "for idx in PE_DF_1.index:\n",
    "    averagePrice.append(np.round(float(df[df.ProductCode == idx].Offtake.sum())/df[df.ProductCode == idx].Sales_Num.sum(),decimals=2))\n",
    "PE_DF_1['averagePrice'] = averagePrice\n",
    "\n",
    "cost = []\n",
    "for idx in PE_DF_1.index:\n",
    "    cost.append(df[df.ProductCode == idx].Unit_Cost.iloc[0])\n",
    "PE_DF_1['cost'] = cost\n",
    "\n",
    "# calculate the SRP maximize profit\n",
    "SRP = []\n",
    "for idx in PE_DF_1.index:\n",
    "    # quadratic function symmetric axis\n",
    "    if PE_DF_1.loc[idx].PE < 0:\n",
    "        SRP.append(np.round(((1.0/PE_DF_1.loc[idx].PE + 1 - float(PE_DF_1.loc[idx].cost)/PE_DF_1.loc[idx].averagePrice)*-0.5 + 1)*\\\n",
    "        PE_DF_1.loc[idx].averagePrice,decimals = 2))\n",
    "    else:\n",
    "        SRP.append(np.nan)\n",
    "PE_DF_1['SuggestedPrice'] = SRP\n",
    "\n",
    "PE_DF_1['priceAdjust%'] = np.round((PE_DF_1['SuggestedPrice']/PE_DF_1['averagePrice'] - 1),decimals=2)*100"
   ]
  },
  {
   "cell_type": "code",
   "execution_count": 122,
   "metadata": {
    "collapsed": false
   },
   "outputs": [
    {
     "data": {
      "text/plain": [
       "count     38.000000\n",
       "mean      62.657895\n",
       "std       34.661511\n",
       "min       35.000000\n",
       "25%             NaN\n",
       "50%             NaN\n",
       "75%             NaN\n",
       "max      247.000000\n",
       "Name: priceAdjust%, dtype: float64"
      ]
     },
     "execution_count": 122,
     "metadata": {},
     "output_type": "execute_result"
    }
   ],
   "source": [
    "PE_DF_1['priceAdjust%'].describe()"
   ]
  },
  {
   "cell_type": "code",
   "execution_count": 39,
   "metadata": {
    "collapsed": false
   },
   "outputs": [
    {
     "data": {
      "text/plain": [
       "<matplotlib.text.Text at 0xe64c978>"
      ]
     },
     "execution_count": 39,
     "metadata": {},
     "output_type": "execute_result"
    },
    {
     "data": {
      "image/png": "[encoded data removed]",
      "text/plain": [
       "<matplotlib.figure.Figure at 0xdcfe160>"
      ]
     },
     "metadata": {},
     "output_type": "display_data"
    }
   ],
   "source": [
    "PE_DF_1['priceAdjust%'].hist(bins = 40)\n",
    "plt.title('Price Adjustment% Histogram')"
   ]
  },
  {
   "cell_type": "code",
   "execution_count": 33,
   "metadata": {
    "collapsed": false
   },
   "outputs": [
    {
     "data": {
      "text/html": [
       "<div>\n",
       "<table border=\"1\" class=\"dataframe\">\n",
       "  <thead>\n",
       "    <tr style=\"text-align: right;\">\n",
       "      <th></th>\n",
       "      <th>PE</th>\n",
       "      <th>margin</th>\n",
       "      <th>averagePrice</th>\n",
       "      <th>cost</th>\n",
       "      <th>SRP</th>\n",
       "      <th>priceAdjust%</th>\n",
       "    </tr>\n",
       "  </thead>\n",
       "  <tbody>\n",
       "    <tr>\n",
       "      <th>count</th>\n",
       "      <td>227.000000</td>\n",
       "      <td>339.000000</td>\n",
       "      <td>339.00000</td>\n",
       "      <td>339.000000</td>\n",
       "      <td>225.000000</td>\n",
       "      <td>225.000000</td>\n",
       "    </tr>\n",
       "    <tr>\n",
       "      <th>mean</th>\n",
       "      <td>-4.590749</td>\n",
       "      <td>-0.224897</td>\n",
       "      <td>109.90941</td>\n",
       "      <td>147.187935</td>\n",
       "      <td>45.272133</td>\n",
       "      <td>27.195556</td>\n",
       "    </tr>\n",
       "    <tr>\n",
       "      <th>std</th>\n",
       "      <td>5.292569</td>\n",
       "      <td>0.122209</td>\n",
       "      <td>141.32700</td>\n",
       "      <td>207.785585</td>\n",
       "      <td>25.930614</td>\n",
       "      <td>9.775469</td>\n",
       "    </tr>\n",
       "    <tr>\n",
       "      <th>min</th>\n",
       "      <td>-64.200000</td>\n",
       "      <td>-0.460000</td>\n",
       "      <td>9.40000</td>\n",
       "      <td>7.980000</td>\n",
       "      <td>11.040000</td>\n",
       "      <td>1.000000</td>\n",
       "    </tr>\n",
       "    <tr>\n",
       "      <th>25%</th>\n",
       "      <td>NaN</td>\n",
       "      <td>-0.330000</td>\n",
       "      <td>25.13000</td>\n",
       "      <td>28.320000</td>\n",
       "      <td>NaN</td>\n",
       "      <td>NaN</td>\n",
       "    </tr>\n",
       "    <tr>\n",
       "      <th>50%</th>\n",
       "      <td>NaN</td>\n",
       "      <td>-0.250000</td>\n",
       "      <td>44.57000</td>\n",
       "      <td>50.770000</td>\n",
       "      <td>NaN</td>\n",
       "      <td>NaN</td>\n",
       "    </tr>\n",
       "    <tr>\n",
       "      <th>75%</th>\n",
       "      <td>NaN</td>\n",
       "      <td>-0.160000</td>\n",
       "      <td>126.40000</td>\n",
       "      <td>141.960000</td>\n",
       "      <td>NaN</td>\n",
       "      <td>NaN</td>\n",
       "    </tr>\n",
       "    <tr>\n",
       "      <th>max</th>\n",
       "      <td>2.400000</td>\n",
       "      <td>0.210000</td>\n",
       "      <td>609.13000</td>\n",
       "      <td>948.840000</td>\n",
       "      <td>188.830000</td>\n",
       "      <td>93.000000</td>\n",
       "    </tr>\n",
       "  </tbody>\n",
       "</table>\n",
       "</div>"
      ],
      "text/plain": [
       "               PE      margin  averagePrice        cost         SRP  \\\n",
       "count  227.000000  339.000000     339.00000  339.000000  225.000000   \n",
       "mean    -4.590749   -0.224897     109.90941  147.187935   45.272133   \n",
       "std      5.292569    0.122209     141.32700  207.785585   25.930614   \n",
       "min    -64.200000   -0.460000       9.40000    7.980000   11.040000   \n",
       "25%           NaN   -0.330000      25.13000   28.320000         NaN   \n",
       "50%           NaN   -0.250000      44.57000   50.770000         NaN   \n",
       "75%           NaN   -0.160000     126.40000  141.960000         NaN   \n",
       "max      2.400000    0.210000     609.13000  948.840000  188.830000   \n",
       "\n",
       "       priceAdjust%  \n",
       "count    225.000000  \n",
       "mean      27.195556  \n",
       "std        9.775469  \n",
       "min        1.000000  \n",
       "25%             NaN  \n",
       "50%             NaN  \n",
       "75%             NaN  \n",
       "max       93.000000  "
      ]
     },
     "execution_count": 33,
     "metadata": {},
     "output_type": "execute_result"
    }
   ],
   "source": [
    "PE_DF_1.describe()"
   ]
  },
  {
   "cell_type": "code",
   "execution_count": 125,
   "metadata": {
    "collapsed": false
   },
   "outputs": [
    {
     "data": {
      "text/plain": [
       "False    38\n",
       "True      6\n",
       "Name: PE, dtype: int64"
      ]
     },
     "execution_count": 125,
     "metadata": {},
     "output_type": "execute_result"
    }
   ],
   "source": [
    "PE_DF_1.PE.isnull().value_counts()"
   ]
  },
  {
   "cell_type": "code",
   "execution_count": 130,
   "metadata": {
    "collapsed": false
   },
   "outputs": [
    {
     "data": {
      "text/html": [
       "<div>\n",
       "<table border=\"1\" class=\"dataframe\">\n",
       "  <thead>\n",
       "    <tr style=\"text-align: right;\">\n",
       "      <th></th>\n",
       "      <th>PE</th>\n",
       "      <th>productName</th>\n",
       "      <th>margin</th>\n",
       "      <th>averagePrice</th>\n",
       "      <th>cost</th>\n",
       "      <th>SuggestedPrice</th>\n",
       "      <th>priceAdjust%</th>\n",
       "    </tr>\n",
       "  </thead>\n",
       "  <tbody>\n",
       "    <tr>\n",
       "      <th>1265447</th>\n",
       "      <td>-0.8</td>\n",
       "      <td>【京东超市】沙宣护发素光感莹润750ml（润发乳）</td>\n",
       "      <td>-0.18</td>\n",
       "      <td>61.22</td>\n",
       "      <td>74.24</td>\n",
       "      <td>105.99</td>\n",
       "      <td>73.0</td>\n",
       "    </tr>\n",
       "  </tbody>\n",
       "</table>\n",
       "</div>"
      ],
      "text/plain": [
       "          PE                productName  margin  averagePrice   cost  \\\n",
       "1265447 -0.8  【京东超市】沙宣护发素光感莹润750ml（润发乳）   -0.18         61.22  74.24   \n",
       "\n",
       "         SuggestedPrice  priceAdjust%  \n",
       "1265447          105.99          73.0  "
      ]
     },
     "execution_count": 130,
     "metadata": {},
     "output_type": "execute_result"
    }
   ],
   "source": [
    "# suggested price adjust SKUs\n",
    "mask = (PE_DF_1.PE > -1) & (PE_DF_1.margin < - 0.1)\n",
    "PE_DF_1[mask]"
   ]
  },
  {
   "cell_type": "code",
   "execution_count": 131,
   "metadata": {
    "collapsed": false
   },
   "outputs": [
    {
     "data": {
      "image/png": "[encoded data removed]",
      "text/plain": [
       "<matplotlib.figure.Figure at 0x135b5dd8>"
      ]
     },
     "metadata": {},
     "output_type": "display_data"
    }
   ],
   "source": [
    "jointplt(1265447)"
   ]
  },
  {
   "cell_type": "markdown",
   "metadata": {},
   "source": [
    "**Per Mechanism**"
   ]
  },
  {
   "cell_type": "code",
   "execution_count": 154,
   "metadata": {
    "collapsed": false
   },
   "outputs": [],
   "source": [
    "def statsRegPerMech(ProductCode):\n",
    "    SKU = df[df.ProductCode == ProductCode]\n",
    "    PEs = []\n",
    "    for mech in df.Mechanism.unique():\n",
    "        SKU_PerMech = SKU[SKU.Mechanism == mech]\n",
    "        if SKU_PerMech.empty:\n",
    "            PEs.append('NODATA')\n",
    "        else:\n",
    "            x = np.log(SKU_PerMech.Sales_Price)\n",
    "            y = np.log(SKU_PerMech.Sales_Num/SKU_PerMech.uv)\n",
    "            slope, intercept, r_value, p_value, std_err = stats.linregress(x,y)\n",
    "            if p_value < 0.05:\n",
    "                PEs.append(np.round(slope,decimals=1))\n",
    "            else:\n",
    "                PEs.append('NONLINEAR')\n",
    "    return PEs"
   ]
  },
  {
   "cell_type": "code",
   "execution_count": 155,
   "metadata": {
    "collapsed": false
   },
   "outputs": [
    {
     "data": {
      "text/html": [
       "<div>\n",
       "<table border=\"1\" class=\"dataframe\">\n",
       "  <thead>\n",
       "    <tr style=\"text-align: right;\">\n",
       "      <th></th>\n",
       "      <th>single TPR</th>\n",
       "      <th>3件7折 4件6折</th>\n",
       "      <th>满199减100</th>\n",
       "      <th>满159减60</th>\n",
       "      <th>满99减30</th>\n",
       "      <th>满199减80</th>\n",
       "    </tr>\n",
       "  </thead>\n",
       "  <tbody>\n",
       "    <tr>\n",
       "      <th>844529</th>\n",
       "      <td>NONLINEAR</td>\n",
       "      <td>NONLINEAR</td>\n",
       "      <td>NODATA</td>\n",
       "      <td>-5</td>\n",
       "      <td>-4.5</td>\n",
       "      <td>NONLINEAR</td>\n",
       "    </tr>\n",
       "    <tr>\n",
       "      <th>1211595</th>\n",
       "      <td>NONLINEAR</td>\n",
       "      <td>NONLINEAR</td>\n",
       "      <td>NODATA</td>\n",
       "      <td>NONLINEAR</td>\n",
       "      <td>NONLINEAR</td>\n",
       "      <td>NONLINEAR</td>\n",
       "    </tr>\n",
       "    <tr>\n",
       "      <th>411151</th>\n",
       "      <td>-5.9</td>\n",
       "      <td>NONLINEAR</td>\n",
       "      <td>NONLINEAR</td>\n",
       "      <td>-3.7</td>\n",
       "      <td>NODATA</td>\n",
       "      <td>-4.8</td>\n",
       "    </tr>\n",
       "    <tr>\n",
       "      <th>2907152</th>\n",
       "      <td>NONLINEAR</td>\n",
       "      <td>NODATA</td>\n",
       "      <td>NODATA</td>\n",
       "      <td>NODATA</td>\n",
       "      <td>NODATA</td>\n",
       "      <td>NODATA</td>\n",
       "    </tr>\n",
       "    <tr>\n",
       "      <th>2907166</th>\n",
       "      <td>NONLINEAR</td>\n",
       "      <td>NODATA</td>\n",
       "      <td>NODATA</td>\n",
       "      <td>NODATA</td>\n",
       "      <td>NODATA</td>\n",
       "      <td>NODATA</td>\n",
       "    </tr>\n",
       "  </tbody>\n",
       "</table>\n",
       "</div>"
      ],
      "text/plain": [
       "        single TPR  3件7折 4件6折   满199减100    满159减60     满99减30    满199减80\n",
       "844529   NONLINEAR  NONLINEAR     NODATA         -5       -4.5  NONLINEAR\n",
       "1211595  NONLINEAR  NONLINEAR     NODATA  NONLINEAR  NONLINEAR  NONLINEAR\n",
       "411151        -5.9  NONLINEAR  NONLINEAR       -3.7     NODATA       -4.8\n",
       "2907152  NONLINEAR     NODATA     NODATA     NODATA     NODATA     NODATA\n",
       "2907166  NONLINEAR     NODATA     NODATA     NODATA     NODATA     NODATA"
      ]
     },
     "execution_count": 155,
     "metadata": {},
     "output_type": "execute_result"
    }
   ],
   "source": [
    "PE_Hash = {}\n",
    "for code in df.ProductCode:\n",
    "    PE_Hash[code] = statsRegPerMech(code)\n",
    "\n",
    "PE_DF =  pd.DataFrame.from_dict(PE_Hash, orient='index', dtype=None)\n",
    "PE_DF.columns = df.Mechanism.unique()\n",
    "PE_DF.head()"
   ]
  },
  {
   "cell_type": "markdown",
   "metadata": {},
   "source": [
    "**Three-Chanel split: TPR, 199-100, others**"
   ]
  },
  {
   "cell_type": "code",
   "execution_count": 182,
   "metadata": {
    "collapsed": true
   },
   "outputs": [],
   "source": [
    "def statsByMechReg(ProductCode,df):\n",
    "    SKU = df[df.ProductCode == ProductCode]\n",
    "    x = np.log(SKU.Sales_Price)\n",
    "    y = np.log(SKU.Sales_Num)/SKU.uv)\n",
    "    print y\n",
    "    slope, intercept, r_value, p_value, std_err = stats.linregress(x,y)\n",
    "    if p_value < 0.05:\n",
    "        return np.round(slope,decimals=1)\n",
    "    else:\n",
    "        return 'Mark'"
   ]
  },
  {
   "cell_type": "code",
   "execution_count": 183,
   "metadata": {
    "collapsed": false
   },
   "outputs": [
    {
     "data": {
      "text/plain": [
       "single TPR    4512\n",
       "满159减60       3592\n",
       "满199减100      2642\n",
       "3件7折 4件6折     1800\n",
       "满199减80       1335\n",
       "满99减30         977\n",
       "Name: Mechanism, dtype: int64"
      ]
     },
     "execution_count": 183,
     "metadata": {},
     "output_type": "execute_result"
    }
   ],
   "source": [
    "df.Mechanism.value_counts()"
   ]
  },
  {
   "cell_type": "code",
   "execution_count": 184,
   "metadata": {
    "collapsed": true
   },
   "outputs": [],
   "source": [
    "df1 = df[df.Mechanism == 'single TPR']"
   ]
  },
  {
   "cell_type": "code",
   "execution_count": 185,
   "metadata": {
    "collapsed": false
   },
   "outputs": [],
   "source": [
    "df2 = df[df.Mechanism == u'满199减100']"
   ]
  },
  {
   "cell_type": "code",
   "execution_count": 186,
   "metadata": {
    "collapsed": true
   },
   "outputs": [],
   "source": [
    "mask3 = (df.Mechanism != 'single TPR') & (df.Mechanism != u'满199减100')"
   ]
  },
  {
   "cell_type": "code",
   "execution_count": 187,
   "metadata": {
    "collapsed": true
   },
   "outputs": [],
   "source": [
    "df3 = df[mask3]"
   ]
  },
  {
   "cell_type": "code",
   "execution_count": 188,
   "metadata": {
    "collapsed": false
   },
   "outputs": [
    {
     "data": {
      "text/plain": [
       "满159减60      3592\n",
       "3件7折 4件6折    1800\n",
       "满199减80      1335\n",
       "满99减30        977\n",
       "Name: Mechanism, dtype: int64"
      ]
     },
     "execution_count": 188,
     "metadata": {},
     "output_type": "execute_result"
    }
   ],
   "source": [
    "df3.Mechanism.value_counts()"
   ]
  },
  {
   "cell_type": "code",
   "execution_count": 189,
   "metadata": {
    "collapsed": false
   },
   "outputs": [
    {
     "ename": "TypeError",
     "evalue": "cannot convert the series to <type 'float'>",
     "output_type": "error",
     "traceback": [
      "\u001b[1;31m---------------------------------------------------------------------------\u001b[0m",
      "\u001b[1;31mTypeError\u001b[0m                                 Traceback (most recent call last)",
      "\u001b[1;32m<ipython-input-189-2d254a139a6a>\u001b[0m in \u001b[0;36m<module>\u001b[1;34m()\u001b[0m\n\u001b[0;32m      1\u001b[0m \u001b[0mPE_1\u001b[0m \u001b[1;33m=\u001b[0m \u001b[1;33m{\u001b[0m\u001b[1;33m}\u001b[0m\u001b[1;33m\u001b[0m\u001b[0m\n\u001b[0;32m      2\u001b[0m \u001b[1;32mfor\u001b[0m \u001b[0mcode\u001b[0m \u001b[1;32min\u001b[0m \u001b[0mdf1\u001b[0m\u001b[1;33m.\u001b[0m\u001b[0mProductCode\u001b[0m\u001b[1;33m:\u001b[0m\u001b[1;33m\u001b[0m\u001b[0m\n\u001b[1;32m----> 3\u001b[1;33m     \u001b[0mPE_1\u001b[0m\u001b[1;33m[\u001b[0m\u001b[0mcode\u001b[0m\u001b[1;33m]\u001b[0m \u001b[1;33m=\u001b[0m \u001b[0mstatsByMechReg\u001b[0m\u001b[1;33m(\u001b[0m\u001b[0mcode\u001b[0m\u001b[1;33m,\u001b[0m\u001b[0mdf1\u001b[0m\u001b[1;33m)\u001b[0m\u001b[1;33m\u001b[0m\u001b[0m\n\u001b[0m\u001b[0;32m      4\u001b[0m \u001b[1;33m\u001b[0m\u001b[0m\n\u001b[0;32m      5\u001b[0m \u001b[0mPE_DF1\u001b[0m \u001b[1;33m=\u001b[0m  \u001b[0mpd\u001b[0m\u001b[1;33m.\u001b[0m\u001b[0mDataFrame\u001b[0m\u001b[1;33m.\u001b[0m\u001b[0mfrom_dict\u001b[0m\u001b[1;33m(\u001b[0m\u001b[0mPE_1\u001b[0m\u001b[1;33m,\u001b[0m \u001b[0morient\u001b[0m\u001b[1;33m=\u001b[0m\u001b[1;34m'index'\u001b[0m\u001b[1;33m)\u001b[0m\u001b[1;33m\u001b[0m\u001b[0m\n",
      "\u001b[1;32m<ipython-input-182-c9121f544d72>\u001b[0m in \u001b[0;36mstatsByMechReg\u001b[1;34m(ProductCode, df)\u001b[0m\n\u001b[0;32m      2\u001b[0m     \u001b[0mSKU\u001b[0m \u001b[1;33m=\u001b[0m \u001b[0mdf\u001b[0m\u001b[1;33m[\u001b[0m\u001b[0mdf\u001b[0m\u001b[1;33m.\u001b[0m\u001b[0mProductCode\u001b[0m \u001b[1;33m==\u001b[0m \u001b[0mProductCode\u001b[0m\u001b[1;33m]\u001b[0m\u001b[1;33m\u001b[0m\u001b[0m\n\u001b[0;32m      3\u001b[0m     \u001b[0mx\u001b[0m \u001b[1;33m=\u001b[0m \u001b[0mnp\u001b[0m\u001b[1;33m.\u001b[0m\u001b[0mlog\u001b[0m\u001b[1;33m(\u001b[0m\u001b[0mSKU\u001b[0m\u001b[1;33m.\u001b[0m\u001b[0mSales_Price\u001b[0m\u001b[1;33m)\u001b[0m\u001b[1;33m\u001b[0m\u001b[0m\n\u001b[1;32m----> 4\u001b[1;33m     \u001b[0my\u001b[0m \u001b[1;33m=\u001b[0m \u001b[0mnp\u001b[0m\u001b[1;33m.\u001b[0m\u001b[0mlog\u001b[0m\u001b[1;33m(\u001b[0m\u001b[0mfloat\u001b[0m\u001b[1;33m(\u001b[0m\u001b[0mSKU\u001b[0m\u001b[1;33m.\u001b[0m\u001b[0mSales_Num\u001b[0m\u001b[1;33m)\u001b[0m\u001b[1;33m/\u001b[0m\u001b[0mSKU\u001b[0m\u001b[1;33m.\u001b[0m\u001b[0muv\u001b[0m\u001b[1;33m)\u001b[0m\u001b[1;33m\u001b[0m\u001b[0m\n\u001b[0m\u001b[0;32m      5\u001b[0m     \u001b[0mslope\u001b[0m\u001b[1;33m,\u001b[0m \u001b[0mintercept\u001b[0m\u001b[1;33m,\u001b[0m \u001b[0mr_value\u001b[0m\u001b[1;33m,\u001b[0m \u001b[0mp_value\u001b[0m\u001b[1;33m,\u001b[0m \u001b[0mstd_err\u001b[0m \u001b[1;33m=\u001b[0m \u001b[0mstats\u001b[0m\u001b[1;33m.\u001b[0m\u001b[0mlinregress\u001b[0m\u001b[1;33m(\u001b[0m\u001b[0mx\u001b[0m\u001b[1;33m,\u001b[0m\u001b[0my\u001b[0m\u001b[1;33m)\u001b[0m\u001b[1;33m\u001b[0m\u001b[0m\n\u001b[0;32m      6\u001b[0m     \u001b[1;32mif\u001b[0m \u001b[0mp_value\u001b[0m \u001b[1;33m<\u001b[0m \u001b[1;36m0.05\u001b[0m\u001b[1;33m:\u001b[0m\u001b[1;33m\u001b[0m\u001b[0m\n",
      "\u001b[1;32mC:\\Anaconda2\\lib\\site-packages\\pandas\\core\\series.pyc\u001b[0m in \u001b[0;36mwrapper\u001b[1;34m(self)\u001b[0m\n\u001b[0;32m     76\u001b[0m             \u001b[1;32mreturn\u001b[0m \u001b[0mconverter\u001b[0m\u001b[1;33m(\u001b[0m\u001b[0mself\u001b[0m\u001b[1;33m.\u001b[0m\u001b[0miloc\u001b[0m\u001b[1;33m[\u001b[0m\u001b[1;36m0\u001b[0m\u001b[1;33m]\u001b[0m\u001b[1;33m)\u001b[0m\u001b[1;33m\u001b[0m\u001b[0m\n\u001b[0;32m     77\u001b[0m         raise TypeError(\"cannot convert the series to \"\n\u001b[1;32m---> 78\u001b[1;33m                         \"{0}\".format(str(converter)))\n\u001b[0m\u001b[0;32m     79\u001b[0m \u001b[1;33m\u001b[0m\u001b[0m\n\u001b[0;32m     80\u001b[0m     \u001b[1;32mreturn\u001b[0m \u001b[0mwrapper\u001b[0m\u001b[1;33m\u001b[0m\u001b[0m\n",
      "\u001b[1;31mTypeError\u001b[0m: cannot convert the series to <type 'float'>"
     ]
    }
   ],
   "source": [
    "PE_1 = {}\n",
    "for code in df1.ProductCode:\n",
    "    PE_1[code] = statsByMechReg(code,df1)\n",
    "\n",
    "PE_DF1 =  pd.DataFrame.from_dict(PE_1, orient='index')\n",
    "PE_DF1.columns = ['TPR_PE']"
   ]
  },
  {
   "cell_type": "code",
   "execution_count": 164,
   "metadata": {
    "collapsed": false,
    "scrolled": false
   },
   "outputs": [],
   "source": [
    "range1 = []\n",
    "for idx in PE_DF1.index:\n",
    "    minnimum = df1[df1.ProductCode == idx].Sales_Price.min()\n",
    "    maximum = df1[df1.ProductCode == idx].Sales_Price.max()\n",
    "    if minnimum != maximum:\n",
    "        strRange = '[' + np.str(np.round(minnimum,decimals = 2)) +',' + np.str(np.round(maximum,decimals = 2)) + ']'\n",
    "        range1.append(strRange)\n",
    "    else:\n",
    "        range1.append(np.str(np.round(minnimum,decimals = 2)))\n",
    "\n",
    "PE_DF1['TPR_Range'] = range1"
   ]
  },
  {
   "cell_type": "code",
   "execution_count": 165,
   "metadata": {
    "collapsed": false
   },
   "outputs": [
    {
     "data": {
      "text/html": [
       "<div>\n",
       "<table border=\"1\" class=\"dataframe\">\n",
       "  <thead>\n",
       "    <tr style=\"text-align: right;\">\n",
       "      <th></th>\n",
       "      <th>TPR_PE</th>\n",
       "      <th>TPR_Range</th>\n",
       "    </tr>\n",
       "  </thead>\n",
       "  <tbody>\n",
       "    <tr>\n",
       "      <th>844529</th>\n",
       "      <td>Mark</td>\n",
       "      <td>[19.49,25.58]</td>\n",
       "    </tr>\n",
       "    <tr>\n",
       "      <th>1211595</th>\n",
       "      <td>Mark</td>\n",
       "      <td>[15.9,25.9]</td>\n",
       "    </tr>\n",
       "    <tr>\n",
       "      <th>411151</th>\n",
       "      <td>-5.9</td>\n",
       "      <td>[30.71,36.13]</td>\n",
       "    </tr>\n",
       "    <tr>\n",
       "      <th>2907152</th>\n",
       "      <td>Mark</td>\n",
       "      <td>120.92</td>\n",
       "    </tr>\n",
       "    <tr>\n",
       "      <th>2907166</th>\n",
       "      <td>Mark</td>\n",
       "      <td>145.47</td>\n",
       "    </tr>\n",
       "  </tbody>\n",
       "</table>\n",
       "</div>"
      ],
      "text/plain": [
       "        TPR_PE      TPR_Range\n",
       "844529    Mark  [19.49,25.58]\n",
       "1211595   Mark    [15.9,25.9]\n",
       "411151    -5.9  [30.71,36.13]\n",
       "2907152   Mark         120.92\n",
       "2907166   Mark         145.47"
      ]
     },
     "execution_count": 165,
     "metadata": {},
     "output_type": "execute_result"
    }
   ],
   "source": [
    "PE_DF1.head()"
   ]
  },
  {
   "cell_type": "code",
   "execution_count": 166,
   "metadata": {
    "collapsed": false
   },
   "outputs": [
    {
     "data": {
      "text/html": [
       "<div>\n",
       "<table border=\"1\" class=\"dataframe\">\n",
       "  <thead>\n",
       "    <tr style=\"text-align: right;\">\n",
       "      <th></th>\n",
       "      <th>199-100_PE</th>\n",
       "    </tr>\n",
       "  </thead>\n",
       "  <tbody>\n",
       "    <tr>\n",
       "      <th>411151</th>\n",
       "      <td>Mark</td>\n",
       "    </tr>\n",
       "    <tr>\n",
       "      <th>301621</th>\n",
       "      <td>-1.6</td>\n",
       "    </tr>\n",
       "    <tr>\n",
       "      <th>301622</th>\n",
       "      <td>-1.2</td>\n",
       "    </tr>\n",
       "    <tr>\n",
       "      <th>301623</th>\n",
       "      <td>-2.5</td>\n",
       "    </tr>\n",
       "    <tr>\n",
       "      <th>1093694</th>\n",
       "      <td>-1.2</td>\n",
       "    </tr>\n",
       "  </tbody>\n",
       "</table>\n",
       "</div>"
      ],
      "text/plain": [
       "        199-100_PE\n",
       "411151        Mark\n",
       "301621        -1.6\n",
       "301622        -1.2\n",
       "301623        -2.5\n",
       "1093694       -1.2"
      ]
     },
     "execution_count": 166,
     "metadata": {},
     "output_type": "execute_result"
    }
   ],
   "source": [
    "PE_2 = {}\n",
    "for code in df2.ProductCode:\n",
    "    PE_2[code] = statsByMechReg(code,df2)\n",
    "\n",
    "PE_DF2 =  pd.DataFrame.from_dict(PE_2, orient='index')\n",
    "PE_DF2.columns =['199-100_PE']\n",
    "PE_DF2.head()"
   ]
  },
  {
   "cell_type": "code",
   "execution_count": 167,
   "metadata": {
    "collapsed": true
   },
   "outputs": [],
   "source": [
    "range2 = []\n",
    "for idx in PE_DF2.index:\n",
    "    minnimum = df2[df2.ProductCode == idx].Sales_Price.min()\n",
    "    maximum = df2[df2.ProductCode == idx].Sales_Price.max()\n",
    "    if minnimum != maximum:\n",
    "        strRange = '[' + np.str(np.round(minnimum,decimals = 2)) +',' + np.str(np.round(maximum,decimals = 2)) + ']'\n",
    "        range2.append(strRange)\n",
    "    else:\n",
    "        range2.append(np.str(np.round(minnimum,decimals = 2)))\n",
    "\n",
    "PE_DF2['199-100_Range'] = range2"
   ]
  },
  {
   "cell_type": "code",
   "execution_count": 180,
   "metadata": {
    "collapsed": false
   },
   "outputs": [
    {
     "data": {
      "text/html": [
       "<div>\n",
       "<table border=\"1\" class=\"dataframe\">\n",
       "  <thead>\n",
       "    <tr style=\"text-align: right;\">\n",
       "      <th></th>\n",
       "      <th>199-100_PE</th>\n",
       "      <th>199-100_Range</th>\n",
       "    </tr>\n",
       "  </thead>\n",
       "  <tbody>\n",
       "    <tr>\n",
       "      <th>411151</th>\n",
       "      <td>Mark</td>\n",
       "      <td>[12.84,39.68]</td>\n",
       "    </tr>\n",
       "    <tr>\n",
       "      <th>301621</th>\n",
       "      <td>-1.6</td>\n",
       "      <td>[26.58,48.9]</td>\n",
       "    </tr>\n",
       "    <tr>\n",
       "      <th>301622</th>\n",
       "      <td>-1.2</td>\n",
       "      <td>[25.62,48.9]</td>\n",
       "    </tr>\n",
       "    <tr>\n",
       "      <th>301623</th>\n",
       "      <td>-2.5</td>\n",
       "      <td>[30.06,60.9]</td>\n",
       "    </tr>\n",
       "    <tr>\n",
       "      <th>1093694</th>\n",
       "      <td>-1.2</td>\n",
       "      <td>[32.1,59.8]</td>\n",
       "    </tr>\n",
       "    <tr>\n",
       "      <th>1093698</th>\n",
       "      <td>-4</td>\n",
       "      <td>[33.38,62.24]</td>\n",
       "    </tr>\n",
       "    <tr>\n",
       "      <th>1093700</th>\n",
       "      <td>-2</td>\n",
       "      <td>[31.13,59.8]</td>\n",
       "    </tr>\n",
       "    <tr>\n",
       "      <th>1093701</th>\n",
       "      <td>-1.1</td>\n",
       "      <td>[33.01,59.8]</td>\n",
       "    </tr>\n",
       "    <tr>\n",
       "      <th>773199</th>\n",
       "      <td>-6.3</td>\n",
       "      <td>[43.06,86.9]</td>\n",
       "    </tr>\n",
       "    <tr>\n",
       "      <th>1093713</th>\n",
       "      <td>-3.5</td>\n",
       "      <td>[17.54,34.8]</td>\n",
       "    </tr>\n",
       "    <tr>\n",
       "      <th>1093714</th>\n",
       "      <td>Mark</td>\n",
       "      <td>[30.9,37.84]</td>\n",
       "    </tr>\n",
       "    <tr>\n",
       "      <th>773205</th>\n",
       "      <td>-3.1</td>\n",
       "      <td>[43.27,86.9]</td>\n",
       "    </tr>\n",
       "    <tr>\n",
       "      <th>1071709</th>\n",
       "      <td>-1.1</td>\n",
       "      <td>[26.52,39.8]</td>\n",
       "    </tr>\n",
       "    <tr>\n",
       "      <th>1071716</th>\n",
       "      <td>Mark</td>\n",
       "      <td>[28.17,39.65]</td>\n",
       "    </tr>\n",
       "    <tr>\n",
       "      <th>1071724</th>\n",
       "      <td>-2</td>\n",
       "      <td>[52.39,99.0]</td>\n",
       "    </tr>\n",
       "    <tr>\n",
       "      <th>1071738</th>\n",
       "      <td>-2.5</td>\n",
       "      <td>[43.41,79.0]</td>\n",
       "    </tr>\n",
       "    <tr>\n",
       "      <th>1093756</th>\n",
       "      <td>-1.8</td>\n",
       "      <td>[31.27,59.8]</td>\n",
       "    </tr>\n",
       "    <tr>\n",
       "      <th>4071550</th>\n",
       "      <td>-13.1</td>\n",
       "      <td>[30.62,34.1]</td>\n",
       "    </tr>\n",
       "    <tr>\n",
       "      <th>551039</th>\n",
       "      <td>-3.1</td>\n",
       "      <td>[31.07,60.9]</td>\n",
       "    </tr>\n",
       "    <tr>\n",
       "      <th>551040</th>\n",
       "      <td>-3</td>\n",
       "      <td>[15.0,29.9]</td>\n",
       "    </tr>\n",
       "    <tr>\n",
       "      <th>551041</th>\n",
       "      <td>-1.2</td>\n",
       "      <td>[25.87,48.43]</td>\n",
       "    </tr>\n",
       "    <tr>\n",
       "      <th>1071746</th>\n",
       "      <td>-1.5</td>\n",
       "      <td>[23.7,38.9]</td>\n",
       "    </tr>\n",
       "    <tr>\n",
       "      <th>433795</th>\n",
       "      <td>-2.5</td>\n",
       "      <td>[15.09,31.0]</td>\n",
       "    </tr>\n",
       "    <tr>\n",
       "      <th>1680519</th>\n",
       "      <td>-4.2</td>\n",
       "      <td>[17.07,34.9]</td>\n",
       "    </tr>\n",
       "    <tr>\n",
       "      <th>551048</th>\n",
       "      <td>-4.5</td>\n",
       "      <td>[16.7,32.9]</td>\n",
       "    </tr>\n",
       "    <tr>\n",
       "      <th>1680529</th>\n",
       "      <td>-4.9</td>\n",
       "      <td>[29.84,59.9]</td>\n",
       "    </tr>\n",
       "    <tr>\n",
       "      <th>4071578</th>\n",
       "      <td>-2.9</td>\n",
       "      <td>[57.31,109.0]</td>\n",
       "    </tr>\n",
       "    <tr>\n",
       "      <th>3640987</th>\n",
       "      <td>Mark</td>\n",
       "      <td>[32.4,59.0]</td>\n",
       "    </tr>\n",
       "    <tr>\n",
       "      <th>4071580</th>\n",
       "      <td>-1.5</td>\n",
       "      <td>[31.09,59.0]</td>\n",
       "    </tr>\n",
       "    <tr>\n",
       "      <th>3640989</th>\n",
       "      <td>-1.4</td>\n",
       "      <td>[31.34,59.0]</td>\n",
       "    </tr>\n",
       "    <tr>\n",
       "      <th>...</th>\n",
       "      <td>...</td>\n",
       "      <td>...</td>\n",
       "    </tr>\n",
       "    <tr>\n",
       "      <th>1071850</th>\n",
       "      <td>-1.1</td>\n",
       "      <td>[50.46,99.0]</td>\n",
       "    </tr>\n",
       "    <tr>\n",
       "      <th>206740</th>\n",
       "      <td>Mark</td>\n",
       "      <td>[25.71,42.1]</td>\n",
       "    </tr>\n",
       "    <tr>\n",
       "      <th>206742</th>\n",
       "      <td>-6.5</td>\n",
       "      <td>[43.34,84.63]</td>\n",
       "    </tr>\n",
       "    <tr>\n",
       "      <th>1265476</th>\n",
       "      <td>Mark</td>\n",
       "      <td>[20.31,39.0]</td>\n",
       "    </tr>\n",
       "    <tr>\n",
       "      <th>206748</th>\n",
       "      <td>-4.7</td>\n",
       "      <td>[44.33,86.43]</td>\n",
       "    </tr>\n",
       "    <tr>\n",
       "      <th>206757</th>\n",
       "      <td>-5.1</td>\n",
       "      <td>[43.29,83.65]</td>\n",
       "    </tr>\n",
       "    <tr>\n",
       "      <th>206764</th>\n",
       "      <td>-6.6</td>\n",
       "      <td>[44.14,86.9]</td>\n",
       "    </tr>\n",
       "    <tr>\n",
       "      <th>206770</th>\n",
       "      <td>-5.1</td>\n",
       "      <td>[49.61,97.53]</td>\n",
       "    </tr>\n",
       "    <tr>\n",
       "      <th>206775</th>\n",
       "      <td>-4.4</td>\n",
       "      <td>[21.13,39.0]</td>\n",
       "    </tr>\n",
       "    <tr>\n",
       "      <th>206776</th>\n",
       "      <td>-1.7</td>\n",
       "      <td>[14.6,24.75]</td>\n",
       "    </tr>\n",
       "    <tr>\n",
       "      <th>206777</th>\n",
       "      <td>-3</td>\n",
       "      <td>[42.51,79.0]</td>\n",
       "    </tr>\n",
       "    <tr>\n",
       "      <th>206779</th>\n",
       "      <td>Mark</td>\n",
       "      <td>[20.69,38.35]</td>\n",
       "    </tr>\n",
       "    <tr>\n",
       "      <th>206781</th>\n",
       "      <td>-4.1</td>\n",
       "      <td>[40.13,79.0]</td>\n",
       "    </tr>\n",
       "    <tr>\n",
       "      <th>206792</th>\n",
       "      <td>-2.1</td>\n",
       "      <td>[51.82,98.19]</td>\n",
       "    </tr>\n",
       "    <tr>\n",
       "      <th>206793</th>\n",
       "      <td>-1.7</td>\n",
       "      <td>[30.52,54.9]</td>\n",
       "    </tr>\n",
       "    <tr>\n",
       "      <th>411082</th>\n",
       "      <td>-5</td>\n",
       "      <td>[15.18,29.63]</td>\n",
       "    </tr>\n",
       "    <tr>\n",
       "      <th>411086</th>\n",
       "      <td>-2.1</td>\n",
       "      <td>[16.47,35.0]</td>\n",
       "    </tr>\n",
       "    <tr>\n",
       "      <th>206799</th>\n",
       "      <td>-4.8</td>\n",
       "      <td>[49.8,98.69]</td>\n",
       "    </tr>\n",
       "    <tr>\n",
       "      <th>206805</th>\n",
       "      <td>-7.7</td>\n",
       "      <td>[49.76,98.28]</td>\n",
       "    </tr>\n",
       "    <tr>\n",
       "      <th>206808</th>\n",
       "      <td>-6.2</td>\n",
       "      <td>[49.88,99.0]</td>\n",
       "    </tr>\n",
       "    <tr>\n",
       "      <th>959962</th>\n",
       "      <td>-2.3</td>\n",
       "      <td>[44.73,86.9]</td>\n",
       "    </tr>\n",
       "    <tr>\n",
       "      <th>206814</th>\n",
       "      <td>-5.6</td>\n",
       "      <td>[49.73,90.09]</td>\n",
       "    </tr>\n",
       "    <tr>\n",
       "      <th>851424</th>\n",
       "      <td>Mark</td>\n",
       "      <td>[27.24,49.41]</td>\n",
       "    </tr>\n",
       "    <tr>\n",
       "      <th>206819</th>\n",
       "      <td>-2.2</td>\n",
       "      <td>[52.11,97.79]</td>\n",
       "    </tr>\n",
       "    <tr>\n",
       "      <th>206825</th>\n",
       "      <td>-1.9</td>\n",
       "      <td>[29.44,54.9]</td>\n",
       "    </tr>\n",
       "    <tr>\n",
       "      <th>206829</th>\n",
       "      <td>-2.7</td>\n",
       "      <td>[14.77,24.8]</td>\n",
       "    </tr>\n",
       "    <tr>\n",
       "      <th>206830</th>\n",
       "      <td>-1.9</td>\n",
       "      <td>[14.89,23.58]</td>\n",
       "    </tr>\n",
       "    <tr>\n",
       "      <th>851446</th>\n",
       "      <td>-2.3</td>\n",
       "      <td>[51.29,99.0]</td>\n",
       "    </tr>\n",
       "    <tr>\n",
       "      <th>851451</th>\n",
       "      <td>Mark</td>\n",
       "      <td>[25.36,47.88]</td>\n",
       "    </tr>\n",
       "    <tr>\n",
       "      <th>851454</th>\n",
       "      <td>-0.8</td>\n",
       "      <td>[32.97,58.87]</td>\n",
       "    </tr>\n",
       "  </tbody>\n",
       "</table>\n",
       "<p>112 rows × 2 columns</p>\n",
       "</div>"
      ],
      "text/plain": [
       "        199-100_PE  199-100_Range\n",
       "411151        Mark  [12.84,39.68]\n",
       "301621        -1.6   [26.58,48.9]\n",
       "301622        -1.2   [25.62,48.9]\n",
       "301623        -2.5   [30.06,60.9]\n",
       "1093694       -1.2    [32.1,59.8]\n",
       "1093698         -4  [33.38,62.24]\n",
       "1093700         -2   [31.13,59.8]\n",
       "1093701       -1.1   [33.01,59.8]\n",
       "773199        -6.3   [43.06,86.9]\n",
       "1093713       -3.5   [17.54,34.8]\n",
       "1093714       Mark   [30.9,37.84]\n",
       "773205        -3.1   [43.27,86.9]\n",
       "1071709       -1.1   [26.52,39.8]\n",
       "1071716       Mark  [28.17,39.65]\n",
       "1071724         -2   [52.39,99.0]\n",
       "1071738       -2.5   [43.41,79.0]\n",
       "1093756       -1.8   [31.27,59.8]\n",
       "4071550      -13.1   [30.62,34.1]\n",
       "551039        -3.1   [31.07,60.9]\n",
       "551040          -3    [15.0,29.9]\n",
       "551041        -1.2  [25.87,48.43]\n",
       "1071746       -1.5    [23.7,38.9]\n",
       "433795        -2.5   [15.09,31.0]\n",
       "1680519       -4.2   [17.07,34.9]\n",
       "551048        -4.5    [16.7,32.9]\n",
       "1680529       -4.9   [29.84,59.9]\n",
       "4071578       -2.9  [57.31,109.0]\n",
       "3640987       Mark    [32.4,59.0]\n",
       "4071580       -1.5   [31.09,59.0]\n",
       "3640989       -1.4   [31.34,59.0]\n",
       "...            ...            ...\n",
       "1071850       -1.1   [50.46,99.0]\n",
       "206740        Mark   [25.71,42.1]\n",
       "206742        -6.5  [43.34,84.63]\n",
       "1265476       Mark   [20.31,39.0]\n",
       "206748        -4.7  [44.33,86.43]\n",
       "206757        -5.1  [43.29,83.65]\n",
       "206764        -6.6   [44.14,86.9]\n",
       "206770        -5.1  [49.61,97.53]\n",
       "206775        -4.4   [21.13,39.0]\n",
       "206776        -1.7   [14.6,24.75]\n",
       "206777          -3   [42.51,79.0]\n",
       "206779        Mark  [20.69,38.35]\n",
       "206781        -4.1   [40.13,79.0]\n",
       "206792        -2.1  [51.82,98.19]\n",
       "206793        -1.7   [30.52,54.9]\n",
       "411082          -5  [15.18,29.63]\n",
       "411086        -2.1   [16.47,35.0]\n",
       "206799        -4.8   [49.8,98.69]\n",
       "206805        -7.7  [49.76,98.28]\n",
       "206808        -6.2   [49.88,99.0]\n",
       "959962        -2.3   [44.73,86.9]\n",
       "206814        -5.6  [49.73,90.09]\n",
       "851424        Mark  [27.24,49.41]\n",
       "206819        -2.2  [52.11,97.79]\n",
       "206825        -1.9   [29.44,54.9]\n",
       "206829        -2.7   [14.77,24.8]\n",
       "206830        -1.9  [14.89,23.58]\n",
       "851446        -2.3   [51.29,99.0]\n",
       "851451        Mark  [25.36,47.88]\n",
       "851454        -0.8  [32.97,58.87]\n",
       "\n",
       "[112 rows x 2 columns]"
      ]
     },
     "execution_count": 180,
     "metadata": {},
     "output_type": "execute_result"
    }
   ],
   "source": [
    "PE_DF2"
   ]
  },
  {
   "cell_type": "code",
   "execution_count": 169,
   "metadata": {
    "collapsed": false
   },
   "outputs": [
    {
     "data": {
      "text/html": [
       "<div>\n",
       "<table border=\"1\" class=\"dataframe\">\n",
       "  <thead>\n",
       "    <tr style=\"text-align: right;\">\n",
       "      <th></th>\n",
       "      <th>Others_PE</th>\n",
       "    </tr>\n",
       "  </thead>\n",
       "  <tbody>\n",
       "    <tr>\n",
       "      <th>773202</th>\n",
       "      <td>-1.4</td>\n",
       "    </tr>\n",
       "    <tr>\n",
       "      <th>411151</th>\n",
       "      <td>-2.7</td>\n",
       "    </tr>\n",
       "    <tr>\n",
       "      <th>301621</th>\n",
       "      <td>-0.9</td>\n",
       "    </tr>\n",
       "    <tr>\n",
       "      <th>301622</th>\n",
       "      <td>-1.1</td>\n",
       "    </tr>\n",
       "    <tr>\n",
       "      <th>301623</th>\n",
       "      <td>-2.1</td>\n",
       "    </tr>\n",
       "  </tbody>\n",
       "</table>\n",
       "</div>"
      ],
      "text/plain": [
       "       Others_PE\n",
       "773202      -1.4\n",
       "411151      -2.7\n",
       "301621      -0.9\n",
       "301622      -1.1\n",
       "301623      -2.1"
      ]
     },
     "execution_count": 169,
     "metadata": {},
     "output_type": "execute_result"
    }
   ],
   "source": [
    "PE_3 = {}\n",
    "for code in df3.ProductCode:\n",
    "    PE_3[code] = statsByMechReg(code,df3)\n",
    "\n",
    "PE_DF3 =  pd.DataFrame.from_dict(PE_3, orient='index')\n",
    "PE_DF3.columns =['Others_PE']\n",
    "PE_DF3.head()"
   ]
  },
  {
   "cell_type": "code",
   "execution_count": 170,
   "metadata": {
    "collapsed": true
   },
   "outputs": [],
   "source": [
    "range3 = []\n",
    "for idx in PE_DF3.index:\n",
    "    minnimum = df3[df3.ProductCode == idx].Sales_Price.min()\n",
    "    maximum = df3[df3.ProductCode == idx].Sales_Price.max()\n",
    "    if minnimum != maximum:\n",
    "        strRange = '[' + np.str(np.round(minnimum,decimals = 2)) +',' + np.str(np.round(maximum,decimals = 2)) + ']'\n",
    "        range3.append(strRange)\n",
    "    else:\n",
    "        range3.append(np.str(np.round(minnimum,decimals = 2)))\n",
    "\n",
    "PE_DF3['Others_Range'] = range3"
   ]
  },
  {
   "cell_type": "code",
   "execution_count": 171,
   "metadata": {
    "collapsed": false
   },
   "outputs": [],
   "source": [
    "PE_ByMech_1 = PE_DF1.join(PE_DF2,how='outer')\n",
    "\n",
    "PE_ByMech = PE_ByMech_1.join(PE_DF3,how='outer')"
   ]
  },
  {
   "cell_type": "code",
   "execution_count": 172,
   "metadata": {
    "collapsed": false
   },
   "outputs": [
    {
     "data": {
      "text/html": [
       "<div>\n",
       "<table border=\"1\" class=\"dataframe\">\n",
       "  <thead>\n",
       "    <tr style=\"text-align: right;\">\n",
       "      <th></th>\n",
       "      <th>TPR_PE</th>\n",
       "      <th>TPR_Range</th>\n",
       "      <th>199-100_PE</th>\n",
       "      <th>199-100_Range</th>\n",
       "      <th>Others_PE</th>\n",
       "      <th>Others_Range</th>\n",
       "    </tr>\n",
       "  </thead>\n",
       "  <tbody>\n",
       "    <tr>\n",
       "      <th>206626</th>\n",
       "      <td>Mark</td>\n",
       "      <td>[42.78,45.52]</td>\n",
       "      <td>-4.6</td>\n",
       "      <td>[30.39,60.9]</td>\n",
       "      <td>-3.4</td>\n",
       "      <td>[35.32,60.6]</td>\n",
       "    </tr>\n",
       "    <tr>\n",
       "      <th>206627</th>\n",
       "      <td>Mark</td>\n",
       "      <td>[22.43,26.53]</td>\n",
       "      <td>Mark</td>\n",
       "      <td>[10.84,32.9]</td>\n",
       "      <td>-1.6</td>\n",
       "      <td>[21.31,32.9]</td>\n",
       "    </tr>\n",
       "    <tr>\n",
       "      <th>206628</th>\n",
       "      <td>-2.9</td>\n",
       "      <td>[24.96,39.9]</td>\n",
       "      <td>NaN</td>\n",
       "      <td>NaN</td>\n",
       "      <td>-2.4</td>\n",
       "      <td>[22.19,39.9]</td>\n",
       "    </tr>\n",
       "    <tr>\n",
       "      <th>206629</th>\n",
       "      <td>Mark</td>\n",
       "      <td>[45.97,49.45]</td>\n",
       "      <td>-3.3</td>\n",
       "      <td>[31.02,60.9]</td>\n",
       "      <td>-3.9</td>\n",
       "      <td>[30.52,60.9]</td>\n",
       "    </tr>\n",
       "    <tr>\n",
       "      <th>206632</th>\n",
       "      <td>-4.8</td>\n",
       "      <td>[23.27,34.34]</td>\n",
       "      <td>NaN</td>\n",
       "      <td>NaN</td>\n",
       "      <td>-2.9</td>\n",
       "      <td>[22.41,44.99]</td>\n",
       "    </tr>\n",
       "  </tbody>\n",
       "</table>\n",
       "</div>"
      ],
      "text/plain": [
       "       TPR_PE      TPR_Range 199-100_PE 199-100_Range Others_PE   Others_Range\n",
       "206626   Mark  [42.78,45.52]       -4.6  [30.39,60.9]      -3.4   [35.32,60.6]\n",
       "206627   Mark  [22.43,26.53]       Mark  [10.84,32.9]      -1.6   [21.31,32.9]\n",
       "206628   -2.9   [24.96,39.9]        NaN           NaN      -2.4   [22.19,39.9]\n",
       "206629   Mark  [45.97,49.45]       -3.3  [31.02,60.9]      -3.9   [30.52,60.9]\n",
       "206632   -4.8  [23.27,34.34]        NaN           NaN      -2.9  [22.41,44.99]"
      ]
     },
     "execution_count": 172,
     "metadata": {},
     "output_type": "execute_result"
    }
   ],
   "source": [
    "PE_ByMech.head()"
   ]
  },
  {
   "cell_type": "code",
   "execution_count": 179,
   "metadata": {
    "collapsed": false,
    "scrolled": false
   },
   "outputs": [],
   "source": [
    "output = pd.merge(db, PE_ByMech, how='left',left_on=['ProductCode'],right_index = True)\n",
    "output.to_excel('output0509.xlsx')"
   ]
  },
  {
   "cell_type": "code",
   "execution_count": 152,
   "metadata": {
    "collapsed": true
   },
   "outputs": [],
   "source": [
    "prodNames = []\n",
    "for idx in PE_ByMech.index:\n",
    "    prodNames.append(df[df.ProductCode == idx].ProductName.iloc[0])\n",
    "PE_ByMech['productName'] = prodNames\n",
    "\n",
    "margin = []\n",
    "for idx in PE_ByMech.index:\n",
    "    margin.append(np.round(float(df[df.ProductCode == idx].Offtake.sum())/df[df.ProductCode == idx].Total_Cost.sum(),decimals=2) - 1)\n",
    "PE_ByMech['margin'] = margin\n",
    "\n",
    "averagePrice = []\n",
    "for idx in PE_ByMech.index:\n",
    "    averagePrice.append(np.round(float(df[df.ProductCode == idx].Offtake.sum())/df[df.ProductCode == idx].Sales_Num.sum(),decimals=2))\n",
    "PE_ByMech['averagePrice'] = averagePrice\n",
    "\n",
    "cost = []\n",
    "for idx in PE_ByMech.index:\n",
    "    cost.append(df[df.ProductCode == idx].Unit_Cost.iloc[0])\n",
    "PE_ByMech['cost'] = cost"
   ]
  },
  {
   "cell_type": "code",
   "execution_count": 154,
   "metadata": {
    "collapsed": false,
    "scrolled": false
   },
   "outputs": [
    {
     "data": {
      "text/html": [
       "<div>\n",
       "<table border=\"1\" class=\"dataframe\">\n",
       "  <thead>\n",
       "    <tr style=\"text-align: right;\">\n",
       "      <th></th>\n",
       "      <th>TPR_PE</th>\n",
       "      <th>TPR_Range</th>\n",
       "      <th>199-100_PE</th>\n",
       "      <th>199-100_Range</th>\n",
       "      <th>Others_PE</th>\n",
       "      <th>Others_Range</th>\n",
       "      <th>productName</th>\n",
       "      <th>margin</th>\n",
       "      <th>averagePrice</th>\n",
       "      <th>cost</th>\n",
       "    </tr>\n",
       "  </thead>\n",
       "  <tbody>\n",
       "    <tr>\n",
       "      <th>206626</th>\n",
       "      <td>NaN</td>\n",
       "      <td>[42.78,45.52]</td>\n",
       "      <td>-5.8</td>\n",
       "      <td>[30.39,60.9]</td>\n",
       "      <td>-4.8</td>\n",
       "      <td>[35.32,60.6]</td>\n",
       "      <td>【京东超市】飘柔洗发水焗油护理750ml（洗头膏 洗发露 头发护理）</td>\n",
       "      <td>-0.23</td>\n",
       "      <td>34.31</td>\n",
       "      <td>44.28</td>\n",
       "    </tr>\n",
       "    <tr>\n",
       "      <th>206627</th>\n",
       "      <td>NaN</td>\n",
       "      <td>[22.43,26.53]</td>\n",
       "      <td>-3.5</td>\n",
       "      <td>[10.84,32.9]</td>\n",
       "      <td>-2.3</td>\n",
       "      <td>[21.31,32.9]</td>\n",
       "      <td>【京东超市】飘柔发膜精纯焗油精华300ml(新老包装随机发货）</td>\n",
       "      <td>-0.21</td>\n",
       "      <td>18.76</td>\n",
       "      <td>23.71</td>\n",
       "    </tr>\n",
       "    <tr>\n",
       "      <th>206628</th>\n",
       "      <td>-3.4</td>\n",
       "      <td>[24.96,39.9]</td>\n",
       "      <td>NaN</td>\n",
       "      <td>NaN</td>\n",
       "      <td>-3.9</td>\n",
       "      <td>[16.62,39.9]</td>\n",
       "      <td>【京东超市】飘柔洗发水人参滋养400ml（洗发露）</td>\n",
       "      <td>-0.18</td>\n",
       "      <td>20.88</td>\n",
       "      <td>25.61</td>\n",
       "    </tr>\n",
       "    <tr>\n",
       "      <th>206629</th>\n",
       "      <td>NaN</td>\n",
       "      <td>[45.97,49.45]</td>\n",
       "      <td>-5.1</td>\n",
       "      <td>[31.02,60.9]</td>\n",
       "      <td>-5.3</td>\n",
       "      <td>[29.67,60.9]</td>\n",
       "      <td>【京东超市】飘柔洗发水人参滋养750ml（洗头膏 洗发露）</td>\n",
       "      <td>-0.26</td>\n",
       "      <td>32.61</td>\n",
       "      <td>44.28</td>\n",
       "    </tr>\n",
       "    <tr>\n",
       "      <th>206632</th>\n",
       "      <td>-6.8</td>\n",
       "      <td>[17.04,34.34]</td>\n",
       "      <td>NaN</td>\n",
       "      <td>NaN</td>\n",
       "      <td>-4.1</td>\n",
       "      <td>[17.83,44.99]</td>\n",
       "      <td>【京东超市】飘柔去屑洗发水兰花长效清爽家庭装750ml（洗发露 家庭护理系列）</td>\n",
       "      <td>-0.27</td>\n",
       "      <td>20.66</td>\n",
       "      <td>26.36</td>\n",
       "    </tr>\n",
       "  </tbody>\n",
       "</table>\n",
       "</div>"
      ],
      "text/plain": [
       "        TPR_PE      TPR_Range  199-100_PE 199-100_Range  Others_PE  \\\n",
       "206626     NaN  [42.78,45.52]        -5.8  [30.39,60.9]       -4.8   \n",
       "206627     NaN  [22.43,26.53]        -3.5  [10.84,32.9]       -2.3   \n",
       "206628    -3.4   [24.96,39.9]         NaN           NaN       -3.9   \n",
       "206629     NaN  [45.97,49.45]        -5.1  [31.02,60.9]       -5.3   \n",
       "206632    -6.8  [17.04,34.34]         NaN           NaN       -4.1   \n",
       "\n",
       "         Others_Range                              productName  margin  \\\n",
       "206626   [35.32,60.6]       【京东超市】飘柔洗发水焗油护理750ml（洗头膏 洗发露 头发护理）   -0.23   \n",
       "206627   [21.31,32.9]          【京东超市】飘柔发膜精纯焗油精华300ml(新老包装随机发货）   -0.21   \n",
       "206628   [16.62,39.9]                【京东超市】飘柔洗发水人参滋养400ml（洗发露）   -0.18   \n",
       "206629   [29.67,60.9]            【京东超市】飘柔洗发水人参滋养750ml（洗头膏 洗发露）   -0.26   \n",
       "206632  [17.83,44.99]  【京东超市】飘柔去屑洗发水兰花长效清爽家庭装750ml（洗发露 家庭护理系列）   -0.27   \n",
       "\n",
       "        averagePrice   cost  \n",
       "206626         34.31  44.28  \n",
       "206627         18.76  23.71  \n",
       "206628         20.88  25.61  \n",
       "206629         32.61  44.28  \n",
       "206632         20.66  26.36  "
      ]
     },
     "execution_count": 154,
     "metadata": {},
     "output_type": "execute_result"
    }
   ],
   "source": [
    "PE_ByMech.head()"
   ]
  },
  {
   "cell_type": "code",
   "execution_count": 155,
   "metadata": {
    "collapsed": true
   },
   "outputs": [],
   "source": [
    "PE_ByMech.to_excel('peByMechanism.xlsx')"
   ]
  }
 ],
 "metadata": {
  "anaconda-cloud": {},
  "kernelspec": {
   "display_name": "Python [Root]",
   "language": "python",
   "name": "Python [Root]"
  },
  "language_info": {
   "codemirror_mode": {
    "name": "ipython",
    "version": 2
   },
   "file_extension": ".py",
   "mimetype": "text/x-python",
   "name": "python",
   "nbconvert_exporter": "python",
   "pygments_lexer": "ipython2",
   "version": "2.7.12"
  }
 },
 "nbformat": 4,
 "nbformat_minor": 0
}
