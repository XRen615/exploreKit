{
 "cells": [
  {
   "cell_type": "code",
   "execution_count": 1,
   "metadata": {
    "collapsed": true
   },
   "outputs": [],
   "source": [
    "# -*- coding: utf-8 -*-\n",
    "import numpy as np\n",
    "import pandas as pd\n",
    "import matplotlib.pyplot as plt\n",
    "%matplotlib inline\n",
    "import seaborn as sns\n",
    "from scipy import stats\n",
    "pd.options.display.max_columns = 999"
   ]
  },
  {
   "cell_type": "code",
   "execution_count": 2,
   "metadata": {
    "collapsed": false
   },
   "outputs": [],
   "source": [
    "from matplotlib.font_manager import FontProperties\n",
    "font = FontProperties(fname=r\"c:\\windows\\fonts\\SimSun.ttc\", size=14)"
   ]
  },
  {
   "cell_type": "code",
   "execution_count": 3,
   "metadata": {
    "collapsed": false
   },
   "outputs": [
    {
     "data": {
      "text/plain": [
       "(13413, 26)"
      ]
     },
     "execution_count": 3,
     "metadata": {},
     "output_type": "execute_result"
    }
   ],
   "source": [
    "epos = pd.read_excel(r'C:\\Users\\ren.x.1\\Desktop\\JD_Pricing\\ePOS\\2017JFMJDepos\\PG\\PCC.xlsx',encoding='gbk',converters={'ProductCode': str})\n",
    "epos.shape"
   ]
  },
  {
   "cell_type": "code",
   "execution_count": 4,
   "metadata": {
    "collapsed": false
   },
   "outputs": [
    {
     "data": {
      "text/html": [
       "<div>\n",
       "<table border=\"1\" class=\"dataframe\">\n",
       "  <thead>\n",
       "    <tr style=\"text-align: right;\">\n",
       "      <th></th>\n",
       "      <th>Date</th>\n",
       "      <th>ProductCode</th>\n",
       "      <th>Order_Num</th>\n",
       "    </tr>\n",
       "  </thead>\n",
       "  <tbody>\n",
       "    <tr>\n",
       "      <th>0</th>\n",
       "      <td>2017-01-01</td>\n",
       "      <td>206886</td>\n",
       "      <td>12</td>\n",
       "    </tr>\n",
       "    <tr>\n",
       "      <th>1</th>\n",
       "      <td>2017-01-01</td>\n",
       "      <td>845287</td>\n",
       "      <td>8</td>\n",
       "    </tr>\n",
       "    <tr>\n",
       "      <th>2</th>\n",
       "      <td>2017-01-01</td>\n",
       "      <td>1280166</td>\n",
       "      <td>4</td>\n",
       "    </tr>\n",
       "    <tr>\n",
       "      <th>3</th>\n",
       "      <td>2017-01-01</td>\n",
       "      <td>845278</td>\n",
       "      <td>70</td>\n",
       "    </tr>\n",
       "    <tr>\n",
       "      <th>4</th>\n",
       "      <td>2017-01-01</td>\n",
       "      <td>1436742</td>\n",
       "      <td>1</td>\n",
       "    </tr>\n",
       "  </tbody>\n",
       "</table>\n",
       "</div>"
      ],
      "text/plain": [
       "        Date ProductCode  Order_Num\n",
       "0 2017-01-01      206886         12\n",
       "1 2017-01-01      845287          8\n",
       "2 2017-01-01     1280166          4\n",
       "3 2017-01-01      845278         70\n",
       "4 2017-01-01     1436742          1"
      ]
     },
     "execution_count": 4,
     "metadata": {},
     "output_type": "execute_result"
    }
   ],
   "source": [
    "epos_1 = epos[['Date','ProductCode','Order_Num']]\n",
    "epos_1 = epos_1[epos_1.Order_Num !=0]\n",
    "epos_1.head()"
   ]
  },
  {
   "cell_type": "code",
   "execution_count": 5,
   "metadata": {
    "collapsed": false
   },
   "outputs": [
    {
     "data": {
      "text/plain": [
       "(13340, 3)"
      ]
     },
     "execution_count": 5,
     "metadata": {},
     "output_type": "execute_result"
    }
   ],
   "source": [
    "epos_1.shape"
   ]
  },
  {
   "cell_type": "code",
   "execution_count": 6,
   "metadata": {
    "collapsed": false
   },
   "outputs": [
    {
     "data": {
      "text/plain": [
       "(12999, 16)"
      ]
     },
     "execution_count": 6,
     "metadata": {},
     "output_type": "execute_result"
    }
   ],
   "source": [
    "db = pd.read_excel(r'C:\\Users\\ren.x.1\\Desktop\\JD_Pricing\\JD\\JFM_PCC_ePOS.xlsx',encoding='gbk',converters={'ProductCode': str})\n",
    "db.shape"
   ]
  },
  {
   "cell_type": "code",
   "execution_count": 7,
   "metadata": {
    "collapsed": false
   },
   "outputs": [],
   "source": [
    "df = db.copy()"
   ]
  },
  {
   "cell_type": "code",
   "execution_count": 8,
   "metadata": {
    "collapsed": false
   },
   "outputs": [
    {
     "data": {
      "text/html": [
       "<div>\n",
       "<table border=\"1\" class=\"dataframe\">\n",
       "  <thead>\n",
       "    <tr style=\"text-align: right;\">\n",
       "      <th></th>\n",
       "      <th>Date</th>\n",
       "      <th>ProductCode</th>\n",
       "      <th>ProductName</th>\n",
       "      <th>销售数量</th>\n",
       "      <th>销售金额</th>\n",
       "      <th>供价</th>\n",
       "      <th>总成本</th>\n",
       "      <th>FM</th>\n",
       "      <th>FM%</th>\n",
       "      <th>Mechanism</th>\n",
       "      <th>SRP</th>\n",
       "      <th>SPP High</th>\n",
       "      <th>SPP Low</th>\n",
       "      <th>UV</th>\n",
       "      <th>销售金额.1</th>\n",
       "      <th>Note</th>\n",
       "    </tr>\n",
       "  </thead>\n",
       "  <tbody>\n",
       "    <tr>\n",
       "      <th>0</th>\n",
       "      <td>2017-01-01</td>\n",
       "      <td>1783785</td>\n",
       "      <td>【京东超市】玉兰油 OLAY 水嫩清爽沐浴露1L配亮爽珍珠沐浴露300ml</td>\n",
       "      <td>6.0</td>\n",
       "      <td>299.40</td>\n",
       "      <td>39.84</td>\n",
       "      <td>239.04</td>\n",
       "      <td>60.36</td>\n",
       "      <td>0.201603</td>\n",
       "      <td>TPR</td>\n",
       "      <td>49.9</td>\n",
       "      <td>36.0</td>\n",
       "      <td>34.0</td>\n",
       "      <td>66.0</td>\n",
       "      <td>299.40</td>\n",
       "      <td>NaN</td>\n",
       "    </tr>\n",
       "    <tr>\n",
       "      <th>1</th>\n",
       "      <td>2017-01-01</td>\n",
       "      <td>753265</td>\n",
       "      <td>【京东超市】玉兰油沐浴露深润滋养型1L（沐浴液 沐浴乳 新老包装随机发货）</td>\n",
       "      <td>17.0</td>\n",
       "      <td>946.50</td>\n",
       "      <td>39.84</td>\n",
       "      <td>677.28</td>\n",
       "      <td>269.22</td>\n",
       "      <td>0.284437</td>\n",
       "      <td>其他满减</td>\n",
       "      <td>49.9</td>\n",
       "      <td>32.8</td>\n",
       "      <td>29.8</td>\n",
       "      <td>398.0</td>\n",
       "      <td>946.50</td>\n",
       "      <td>NaN</td>\n",
       "    </tr>\n",
       "    <tr>\n",
       "      <th>2</th>\n",
       "      <td>2017-01-01</td>\n",
       "      <td>753268</td>\n",
       "      <td>【京东超市】玉兰油莹亮滋养沐浴乳720毫升（新老包装随机发货）（沐浴露）</td>\n",
       "      <td>1.0</td>\n",
       "      <td>32.39</td>\n",
       "      <td>31.86</td>\n",
       "      <td>31.86</td>\n",
       "      <td>0.53</td>\n",
       "      <td>0.016363</td>\n",
       "      <td>其他满减</td>\n",
       "      <td>39.9</td>\n",
       "      <td>26.0</td>\n",
       "      <td>23.8</td>\n",
       "      <td>21.0</td>\n",
       "      <td>32.39</td>\n",
       "      <td>NaN</td>\n",
       "    </tr>\n",
       "    <tr>\n",
       "      <th>3</th>\n",
       "      <td>2017-01-01</td>\n",
       "      <td>753278</td>\n",
       "      <td>【京东超市】玉兰油柔肤滋润沐浴乳720毫升（新老包装随机发货）（沐浴露）</td>\n",
       "      <td>4.0</td>\n",
       "      <td>156.28</td>\n",
       "      <td>31.86</td>\n",
       "      <td>127.44</td>\n",
       "      <td>28.84</td>\n",
       "      <td>0.184541</td>\n",
       "      <td>其他满减</td>\n",
       "      <td>39.9</td>\n",
       "      <td>26.0</td>\n",
       "      <td>23.8</td>\n",
       "      <td>29.0</td>\n",
       "      <td>156.28</td>\n",
       "      <td>NaN</td>\n",
       "    </tr>\n",
       "    <tr>\n",
       "      <th>4</th>\n",
       "      <td>2017-01-01</td>\n",
       "      <td>753280</td>\n",
       "      <td>【京东超市】玉兰油亮爽珍珠沐浴露400毫升（新旧包装转换，随机发货）</td>\n",
       "      <td>1.0</td>\n",
       "      <td>27.90</td>\n",
       "      <td>19.87</td>\n",
       "      <td>19.87</td>\n",
       "      <td>8.03</td>\n",
       "      <td>0.287814</td>\n",
       "      <td>其他满减</td>\n",
       "      <td>24.9</td>\n",
       "      <td>17.0</td>\n",
       "      <td>15.5</td>\n",
       "      <td>17.0</td>\n",
       "      <td>27.90</td>\n",
       "      <td>NaN</td>\n",
       "    </tr>\n",
       "  </tbody>\n",
       "</table>\n",
       "</div>"
      ],
      "text/plain": [
       "        Date ProductCode                            ProductName  销售数量    销售金额  \\\n",
       "0 2017-01-01     1783785  【京东超市】玉兰油 OLAY 水嫩清爽沐浴露1L配亮爽珍珠沐浴露300ml   6.0  299.40   \n",
       "1 2017-01-01      753265  【京东超市】玉兰油沐浴露深润滋养型1L（沐浴液 沐浴乳 新老包装随机发货）  17.0  946.50   \n",
       "2 2017-01-01      753268   【京东超市】玉兰油莹亮滋养沐浴乳720毫升（新老包装随机发货）（沐浴露）   1.0   32.39   \n",
       "3 2017-01-01      753278   【京东超市】玉兰油柔肤滋润沐浴乳720毫升（新老包装随机发货）（沐浴露）   4.0  156.28   \n",
       "4 2017-01-01      753280     【京东超市】玉兰油亮爽珍珠沐浴露400毫升（新旧包装转换，随机发货）   1.0   27.90   \n",
       "\n",
       "      供价     总成本      FM       FM% Mechanism   SRP  SPP High  SPP Low     UV  \\\n",
       "0  39.84  239.04   60.36  0.201603       TPR  49.9      36.0     34.0   66.0   \n",
       "1  39.84  677.28  269.22  0.284437      其他满减  49.9      32.8     29.8  398.0   \n",
       "2  31.86   31.86    0.53  0.016363      其他满减  39.9      26.0     23.8   21.0   \n",
       "3  31.86  127.44   28.84  0.184541      其他满减  39.9      26.0     23.8   29.0   \n",
       "4  19.87   19.87    8.03  0.287814      其他满减  24.9      17.0     15.5   17.0   \n",
       "\n",
       "   销售金额.1 Note  \n",
       "0  299.40  NaN  \n",
       "1  946.50  NaN  \n",
       "2   32.39  NaN  \n",
       "3  156.28  NaN  \n",
       "4   27.90  NaN  "
      ]
     },
     "execution_count": 8,
     "metadata": {},
     "output_type": "execute_result"
    }
   ],
   "source": [
    "df.head()"
   ]
  },
  {
   "cell_type": "code",
   "execution_count": 9,
   "metadata": {
    "collapsed": false
   },
   "outputs": [],
   "source": [
    "# exclude coupon\n",
    "df = df[df.Note.isnull()]\n",
    "df.drop(['Note'],axis = 1,inplace = True)"
   ]
  },
  {
   "cell_type": "code",
   "execution_count": 10,
   "metadata": {
    "collapsed": false
   },
   "outputs": [
    {
     "data": {
      "text/plain": [
       "(11916, 15)"
      ]
     },
     "execution_count": 10,
     "metadata": {},
     "output_type": "execute_result"
    }
   ],
   "source": [
    "df.shape"
   ]
  },
  {
   "cell_type": "code",
   "execution_count": 11,
   "metadata": {
    "collapsed": false
   },
   "outputs": [
    {
     "data": {
      "text/html": [
       "<div>\n",
       "<table border=\"1\" class=\"dataframe\">\n",
       "  <thead>\n",
       "    <tr style=\"text-align: right;\">\n",
       "      <th></th>\n",
       "      <th>Date</th>\n",
       "      <th>ProductCode</th>\n",
       "      <th>ProductName</th>\n",
       "      <th>销售数量</th>\n",
       "      <th>销售金额</th>\n",
       "      <th>供价</th>\n",
       "      <th>总成本</th>\n",
       "      <th>FM</th>\n",
       "      <th>FM%</th>\n",
       "      <th>Mechanism</th>\n",
       "      <th>SRP</th>\n",
       "      <th>SPP High</th>\n",
       "      <th>SPP Low</th>\n",
       "      <th>UV</th>\n",
       "      <th>销售金额.1</th>\n",
       "    </tr>\n",
       "  </thead>\n",
       "  <tbody>\n",
       "    <tr>\n",
       "      <th>0</th>\n",
       "      <td>2017-01-01</td>\n",
       "      <td>1783785</td>\n",
       "      <td>【京东超市】玉兰油 OLAY 水嫩清爽沐浴露1L配亮爽珍珠沐浴露300ml</td>\n",
       "      <td>6.0</td>\n",
       "      <td>299.40</td>\n",
       "      <td>39.84</td>\n",
       "      <td>239.04</td>\n",
       "      <td>60.36</td>\n",
       "      <td>0.201603</td>\n",
       "      <td>TPR</td>\n",
       "      <td>49.9</td>\n",
       "      <td>36.0</td>\n",
       "      <td>34.0</td>\n",
       "      <td>66.0</td>\n",
       "      <td>299.40</td>\n",
       "    </tr>\n",
       "    <tr>\n",
       "      <th>1</th>\n",
       "      <td>2017-01-01</td>\n",
       "      <td>753265</td>\n",
       "      <td>【京东超市】玉兰油沐浴露深润滋养型1L（沐浴液 沐浴乳 新老包装随机发货）</td>\n",
       "      <td>17.0</td>\n",
       "      <td>946.50</td>\n",
       "      <td>39.84</td>\n",
       "      <td>677.28</td>\n",
       "      <td>269.22</td>\n",
       "      <td>0.284437</td>\n",
       "      <td>其他满减</td>\n",
       "      <td>49.9</td>\n",
       "      <td>32.8</td>\n",
       "      <td>29.8</td>\n",
       "      <td>398.0</td>\n",
       "      <td>946.50</td>\n",
       "    </tr>\n",
       "    <tr>\n",
       "      <th>2</th>\n",
       "      <td>2017-01-01</td>\n",
       "      <td>753268</td>\n",
       "      <td>【京东超市】玉兰油莹亮滋养沐浴乳720毫升（新老包装随机发货）（沐浴露）</td>\n",
       "      <td>1.0</td>\n",
       "      <td>32.39</td>\n",
       "      <td>31.86</td>\n",
       "      <td>31.86</td>\n",
       "      <td>0.53</td>\n",
       "      <td>0.016363</td>\n",
       "      <td>其他满减</td>\n",
       "      <td>39.9</td>\n",
       "      <td>26.0</td>\n",
       "      <td>23.8</td>\n",
       "      <td>21.0</td>\n",
       "      <td>32.39</td>\n",
       "    </tr>\n",
       "    <tr>\n",
       "      <th>3</th>\n",
       "      <td>2017-01-01</td>\n",
       "      <td>753278</td>\n",
       "      <td>【京东超市】玉兰油柔肤滋润沐浴乳720毫升（新老包装随机发货）（沐浴露）</td>\n",
       "      <td>4.0</td>\n",
       "      <td>156.28</td>\n",
       "      <td>31.86</td>\n",
       "      <td>127.44</td>\n",
       "      <td>28.84</td>\n",
       "      <td>0.184541</td>\n",
       "      <td>其他满减</td>\n",
       "      <td>39.9</td>\n",
       "      <td>26.0</td>\n",
       "      <td>23.8</td>\n",
       "      <td>29.0</td>\n",
       "      <td>156.28</td>\n",
       "    </tr>\n",
       "    <tr>\n",
       "      <th>4</th>\n",
       "      <td>2017-01-01</td>\n",
       "      <td>753280</td>\n",
       "      <td>【京东超市】玉兰油亮爽珍珠沐浴露400毫升（新旧包装转换，随机发货）</td>\n",
       "      <td>1.0</td>\n",
       "      <td>27.90</td>\n",
       "      <td>19.87</td>\n",
       "      <td>19.87</td>\n",
       "      <td>8.03</td>\n",
       "      <td>0.287814</td>\n",
       "      <td>其他满减</td>\n",
       "      <td>24.9</td>\n",
       "      <td>17.0</td>\n",
       "      <td>15.5</td>\n",
       "      <td>17.0</td>\n",
       "      <td>27.90</td>\n",
       "    </tr>\n",
       "  </tbody>\n",
       "</table>\n",
       "</div>"
      ],
      "text/plain": [
       "        Date ProductCode                            ProductName  销售数量    销售金额  \\\n",
       "0 2017-01-01     1783785  【京东超市】玉兰油 OLAY 水嫩清爽沐浴露1L配亮爽珍珠沐浴露300ml   6.0  299.40   \n",
       "1 2017-01-01      753265  【京东超市】玉兰油沐浴露深润滋养型1L（沐浴液 沐浴乳 新老包装随机发货）  17.0  946.50   \n",
       "2 2017-01-01      753268   【京东超市】玉兰油莹亮滋养沐浴乳720毫升（新老包装随机发货）（沐浴露）   1.0   32.39   \n",
       "3 2017-01-01      753278   【京东超市】玉兰油柔肤滋润沐浴乳720毫升（新老包装随机发货）（沐浴露）   4.0  156.28   \n",
       "4 2017-01-01      753280     【京东超市】玉兰油亮爽珍珠沐浴露400毫升（新旧包装转换，随机发货）   1.0   27.90   \n",
       "\n",
       "      供价     总成本      FM       FM% Mechanism   SRP  SPP High  SPP Low     UV  \\\n",
       "0  39.84  239.04   60.36  0.201603       TPR  49.9      36.0     34.0   66.0   \n",
       "1  39.84  677.28  269.22  0.284437      其他满减  49.9      32.8     29.8  398.0   \n",
       "2  31.86   31.86    0.53  0.016363      其他满减  39.9      26.0     23.8   21.0   \n",
       "3  31.86  127.44   28.84  0.184541      其他满减  39.9      26.0     23.8   29.0   \n",
       "4  19.87   19.87    8.03  0.287814      其他满减  24.9      17.0     15.5   17.0   \n",
       "\n",
       "   销售金额.1  \n",
       "0  299.40  \n",
       "1  946.50  \n",
       "2   32.39  \n",
       "3  156.28  \n",
       "4   27.90  "
      ]
     },
     "execution_count": 11,
     "metadata": {},
     "output_type": "execute_result"
    }
   ],
   "source": [
    "df.head()"
   ]
  },
  {
   "cell_type": "code",
   "execution_count": 12,
   "metadata": {
    "collapsed": false
   },
   "outputs": [],
   "source": [
    "df['Sales_Price'] = np.round(df[u'销售金额']/df[u'销售数量'],decimals = 2)"
   ]
  },
  {
   "cell_type": "code",
   "execution_count": 13,
   "metadata": {
    "collapsed": false,
    "scrolled": false
   },
   "outputs": [],
   "source": [
    "df_1 = pd.merge(df,epos_1, on = ['Date','ProductCode'], how='left')"
   ]
  },
  {
   "cell_type": "code",
   "execution_count": 14,
   "metadata": {
    "collapsed": false
   },
   "outputs": [
    {
     "data": {
      "text/plain": [
       "(11916, 17)"
      ]
     },
     "execution_count": 14,
     "metadata": {},
     "output_type": "execute_result"
    }
   ],
   "source": [
    "df_1.shape"
   ]
  },
  {
   "cell_type": "code",
   "execution_count": 15,
   "metadata": {
    "collapsed": false,
    "scrolled": false
   },
   "outputs": [
    {
     "data": {
      "text/plain": [
       "False    11590\n",
       "True       326\n",
       "Name: Order_Num, dtype: int64"
      ]
     },
     "execution_count": 15,
     "metadata": {},
     "output_type": "execute_result"
    }
   ],
   "source": [
    "df_2 = df_1[['Date','ProductCode','ProductName',u'销售数量','Mechanism','Sales_Price','Order_Num','UV']]\n",
    "df_2[df_2.Order_Num.isnull()]\n",
    "df_2.Order_Num.isnull().value_counts()"
   ]
  },
  {
   "cell_type": "code",
   "execution_count": 16,
   "metadata": {
    "collapsed": false
   },
   "outputs": [
    {
     "name": "stderr",
     "output_type": "stream",
     "text": [
      "C:\\Anaconda2\\lib\\site-packages\\ipykernel\\__main__.py:1: SettingWithCopyWarning: \n",
      "A value is trying to be set on a copy of a slice from a DataFrame\n",
      "\n",
      "See the caveats in the documentation: http://pandas.pydata.org/pandas-docs/stable/indexing.html#indexing-view-versus-copy\n",
      "  if __name__ == '__main__':\n"
     ]
    }
   ],
   "source": [
    "df_2.dropna(inplace = True)"
   ]
  },
  {
   "cell_type": "code",
   "execution_count": 17,
   "metadata": {
    "collapsed": false
   },
   "outputs": [
    {
     "data": {
      "text/html": [
       "<div>\n",
       "<table border=\"1\" class=\"dataframe\">\n",
       "  <thead>\n",
       "    <tr style=\"text-align: right;\">\n",
       "      <th></th>\n",
       "      <th>Date</th>\n",
       "      <th>ProductCode</th>\n",
       "      <th>ProductName</th>\n",
       "      <th>销售数量</th>\n",
       "      <th>Mechanism</th>\n",
       "      <th>Sales_Price</th>\n",
       "      <th>Order_Num</th>\n",
       "      <th>UV</th>\n",
       "    </tr>\n",
       "  </thead>\n",
       "  <tbody>\n",
       "    <tr>\n",
       "      <th>0</th>\n",
       "      <td>2017-01-01</td>\n",
       "      <td>1783785</td>\n",
       "      <td>【京东超市】玉兰油 OLAY 水嫩清爽沐浴露1L配亮爽珍珠沐浴露300ml</td>\n",
       "      <td>6.0</td>\n",
       "      <td>TPR</td>\n",
       "      <td>49.90</td>\n",
       "      <td>6.0</td>\n",
       "      <td>66.0</td>\n",
       "    </tr>\n",
       "    <tr>\n",
       "      <th>1</th>\n",
       "      <td>2017-01-01</td>\n",
       "      <td>753265</td>\n",
       "      <td>【京东超市】玉兰油沐浴露深润滋养型1L（沐浴液 沐浴乳 新老包装随机发货）</td>\n",
       "      <td>17.0</td>\n",
       "      <td>其他满减</td>\n",
       "      <td>55.68</td>\n",
       "      <td>16.0</td>\n",
       "      <td>398.0</td>\n",
       "    </tr>\n",
       "    <tr>\n",
       "      <th>2</th>\n",
       "      <td>2017-01-01</td>\n",
       "      <td>753268</td>\n",
       "      <td>【京东超市】玉兰油莹亮滋养沐浴乳720毫升（新老包装随机发货）（沐浴露）</td>\n",
       "      <td>1.0</td>\n",
       "      <td>其他满减</td>\n",
       "      <td>32.39</td>\n",
       "      <td>1.0</td>\n",
       "      <td>21.0</td>\n",
       "    </tr>\n",
       "    <tr>\n",
       "      <th>3</th>\n",
       "      <td>2017-01-01</td>\n",
       "      <td>753278</td>\n",
       "      <td>【京东超市】玉兰油柔肤滋润沐浴乳720毫升（新老包装随机发货）（沐浴露）</td>\n",
       "      <td>4.0</td>\n",
       "      <td>其他满减</td>\n",
       "      <td>39.07</td>\n",
       "      <td>4.0</td>\n",
       "      <td>29.0</td>\n",
       "    </tr>\n",
       "    <tr>\n",
       "      <th>4</th>\n",
       "      <td>2017-01-01</td>\n",
       "      <td>753280</td>\n",
       "      <td>【京东超市】玉兰油亮爽珍珠沐浴露400毫升（新旧包装转换，随机发货）</td>\n",
       "      <td>1.0</td>\n",
       "      <td>其他满减</td>\n",
       "      <td>27.90</td>\n",
       "      <td>1.0</td>\n",
       "      <td>17.0</td>\n",
       "    </tr>\n",
       "  </tbody>\n",
       "</table>\n",
       "</div>"
      ],
      "text/plain": [
       "        Date ProductCode                            ProductName  销售数量  \\\n",
       "0 2017-01-01     1783785  【京东超市】玉兰油 OLAY 水嫩清爽沐浴露1L配亮爽珍珠沐浴露300ml   6.0   \n",
       "1 2017-01-01      753265  【京东超市】玉兰油沐浴露深润滋养型1L（沐浴液 沐浴乳 新老包装随机发货）  17.0   \n",
       "2 2017-01-01      753268   【京东超市】玉兰油莹亮滋养沐浴乳720毫升（新老包装随机发货）（沐浴露）   1.0   \n",
       "3 2017-01-01      753278   【京东超市】玉兰油柔肤滋润沐浴乳720毫升（新老包装随机发货）（沐浴露）   4.0   \n",
       "4 2017-01-01      753280     【京东超市】玉兰油亮爽珍珠沐浴露400毫升（新旧包装转换，随机发货）   1.0   \n",
       "\n",
       "  Mechanism  Sales_Price  Order_Num     UV  \n",
       "0       TPR        49.90        6.0   66.0  \n",
       "1      其他满减        55.68       16.0  398.0  \n",
       "2      其他满减        32.39        1.0   21.0  \n",
       "3      其他满减        39.07        4.0   29.0  \n",
       "4      其他满减        27.90        1.0   17.0  "
      ]
     },
     "execution_count": 17,
     "metadata": {},
     "output_type": "execute_result"
    }
   ],
   "source": [
    "df_2.head()"
   ]
  },
  {
   "cell_type": "code",
   "execution_count": 18,
   "metadata": {
    "collapsed": false
   },
   "outputs": [
    {
     "data": {
      "text/plain": [
       "(11590, 8)"
      ]
     },
     "execution_count": 18,
     "metadata": {},
     "output_type": "execute_result"
    }
   ],
   "source": [
    "df_2.shape"
   ]
  },
  {
   "cell_type": "code",
   "execution_count": 19,
   "metadata": {
    "collapsed": false
   },
   "outputs": [
    {
     "name": "stderr",
     "output_type": "stream",
     "text": [
      "C:\\Anaconda2\\lib\\site-packages\\ipykernel\\__main__.py:1: SettingWithCopyWarning: \n",
      "A value is trying to be set on a copy of a slice from a DataFrame.\n",
      "Try using .loc[row_indexer,col_indexer] = value instead\n",
      "\n",
      "See the caveats in the documentation: http://pandas.pydata.org/pandas-docs/stable/indexing.html#indexing-view-versus-copy\n",
      "  if __name__ == '__main__':\n"
     ]
    }
   ],
   "source": [
    "df_2['num_per_order'] = df_2[u'销售数量']/df_2['Order_Num']"
   ]
  },
  {
   "cell_type": "code",
   "execution_count": 20,
   "metadata": {
    "collapsed": false,
    "scrolled": false
   },
   "outputs": [],
   "source": [
    "df_3 = df_2[df_2.num_per_order < 10]\n",
    "df_3 = df_3[df_3.UV != 0]"
   ]
  },
  {
   "cell_type": "code",
   "execution_count": 21,
   "metadata": {
    "collapsed": false
   },
   "outputs": [
    {
     "data": {
      "text/html": [
       "<div>\n",
       "<table border=\"1\" class=\"dataframe\">\n",
       "  <thead>\n",
       "    <tr style=\"text-align: right;\">\n",
       "      <th></th>\n",
       "      <th>Date</th>\n",
       "      <th>ProductCode</th>\n",
       "      <th>ProductName</th>\n",
       "      <th>销售数量</th>\n",
       "      <th>Mechanism</th>\n",
       "      <th>Sales_Price</th>\n",
       "      <th>Order_Num</th>\n",
       "      <th>UV</th>\n",
       "      <th>num_per_order</th>\n",
       "    </tr>\n",
       "  </thead>\n",
       "  <tbody>\n",
       "    <tr>\n",
       "      <th>0</th>\n",
       "      <td>2017-01-01</td>\n",
       "      <td>1783785</td>\n",
       "      <td>【京东超市】玉兰油 OLAY 水嫩清爽沐浴露1L配亮爽珍珠沐浴露300ml</td>\n",
       "      <td>6.0</td>\n",
       "      <td>TPR</td>\n",
       "      <td>49.90</td>\n",
       "      <td>6.0</td>\n",
       "      <td>66.0</td>\n",
       "      <td>1.0000</td>\n",
       "    </tr>\n",
       "    <tr>\n",
       "      <th>1</th>\n",
       "      <td>2017-01-01</td>\n",
       "      <td>753265</td>\n",
       "      <td>【京东超市】玉兰油沐浴露深润滋养型1L（沐浴液 沐浴乳 新老包装随机发货）</td>\n",
       "      <td>17.0</td>\n",
       "      <td>其他满减</td>\n",
       "      <td>55.68</td>\n",
       "      <td>16.0</td>\n",
       "      <td>398.0</td>\n",
       "      <td>1.0625</td>\n",
       "    </tr>\n",
       "    <tr>\n",
       "      <th>2</th>\n",
       "      <td>2017-01-01</td>\n",
       "      <td>753268</td>\n",
       "      <td>【京东超市】玉兰油莹亮滋养沐浴乳720毫升（新老包装随机发货）（沐浴露）</td>\n",
       "      <td>1.0</td>\n",
       "      <td>其他满减</td>\n",
       "      <td>32.39</td>\n",
       "      <td>1.0</td>\n",
       "      <td>21.0</td>\n",
       "      <td>1.0000</td>\n",
       "    </tr>\n",
       "    <tr>\n",
       "      <th>3</th>\n",
       "      <td>2017-01-01</td>\n",
       "      <td>753278</td>\n",
       "      <td>【京东超市】玉兰油柔肤滋润沐浴乳720毫升（新老包装随机发货）（沐浴露）</td>\n",
       "      <td>4.0</td>\n",
       "      <td>其他满减</td>\n",
       "      <td>39.07</td>\n",
       "      <td>4.0</td>\n",
       "      <td>29.0</td>\n",
       "      <td>1.0000</td>\n",
       "    </tr>\n",
       "    <tr>\n",
       "      <th>4</th>\n",
       "      <td>2017-01-01</td>\n",
       "      <td>753280</td>\n",
       "      <td>【京东超市】玉兰油亮爽珍珠沐浴露400毫升（新旧包装转换，随机发货）</td>\n",
       "      <td>1.0</td>\n",
       "      <td>其他满减</td>\n",
       "      <td>27.90</td>\n",
       "      <td>1.0</td>\n",
       "      <td>17.0</td>\n",
       "      <td>1.0000</td>\n",
       "    </tr>\n",
       "  </tbody>\n",
       "</table>\n",
       "</div>"
      ],
      "text/plain": [
       "        Date ProductCode                            ProductName  销售数量  \\\n",
       "0 2017-01-01     1783785  【京东超市】玉兰油 OLAY 水嫩清爽沐浴露1L配亮爽珍珠沐浴露300ml   6.0   \n",
       "1 2017-01-01      753265  【京东超市】玉兰油沐浴露深润滋养型1L（沐浴液 沐浴乳 新老包装随机发货）  17.0   \n",
       "2 2017-01-01      753268   【京东超市】玉兰油莹亮滋养沐浴乳720毫升（新老包装随机发货）（沐浴露）   1.0   \n",
       "3 2017-01-01      753278   【京东超市】玉兰油柔肤滋润沐浴乳720毫升（新老包装随机发货）（沐浴露）   4.0   \n",
       "4 2017-01-01      753280     【京东超市】玉兰油亮爽珍珠沐浴露400毫升（新旧包装转换，随机发货）   1.0   \n",
       "\n",
       "  Mechanism  Sales_Price  Order_Num     UV  num_per_order  \n",
       "0       TPR        49.90        6.0   66.0         1.0000  \n",
       "1      其他满减        55.68       16.0  398.0         1.0625  \n",
       "2      其他满减        32.39        1.0   21.0         1.0000  \n",
       "3      其他满减        39.07        4.0   29.0         1.0000  \n",
       "4      其他满减        27.90        1.0   17.0         1.0000  "
      ]
     },
     "execution_count": 21,
     "metadata": {},
     "output_type": "execute_result"
    }
   ],
   "source": [
    "df_3.head()"
   ]
  },
  {
   "cell_type": "code",
   "execution_count": 22,
   "metadata": {
    "collapsed": false
   },
   "outputs": [
    {
     "data": {
      "text/plain": [
       "(11572, 9)"
      ]
     },
     "execution_count": 22,
     "metadata": {},
     "output_type": "execute_result"
    }
   ],
   "source": [
    "df_3.shape"
   ]
  },
  {
   "cell_type": "code",
   "execution_count": 23,
   "metadata": {
    "collapsed": true
   },
   "outputs": [],
   "source": [
    "# visualize PE chart\n",
    "def jointplt(ProductCode,df):\n",
    "    SKU = df[df['ProductCode'] == ProductCode][['Sales_Price',u'销售数量','UV']]\n",
    "    SKU['Productivity'] = (SKU[u'销售数量']/SKU.UV)\n",
    "    SKU['LogProductivity'] =  np.log(SKU['Productivity'])\n",
    "    SKU['LogSalesPrice'] = np.log(SKU['Sales_Price'])\n",
    "    sns.jointplot(x=\"LogSalesPrice\", y=\"LogProductivity\", kind = 'reg', color = 'r', data=SKU)"
   ]
  },
  {
   "cell_type": "code",
   "execution_count": 24,
   "metadata": {
    "collapsed": false
   },
   "outputs": [
    {
     "data": {
      "image/png": "[encoded data removed]",
      "text/plain": [
       "<matplotlib.figure.Figure at 0xd185400>"
      ]
     },
     "metadata": {},
     "output_type": "display_data"
    }
   ],
   "source": [
    "jointplt('753283',df_3)"
   ]
  },
  {
   "cell_type": "code",
   "execution_count": 25,
   "metadata": {
    "collapsed": false
   },
   "outputs": [],
   "source": [
    "# log-log Regression, p-value and pearson correlation control\n",
    "# from scipy.stats.stats import pearsonr\n",
    "\n",
    "# def logReg(ProductCode,df):\n",
    "#     SKU = df[df.ProductCode == ProductCode]\n",
    "#     x = np.log(SKU.Sales_Price)\n",
    "#     y = np.log(SKU[u'销售数量']/SKU.UV)\n",
    "#     pearson = pearsonr(x,y)[0]\n",
    "#     #print pearson\n",
    "#     slope, intercept, r_value, p_value, std_err = stats.linregress(x,y)\n",
    "#     if p_value < 0.05 and abs(pearson) >= 0.5:\n",
    "#         return np.round(slope,decimals=2)\n",
    "#     else:\n",
    "#         return np.nan"
   ]
  },
  {
   "cell_type": "code",
   "execution_count": 26,
   "metadata": {
    "collapsed": true
   },
   "outputs": [],
   "source": [
    "# log-log Regression, p-value and pearson correlation control， return all\n",
    "from scipy.stats.stats import pearsonr\n",
    "\n",
    "def logReg(ProductCode,df):\n",
    "    SKU = df[df.ProductCode == ProductCode]\n",
    "    x = np.log(SKU.Sales_Price)\n",
    "    y = np.log(SKU[u'销售数量']/SKU.UV)\n",
    "    pearson = pearsonr(x,y)[0]\n",
    "    slope, intercept, r_value, p_value, std_err = stats.linregress(x,y)\n",
    "    return np.round(slope,decimals=2),pearson,p_value,r_value**2"
   ]
  },
  {
   "cell_type": "code",
   "execution_count": 27,
   "metadata": {
    "collapsed": true
   },
   "outputs": [],
   "source": [
    "# # log-log Regression, p-value and pearson correlation control, groupby adopted\n",
    "# slow-performing, need optimization\n",
    "# from scipy.stats.stats import pearsonr\n",
    "\n",
    "# def logReg(ProductCode,df):\n",
    "#     SKU = df[df.ProductCode == ProductCode]\n",
    "#     SKU['productivity'] = np.round(SKU.Sales_Num/SKU.uv,decimals = 2)\n",
    "#     temp = SKU[['Sales_Price','productivity']]\n",
    "#     temp['Sales_Price'] = np.round(temp.Sales_Price,decimals = 1)\n",
    "#     temp = temp.groupby('Sales_Price',as_index=False).mean()\n",
    "#     x = np.log(temp.Sales_Price)\n",
    "#     y = np.log(temp.productivity)\n",
    "#     pearson = pearsonr(x,y)[0]\n",
    "#     #print pearson\n",
    "#     slope, intercept, r_value, p_value, std_err = stats.linregress(x,y)\n",
    "#     if p_value < 0.05 and abs(pearson) >= 0.5:\n",
    "#         return np.round(slope,decimals=2)\n",
    "#     else:\n",
    "#         return np.nan"
   ]
  },
  {
   "cell_type": "code",
   "execution_count": 28,
   "metadata": {
    "collapsed": true
   },
   "outputs": [],
   "source": [
    " #suggest the price as mean of the prices that contibuted top 3 productivities in the past, currently has time complexity issue\n",
    "def suggestPrice(ProductCode,df): \n",
    "    SKU = df[df.ProductCode == ProductCode]\n",
    "    SKU['productivity'] = np.round(SKU[u'销售数量']/SKU.UV,decimals = 2)\n",
    "    temp = SKU[['Sales_Price','productivity']]\n",
    "    temp['Sales_Price'] = np.round(temp.Sales_Price,decimals = 1)\n",
    "    #temp.sort(['productivity'],ascending=False)\n",
    "    return temp.groupby('Sales_Price',as_index=False).mean().sort(['productivity'],ascending=False).head(3).Sales_Price.mean()"
   ]
  },
  {
   "cell_type": "markdown",
   "metadata": {},
   "source": [
    "**Chanel split 199-100**"
   ]
  },
  {
   "cell_type": "code",
   "execution_count": 29,
   "metadata": {
    "collapsed": true
   },
   "outputs": [],
   "source": [
    "df1 = df_3[df_3.Mechanism == u'199-100']"
   ]
  },
  {
   "cell_type": "code",
   "execution_count": 30,
   "metadata": {
    "collapsed": false
   },
   "outputs": [
    {
     "data": {
      "text/html": [
       "<div>\n",
       "<table border=\"1\" class=\"dataframe\">\n",
       "  <thead>\n",
       "    <tr style=\"text-align: right;\">\n",
       "      <th></th>\n",
       "      <th>Date</th>\n",
       "      <th>ProductCode</th>\n",
       "      <th>ProductName</th>\n",
       "      <th>销售数量</th>\n",
       "      <th>Mechanism</th>\n",
       "      <th>Sales_Price</th>\n",
       "      <th>Order_Num</th>\n",
       "      <th>UV</th>\n",
       "      <th>num_per_order</th>\n",
       "    </tr>\n",
       "  </thead>\n",
       "  <tbody>\n",
       "    <tr>\n",
       "      <th>515</th>\n",
       "      <td>2017-01-13</td>\n",
       "      <td>1265489</td>\n",
       "      <td>【京东超市】玉兰油 OLAY 美肌滋润沐浴乳洁净滋养 400ML（新老包装随机发货）（沐浴露）</td>\n",
       "      <td>109.0</td>\n",
       "      <td>199-100</td>\n",
       "      <td>13.93</td>\n",
       "      <td>107.0</td>\n",
       "      <td>29.0</td>\n",
       "      <td>1.018692</td>\n",
       "    </tr>\n",
       "    <tr>\n",
       "      <th>517</th>\n",
       "      <td>2017-01-13</td>\n",
       "      <td>1436733</td>\n",
       "      <td>【京东超市】舒肤佳沐浴露奇异果自然清香720ml（沐浴液 沐浴乳）</td>\n",
       "      <td>21.0</td>\n",
       "      <td>199-100</td>\n",
       "      <td>22.04</td>\n",
       "      <td>8.0</td>\n",
       "      <td>33.0</td>\n",
       "      <td>2.625000</td>\n",
       "    </tr>\n",
       "    <tr>\n",
       "      <th>518</th>\n",
       "      <td>2017-01-13</td>\n",
       "      <td>1436734</td>\n",
       "      <td>【京东超市】舒肤佳沐浴露奇异果自然清香1L（沐浴液 沐浴乳）</td>\n",
       "      <td>22.0</td>\n",
       "      <td>199-100</td>\n",
       "      <td>28.54</td>\n",
       "      <td>19.0</td>\n",
       "      <td>128.0</td>\n",
       "      <td>1.157895</td>\n",
       "    </tr>\n",
       "    <tr>\n",
       "      <th>520</th>\n",
       "      <td>2017-01-13</td>\n",
       "      <td>206892</td>\n",
       "      <td>【京东超市】舒肤佳沐浴露芦荟水润呵护720ml（沐浴液 沐浴乳 新老包装随机发货）</td>\n",
       "      <td>432.0</td>\n",
       "      <td>199-100</td>\n",
       "      <td>22.43</td>\n",
       "      <td>175.0</td>\n",
       "      <td>393.0</td>\n",
       "      <td>2.468571</td>\n",
       "    </tr>\n",
       "    <tr>\n",
       "      <th>527</th>\n",
       "      <td>2017-01-13</td>\n",
       "      <td>411169</td>\n",
       "      <td>【京东超市】舒肤佳洗手液芦荟柔肤呵护型450ml</td>\n",
       "      <td>15.0</td>\n",
       "      <td>199-100</td>\n",
       "      <td>22.37</td>\n",
       "      <td>9.0</td>\n",
       "      <td>201.0</td>\n",
       "      <td>1.666667</td>\n",
       "    </tr>\n",
       "  </tbody>\n",
       "</table>\n",
       "</div>"
      ],
      "text/plain": [
       "          Date ProductCode                                      ProductName  \\\n",
       "515 2017-01-13     1265489  【京东超市】玉兰油 OLAY 美肌滋润沐浴乳洁净滋养 400ML（新老包装随机发货）（沐浴露）   \n",
       "517 2017-01-13     1436733                【京东超市】舒肤佳沐浴露奇异果自然清香720ml（沐浴液 沐浴乳）   \n",
       "518 2017-01-13     1436734                   【京东超市】舒肤佳沐浴露奇异果自然清香1L（沐浴液 沐浴乳）   \n",
       "520 2017-01-13      206892        【京东超市】舒肤佳沐浴露芦荟水润呵护720ml（沐浴液 沐浴乳 新老包装随机发货）   \n",
       "527 2017-01-13      411169                         【京东超市】舒肤佳洗手液芦荟柔肤呵护型450ml   \n",
       "\n",
       "      销售数量 Mechanism  Sales_Price  Order_Num     UV  num_per_order  \n",
       "515  109.0   199-100        13.93      107.0   29.0       1.018692  \n",
       "517   21.0   199-100        22.04        8.0   33.0       2.625000  \n",
       "518   22.0   199-100        28.54       19.0  128.0       1.157895  \n",
       "520  432.0   199-100        22.43      175.0  393.0       2.468571  \n",
       "527   15.0   199-100        22.37        9.0  201.0       1.666667  "
      ]
     },
     "execution_count": 30,
     "metadata": {},
     "output_type": "execute_result"
    }
   ],
   "source": [
    "df1.head()"
   ]
  },
  {
   "cell_type": "code",
   "execution_count": 31,
   "metadata": {
    "collapsed": false
   },
   "outputs": [
    {
     "name": "stderr",
     "output_type": "stream",
     "text": [
      "C:\\Anaconda2\\lib\\site-packages\\ipykernel\\__main__.py:4: SettingWithCopyWarning: \n",
      "A value is trying to be set on a copy of a slice from a DataFrame.\n",
      "Try using .loc[row_indexer,col_indexer] = value instead\n",
      "\n",
      "See the caveats in the documentation: http://pandas.pydata.org/pandas-docs/stable/indexing.html#indexing-view-versus-copy\n",
      "C:\\Anaconda2\\lib\\site-packages\\ipykernel\\__main__.py:6: SettingWithCopyWarning: \n",
      "A value is trying to be set on a copy of a slice from a DataFrame.\n",
      "Try using .loc[row_indexer,col_indexer] = value instead\n",
      "\n",
      "See the caveats in the documentation: http://pandas.pydata.org/pandas-docs/stable/indexing.html#indexing-view-versus-copy\n",
      "C:\\Anaconda2\\lib\\site-packages\\ipykernel\\__main__.py:8: FutureWarning: sort(columns=....) is deprecated, use sort_values(by=.....)\n"
     ]
    }
   ],
   "source": [
    "PE_1 = {}\n",
    "for code in df1.ProductCode:\n",
    "    PE_1[code] = logReg(code,df1)[0],logReg(code,df1)[1],logReg(code,df1)[2],logReg(code,df1)[3],suggestPrice(code,df1)\n",
    "\n",
    "PE_DF1 =  pd.DataFrame.from_dict(PE_1, orient='index')\n",
    "PE_DF1.columns =['199-100_PE','pearson','p_val','r2','suggest_price']"
   ]
  },
  {
   "cell_type": "code",
   "execution_count": 32,
   "metadata": {
    "collapsed": false
   },
   "outputs": [],
   "source": [
    "# calculate the productivity drop% when price up 10%\n",
    "PE_DF1['199-100_PD10PI'] = np.round(np.exp(np.log(1.1)*PE_DF1['199-100_PE']) - 1, decimals = 2)"
   ]
  },
  {
   "cell_type": "code",
   "execution_count": 33,
   "metadata": {
    "collapsed": false
   },
   "outputs": [],
   "source": [
    "PE_DF1.dropna(inplace = True)"
   ]
  },
  {
   "cell_type": "code",
   "execution_count": 34,
   "metadata": {
    "collapsed": true
   },
   "outputs": [],
   "source": [
    "#PE_DF1.replace(np.nan,'Mark',inplace = True)"
   ]
  },
  {
   "cell_type": "code",
   "execution_count": 35,
   "metadata": {
    "collapsed": false,
    "scrolled": false
   },
   "outputs": [],
   "source": [
    "output = pd.merge(df1, PE_DF1, how='left',left_on=['ProductCode'],right_index = True)\n",
    "output.to_excel('JD_PCC_ePOS_PE_0525.xlsx')"
   ]
  },
  {
   "cell_type": "code",
   "execution_count": 36,
   "metadata": {
    "collapsed": false
   },
   "outputs": [],
   "source": [
    "prodNames = []\n",
    "for idx in PE_DF1.index:\n",
    "    prodNames.append(df1[df1.ProductCode == idx].ProductName.iloc[0])\n",
    "PE_DF1['productName'] = prodNames"
   ]
  },
  {
   "cell_type": "code",
   "execution_count": 37,
   "metadata": {
    "collapsed": false,
    "scrolled": false
   },
   "outputs": [
    {
     "data": {
      "text/html": [
       "<div>\n",
       "<table border=\"1\" class=\"dataframe\">\n",
       "  <thead>\n",
       "    <tr style=\"text-align: right;\">\n",
       "      <th></th>\n",
       "      <th>199-100_PE</th>\n",
       "      <th>pearson</th>\n",
       "      <th>p_val</th>\n",
       "      <th>r2</th>\n",
       "      <th>suggest_price</th>\n",
       "      <th>199-100_PD10PI</th>\n",
       "      <th>productName</th>\n",
       "    </tr>\n",
       "  </thead>\n",
       "  <tbody>\n",
       "    <tr>\n",
       "      <th>845396</th>\n",
       "      <td>-0.87</td>\n",
       "      <td>-0.153053</td>\n",
       "      <td>3.271591e-01</td>\n",
       "      <td>0.023425</td>\n",
       "      <td>7.333333</td>\n",
       "      <td>-0.08</td>\n",
       "      <td>【京东超市】玉兰油香皂深度滋润（普通型）100g（新老包装，随机发送）</td>\n",
       "    </tr>\n",
       "    <tr>\n",
       "      <th>753297</th>\n",
       "      <td>-2.25</td>\n",
       "      <td>-0.705697</td>\n",
       "      <td>2.122741e-08</td>\n",
       "      <td>0.498008</td>\n",
       "      <td>20.766667</td>\n",
       "      <td>-0.19</td>\n",
       "      <td>【京东超市】OLAY玉兰油精油沐浴露玫瑰滋养二合一450ml（沐浴霜 沐浴乳）</td>\n",
       "    </tr>\n",
       "    <tr>\n",
       "      <th>845259</th>\n",
       "      <td>-3.13</td>\n",
       "      <td>-0.803680</td>\n",
       "      <td>6.139607e-12</td>\n",
       "      <td>0.645901</td>\n",
       "      <td>6.366667</td>\n",
       "      <td>-0.26</td>\n",
       "      <td>【京东超市】舒肤佳洗手液纯白清香型250ml</td>\n",
       "    </tr>\n",
       "    <tr>\n",
       "      <th>1436740</th>\n",
       "      <td>-4.20</td>\n",
       "      <td>-0.903309</td>\n",
       "      <td>8.861368e-18</td>\n",
       "      <td>0.815967</td>\n",
       "      <td>13.400000</td>\n",
       "      <td>-0.33</td>\n",
       "      <td>【京东超市】舒肤佳沐浴露荷叶清香健肤400ml（沐浴液 沐浴乳）</td>\n",
       "    </tr>\n",
       "    <tr>\n",
       "      <th>206889</th>\n",
       "      <td>-4.39</td>\n",
       "      <td>-0.747182</td>\n",
       "      <td>1.062268e-09</td>\n",
       "      <td>0.558281</td>\n",
       "      <td>21.133333</td>\n",
       "      <td>-0.34</td>\n",
       "      <td>【京东超市】舒肤佳沐浴露纯白清香型720ml（沐浴液 沐浴乳 新老包装随机发货）</td>\n",
       "    </tr>\n",
       "  </tbody>\n",
       "</table>\n",
       "</div>"
      ],
      "text/plain": [
       "         199-100_PE   pearson         p_val        r2  suggest_price  \\\n",
       "845396        -0.87 -0.153053  3.271591e-01  0.023425       7.333333   \n",
       "753297        -2.25 -0.705697  2.122741e-08  0.498008      20.766667   \n",
       "845259        -3.13 -0.803680  6.139607e-12  0.645901       6.366667   \n",
       "1436740       -4.20 -0.903309  8.861368e-18  0.815967      13.400000   \n",
       "206889        -4.39 -0.747182  1.062268e-09  0.558281      21.133333   \n",
       "\n",
       "         199-100_PD10PI                               productName  \n",
       "845396            -0.08       【京东超市】玉兰油香皂深度滋润（普通型）100g（新老包装，随机发送）  \n",
       "753297            -0.19   【京东超市】OLAY玉兰油精油沐浴露玫瑰滋养二合一450ml（沐浴霜 沐浴乳）  \n",
       "845259            -0.26                    【京东超市】舒肤佳洗手液纯白清香型250ml  \n",
       "1436740           -0.33          【京东超市】舒肤佳沐浴露荷叶清香健肤400ml（沐浴液 沐浴乳）  \n",
       "206889            -0.34  【京东超市】舒肤佳沐浴露纯白清香型720ml（沐浴液 沐浴乳 新老包装随机发货）  "
      ]
     },
     "execution_count": 37,
     "metadata": {},
     "output_type": "execute_result"
    }
   ],
   "source": [
    "PE_DF1.head()"
   ]
  },
  {
   "cell_type": "code",
   "execution_count": 38,
   "metadata": {
    "collapsed": false
   },
   "outputs": [],
   "source": [
    "PE_DF1.to_excel('JDPCC_PEList_0525.xlsx')"
   ]
  }
 ],
 "metadata": {
  "anaconda-cloud": {},
  "kernelspec": {
   "display_name": "Python [Root]",
   "language": "python",
   "name": "Python [Root]"
  },
  "language_info": {
   "codemirror_mode": {
    "name": "ipython",
    "version": 2
   },
   "file_extension": ".py",
   "mimetype": "text/x-python",
   "name": "python",
   "nbconvert_exporter": "python",
   "pygments_lexer": "ipython2",
   "version": "2.7.12"
  }
 },
 "nbformat": 4,
 "nbformat_minor": 0
}
