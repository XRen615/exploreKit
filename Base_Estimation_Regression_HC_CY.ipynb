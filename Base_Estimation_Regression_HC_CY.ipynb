{
 "cells": [
  {
   "cell_type": "code",
   "execution_count": null,
   "metadata": {
    "collapsed": true
   },
   "outputs": [],
   "source": [
    "# -*- coding: utf-8 -*-   \n",
    "import numpy as np\n",
    "import pandas as pd\n",
    "import matplotlib.pyplot as plt\n",
    "%matplotlib inline\n",
    "import seaborn as sns\n",
    "import plotly.plotly as py\n",
    "import plotly.graph_objs as go\n",
    "from sklearn import linear_model\n",
    "import plotly.plotly as py\n",
    "import plotly.graph_objs as go\n",
    "import re\n",
    "from scipy import stats"
   ]
  },
  {
   "cell_type": "code",
   "execution_count": null,
   "metadata": {
    "collapsed": false
   },
   "outputs": [],
   "source": [
    "from matplotlib.font_manager import FontProperties\n",
    "font = FontProperties(fname=r\"c:\\windows\\fonts\\SimSun.ttc\", size=14)"
   ]
  },
  {
   "cell_type": "code",
   "execution_count": null,
   "metadata": {
    "collapsed": false
   },
   "outputs": [],
   "source": [
    "db = pd.read_excel(r'C:\\Users\\ren.x.1\\Desktop\\VS_Pricing\\JFM_HC_ePOS.xlsx',encoding='gbk')\n",
    "db.shape"
   ]
  },
  {
   "cell_type": "code",
   "execution_count": null,
   "metadata": {
    "collapsed": true
   },
   "outputs": [],
   "source": [
    "db.dropna(inplace = True)"
   ]
  },
  {
   "cell_type": "code",
   "execution_count": null,
   "metadata": {
    "collapsed": false
   },
   "outputs": [],
   "source": [
    "db.BrandName.value_counts()"
   ]
  },
  {
   "cell_type": "code",
   "execution_count": null,
   "metadata": {
    "collapsed": false
   },
   "outputs": [],
   "source": [
    "# df = db[db.BrandName == u'沙宣（VS）']\n",
    "df = db.copy()"
   ]
  },
  {
   "cell_type": "code",
   "execution_count": null,
   "metadata": {
    "collapsed": false
   },
   "outputs": [],
   "source": [
    "df.Abnormal.value_counts()"
   ]
  },
  {
   "cell_type": "code",
   "execution_count": null,
   "metadata": {
    "collapsed": false
   },
   "outputs": [],
   "source": [
    "# exclude coupon,promotion pack, abnormal wholesale\n",
    "df = df[- df.Mechanism.str.contains(u\"领券\")]\n",
    "df = df[df.Mechanism != 'PP']\n",
    "df = df[df.Abnormal == 'normal']"
   ]
  },
  {
   "cell_type": "code",
   "execution_count": null,
   "metadata": {
    "collapsed": false
   },
   "outputs": [],
   "source": [
    "df.Abnormal.value_counts()"
   ]
  },
  {
   "cell_type": "code",
   "execution_count": null,
   "metadata": {
    "collapsed": false
   },
   "outputs": [],
   "source": [
    "df.Date = pd.to_datetime(df.Date)"
   ]
  },
  {
   "cell_type": "code",
   "execution_count": null,
   "metadata": {
    "collapsed": true
   },
   "outputs": [],
   "source": [
    "def jointplt(ProductCode):\n",
    "    SKU = df[df['ProductCode'] == ProductCode][['Sales_Price',u'Sales_Num','uv']]\n",
    "    #SKU = SKU.groupby(by = 'Sales_Price',as_index=False).mean()\n",
    "    #SKU = SKU[SKU.Sales_Num >= 10]\n",
    "    SKU['Productivity'] = np.log(SKU.Sales_Num/SKU.uv)\n",
    "    SKU.Sales_Price = np.log(SKU[u'Sales_Price'])\n",
    "    sns.jointplot(x=\"Sales_Price\", y=\"Productivity\", kind = 'reg', color = 'r', data=SKU)\n",
    "    #plt.ylim(-4,0)\n",
    "    #plt.xlim(3,5)\n",
    "    #plt.title(SKU_NAME,fontproperties=font)"
   ]
  },
  {
   "cell_type": "code",
   "execution_count": null,
   "metadata": {
    "collapsed": false
   },
   "outputs": [],
   "source": [
    "def statsReg(ProductCode):\n",
    "    SKU = df[df.ProductCode == ProductCode]\n",
    "    x = np.log(SKU.Sales_Price/SKU.uv)\n",
    "    y = np.log(SKU.Sales_Num)\n",
    "    slope, intercept, r_value, p_value, std_err = stats.linregress(x,y)\n",
    "    if p_value < 0.05:\n",
    "        return np.round(slope,decimals=1)\n",
    "    else:\n",
    "        return np.nan"
   ]
  },
  {
   "cell_type": "code",
   "execution_count": null,
   "metadata": {
    "collapsed": false
   },
   "outputs": [],
   "source": [
    "PE_Hash_1 = {}\n",
    "for code in df.ProductCode:\n",
    "    PE_Hash_1[code] = statsReg(code)\n",
    "\n",
    "PE_DF_1 =  pd.DataFrame.from_dict(PE_Hash_1, orient='index', dtype=None)\n",
    "PE_DF_1.columns = ['PE']\n",
    "PE_DF_1.head()"
   ]
  },
  {
   "cell_type": "code",
   "execution_count": null,
   "metadata": {
    "collapsed": false
   },
   "outputs": [],
   "source": [
    "PE_DF_1.PE.hist(bins = 20)"
   ]
  },
  {
   "cell_type": "code",
   "execution_count": null,
   "metadata": {
    "collapsed": false
   },
   "outputs": [],
   "source": [
    "prodNames = []\n",
    "for idx in PE_DF_1.index:\n",
    "    prodNames.append(df[df.ProductCode == idx].ProductName.iloc[0])\n",
    "PE_DF_1['productName'] = prodNames\n",
    "\n",
    "margin = []\n",
    "for idx in PE_DF_1.index:\n",
    "    margin.append(np.round(float(df[df.ProductCode == idx].Offtake.sum())/df[df.ProductCode == idx].Total_Cost.sum(),decimals=2) - 1)\n",
    "PE_DF_1['margin'] = margin\n",
    "\n",
    "averagePrice = []\n",
    "for idx in PE_DF_1.index:\n",
    "    averagePrice.append(np.round(float(df[df.ProductCode == idx].Offtake.sum())/df[df.ProductCode == idx].Sales_Num.sum(),decimals=2))\n",
    "PE_DF_1['averagePrice'] = averagePrice\n",
    "\n",
    "cost = []\n",
    "for idx in PE_DF_1.index:\n",
    "    cost.append(df[df.ProductCode == idx].Unit_Cost.iloc[0])\n",
    "PE_DF_1['cost'] = cost\n",
    "\n",
    "# calculate the SRP maximize profit\n",
    "SRP = []\n",
    "for idx in PE_DF_1.index:\n",
    "    # quadratic function symmetric axis\n",
    "    if PE_DF_1.loc[idx].PE < 0:\n",
    "        SRP.append(np.round(((1.0/PE_DF_1.loc[idx].PE + 1 - float(PE_DF_1.loc[idx].cost)/PE_DF_1.loc[idx].averagePrice)*-0.5 + 1)*\\\n",
    "        PE_DF_1.loc[idx].averagePrice,decimals = 2))\n",
    "    else:\n",
    "        SRP.append(np.nan)\n",
    "PE_DF_1['SuggestedPrice'] = SRP\n",
    "\n",
    "PE_DF_1['priceAdjust%'] = np.round((PE_DF_1['SuggestedPrice']/PE_DF_1['averagePrice'] - 1),decimals=2)*100"
   ]
  },
  {
   "cell_type": "code",
   "execution_count": null,
   "metadata": {
    "collapsed": false
   },
   "outputs": [],
   "source": [
    "PE_DF_1['priceAdjust%'].describe()"
   ]
  },
  {
   "cell_type": "code",
   "execution_count": null,
   "metadata": {
    "collapsed": false
   },
   "outputs": [],
   "source": [
    "PE_DF_1['priceAdjust%'].hist(bins = 40)\n",
    "plt.title('Price Adjustment% Histogram')"
   ]
  },
  {
   "cell_type": "code",
   "execution_count": null,
   "metadata": {
    "collapsed": false
   },
   "outputs": [],
   "source": [
    "PE_DF_1.describe()"
   ]
  },
  {
   "cell_type": "code",
   "execution_count": null,
   "metadata": {
    "collapsed": false
   },
   "outputs": [],
   "source": [
    "PE_DF_1.PE.isnull().value_counts()"
   ]
  },
  {
   "cell_type": "code",
   "execution_count": null,
   "metadata": {
    "collapsed": false
   },
   "outputs": [],
   "source": [
    "# suggested price adjust SKUs\n",
    "mask = (PE_DF_1.PE > -1) & (PE_DF_1.margin < - 0.1)\n",
    "PE_DF_1[mask]"
   ]
  },
  {
   "cell_type": "code",
   "execution_count": null,
   "metadata": {
    "collapsed": false
   },
   "outputs": [],
   "source": [
    "jointplt(1265447)"
   ]
  },
  {
   "cell_type": "markdown",
   "metadata": {},
   "source": [
    "**Per Mechanism**"
   ]
  },
  {
   "cell_type": "code",
   "execution_count": null,
   "metadata": {
    "collapsed": false
   },
   "outputs": [],
   "source": [
    "def statsRegPerMech(ProductCode):\n",
    "    SKU = df[df.ProductCode == ProductCode]\n",
    "    PEs = []\n",
    "    for mech in df.Mechanism.unique():\n",
    "        SKU_PerMech = SKU[SKU.Mechanism == mech]\n",
    "        if SKU_PerMech.empty:\n",
    "            PEs.append('NODATA')\n",
    "        else:\n",
    "            x = np.log(SKU_PerMech.Sales_Price)\n",
    "            y = np.log(SKU_PerMech.Sales_Num/SKU_PerMech.uv)\n",
    "            slope, intercept, r_value, p_value, std_err = stats.linregress(x,y)\n",
    "            if p_value < 0.05:\n",
    "                PEs.append(np.round(slope,decimals=1))\n",
    "            else:\n",
    "                PEs.append('NONLINEAR')\n",
    "    return PEs"
   ]
  },
  {
   "cell_type": "code",
   "execution_count": null,
   "metadata": {
    "collapsed": false
   },
   "outputs": [],
   "source": [
    "PE_Hash = {}\n",
    "for code in df.ProductCode:\n",
    "    PE_Hash[code] = statsRegPerMech(code)\n",
    "\n",
    "PE_DF =  pd.DataFrame.from_dict(PE_Hash, orient='index', dtype=None)\n",
    "PE_DF.columns = df.Mechanism.unique()\n",
    "PE_DF.head()"
   ]
  },
  {
   "cell_type": "markdown",
   "metadata": {},
   "source": [
    "**Three-Chanel split: TPR, 199-100, others**"
   ]
  },
  {
   "cell_type": "code",
   "execution_count": null,
   "metadata": {
    "collapsed": true
   },
   "outputs": [],
   "source": [
    "def statsByMechReg(ProductCode,df):\n",
    "    SKU = df[df.ProductCode == ProductCode]\n",
    "    x = np.log(SKU.Sales_Price)\n",
    "    y = np.log(SKU.Sales_Num)/SKU.uv)\n",
    "    print y\n",
    "    slope, intercept, r_value, p_value, std_err = stats.linregress(x,y)\n",
    "    if p_value < 0.05:\n",
    "        return np.round(slope,decimals=1)\n",
    "    else:\n",
    "        return 'Mark'"
   ]
  },
  {
   "cell_type": "code",
   "execution_count": null,
   "metadata": {
    "collapsed": false
   },
   "outputs": [],
   "source": [
    "df.Mechanism.value_counts()"
   ]
  },
  {
   "cell_type": "code",
   "execution_count": null,
   "metadata": {
    "collapsed": true
   },
   "outputs": [],
   "source": [
    "df1 = df[df.Mechanism == 'single TPR']"
   ]
  },
  {
   "cell_type": "code",
   "execution_count": null,
   "metadata": {
    "collapsed": false
   },
   "outputs": [],
   "source": [
    "df2 = df[df.Mechanism == u'满199减100']"
   ]
  },
  {
   "cell_type": "code",
   "execution_count": null,
   "metadata": {
    "collapsed": true
   },
   "outputs": [],
   "source": [
    "mask3 = (df.Mechanism != 'single TPR') & (df.Mechanism != u'满199减100')"
   ]
  },
  {
   "cell_type": "code",
   "execution_count": null,
   "metadata": {
    "collapsed": true
   },
   "outputs": [],
   "source": [
    "df3 = df[mask3]"
   ]
  },
  {
   "cell_type": "code",
   "execution_count": null,
   "metadata": {
    "collapsed": false
   },
   "outputs": [],
   "source": [
    "df3.Mechanism.value_counts()"
   ]
  },
  {
   "cell_type": "code",
   "execution_count": null,
   "metadata": {
    "collapsed": false
   },
   "outputs": [],
   "source": [
    "PE_1 = {}\n",
    "for code in df1.ProductCode:\n",
    "    PE_1[code] = statsByMechReg(code,df1)\n",
    "\n",
    "PE_DF1 =  pd.DataFrame.from_dict(PE_1, orient='index')\n",
    "PE_DF1.columns = ['TPR_PE']"
   ]
  },
  {
   "cell_type": "code",
   "execution_count": null,
   "metadata": {
    "collapsed": false,
    "scrolled": false
   },
   "outputs": [],
   "source": [
    "range1 = []\n",
    "for idx in PE_DF1.index:\n",
    "    minnimum = df1[df1.ProductCode == idx].Sales_Price.min()\n",
    "    maximum = df1[df1.ProductCode == idx].Sales_Price.max()\n",
    "    if minnimum != maximum:\n",
    "        strRange = '[' + np.str(np.round(minnimum,decimals = 2)) +',' + np.str(np.round(maximum,decimals = 2)) + ']'\n",
    "        range1.append(strRange)\n",
    "    else:\n",
    "        range1.append(np.str(np.round(minnimum,decimals = 2)))\n",
    "\n",
    "PE_DF1['TPR_Range'] = range1"
   ]
  },
  {
   "cell_type": "code",
   "execution_count": null,
   "metadata": {
    "collapsed": false
   },
   "outputs": [],
   "source": [
    "PE_DF1.head()"
   ]
  },
  {
   "cell_type": "code",
   "execution_count": null,
   "metadata": {
    "collapsed": false
   },
   "outputs": [],
   "source": [
    "PE_2 = {}\n",
    "for code in df2.ProductCode:\n",
    "    PE_2[code] = statsByMechReg(code,df2)\n",
    "\n",
    "PE_DF2 =  pd.DataFrame.from_dict(PE_2, orient='index')\n",
    "PE_DF2.columns =['199-100_PE']\n",
    "PE_DF2.head()"
   ]
  },
  {
   "cell_type": "code",
   "execution_count": null,
   "metadata": {
    "collapsed": true
   },
   "outputs": [],
   "source": [
    "range2 = []\n",
    "for idx in PE_DF2.index:\n",
    "    minnimum = df2[df2.ProductCode == idx].Sales_Price.min()\n",
    "    maximum = df2[df2.ProductCode == idx].Sales_Price.max()\n",
    "    if minnimum != maximum:\n",
    "        strRange = '[' + np.str(np.round(minnimum,decimals = 2)) +',' + np.str(np.round(maximum,decimals = 2)) + ']'\n",
    "        range2.append(strRange)\n",
    "    else:\n",
    "        range2.append(np.str(np.round(minnimum,decimals = 2)))\n",
    "\n",
    "PE_DF2['199-100_Range'] = range2"
   ]
  },
  {
   "cell_type": "code",
   "execution_count": null,
   "metadata": {
    "collapsed": false
   },
   "outputs": [],
   "source": [
    "PE_DF2"
   ]
  },
  {
   "cell_type": "code",
   "execution_count": null,
   "metadata": {
    "collapsed": false
   },
   "outputs": [],
   "source": [
    "PE_3 = {}\n",
    "for code in df3.ProductCode:\n",
    "    PE_3[code] = statsByMechReg(code,df3)\n",
    "\n",
    "PE_DF3 =  pd.DataFrame.from_dict(PE_3, orient='index')\n",
    "PE_DF3.columns =['Others_PE']\n",
    "PE_DF3.head()"
   ]
  },
  {
   "cell_type": "code",
   "execution_count": null,
   "metadata": {
    "collapsed": true
   },
   "outputs": [],
   "source": [
    "range3 = []\n",
    "for idx in PE_DF3.index:\n",
    "    minnimum = df3[df3.ProductCode == idx].Sales_Price.min()\n",
    "    maximum = df3[df3.ProductCode == idx].Sales_Price.max()\n",
    "    if minnimum != maximum:\n",
    "        strRange = '[' + np.str(np.round(minnimum,decimals = 2)) +',' + np.str(np.round(maximum,decimals = 2)) + ']'\n",
    "        range3.append(strRange)\n",
    "    else:\n",
    "        range3.append(np.str(np.round(minnimum,decimals = 2)))\n",
    "\n",
    "PE_DF3['Others_Range'] = range3"
   ]
  },
  {
   "cell_type": "code",
   "execution_count": null,
   "metadata": {
    "collapsed": false
   },
   "outputs": [],
   "source": [
    "PE_ByMech_1 = PE_DF1.join(PE_DF2,how='outer')\n",
    "\n",
    "PE_ByMech = PE_ByMech_1.join(PE_DF3,how='outer')"
   ]
  },
  {
   "cell_type": "code",
   "execution_count": null,
   "metadata": {
    "collapsed": false
   },
   "outputs": [],
   "source": [
    "PE_ByMech.head()"
   ]
  },
  {
   "cell_type": "code",
   "execution_count": null,
   "metadata": {
    "collapsed": false,
    "scrolled": false
   },
   "outputs": [],
   "source": [
    "output = pd.merge(db, PE_ByMech, how='left',left_on=['ProductCode'],right_index = True)\n",
    "output.to_excel('output0509.xlsx')"
   ]
  },
  {
   "cell_type": "code",
   "execution_count": null,
   "metadata": {
    "collapsed": true
   },
   "outputs": [],
   "source": [
    "prodNames = []\n",
    "for idx in PE_ByMech.index:\n",
    "    prodNames.append(df[df.ProductCode == idx].ProductName.iloc[0])\n",
    "PE_ByMech['productName'] = prodNames\n",
    "\n",
    "margin = []\n",
    "for idx in PE_ByMech.index:\n",
    "    margin.append(np.round(float(df[df.ProductCode == idx].Offtake.sum())/df[df.ProductCode == idx].Total_Cost.sum(),decimals=2) - 1)\n",
    "PE_ByMech['margin'] = margin\n",
    "\n",
    "averagePrice = []\n",
    "for idx in PE_ByMech.index:\n",
    "    averagePrice.append(np.round(float(df[df.ProductCode == idx].Offtake.sum())/df[df.ProductCode == idx].Sales_Num.sum(),decimals=2))\n",
    "PE_ByMech['averagePrice'] = averagePrice\n",
    "\n",
    "cost = []\n",
    "for idx in PE_ByMech.index:\n",
    "    cost.append(df[df.ProductCode == idx].Unit_Cost.iloc[0])\n",
    "PE_ByMech['cost'] = cost"
   ]
  },
  {
   "cell_type": "code",
   "execution_count": null,
   "metadata": {
    "collapsed": false,
    "scrolled": false
   },
   "outputs": [],
   "source": [
    "PE_ByMech.head()"
   ]
  },
  {
   "cell_type": "code",
   "execution_count": null,
   "metadata": {
    "collapsed": true
   },
   "outputs": [],
   "source": [
    "PE_ByMech.to_excel('peByMechanism.xlsx')"
   ]
  }
 ],
 "metadata": {
  "anaconda-cloud": {},
  "kernelspec": {
   "display_name": "Python [Root]",
   "language": "python",
   "name": "Python [Root]"
  },
  "language_info": {
   "codemirror_mode": {
    "name": "ipython",
    "version": 2
   },
   "file_extension": ".py",
   "mimetype": "text/x-python",
   "name": "python",
   "nbconvert_exporter": "python",
   "pygments_lexer": "ipython2",
   "version": "2.7.12"
  }
 },
 "nbformat": 4,
 "nbformat_minor": 0
}
